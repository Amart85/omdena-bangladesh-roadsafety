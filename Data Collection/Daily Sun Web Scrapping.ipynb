{
 "cells": [
  {
   "cell_type": "code",
   "execution_count": null,
   "metadata": {},
   "outputs": [],
   "source": [
    "# Import libraries\n",
    "from bs4 import BeautifulSoup as bs\n",
    "import requests\n",
    "import csv\n",
    "from selenium import webdriver"
   ]
  },
  {
   "cell_type": "code",
   "execution_count": null,
   "metadata": {},
   "outputs": [],
   "source": [
    "# The base URL\n",
    "url=\"https://www.daily-sun.com/home/keywordsearch?cx=partner-pub-0600503450204720%3A4868367585&cof=FORID%3A10&ie=UTF-8&q=%23road-accident\""
   ]
  },
  {
   "cell_type": "code",
   "execution_count": null,
   "metadata": {},
   "outputs": [],
   "source": [
    "browser = webdriver.PhantomJS(executable_path=r'C:\\Users\\asus\\phantomjs-2.1.1-windows\\bin\\phantomjs.exe')\n",
    "browser.get(url)\n",
    "html = browser.page_source\n",
    "\n",
    "soup = bs(html, 'html.parser')\n",
    "\n",
    "div_bs4 = soup.find('div', class_= \"gsc-expansionArea\")"
   ]
  },
  {
   "cell_type": "code",
   "execution_count": null,
   "metadata": {},
   "outputs": [],
   "source": [
    "#This looks for a tag elements with href that starts with 'http'\n",
    "\n",
    "links = {item['href'] for item in soup.select('a[href^=http]')}"
   ]
  },
  {
   "cell_type": "code",
   "execution_count": null,
   "metadata": {},
   "outputs": [],
   "source": [
    "required_links=[ ]\n",
    "for link in links:\n",
    "    if (\"/post/\") in link:\n",
    "        required_links.append(link)\n",
    "for link in links:\n",
    "    if \"/printversion/\" in link:\n",
    "        required_links.append(link)"
   ]
  },
  {
   "cell_type": "code",
   "execution_count": null,
   "metadata": {},
   "outputs": [],
   "source": [
    "required_links=['https://www.daily-sun.com/printversion/details/530516/2-cops-killed-in-Lalmonirhat-road-accident-','https://www.daily-sun.com/post/432797/Cop-killed-in-Narayanganj-road-accident','https://www.daily-sun.com/post/558450/Man-killed-in-city-road-accident','https://www.daily-sun.com/printversion/details/498042/Mountaineer-Ratna-killed-in-road-accident','https://www.daily-sun.com/printversion/details/546274/Minor-boy-killed-in-Ctg-road-accident','https://www.daily-sun.com/post/525554/JU-student-killed-in-road-accident','https://www.daily-sun.com/printversion/details/542867/2-killed-in-Ctg-road-accident','https://www.daily-sun.com/printversion/details/545624/Man-killed-in-Ctg-road-accident','https://www.daily-sun.com/printversion/details/527286/Garment-worker-killed-in-Ctg-road-accident','https://www.daily-sun.com/post/529823/11-killed-in-road-accident-in-Indias-Karnataka-','https://www.daily-sun.com/post/542867/2-killed-in-Ctg-road-accident','https://www.daily-sun.com/printversion/details/531519/2-bikers-killed-in-city-road-accident','https://www.daily-sun.com/post/457671/2-autorickshaw-drivers-killed-in-Habiganj-road-accident','https://www.daily-sun.com/post/18517/Rickshaw-puller-killed-in-road-accident-in-capital','https://www.daily-sun.com/arcprint/details/453326/One-killed-in-Lakshmipur-road-accident/2020-01-12','https://www.daily-sun.com/post/295035/3-students-killed-in-Dinajpur-road-accident','https://www.daily-sun.com/printversion/details/532905/2-killed-in-Gazipur-road-accident','https://www.daily-sun.com/printversion/details/531541/Man-killed-in-Khagrachhari-road-accident','https://www.daily-sun.com/arcprint/details/236406/17-killed-in-Rangpur-road-accident/2017-06-25','https://www.daily-sun.com/printversion/details/545832/Autorickshaw-driver-killed-in-road-accident','https://www.daily-sun.com/post/530516/2-cops-killed-in-Lalmonirhat-road-accident-','https://www.daily-sun.com/post/491841/Seven-die-in-Dinajpur-road-accident','https://www.daily-sun.com/post/497028/5-of-a-family-killed-in-Sylhet-road-accident','https://www.daily-sun.com/post/532905/2-killed-in-Gazipur-road-accident','https://www.daily-sun.com/post/462249/Mymensingh-divisional-commissioner-injured-in-Gazipur-road-accident','https://www.daily-sun.com/arcprint/details/496819/Three-killed-in-Chandpur-road-accident/2020-07-30','https://www.daily-sun.com/post/483118/Planning-Minister-MA-Mannan-escapes-fatal-road-accident','https://www.daily-sun.com/post/20094/9-killed-in-Jhalakathi-road-accident','https://www.daily-sun.com/arcprint/details/298207/Two-killed-in-Comilla-road-accident/2018-03-28','https://www.daily-sun.com/arcprint/details/391615/2-killed-in-Habiganj-road-accident/2019-05-12','https://www.daily-sun.com/post/18474/Teenage-girl-killed-in-road-accident-in-Barisal-','https://www.daily-sun.com/post/531541/Man-killed-in-Khagrachhari-road-accident','https://www.daily-sun.com/printversion/details/518727/9-killed-in-C%E2%80%99ganj-road-accident-','https://www.daily-sun.com/arcprint/details/430319/Road-accident/2019-10-11','https://www.daily-sun.com/post/442346/Constable-killed-in-Kishoreganj-road-accident','https://www.daily-sun.com/post/512813/Pedestrian-killed-in-Ctg-road-accident','https://www.daily-sun.com/post/18926/IUB-student-killed-in-a-road-accident','https://www.daily-sun.com/arcprint/details/222458/Man-killed-in-Ctg-road-accident/2017-04-27','https://www.daily-sun.com/arcprint/details/297617/Child-killed-in-Manikganj-road-accident/2018-03-25','https://www.daily-sun.com/post/475999/Awami-League-leader-killed-in-Savar-road-accident','https://www.daily-sun.com/post/287445/Two-laborers-killed-in-Bagerhat-road-accident']"
   ]
  },
  {
   "cell_type": "code",
   "execution_count": null,
   "metadata": {},
   "outputs": [],
   "source": [
    "csv_file = open('cms_scrape_alter2.csv', 'a')\n",
    "csv_writer = csv.writer(csv_file)\n",
    "csv_writer.writerow(['headline', 'summary', 'time_0f_incident'])\n",
    "for url in required_links:\n",
    "    source = requests.get(url).text\n",
    "    soup = bs(source, 'lxml')\n",
    "    \n",
    "    # retrieve all of the paragraph tags\n",
    "    headline = soup.h2.text\n",
    "    paragraphs = soup.find('article').find_all('p')\n",
    "    summary = []\n",
    "    for paragraph in paragraphs:\n",
    "        summary.append(paragraph.text)\n",
    "    summary = ''.join(i for i in summary)\n",
    "    time_0f_incident = soup.find_all('h3')[3].text\n",
    "    csv_writer.writerow([headline, summary, time_0f_incident])\n",
    "csv_file.close()"
   ]
  }
 ],
 "metadata": {
  "kernelspec": {
   "display_name": "Python 3",
   "language": "python",
   "name": "python3"
  },
  "language_info": {
   "codemirror_mode": {
    "name": "ipython",
    "version": 3
   },
   "file_extension": ".py",
   "mimetype": "text/x-python",
   "name": "python",
   "nbconvert_exporter": "python",
   "pygments_lexer": "ipython3",
   "version": "3.7.3"
  }
 },
 "nbformat": 4,
 "nbformat_minor": 2
}
