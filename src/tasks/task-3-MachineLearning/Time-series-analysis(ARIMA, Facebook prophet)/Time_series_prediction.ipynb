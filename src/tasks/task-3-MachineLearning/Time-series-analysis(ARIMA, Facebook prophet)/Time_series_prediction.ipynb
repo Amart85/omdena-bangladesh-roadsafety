{
  "nbformat": 4,
  "nbformat_minor": 0,
  "metadata": {
    "colab": {
      "name": "Time-series_prediction.ipynb",
      "provenance": []
    },
    "kernelspec": {
      "name": "python3",
      "display_name": "Python 3"
    },
    "language_info": {
      "name": "python"
    },
    "widgets": {
      "application/vnd.jupyter.widget-state+json": {
        "7a44e352a11e440a940b2e9f85e94de6": {
          "model_module": "@jupyter-widgets/controls",
          "model_name": "HBoxModel",
          "state": {
            "_view_name": "HBoxView",
            "_dom_classes": [],
            "_model_name": "HBoxModel",
            "_view_module": "@jupyter-widgets/controls",
            "_model_module_version": "1.5.0",
            "_view_count": null,
            "_view_module_version": "1.5.0",
            "box_style": "",
            "layout": "IPY_MODEL_dee601bfe9aa4d208714877ea8de2734",
            "_model_module": "@jupyter-widgets/controls",
            "children": [
              "IPY_MODEL_026028925e8348dbbc5153f6ea5fb828",
              "IPY_MODEL_451c88561c7e494ba47e85266de2af7c"
            ]
          }
        },
        "dee601bfe9aa4d208714877ea8de2734": {
          "model_module": "@jupyter-widgets/base",
          "model_name": "LayoutModel",
          "state": {
            "_view_name": "LayoutView",
            "grid_template_rows": null,
            "right": null,
            "justify_content": null,
            "_view_module": "@jupyter-widgets/base",
            "overflow": null,
            "_model_module_version": "1.2.0",
            "_view_count": null,
            "flex_flow": null,
            "width": null,
            "min_width": null,
            "border": null,
            "align_items": null,
            "bottom": null,
            "_model_module": "@jupyter-widgets/base",
            "top": null,
            "grid_column": null,
            "overflow_y": null,
            "overflow_x": null,
            "grid_auto_flow": null,
            "grid_area": null,
            "grid_template_columns": null,
            "flex": null,
            "_model_name": "LayoutModel",
            "justify_items": null,
            "grid_row": null,
            "max_height": null,
            "align_content": null,
            "visibility": null,
            "align_self": null,
            "height": null,
            "min_height": null,
            "padding": null,
            "grid_auto_rows": null,
            "grid_gap": null,
            "max_width": null,
            "order": null,
            "_view_module_version": "1.2.0",
            "grid_template_areas": null,
            "object_position": null,
            "object_fit": null,
            "grid_auto_columns": null,
            "margin": null,
            "display": null,
            "left": null
          }
        },
        "026028925e8348dbbc5153f6ea5fb828": {
          "model_module": "@jupyter-widgets/controls",
          "model_name": "FloatProgressModel",
          "state": {
            "_view_name": "ProgressView",
            "style": "IPY_MODEL_31943521ea614c888ab2ee93a6546e65",
            "_dom_classes": [],
            "description": "100%",
            "_model_name": "FloatProgressModel",
            "bar_style": "success",
            "max": 93,
            "_view_module": "@jupyter-widgets/controls",
            "_model_module_version": "1.5.0",
            "value": 93,
            "_view_count": null,
            "_view_module_version": "1.5.0",
            "orientation": "horizontal",
            "min": 0,
            "description_tooltip": null,
            "_model_module": "@jupyter-widgets/controls",
            "layout": "IPY_MODEL_ce44ac0e7f134f95bf2c0106b0b84b79"
          }
        },
        "451c88561c7e494ba47e85266de2af7c": {
          "model_module": "@jupyter-widgets/controls",
          "model_name": "HTMLModel",
          "state": {
            "_view_name": "HTMLView",
            "style": "IPY_MODEL_05db32f7c5774c82889869f925e4ced8",
            "_dom_classes": [],
            "description": "",
            "_model_name": "HTMLModel",
            "placeholder": "​",
            "_view_module": "@jupyter-widgets/controls",
            "_model_module_version": "1.5.0",
            "value": " 93/93 [03:03&lt;00:00,  1.97s/it]",
            "_view_count": null,
            "_view_module_version": "1.5.0",
            "description_tooltip": null,
            "_model_module": "@jupyter-widgets/controls",
            "layout": "IPY_MODEL_b8c205960e3b4199942bd6aa9eab3d6a"
          }
        },
        "31943521ea614c888ab2ee93a6546e65": {
          "model_module": "@jupyter-widgets/controls",
          "model_name": "ProgressStyleModel",
          "state": {
            "_view_name": "StyleView",
            "_model_name": "ProgressStyleModel",
            "description_width": "initial",
            "_view_module": "@jupyter-widgets/base",
            "_model_module_version": "1.5.0",
            "_view_count": null,
            "_view_module_version": "1.2.0",
            "bar_color": null,
            "_model_module": "@jupyter-widgets/controls"
          }
        },
        "ce44ac0e7f134f95bf2c0106b0b84b79": {
          "model_module": "@jupyter-widgets/base",
          "model_name": "LayoutModel",
          "state": {
            "_view_name": "LayoutView",
            "grid_template_rows": null,
            "right": null,
            "justify_content": null,
            "_view_module": "@jupyter-widgets/base",
            "overflow": null,
            "_model_module_version": "1.2.0",
            "_view_count": null,
            "flex_flow": null,
            "width": null,
            "min_width": null,
            "border": null,
            "align_items": null,
            "bottom": null,
            "_model_module": "@jupyter-widgets/base",
            "top": null,
            "grid_column": null,
            "overflow_y": null,
            "overflow_x": null,
            "grid_auto_flow": null,
            "grid_area": null,
            "grid_template_columns": null,
            "flex": null,
            "_model_name": "LayoutModel",
            "justify_items": null,
            "grid_row": null,
            "max_height": null,
            "align_content": null,
            "visibility": null,
            "align_self": null,
            "height": null,
            "min_height": null,
            "padding": null,
            "grid_auto_rows": null,
            "grid_gap": null,
            "max_width": null,
            "order": null,
            "_view_module_version": "1.2.0",
            "grid_template_areas": null,
            "object_position": null,
            "object_fit": null,
            "grid_auto_columns": null,
            "margin": null,
            "display": null,
            "left": null
          }
        },
        "05db32f7c5774c82889869f925e4ced8": {
          "model_module": "@jupyter-widgets/controls",
          "model_name": "DescriptionStyleModel",
          "state": {
            "_view_name": "StyleView",
            "_model_name": "DescriptionStyleModel",
            "description_width": "",
            "_view_module": "@jupyter-widgets/base",
            "_model_module_version": "1.5.0",
            "_view_count": null,
            "_view_module_version": "1.2.0",
            "_model_module": "@jupyter-widgets/controls"
          }
        },
        "b8c205960e3b4199942bd6aa9eab3d6a": {
          "model_module": "@jupyter-widgets/base",
          "model_name": "LayoutModel",
          "state": {
            "_view_name": "LayoutView",
            "grid_template_rows": null,
            "right": null,
            "justify_content": null,
            "_view_module": "@jupyter-widgets/base",
            "overflow": null,
            "_model_module_version": "1.2.0",
            "_view_count": null,
            "flex_flow": null,
            "width": null,
            "min_width": null,
            "border": null,
            "align_items": null,
            "bottom": null,
            "_model_module": "@jupyter-widgets/base",
            "top": null,
            "grid_column": null,
            "overflow_y": null,
            "overflow_x": null,
            "grid_auto_flow": null,
            "grid_area": null,
            "grid_template_columns": null,
            "flex": null,
            "_model_name": "LayoutModel",
            "justify_items": null,
            "grid_row": null,
            "max_height": null,
            "align_content": null,
            "visibility": null,
            "align_self": null,
            "height": null,
            "min_height": null,
            "padding": null,
            "grid_auto_rows": null,
            "grid_gap": null,
            "max_width": null,
            "order": null,
            "_view_module_version": "1.2.0",
            "grid_template_areas": null,
            "object_position": null,
            "object_fit": null,
            "grid_auto_columns": null,
            "margin": null,
            "display": null,
            "left": null
          }
        }
      }
    }
  },
  "cells": [
    {
      "cell_type": "code",
      "metadata": {
        "id": "wqmGgVUfqtnC"
      },
      "source": [
        "import pandas as pd\n",
        "import numpy as np\n",
        "import plotly.express as px\n",
        "import seaborn as sns\n",
        "import matplotlib.pyplot as plt\n",
        "import datetime\n",
        "from sklearn.preprocessing import MinMaxScaler \n"
      ],
      "execution_count": 1,
      "outputs": []
    },
    {
      "cell_type": "code",
      "metadata": {
        "colab": {
          "base_uri": "https://localhost:8080/"
        },
        "id": "Hwg4HNPFrvbD",
        "outputId": "f618e99d-df78-4e8f-f871-68c54c3a8732"
      },
      "source": [
        "from google.colab import drive\n",
        "drive.mount('/content/drive')"
      ],
      "execution_count": 2,
      "outputs": [
        {
          "output_type": "stream",
          "text": [
            "Mounted at /content/drive\n"
          ],
          "name": "stdout"
        }
      ]
    },
    {
      "cell_type": "code",
      "metadata": {
        "id": "zBuyF8HbrovJ"
      },
      "source": [
        "df = pd.read_csv(\"/content/drive/MyDrive/Colab Notebooks/omdena-time-series-analysis/data/Dhaka Tribune Complete Data.csv\")"
      ],
      "execution_count": 3,
      "outputs": []
    },
    {
      "cell_type": "code",
      "metadata": {
        "colab": {
          "base_uri": "https://localhost:8080/",
          "height": 206
        },
        "id": "T3cdbCZosKLq",
        "outputId": "e6946c57-b636-4e23-8847-f61f49223a08"
      },
      "source": [
        "df.head()"
      ],
      "execution_count": 4,
      "outputs": [
        {
          "output_type": "execute_result",
          "data": {
            "text/html": [
              "<div>\n",
              "<style scoped>\n",
              "    .dataframe tbody tr th:only-of-type {\n",
              "        vertical-align: middle;\n",
              "    }\n",
              "\n",
              "    .dataframe tbody tr th {\n",
              "        vertical-align: top;\n",
              "    }\n",
              "\n",
              "    .dataframe thead th {\n",
              "        text-align: right;\n",
              "    }\n",
              "</style>\n",
              "<table border=\"1\" class=\"dataframe\">\n",
              "  <thead>\n",
              "    <tr style=\"text-align: right;\">\n",
              "      <th></th>\n",
              "      <th>Unnamed: 0</th>\n",
              "      <th>Newspaper Name</th>\n",
              "      <th>Accident date</th>\n",
              "      <th>Header</th>\n",
              "      <th>News title</th>\n",
              "      <th>Deaths</th>\n",
              "      <th>Injured</th>\n",
              "    </tr>\n",
              "  </thead>\n",
              "  <tbody>\n",
              "    <tr>\n",
              "      <th>0</th>\n",
              "      <td>0</td>\n",
              "      <td>Dhaka Tribune</td>\n",
              "      <td>Jun 26 2021</td>\n",
              "      <td>Two labourers killed in Dhaka road accident</td>\n",
              "      <td>2 killed in Dhaka road crash</td>\n",
              "      <td>2.0</td>\n",
              "      <td>2</td>\n",
              "    </tr>\n",
              "    <tr>\n",
              "      <th>1</th>\n",
              "      <td>1</td>\n",
              "      <td>Dhaka Tribune</td>\n",
              "      <td>Jun 23 2021</td>\n",
              "      <td>Three killed in Muktagacha road accident</td>\n",
              "      <td>Three killed in Muktagacha road...</td>\n",
              "      <td>3.0</td>\n",
              "      <td>0</td>\n",
              "    </tr>\n",
              "    <tr>\n",
              "      <th>2</th>\n",
              "      <td>2</td>\n",
              "      <td>Dhaka Tribune</td>\n",
              "      <td>Jun 19 2021</td>\n",
              "      <td>Truck-pickup van collision leaves 3 dead in Na...</td>\n",
              "      <td>Truck-pickup van collision leaves 3...</td>\n",
              "      <td>3.0</td>\n",
              "      <td>0</td>\n",
              "    </tr>\n",
              "    <tr>\n",
              "      <th>3</th>\n",
              "      <td>3</td>\n",
              "      <td>Dhaka Tribune</td>\n",
              "      <td>Jun 19 2021</td>\n",
              "      <td>Couple, infant grandson killed in Bogra bus-au...</td>\n",
              "      <td>Bogra road crash kills 3</td>\n",
              "      <td>3.0</td>\n",
              "      <td>0</td>\n",
              "    </tr>\n",
              "    <tr>\n",
              "      <th>4</th>\n",
              "      <td>4</td>\n",
              "      <td>Dhaka Tribune</td>\n",
              "      <td>Jun 19 2021</td>\n",
              "      <td>Policeman killed in Dhaka road accident</td>\n",
              "      <td>Cop killed in Dhaka road crash</td>\n",
              "      <td>1.0</td>\n",
              "      <td>0</td>\n",
              "    </tr>\n",
              "  </tbody>\n",
              "</table>\n",
              "</div>"
            ],
            "text/plain": [
              "   Unnamed: 0 Newspaper Name  ... Deaths Injured\n",
              "0           0  Dhaka Tribune  ...    2.0       2\n",
              "1           1  Dhaka Tribune  ...    3.0       0\n",
              "2           2  Dhaka Tribune  ...    3.0       0\n",
              "3           3  Dhaka Tribune  ...    3.0       0\n",
              "4           4  Dhaka Tribune  ...    1.0       0\n",
              "\n",
              "[5 rows x 7 columns]"
            ]
          },
          "metadata": {
            "tags": []
          },
          "execution_count": 4
        }
      ]
    },
    {
      "cell_type": "code",
      "metadata": {
        "colab": {
          "base_uri": "https://localhost:8080/"
        },
        "id": "aTZ7YMGH0lsu",
        "outputId": "8cc5b64c-5d1f-450a-81c3-38553dbf5711"
      },
      "source": [
        "df.shape"
      ],
      "execution_count": 5,
      "outputs": [
        {
          "output_type": "execute_result",
          "data": {
            "text/plain": [
              "(776, 7)"
            ]
          },
          "metadata": {
            "tags": []
          },
          "execution_count": 5
        }
      ]
    },
    {
      "cell_type": "code",
      "metadata": {
        "id": "WjDPoaNXqhvT"
      },
      "source": [
        "def convert_daily(df):\n",
        "  start = datetime.datetime(2016,6,1)\n",
        "  end = datetime.datetime(2021,6,1)\n",
        "  index = pd.date_range(start, end).to_list()\n",
        "  date = pd.DataFrame(index)\n",
        "  date.columns = ['Date']\n",
        "  df1 = df[['Accident date','Deaths']]\n",
        "  result = pd.merge(date, df1, how=\"left\",left_on='Date', right_on='Accident date')\n",
        "  result.drop(columns='Accident date',inplace=True)\n",
        "  result.fillna(0)\n",
        "  return result"
      ],
      "execution_count": 6,
      "outputs": []
    },
    {
      "cell_type": "code",
      "metadata": {
        "colab": {
          "base_uri": "https://localhost:8080/"
        },
        "id": "QKI4UZ_jNJwS",
        "outputId": "12b019aa-47d3-44d3-b15a-5c65be2c18c4"
      },
      "source": [
        "df.fillna(0,inplace=True)\n",
        "df.isna().sum()"
      ],
      "execution_count": 7,
      "outputs": [
        {
          "output_type": "execute_result",
          "data": {
            "text/plain": [
              "Unnamed: 0        0\n",
              "Newspaper Name    0\n",
              "Accident date     0\n",
              "Header            0\n",
              "News title        0\n",
              "Deaths            0\n",
              "Injured           0\n",
              "dtype: int64"
            ]
          },
          "metadata": {
            "tags": []
          },
          "execution_count": 7
        }
      ]
    },
    {
      "cell_type": "code",
      "metadata": {
        "colab": {
          "base_uri": "https://localhost:8080/"
        },
        "id": "mU1KHueFLKb_",
        "outputId": "b4c5c20f-3dec-4659-f446-436237b611b6"
      },
      "source": [
        "print(df.dtypes)"
      ],
      "execution_count": 8,
      "outputs": [
        {
          "output_type": "stream",
          "text": [
            "Unnamed: 0          int64\n",
            "Newspaper Name     object\n",
            "Accident date      object\n",
            "Header             object\n",
            "News title         object\n",
            "Deaths            float64\n",
            "Injured             int64\n",
            "dtype: object\n"
          ],
          "name": "stdout"
        }
      ]
    },
    {
      "cell_type": "code",
      "metadata": {
        "id": "RdCLcuktsMKs"
      },
      "source": [
        "df['Accident date'] = pd.to_datetime(df['Accident date'])\n",
        "df['month_year'] = pd.to_datetime(df['Accident date']).dt.to_period('M')    # monthly basic  (fatched month and year in a row from individual date row.) \n",
        "df['week_month_year'] = pd.to_datetime(df['Accident date']).dt.to_period('w')  # weekly basic (fatched first date of week and last date of week in a row from individual date row.)"
      ],
      "execution_count": 9,
      "outputs": []
    },
    {
      "cell_type": "code",
      "metadata": {
        "colab": {
          "base_uri": "https://localhost:8080/",
          "height": 293
        },
        "id": "U9W-OcINUSRk",
        "outputId": "d5414b21-fbb6-4a51-9e1b-2532d719141b"
      },
      "source": [
        "df.head()"
      ],
      "execution_count": 10,
      "outputs": [
        {
          "output_type": "execute_result",
          "data": {
            "text/html": [
              "<div>\n",
              "<style scoped>\n",
              "    .dataframe tbody tr th:only-of-type {\n",
              "        vertical-align: middle;\n",
              "    }\n",
              "\n",
              "    .dataframe tbody tr th {\n",
              "        vertical-align: top;\n",
              "    }\n",
              "\n",
              "    .dataframe thead th {\n",
              "        text-align: right;\n",
              "    }\n",
              "</style>\n",
              "<table border=\"1\" class=\"dataframe\">\n",
              "  <thead>\n",
              "    <tr style=\"text-align: right;\">\n",
              "      <th></th>\n",
              "      <th>Unnamed: 0</th>\n",
              "      <th>Newspaper Name</th>\n",
              "      <th>Accident date</th>\n",
              "      <th>Header</th>\n",
              "      <th>News title</th>\n",
              "      <th>Deaths</th>\n",
              "      <th>Injured</th>\n",
              "      <th>month_year</th>\n",
              "      <th>week_month_year</th>\n",
              "    </tr>\n",
              "  </thead>\n",
              "  <tbody>\n",
              "    <tr>\n",
              "      <th>0</th>\n",
              "      <td>0</td>\n",
              "      <td>Dhaka Tribune</td>\n",
              "      <td>2021-06-26</td>\n",
              "      <td>Two labourers killed in Dhaka road accident</td>\n",
              "      <td>2 killed in Dhaka road crash</td>\n",
              "      <td>2.0</td>\n",
              "      <td>2</td>\n",
              "      <td>2021-06</td>\n",
              "      <td>2021-06-21/2021-06-27</td>\n",
              "    </tr>\n",
              "    <tr>\n",
              "      <th>1</th>\n",
              "      <td>1</td>\n",
              "      <td>Dhaka Tribune</td>\n",
              "      <td>2021-06-23</td>\n",
              "      <td>Three killed in Muktagacha road accident</td>\n",
              "      <td>Three killed in Muktagacha road...</td>\n",
              "      <td>3.0</td>\n",
              "      <td>0</td>\n",
              "      <td>2021-06</td>\n",
              "      <td>2021-06-21/2021-06-27</td>\n",
              "    </tr>\n",
              "    <tr>\n",
              "      <th>2</th>\n",
              "      <td>2</td>\n",
              "      <td>Dhaka Tribune</td>\n",
              "      <td>2021-06-19</td>\n",
              "      <td>Truck-pickup van collision leaves 3 dead in Na...</td>\n",
              "      <td>Truck-pickup van collision leaves 3...</td>\n",
              "      <td>3.0</td>\n",
              "      <td>0</td>\n",
              "      <td>2021-06</td>\n",
              "      <td>2021-06-14/2021-06-20</td>\n",
              "    </tr>\n",
              "    <tr>\n",
              "      <th>3</th>\n",
              "      <td>3</td>\n",
              "      <td>Dhaka Tribune</td>\n",
              "      <td>2021-06-19</td>\n",
              "      <td>Couple, infant grandson killed in Bogra bus-au...</td>\n",
              "      <td>Bogra road crash kills 3</td>\n",
              "      <td>3.0</td>\n",
              "      <td>0</td>\n",
              "      <td>2021-06</td>\n",
              "      <td>2021-06-14/2021-06-20</td>\n",
              "    </tr>\n",
              "    <tr>\n",
              "      <th>4</th>\n",
              "      <td>4</td>\n",
              "      <td>Dhaka Tribune</td>\n",
              "      <td>2021-06-19</td>\n",
              "      <td>Policeman killed in Dhaka road accident</td>\n",
              "      <td>Cop killed in Dhaka road crash</td>\n",
              "      <td>1.0</td>\n",
              "      <td>0</td>\n",
              "      <td>2021-06</td>\n",
              "      <td>2021-06-14/2021-06-20</td>\n",
              "    </tr>\n",
              "  </tbody>\n",
              "</table>\n",
              "</div>"
            ],
            "text/plain": [
              "   Unnamed: 0 Newspaper Name  ... month_year        week_month_year\n",
              "0           0  Dhaka Tribune  ...    2021-06  2021-06-21/2021-06-27\n",
              "1           1  Dhaka Tribune  ...    2021-06  2021-06-21/2021-06-27\n",
              "2           2  Dhaka Tribune  ...    2021-06  2021-06-14/2021-06-20\n",
              "3           3  Dhaka Tribune  ...    2021-06  2021-06-14/2021-06-20\n",
              "4           4  Dhaka Tribune  ...    2021-06  2021-06-14/2021-06-20\n",
              "\n",
              "[5 rows x 9 columns]"
            ]
          },
          "metadata": {
            "tags": []
          },
          "execution_count": 10
        }
      ]
    },
    {
      "cell_type": "code",
      "metadata": {
        "id": "XPtoDD_JsP8d"
      },
      "source": [
        "#temp =df.groupby(['month_year'],as_index = False)['Deaths'].sum() # monthly operation\n",
        "\n",
        "temp =df.groupby(['week_month_year'],as_index = False)['Deaths'].sum() #weekly operation"
      ],
      "execution_count": 11,
      "outputs": []
    },
    {
      "cell_type": "code",
      "metadata": {
        "colab": {
          "base_uri": "https://localhost:8080/"
        },
        "id": "I4U7Og7PWi1I",
        "outputId": "1b171407-e1e8-4c33-ae43-10f698dcd8ea"
      },
      "source": [
        "temp.shape"
      ],
      "execution_count": 12,
      "outputs": [
        {
          "output_type": "execute_result",
          "data": {
            "text/plain": [
              "(232, 2)"
            ]
          },
          "metadata": {
            "tags": []
          },
          "execution_count": 12
        }
      ]
    },
    {
      "cell_type": "code",
      "metadata": {
        "colab": {
          "base_uri": "https://localhost:8080/",
          "height": 298
        },
        "id": "ma_YrvtrDgwK",
        "outputId": "a4df995f-7b2d-4c51-ab04-1aae0e7414f2"
      },
      "source": [
        "temp.plot(x='week_month_year')"
      ],
      "execution_count": 13,
      "outputs": [
        {
          "output_type": "execute_result",
          "data": {
            "text/plain": [
              "<matplotlib.axes._subplots.AxesSubplot at 0x7fef0badbf90>"
            ]
          },
          "metadata": {
            "tags": []
          },
          "execution_count": 13
        },
        {
          "output_type": "display_data",
          "data": {
            "image/png": "[encoded data removed]",
            "text/plain": [
              "<Figure size 432x288 with 1 Axes>"
            ]
          },
          "metadata": {
            "tags": [],
            "needs_background": "light"
          }
        }
      ]
    },
    {
      "cell_type": "code",
      "metadata": {
        "colab": {
          "base_uri": "https://localhost:8080/"
        },
        "id": "Pkkn7VZgU72l",
        "outputId": "4d55e72d-6037-47d4-9678-f8fef30620be"
      },
      "source": [
        "print(temp.shape)\n"
      ],
      "execution_count": 14,
      "outputs": [
        {
          "output_type": "stream",
          "text": [
            "(232, 2)\n"
          ],
          "name": "stdout"
        }
      ]
    },
    {
      "cell_type": "markdown",
      "metadata": {
        "id": "z_guHj9S1jU9"
      },
      "source": [
        "# perform Data Pre-Processing on data and make  it ready time series model"
      ]
    },
    {
      "cell_type": "code",
      "metadata": {
        "id": "2A4OM-F64Ec5"
      },
      "source": [
        "temp.set_index('week_month_year', inplace=True)"
      ],
      "execution_count": 15,
      "outputs": []
    },
    {
      "cell_type": "code",
      "metadata": {
        "colab": {
          "base_uri": "https://localhost:8080/"
        },
        "id": "nNS8bqG44GcS",
        "outputId": "794587b9-969b-42d4-e5f1-bfbabb915501"
      },
      "source": [
        "temp.dtypes"
      ],
      "execution_count": 16,
      "outputs": [
        {
          "output_type": "execute_result",
          "data": {
            "text/plain": [
              "Deaths    float64\n",
              "dtype: object"
            ]
          },
          "metadata": {
            "tags": []
          },
          "execution_count": 16
        }
      ]
    },
    {
      "cell_type": "code",
      "metadata": {
        "id": "NHlosuqvrMKj"
      },
      "source": [
        "data=temp.copy()"
      ],
      "execution_count": 17,
      "outputs": []
    },
    {
      "cell_type": "markdown",
      "metadata": {
        "id": "kLBT-trq7Div"
      },
      "source": [
        "Check whether Data is stationery or not, if not make it stationery"
      ]
    },
    {
      "cell_type": "code",
      "metadata": {
        "colab": {
          "base_uri": "https://localhost:8080/"
        },
        "id": "11rCm2cg7-b2",
        "outputId": "0e190c80-6d3f-47d9-99be-459767b538e9"
      },
      "source": [
        "from statsmodels.tsa.stattools import adfuller"
      ],
      "execution_count": 18,
      "outputs": [
        {
          "output_type": "stream",
          "text": [
            "/usr/local/lib/python3.7/dist-packages/statsmodels/tools/_testing.py:19: FutureWarning:\n",
            "\n",
            "pandas.util.testing is deprecated. Use the functions in the public API at pandas.testing instead.\n",
            "\n"
          ],
          "name": "stderr"
        }
      ]
    },
    {
      "cell_type": "code",
      "metadata": {
        "colab": {
          "base_uri": "https://localhost:8080/"
        },
        "id": "7F_1VcwC8eif",
        "outputId": "2ee912b0-0a3a-4e6d-f41e-05ebe36363c7"
      },
      "source": [
        "adfuller(temp['Deaths'])"
      ],
      "execution_count": 19,
      "outputs": [
        {
          "output_type": "execute_result",
          "data": {
            "text/plain": [
              "(-14.15693995906928,\n",
              " 2.113561505295262e-26,\n",
              " 0,\n",
              " 231,\n",
              " {'1%': -3.4589796764641,\n",
              "  '10%': -2.573482381701992,\n",
              "  '5%': -2.8741347158661448},\n",
              " 1897.2549426371677)"
            ]
          },
          "metadata": {
            "tags": []
          },
          "execution_count": 19
        }
      ]
    },
    {
      "cell_type": "code",
      "metadata": {
        "id": "BUgz1Srv8wJ-"
      },
      "source": [
        "def adfuller_test(Temp):\n",
        "  result = adfuller(Temp)\n",
        "  labels = ['ADF Test stats' , 'p-value' , '#lags used', 'no of observations used']\n",
        "\n",
        "  for value , label in zip(result , labels):\n",
        "    print('{} : {}'.format(label , value))\n",
        "  if result[1] <= 0.05:\n",
        "    print(\"Strong evidence against the null hypo , henece we can reject the null hypo & data is stationary\")\n",
        "  else:\n",
        "    print(\"weak evidence against the null hypo , henece we have failed to reject the null hypo & data is not stationary\")"
      ],
      "execution_count": 20,
      "outputs": []
    },
    {
      "cell_type": "code",
      "metadata": {
        "colab": {
          "base_uri": "https://localhost:8080/"
        },
        "id": "cdc9KsYAahWN",
        "outputId": "26f519a3-638a-4428-ef9a-e6c0ba50a1e4"
      },
      "source": [
        "adfuller_test(temp['Deaths'])"
      ],
      "execution_count": 21,
      "outputs": [
        {
          "output_type": "stream",
          "text": [
            "ADF Test stats : -14.15693995906928\n",
            "p-value : 2.113561505295262e-26\n",
            "#lags used : 0\n",
            "no of observations used : 231\n",
            "Strong evidence against the null hypo , henece we can reject the null hypo & data is stationary\n"
          ],
          "name": "stdout"
        }
      ]
    },
    {
      "cell_type": "code",
      "metadata": {
        "id": "UVpuY2K1dmuQ"
      },
      "source": [
        "df = temp.copy()"
      ],
      "execution_count": 22,
      "outputs": []
    },
    {
      "cell_type": "code",
      "metadata": {
        "id": "-EXnrmFqdxSp"
      },
      "source": [
        "#df['first_death_diff'] = df['Deaths']-df['Deaths'].shift(7)"
      ],
      "execution_count": 23,
      "outputs": []
    },
    {
      "cell_type": "markdown",
      "metadata": {
        "id": "-V6NUbUrd3_5"
      },
      "source": [
        " Examine if there is a seasonality in a data or not"
      ]
    },
    {
      "cell_type": "code",
      "metadata": {
        "id": "uBMx-uOKamfV"
      },
      "source": [
        "temp['week'] = temp.index.week"
      ],
      "execution_count": 24,
      "outputs": []
    },
    {
      "cell_type": "code",
      "metadata": {
        "id": "4V_w1btReYC1"
      },
      "source": [
        "temp['year'] = temp.index.year"
      ],
      "execution_count": 25,
      "outputs": []
    },
    {
      "cell_type": "code",
      "metadata": {
        "colab": {
          "base_uri": "https://localhost:8080/",
          "height": 238
        },
        "id": "nExx4wJ7eeRN",
        "outputId": "41fbef1e-239c-4d14-a808-c8fb3d168d88"
      },
      "source": [
        "temp.head()"
      ],
      "execution_count": 26,
      "outputs": [
        {
          "output_type": "execute_result",
          "data": {
            "text/html": [
              "<div>\n",
              "<style scoped>\n",
              "    .dataframe tbody tr th:only-of-type {\n",
              "        vertical-align: middle;\n",
              "    }\n",
              "\n",
              "    .dataframe tbody tr th {\n",
              "        vertical-align: top;\n",
              "    }\n",
              "\n",
              "    .dataframe thead th {\n",
              "        text-align: right;\n",
              "    }\n",
              "</style>\n",
              "<table border=\"1\" class=\"dataframe\">\n",
              "  <thead>\n",
              "    <tr style=\"text-align: right;\">\n",
              "      <th></th>\n",
              "      <th>Deaths</th>\n",
              "      <th>week</th>\n",
              "      <th>year</th>\n",
              "    </tr>\n",
              "    <tr>\n",
              "      <th>week_month_year</th>\n",
              "      <th></th>\n",
              "      <th></th>\n",
              "      <th></th>\n",
              "    </tr>\n",
              "  </thead>\n",
              "  <tbody>\n",
              "    <tr>\n",
              "      <th>2016-06-20/2016-06-26</th>\n",
              "      <td>3.0</td>\n",
              "      <td>25</td>\n",
              "      <td>2016</td>\n",
              "    </tr>\n",
              "    <tr>\n",
              "      <th>2016-07-11/2016-07-17</th>\n",
              "      <td>4.0</td>\n",
              "      <td>28</td>\n",
              "      <td>2016</td>\n",
              "    </tr>\n",
              "    <tr>\n",
              "      <th>2016-08-01/2016-08-07</th>\n",
              "      <td>3.0</td>\n",
              "      <td>31</td>\n",
              "      <td>2016</td>\n",
              "    </tr>\n",
              "    <tr>\n",
              "      <th>2016-08-08/2016-08-14</th>\n",
              "      <td>1.0</td>\n",
              "      <td>32</td>\n",
              "      <td>2016</td>\n",
              "    </tr>\n",
              "    <tr>\n",
              "      <th>2016-08-15/2016-08-21</th>\n",
              "      <td>8.0</td>\n",
              "      <td>33</td>\n",
              "      <td>2016</td>\n",
              "    </tr>\n",
              "  </tbody>\n",
              "</table>\n",
              "</div>"
            ],
            "text/plain": [
              "                       Deaths  week  year\n",
              "week_month_year                          \n",
              "2016-06-20/2016-06-26     3.0    25  2016\n",
              "2016-07-11/2016-07-17     4.0    28  2016\n",
              "2016-08-01/2016-08-07     3.0    31  2016\n",
              "2016-08-08/2016-08-14     1.0    32  2016\n",
              "2016-08-15/2016-08-21     8.0    33  2016"
            ]
          },
          "metadata": {
            "tags": []
          },
          "execution_count": 26
        }
      ]
    },
    {
      "cell_type": "code",
      "metadata": {
        "id": "GB_018jdefwr"
      },
      "source": [
        "pivot = temp.pivot_table(values='Deaths', index='week',columns='year')"
      ],
      "execution_count": 27,
      "outputs": []
    },
    {
      "cell_type": "code",
      "metadata": {
        "colab": {
          "base_uri": "https://localhost:8080/",
          "height": 1000
        },
        "id": "5VE1xolQfMaj",
        "outputId": "7b270d4a-4261-473a-8319-5b80d508877f"
      },
      "source": [
        "pivot"
      ],
      "execution_count": 28,
      "outputs": [
        {
          "output_type": "execute_result",
          "data": {
            "text/html": [
              "<div>\n",
              "<style scoped>\n",
              "    .dataframe tbody tr th:only-of-type {\n",
              "        vertical-align: middle;\n",
              "    }\n",
              "\n",
              "    .dataframe tbody tr th {\n",
              "        vertical-align: top;\n",
              "    }\n",
              "\n",
              "    .dataframe thead th {\n",
              "        text-align: right;\n",
              "    }\n",
              "</style>\n",
              "<table border=\"1\" class=\"dataframe\">\n",
              "  <thead>\n",
              "    <tr style=\"text-align: right;\">\n",
              "      <th>year</th>\n",
              "      <th>2016</th>\n",
              "      <th>2017</th>\n",
              "      <th>2018</th>\n",
              "      <th>2019</th>\n",
              "      <th>2020</th>\n",
              "      <th>2021</th>\n",
              "    </tr>\n",
              "    <tr>\n",
              "      <th>week</th>\n",
              "      <th></th>\n",
              "      <th></th>\n",
              "      <th></th>\n",
              "      <th></th>\n",
              "      <th></th>\n",
              "      <th></th>\n",
              "    </tr>\n",
              "  </thead>\n",
              "  <tbody>\n",
              "    <tr>\n",
              "      <th>1</th>\n",
              "      <td>NaN</td>\n",
              "      <td>1.0</td>\n",
              "      <td>7.0</td>\n",
              "      <td>13.0</td>\n",
              "      <td>16.0</td>\n",
              "      <td>1.0</td>\n",
              "    </tr>\n",
              "    <tr>\n",
              "      <th>2</th>\n",
              "      <td>NaN</td>\n",
              "      <td>NaN</td>\n",
              "      <td>2.0</td>\n",
              "      <td>13.0</td>\n",
              "      <td>13.0</td>\n",
              "      <td>6.0</td>\n",
              "    </tr>\n",
              "    <tr>\n",
              "      <th>3</th>\n",
              "      <td>NaN</td>\n",
              "      <td>NaN</td>\n",
              "      <td>18.0</td>\n",
              "      <td>13.0</td>\n",
              "      <td>19.0</td>\n",
              "      <td>5.0</td>\n",
              "    </tr>\n",
              "    <tr>\n",
              "      <th>4</th>\n",
              "      <td>NaN</td>\n",
              "      <td>NaN</td>\n",
              "      <td>NaN</td>\n",
              "      <td>43.0</td>\n",
              "      <td>18.0</td>\n",
              "      <td>1.0</td>\n",
              "    </tr>\n",
              "    <tr>\n",
              "      <th>5</th>\n",
              "      <td>NaN</td>\n",
              "      <td>76.0</td>\n",
              "      <td>5.0</td>\n",
              "      <td>25.0</td>\n",
              "      <td>17.0</td>\n",
              "      <td>37.0</td>\n",
              "    </tr>\n",
              "    <tr>\n",
              "      <th>6</th>\n",
              "      <td>NaN</td>\n",
              "      <td>21.0</td>\n",
              "      <td>6.0</td>\n",
              "      <td>31.0</td>\n",
              "      <td>13.0</td>\n",
              "      <td>16.0</td>\n",
              "    </tr>\n",
              "    <tr>\n",
              "      <th>7</th>\n",
              "      <td>NaN</td>\n",
              "      <td>10.0</td>\n",
              "      <td>NaN</td>\n",
              "      <td>48.0</td>\n",
              "      <td>32.0</td>\n",
              "      <td>12.0</td>\n",
              "    </tr>\n",
              "    <tr>\n",
              "      <th>8</th>\n",
              "      <td>NaN</td>\n",
              "      <td>4.0</td>\n",
              "      <td>1.0</td>\n",
              "      <td>19.0</td>\n",
              "      <td>20.0</td>\n",
              "      <td>36.0</td>\n",
              "    </tr>\n",
              "    <tr>\n",
              "      <th>9</th>\n",
              "      <td>NaN</td>\n",
              "      <td>6.0</td>\n",
              "      <td>4.0</td>\n",
              "      <td>10.0</td>\n",
              "      <td>47.0</td>\n",
              "      <td>23.0</td>\n",
              "    </tr>\n",
              "    <tr>\n",
              "      <th>10</th>\n",
              "      <td>NaN</td>\n",
              "      <td>2.0</td>\n",
              "      <td>8.0</td>\n",
              "      <td>11.0</td>\n",
              "      <td>37.0</td>\n",
              "      <td>5.0</td>\n",
              "    </tr>\n",
              "    <tr>\n",
              "      <th>11</th>\n",
              "      <td>NaN</td>\n",
              "      <td>9.0</td>\n",
              "      <td>NaN</td>\n",
              "      <td>3.0</td>\n",
              "      <td>39.0</td>\n",
              "      <td>14.0</td>\n",
              "    </tr>\n",
              "    <tr>\n",
              "      <th>12</th>\n",
              "      <td>NaN</td>\n",
              "      <td>42.0</td>\n",
              "      <td>NaN</td>\n",
              "      <td>23.0</td>\n",
              "      <td>39.0</td>\n",
              "      <td>26.0</td>\n",
              "    </tr>\n",
              "    <tr>\n",
              "      <th>13</th>\n",
              "      <td>NaN</td>\n",
              "      <td>19.0</td>\n",
              "      <td>14.0</td>\n",
              "      <td>29.0</td>\n",
              "      <td>26.0</td>\n",
              "      <td>7.0</td>\n",
              "    </tr>\n",
              "    <tr>\n",
              "      <th>14</th>\n",
              "      <td>NaN</td>\n",
              "      <td>3.0</td>\n",
              "      <td>28.0</td>\n",
              "      <td>10.0</td>\n",
              "      <td>2.0</td>\n",
              "      <td>4.0</td>\n",
              "    </tr>\n",
              "    <tr>\n",
              "      <th>15</th>\n",
              "      <td>NaN</td>\n",
              "      <td>27.0</td>\n",
              "      <td>4.0</td>\n",
              "      <td>13.0</td>\n",
              "      <td>NaN</td>\n",
              "      <td>25.0</td>\n",
              "    </tr>\n",
              "    <tr>\n",
              "      <th>16</th>\n",
              "      <td>NaN</td>\n",
              "      <td>14.0</td>\n",
              "      <td>4.0</td>\n",
              "      <td>43.0</td>\n",
              "      <td>1.0</td>\n",
              "      <td>6.0</td>\n",
              "    </tr>\n",
              "    <tr>\n",
              "      <th>17</th>\n",
              "      <td>NaN</td>\n",
              "      <td>5.0</td>\n",
              "      <td>13.0</td>\n",
              "      <td>17.0</td>\n",
              "      <td>14.0</td>\n",
              "      <td>12.0</td>\n",
              "    </tr>\n",
              "    <tr>\n",
              "      <th>18</th>\n",
              "      <td>NaN</td>\n",
              "      <td>2.0</td>\n",
              "      <td>6.0</td>\n",
              "      <td>35.0</td>\n",
              "      <td>213.0</td>\n",
              "      <td>11.0</td>\n",
              "    </tr>\n",
              "    <tr>\n",
              "      <th>19</th>\n",
              "      <td>NaN</td>\n",
              "      <td>13.0</td>\n",
              "      <td>15.0</td>\n",
              "      <td>19.0</td>\n",
              "      <td>NaN</td>\n",
              "      <td>20.0</td>\n",
              "    </tr>\n",
              "    <tr>\n",
              "      <th>20</th>\n",
              "      <td>NaN</td>\n",
              "      <td>NaN</td>\n",
              "      <td>5.0</td>\n",
              "      <td>10.0</td>\n",
              "      <td>1.0</td>\n",
              "      <td>28.0</td>\n",
              "    </tr>\n",
              "    <tr>\n",
              "      <th>21</th>\n",
              "      <td>NaN</td>\n",
              "      <td>12.0</td>\n",
              "      <td>12.0</td>\n",
              "      <td>13.0</td>\n",
              "      <td>27.0</td>\n",
              "      <td>3.0</td>\n",
              "    </tr>\n",
              "    <tr>\n",
              "      <th>22</th>\n",
              "      <td>NaN</td>\n",
              "      <td>7.0</td>\n",
              "      <td>20.0</td>\n",
              "      <td>35.0</td>\n",
              "      <td>2.0</td>\n",
              "      <td>11.0</td>\n",
              "    </tr>\n",
              "    <tr>\n",
              "      <th>23</th>\n",
              "      <td>NaN</td>\n",
              "      <td>NaN</td>\n",
              "      <td>42.0</td>\n",
              "      <td>42.0</td>\n",
              "      <td>14.0</td>\n",
              "      <td>8.0</td>\n",
              "    </tr>\n",
              "    <tr>\n",
              "      <th>24</th>\n",
              "      <td>NaN</td>\n",
              "      <td>2.0</td>\n",
              "      <td>11.0</td>\n",
              "      <td>8.0</td>\n",
              "      <td>4.0</td>\n",
              "      <td>16.0</td>\n",
              "    </tr>\n",
              "    <tr>\n",
              "      <th>25</th>\n",
              "      <td>3.0</td>\n",
              "      <td>14.0</td>\n",
              "      <td>103.0</td>\n",
              "      <td>3.0</td>\n",
              "      <td>3.0</td>\n",
              "      <td>5.0</td>\n",
              "    </tr>\n",
              "    <tr>\n",
              "      <th>26</th>\n",
              "      <td>NaN</td>\n",
              "      <td>53.0</td>\n",
              "      <td>13.0</td>\n",
              "      <td>37.0</td>\n",
              "      <td>10.0</td>\n",
              "      <td>NaN</td>\n",
              "    </tr>\n",
              "    <tr>\n",
              "      <th>27</th>\n",
              "      <td>NaN</td>\n",
              "      <td>2.0</td>\n",
              "      <td>2.0</td>\n",
              "      <td>45.0</td>\n",
              "      <td>9.0</td>\n",
              "      <td>NaN</td>\n",
              "    </tr>\n",
              "    <tr>\n",
              "      <th>28</th>\n",
              "      <td>4.0</td>\n",
              "      <td>2.0</td>\n",
              "      <td>19.0</td>\n",
              "      <td>17.0</td>\n",
              "      <td>3.0</td>\n",
              "      <td>NaN</td>\n",
              "    </tr>\n",
              "    <tr>\n",
              "      <th>29</th>\n",
              "      <td>NaN</td>\n",
              "      <td>3.0</td>\n",
              "      <td>29.0</td>\n",
              "      <td>24.0</td>\n",
              "      <td>NaN</td>\n",
              "      <td>NaN</td>\n",
              "    </tr>\n",
              "    <tr>\n",
              "      <th>30</th>\n",
              "      <td>NaN</td>\n",
              "      <td>8.0</td>\n",
              "      <td>12.0</td>\n",
              "      <td>16.0</td>\n",
              "      <td>9.0</td>\n",
              "      <td>NaN</td>\n",
              "    </tr>\n",
              "    <tr>\n",
              "      <th>31</th>\n",
              "      <td>3.0</td>\n",
              "      <td>NaN</td>\n",
              "      <td>5.0</td>\n",
              "      <td>24.0</td>\n",
              "      <td>7.0</td>\n",
              "      <td>NaN</td>\n",
              "    </tr>\n",
              "    <tr>\n",
              "      <th>32</th>\n",
              "      <td>1.0</td>\n",
              "      <td>4.0</td>\n",
              "      <td>13.0</td>\n",
              "      <td>8.0</td>\n",
              "      <td>21.0</td>\n",
              "      <td>NaN</td>\n",
              "    </tr>\n",
              "    <tr>\n",
              "      <th>33</th>\n",
              "      <td>8.0</td>\n",
              "      <td>3.0</td>\n",
              "      <td>18.0</td>\n",
              "      <td>51.0</td>\n",
              "      <td>14.0</td>\n",
              "      <td>NaN</td>\n",
              "    </tr>\n",
              "    <tr>\n",
              "      <th>34</th>\n",
              "      <td>2.0</td>\n",
              "      <td>13.0</td>\n",
              "      <td>65.0</td>\n",
              "      <td>23.0</td>\n",
              "      <td>8.0</td>\n",
              "      <td>NaN</td>\n",
              "    </tr>\n",
              "    <tr>\n",
              "      <th>35</th>\n",
              "      <td>1.0</td>\n",
              "      <td>NaN</td>\n",
              "      <td>30.0</td>\n",
              "      <td>15.0</td>\n",
              "      <td>8.0</td>\n",
              "      <td>NaN</td>\n",
              "    </tr>\n",
              "    <tr>\n",
              "      <th>36</th>\n",
              "      <td>36.0</td>\n",
              "      <td>NaN</td>\n",
              "      <td>9.0</td>\n",
              "      <td>21.0</td>\n",
              "      <td>NaN</td>\n",
              "      <td>NaN</td>\n",
              "    </tr>\n",
              "    <tr>\n",
              "      <th>37</th>\n",
              "      <td>60.0</td>\n",
              "      <td>3.0</td>\n",
              "      <td>17.0</td>\n",
              "      <td>9.0</td>\n",
              "      <td>15.0</td>\n",
              "      <td>NaN</td>\n",
              "    </tr>\n",
              "    <tr>\n",
              "      <th>38</th>\n",
              "      <td>14.0</td>\n",
              "      <td>1.0</td>\n",
              "      <td>15.0</td>\n",
              "      <td>24.0</td>\n",
              "      <td>9.0</td>\n",
              "      <td>NaN</td>\n",
              "    </tr>\n",
              "    <tr>\n",
              "      <th>39</th>\n",
              "      <td>14.0</td>\n",
              "      <td>3.0</td>\n",
              "      <td>23.0</td>\n",
              "      <td>13.0</td>\n",
              "      <td>5.0</td>\n",
              "      <td>NaN</td>\n",
              "    </tr>\n",
              "    <tr>\n",
              "      <th>40</th>\n",
              "      <td>12.0</td>\n",
              "      <td>3.0</td>\n",
              "      <td>1.0</td>\n",
              "      <td>17.0</td>\n",
              "      <td>1.0</td>\n",
              "      <td>NaN</td>\n",
              "    </tr>\n",
              "    <tr>\n",
              "      <th>41</th>\n",
              "      <td>NaN</td>\n",
              "      <td>6.0</td>\n",
              "      <td>7.0</td>\n",
              "      <td>11.0</td>\n",
              "      <td>6.0</td>\n",
              "      <td>NaN</td>\n",
              "    </tr>\n",
              "    <tr>\n",
              "      <th>42</th>\n",
              "      <td>5.0</td>\n",
              "      <td>1.0</td>\n",
              "      <td>5.0</td>\n",
              "      <td>16.0</td>\n",
              "      <td>2.0</td>\n",
              "      <td>NaN</td>\n",
              "    </tr>\n",
              "    <tr>\n",
              "      <th>43</th>\n",
              "      <td>3.0</td>\n",
              "      <td>1.0</td>\n",
              "      <td>10.0</td>\n",
              "      <td>10.0</td>\n",
              "      <td>NaN</td>\n",
              "      <td>NaN</td>\n",
              "    </tr>\n",
              "    <tr>\n",
              "      <th>44</th>\n",
              "      <td>12.0</td>\n",
              "      <td>11.0</td>\n",
              "      <td>12.0</td>\n",
              "      <td>8.0</td>\n",
              "      <td>4.0</td>\n",
              "      <td>NaN</td>\n",
              "    </tr>\n",
              "    <tr>\n",
              "      <th>45</th>\n",
              "      <td>NaN</td>\n",
              "      <td>NaN</td>\n",
              "      <td>9.0</td>\n",
              "      <td>13.0</td>\n",
              "      <td>8.0</td>\n",
              "      <td>NaN</td>\n",
              "    </tr>\n",
              "    <tr>\n",
              "      <th>46</th>\n",
              "      <td>5.0</td>\n",
              "      <td>NaN</td>\n",
              "      <td>7.0</td>\n",
              "      <td>10.0</td>\n",
              "      <td>1.0</td>\n",
              "      <td>NaN</td>\n",
              "    </tr>\n",
              "    <tr>\n",
              "      <th>47</th>\n",
              "      <td>NaN</td>\n",
              "      <td>NaN</td>\n",
              "      <td>11.0</td>\n",
              "      <td>16.0</td>\n",
              "      <td>15.0</td>\n",
              "      <td>NaN</td>\n",
              "    </tr>\n",
              "    <tr>\n",
              "      <th>48</th>\n",
              "      <td>3.0</td>\n",
              "      <td>NaN</td>\n",
              "      <td>21.0</td>\n",
              "      <td>4.0</td>\n",
              "      <td>0.0</td>\n",
              "      <td>NaN</td>\n",
              "    </tr>\n",
              "    <tr>\n",
              "      <th>49</th>\n",
              "      <td>6.0</td>\n",
              "      <td>NaN</td>\n",
              "      <td>15.0</td>\n",
              "      <td>11.0</td>\n",
              "      <td>9.0</td>\n",
              "      <td>NaN</td>\n",
              "    </tr>\n",
              "    <tr>\n",
              "      <th>50</th>\n",
              "      <td>19.0</td>\n",
              "      <td>6.0</td>\n",
              "      <td>21.0</td>\n",
              "      <td>11.0</td>\n",
              "      <td>38.0</td>\n",
              "      <td>NaN</td>\n",
              "    </tr>\n",
              "    <tr>\n",
              "      <th>51</th>\n",
              "      <td>13.0</td>\n",
              "      <td>1.0</td>\n",
              "      <td>27.0</td>\n",
              "      <td>24.0</td>\n",
              "      <td>NaN</td>\n",
              "      <td>NaN</td>\n",
              "    </tr>\n",
              "    <tr>\n",
              "      <th>52</th>\n",
              "      <td>NaN</td>\n",
              "      <td>9.0</td>\n",
              "      <td>3.0</td>\n",
              "      <td>19.0</td>\n",
              "      <td>1.0</td>\n",
              "      <td>NaN</td>\n",
              "    </tr>\n",
              "    <tr>\n",
              "      <th>53</th>\n",
              "      <td>NaN</td>\n",
              "      <td>NaN</td>\n",
              "      <td>NaN</td>\n",
              "      <td>NaN</td>\n",
              "      <td>NaN</td>\n",
              "      <td>22.0</td>\n",
              "    </tr>\n",
              "  </tbody>\n",
              "</table>\n",
              "</div>"
            ],
            "text/plain": [
              "year  2016  2017   2018  2019   2020  2021\n",
              "week                                      \n",
              "1      NaN   1.0    7.0  13.0   16.0   1.0\n",
              "2      NaN   NaN    2.0  13.0   13.0   6.0\n",
              "3      NaN   NaN   18.0  13.0   19.0   5.0\n",
              "4      NaN   NaN    NaN  43.0   18.0   1.0\n",
              "5      NaN  76.0    5.0  25.0   17.0  37.0\n",
              "6      NaN  21.0    6.0  31.0   13.0  16.0\n",
              "7      NaN  10.0    NaN  48.0   32.0  12.0\n",
              "8      NaN   4.0    1.0  19.0   20.0  36.0\n",
              "9      NaN   6.0    4.0  10.0   47.0  23.0\n",
              "10     NaN   2.0    8.0  11.0   37.0   5.0\n",
              "11     NaN   9.0    NaN   3.0   39.0  14.0\n",
              "12     NaN  42.0    NaN  23.0   39.0  26.0\n",
              "13     NaN  19.0   14.0  29.0   26.0   7.0\n",
              "14     NaN   3.0   28.0  10.0    2.0   4.0\n",
              "15     NaN  27.0    4.0  13.0    NaN  25.0\n",
              "16     NaN  14.0    4.0  43.0    1.0   6.0\n",
              "17     NaN   5.0   13.0  17.0   14.0  12.0\n",
              "18     NaN   2.0    6.0  35.0  213.0  11.0\n",
              "19     NaN  13.0   15.0  19.0    NaN  20.0\n",
              "20     NaN   NaN    5.0  10.0    1.0  28.0\n",
              "21     NaN  12.0   12.0  13.0   27.0   3.0\n",
              "22     NaN   7.0   20.0  35.0    2.0  11.0\n",
              "23     NaN   NaN   42.0  42.0   14.0   8.0\n",
              "24     NaN   2.0   11.0   8.0    4.0  16.0\n",
              "25     3.0  14.0  103.0   3.0    3.0   5.0\n",
              "26     NaN  53.0   13.0  37.0   10.0   NaN\n",
              "27     NaN   2.0    2.0  45.0    9.0   NaN\n",
              "28     4.0   2.0   19.0  17.0    3.0   NaN\n",
              "29     NaN   3.0   29.0  24.0    NaN   NaN\n",
              "30     NaN   8.0   12.0  16.0    9.0   NaN\n",
              "31     3.0   NaN    5.0  24.0    7.0   NaN\n",
              "32     1.0   4.0   13.0   8.0   21.0   NaN\n",
              "33     8.0   3.0   18.0  51.0   14.0   NaN\n",
              "34     2.0  13.0   65.0  23.0    8.0   NaN\n",
              "35     1.0   NaN   30.0  15.0    8.0   NaN\n",
              "36    36.0   NaN    9.0  21.0    NaN   NaN\n",
              "37    60.0   3.0   17.0   9.0   15.0   NaN\n",
              "38    14.0   1.0   15.0  24.0    9.0   NaN\n",
              "39    14.0   3.0   23.0  13.0    5.0   NaN\n",
              "40    12.0   3.0    1.0  17.0    1.0   NaN\n",
              "41     NaN   6.0    7.0  11.0    6.0   NaN\n",
              "42     5.0   1.0    5.0  16.0    2.0   NaN\n",
              "43     3.0   1.0   10.0  10.0    NaN   NaN\n",
              "44    12.0  11.0   12.0   8.0    4.0   NaN\n",
              "45     NaN   NaN    9.0  13.0    8.0   NaN\n",
              "46     5.0   NaN    7.0  10.0    1.0   NaN\n",
              "47     NaN   NaN   11.0  16.0   15.0   NaN\n",
              "48     3.0   NaN   21.0   4.0    0.0   NaN\n",
              "49     6.0   NaN   15.0  11.0    9.0   NaN\n",
              "50    19.0   6.0   21.0  11.0   38.0   NaN\n",
              "51    13.0   1.0   27.0  24.0    NaN   NaN\n",
              "52     NaN   9.0    3.0  19.0    1.0   NaN\n",
              "53     NaN   NaN    NaN   NaN    NaN  22.0"
            ]
          },
          "metadata": {
            "tags": []
          },
          "execution_count": 28
        }
      ]
    },
    {
      "cell_type": "code",
      "metadata": {
        "id": "PGPBMYxefNim",
        "colab": {
          "base_uri": "https://localhost:8080/",
          "height": 406
        },
        "outputId": "7edaa5ce-6ba8-4a77-d384-5cdcf90dac7f"
      },
      "source": [
        "pivot.plot(figsize= (20,6))\n",
        "plt.xlabel('Week')\n",
        "plt.ylabel('Deaths')"
      ],
      "execution_count": 29,
      "outputs": [
        {
          "output_type": "execute_result",
          "data": {
            "text/plain": [
              "Text(0, 0.5, 'Deaths')"
            ]
          },
          "metadata": {
            "tags": []
          },
          "execution_count": 29
        },
        {
          "output_type": "display_data",
          "data": {
            "image/png": "[encoded data removed]",
            "text/plain": [
              "<Figure size 1440x432 with 1 Axes>"
            ]
          },
          "metadata": {
            "tags": [],
            "needs_background": "light"
          }
        }
      ]
    },
    {
      "cell_type": "code",
      "metadata": {
        "colab": {
          "base_uri": "https://localhost:8080/",
          "height": 406
        },
        "id": "1cg8rvtEfT5n",
        "outputId": "493f054a-5376-4e74-8984-cb47cc1b9934"
      },
      "source": [
        "weekly_seasonality = pivot.mean(axis=1)\n",
        "weekly_seasonality.plot(figsize =(20,6))"
      ],
      "execution_count": 31,
      "outputs": [
        {
          "output_type": "execute_result",
          "data": {
            "text/plain": [
              "<matplotlib.axes._subplots.AxesSubplot at 0x7fef01641050>"
            ]
          },
          "metadata": {
            "tags": []
          },
          "execution_count": 31
        },
        {
          "output_type": "display_data",
          "data": {
            "image/png": "[encoded data removed]",
            "text/plain": [
              "<Figure size 1440x432 with 1 Axes>"
            ]
          },
          "metadata": {
            "tags": [],
            "needs_background": "light"
          }
        }
      ]
    },
    {
      "cell_type": "markdown",
      "metadata": {
        "id": "arv0rzijgw2E"
      },
      "source": [
        "Build Time Series Model using Moving Average"
      ]
    },
    {
      "cell_type": "code",
      "metadata": {
        "colab": {
          "base_uri": "https://localhost:8080/",
          "height": 238
        },
        "id": "LksD5yP6gZuX",
        "outputId": "e120ac30-f138-4508-be9d-b513f07c0e45"
      },
      "source": [
        "temp.head()"
      ],
      "execution_count": 32,
      "outputs": [
        {
          "output_type": "execute_result",
          "data": {
            "text/html": [
              "<div>\n",
              "<style scoped>\n",
              "    .dataframe tbody tr th:only-of-type {\n",
              "        vertical-align: middle;\n",
              "    }\n",
              "\n",
              "    .dataframe tbody tr th {\n",
              "        vertical-align: top;\n",
              "    }\n",
              "\n",
              "    .dataframe thead th {\n",
              "        text-align: right;\n",
              "    }\n",
              "</style>\n",
              "<table border=\"1\" class=\"dataframe\">\n",
              "  <thead>\n",
              "    <tr style=\"text-align: right;\">\n",
              "      <th></th>\n",
              "      <th>Deaths</th>\n",
              "      <th>week</th>\n",
              "      <th>year</th>\n",
              "    </tr>\n",
              "    <tr>\n",
              "      <th>week_month_year</th>\n",
              "      <th></th>\n",
              "      <th></th>\n",
              "      <th></th>\n",
              "    </tr>\n",
              "  </thead>\n",
              "  <tbody>\n",
              "    <tr>\n",
              "      <th>2016-06-20/2016-06-26</th>\n",
              "      <td>3.0</td>\n",
              "      <td>25</td>\n",
              "      <td>2016</td>\n",
              "    </tr>\n",
              "    <tr>\n",
              "      <th>2016-07-11/2016-07-17</th>\n",
              "      <td>4.0</td>\n",
              "      <td>28</td>\n",
              "      <td>2016</td>\n",
              "    </tr>\n",
              "    <tr>\n",
              "      <th>2016-08-01/2016-08-07</th>\n",
              "      <td>3.0</td>\n",
              "      <td>31</td>\n",
              "      <td>2016</td>\n",
              "    </tr>\n",
              "    <tr>\n",
              "      <th>2016-08-08/2016-08-14</th>\n",
              "      <td>1.0</td>\n",
              "      <td>32</td>\n",
              "      <td>2016</td>\n",
              "    </tr>\n",
              "    <tr>\n",
              "      <th>2016-08-15/2016-08-21</th>\n",
              "      <td>8.0</td>\n",
              "      <td>33</td>\n",
              "      <td>2016</td>\n",
              "    </tr>\n",
              "  </tbody>\n",
              "</table>\n",
              "</div>"
            ],
            "text/plain": [
              "                       Deaths  week  year\n",
              "week_month_year                          \n",
              "2016-06-20/2016-06-26     3.0    25  2016\n",
              "2016-07-11/2016-07-17     4.0    28  2016\n",
              "2016-08-01/2016-08-07     3.0    31  2016\n",
              "2016-08-08/2016-08-14     1.0    32  2016\n",
              "2016-08-15/2016-08-21     8.0    33  2016"
            ]
          },
          "metadata": {
            "tags": []
          },
          "execution_count": 32
        }
      ]
    },
    {
      "cell_type": "code",
      "metadata": {
        "id": "27xrizWjezdP"
      },
      "source": [
        "#df =df.dropna()"
      ],
      "execution_count": 33,
      "outputs": []
    },
    {
      "cell_type": "code",
      "metadata": {
        "id": "8iRzS_9Fe_8m"
      },
      "source": [
        "#df.isna().sum()"
      ],
      "execution_count": 34,
      "outputs": []
    },
    {
      "cell_type": "code",
      "metadata": {
        "id": "ehniwAilhSst"
      },
      "source": [
        "value = pd.DataFrame(temp['Deaths'])\n",
        "temp_df =pd.concat([value, temp['Deaths'].rolling(window = 7).mean()], axis=1)"
      ],
      "execution_count": 35,
      "outputs": []
    },
    {
      "cell_type": "code",
      "metadata": {
        "id": "ui-JuZH0iUp_"
      },
      "source": [
        "temp_df.columns = ['actual' , 'forecast']"
      ],
      "execution_count": 36,
      "outputs": []
    },
    {
      "cell_type": "code",
      "metadata": {
        "colab": {
          "base_uri": "https://localhost:8080/",
          "height": 708
        },
        "id": "eIdE65lgilar",
        "outputId": "00001724-7f00-4b32-ce04-6aad2a5beee0"
      },
      "source": [
        "temp_df.head(20)"
      ],
      "execution_count": 37,
      "outputs": [
        {
          "output_type": "execute_result",
          "data": {
            "text/html": [
              "<div>\n",
              "<style scoped>\n",
              "    .dataframe tbody tr th:only-of-type {\n",
              "        vertical-align: middle;\n",
              "    }\n",
              "\n",
              "    .dataframe tbody tr th {\n",
              "        vertical-align: top;\n",
              "    }\n",
              "\n",
              "    .dataframe thead th {\n",
              "        text-align: right;\n",
              "    }\n",
              "</style>\n",
              "<table border=\"1\" class=\"dataframe\">\n",
              "  <thead>\n",
              "    <tr style=\"text-align: right;\">\n",
              "      <th></th>\n",
              "      <th>actual</th>\n",
              "      <th>forecast</th>\n",
              "    </tr>\n",
              "    <tr>\n",
              "      <th>week_month_year</th>\n",
              "      <th></th>\n",
              "      <th></th>\n",
              "    </tr>\n",
              "  </thead>\n",
              "  <tbody>\n",
              "    <tr>\n",
              "      <th>2016-06-20/2016-06-26</th>\n",
              "      <td>3.0</td>\n",
              "      <td>NaN</td>\n",
              "    </tr>\n",
              "    <tr>\n",
              "      <th>2016-07-11/2016-07-17</th>\n",
              "      <td>4.0</td>\n",
              "      <td>NaN</td>\n",
              "    </tr>\n",
              "    <tr>\n",
              "      <th>2016-08-01/2016-08-07</th>\n",
              "      <td>3.0</td>\n",
              "      <td>NaN</td>\n",
              "    </tr>\n",
              "    <tr>\n",
              "      <th>2016-08-08/2016-08-14</th>\n",
              "      <td>1.0</td>\n",
              "      <td>NaN</td>\n",
              "    </tr>\n",
              "    <tr>\n",
              "      <th>2016-08-15/2016-08-21</th>\n",
              "      <td>8.0</td>\n",
              "      <td>NaN</td>\n",
              "    </tr>\n",
              "    <tr>\n",
              "      <th>2016-08-22/2016-08-28</th>\n",
              "      <td>2.0</td>\n",
              "      <td>NaN</td>\n",
              "    </tr>\n",
              "    <tr>\n",
              "      <th>2016-08-29/2016-09-04</th>\n",
              "      <td>1.0</td>\n",
              "      <td>3.142857</td>\n",
              "    </tr>\n",
              "    <tr>\n",
              "      <th>2016-09-05/2016-09-11</th>\n",
              "      <td>36.0</td>\n",
              "      <td>7.857143</td>\n",
              "    </tr>\n",
              "    <tr>\n",
              "      <th>2016-09-12/2016-09-18</th>\n",
              "      <td>60.0</td>\n",
              "      <td>15.857143</td>\n",
              "    </tr>\n",
              "    <tr>\n",
              "      <th>2016-09-19/2016-09-25</th>\n",
              "      <td>14.0</td>\n",
              "      <td>17.428571</td>\n",
              "    </tr>\n",
              "    <tr>\n",
              "      <th>2016-09-26/2016-10-02</th>\n",
              "      <td>14.0</td>\n",
              "      <td>19.285714</td>\n",
              "    </tr>\n",
              "    <tr>\n",
              "      <th>2016-10-03/2016-10-09</th>\n",
              "      <td>12.0</td>\n",
              "      <td>19.857143</td>\n",
              "    </tr>\n",
              "    <tr>\n",
              "      <th>2016-10-17/2016-10-23</th>\n",
              "      <td>5.0</td>\n",
              "      <td>20.285714</td>\n",
              "    </tr>\n",
              "    <tr>\n",
              "      <th>2016-10-24/2016-10-30</th>\n",
              "      <td>3.0</td>\n",
              "      <td>20.571429</td>\n",
              "    </tr>\n",
              "    <tr>\n",
              "      <th>2016-10-31/2016-11-06</th>\n",
              "      <td>12.0</td>\n",
              "      <td>17.142857</td>\n",
              "    </tr>\n",
              "    <tr>\n",
              "      <th>2016-11-14/2016-11-20</th>\n",
              "      <td>5.0</td>\n",
              "      <td>9.285714</td>\n",
              "    </tr>\n",
              "    <tr>\n",
              "      <th>2016-11-28/2016-12-04</th>\n",
              "      <td>3.0</td>\n",
              "      <td>7.714286</td>\n",
              "    </tr>\n",
              "    <tr>\n",
              "      <th>2016-12-05/2016-12-11</th>\n",
              "      <td>6.0</td>\n",
              "      <td>6.571429</td>\n",
              "    </tr>\n",
              "    <tr>\n",
              "      <th>2016-12-12/2016-12-18</th>\n",
              "      <td>19.0</td>\n",
              "      <td>7.571429</td>\n",
              "    </tr>\n",
              "    <tr>\n",
              "      <th>2016-12-19/2016-12-25</th>\n",
              "      <td>13.0</td>\n",
              "      <td>8.714286</td>\n",
              "    </tr>\n",
              "  </tbody>\n",
              "</table>\n",
              "</div>"
            ],
            "text/plain": [
              "                       actual   forecast\n",
              "week_month_year                         \n",
              "2016-06-20/2016-06-26     3.0        NaN\n",
              "2016-07-11/2016-07-17     4.0        NaN\n",
              "2016-08-01/2016-08-07     3.0        NaN\n",
              "2016-08-08/2016-08-14     1.0        NaN\n",
              "2016-08-15/2016-08-21     8.0        NaN\n",
              "2016-08-22/2016-08-28     2.0        NaN\n",
              "2016-08-29/2016-09-04     1.0   3.142857\n",
              "2016-09-05/2016-09-11    36.0   7.857143\n",
              "2016-09-12/2016-09-18    60.0  15.857143\n",
              "2016-09-19/2016-09-25    14.0  17.428571\n",
              "2016-09-26/2016-10-02    14.0  19.285714\n",
              "2016-10-03/2016-10-09    12.0  19.857143\n",
              "2016-10-17/2016-10-23     5.0  20.285714\n",
              "2016-10-24/2016-10-30     3.0  20.571429\n",
              "2016-10-31/2016-11-06    12.0  17.142857\n",
              "2016-11-14/2016-11-20     5.0   9.285714\n",
              "2016-11-28/2016-12-04     3.0   7.714286\n",
              "2016-12-05/2016-12-11     6.0   6.571429\n",
              "2016-12-12/2016-12-18    19.0   7.571429\n",
              "2016-12-19/2016-12-25    13.0   8.714286"
            ]
          },
          "metadata": {
            "tags": []
          },
          "execution_count": 37
        }
      ]
    },
    {
      "cell_type": "markdown",
      "metadata": {
        "id": "Ty427sYeg6Hg"
      },
      "source": [
        "Evaluate Moving Average model."
      ]
    },
    {
      "cell_type": "code",
      "metadata": {
        "id": "mwKjtBtLi4wA"
      },
      "source": [
        "from sklearn.metrics import mean_squared_error"
      ],
      "execution_count": 64,
      "outputs": []
    },
    {
      "cell_type": "code",
      "metadata": {
        "colab": {
          "base_uri": "https://localhost:8080/"
        },
        "id": "vIaZhNwCge8V",
        "outputId": "8ff897f4-9578-443b-e7a8-8362f58512fe"
      },
      "source": [
        "np.sqrt(mean_squared_error(temp_df['forecast'][6:], temp_df['actual'][6:]))"
      ],
      "execution_count": 65,
      "outputs": [
        {
          "output_type": "execute_result",
          "data": {
            "text/plain": [
              "17.551289683390735"
            ]
          },
          "metadata": {
            "tags": []
          },
          "execution_count": 65
        }
      ]
    },
    {
      "cell_type": "markdown",
      "metadata": {
        "id": "bK3GlIMvoOJC"
      },
      "source": [
        "Apply ARIMA on data"
      ]
    },
    {
      "cell_type": "code",
      "metadata": {
        "id": "V_bRLf04y1ro"
      },
      "source": [
        "scaled_data = data.copy()\n"
      ],
      "execution_count": 66,
      "outputs": []
    },
    {
      "cell_type": "code",
      "metadata": {
        "id": "tRj71jfD84Be"
      },
      "source": [
        "#min-max normalization\n",
        "def normalize(data,min, max):\n",
        "  for i in range(len(data)):\n",
        "    data.iloc[i] =((data.iloc[i] - min )/(( max - min )))\n",
        "  return data\n"
      ],
      "execution_count": 67,
      "outputs": []
    },
    {
      "cell_type": "code",
      "metadata": {
        "id": "aJ62ZHrz-Ldr"
      },
      "source": [
        "#MIN-MAX denormalization\n",
        "def denormalize(data,min,max):\n",
        "  for i in range(len(data)):\n",
        "    data.iloc[i] = round(data.iloc[i]*(max - min) + min)\n",
        "  return data "
      ],
      "execution_count": 68,
      "outputs": []
    },
    {
      "cell_type": "code",
      "metadata": {
        "colab": {
          "base_uri": "https://localhost:8080/",
          "height": 455
        },
        "id": "QRAlHO5hywzV",
        "outputId": "0e1b184e-26b3-489e-dec5-1e79d9819a24"
      },
      "source": [
        "#scaled_data['Deaths'] = scaler.fit_transform(data)\n",
        "min = np.min(scaled_data['Deaths'])\n",
        "max = np.max(scaled_data['Deaths'])\n",
        "normalize(scaled_data ,min , max)\n"
      ],
      "execution_count": 69,
      "outputs": [
        {
          "output_type": "execute_result",
          "data": {
            "text/html": [
              "<div>\n",
              "<style scoped>\n",
              "    .dataframe tbody tr th:only-of-type {\n",
              "        vertical-align: middle;\n",
              "    }\n",
              "\n",
              "    .dataframe tbody tr th {\n",
              "        vertical-align: top;\n",
              "    }\n",
              "\n",
              "    .dataframe thead th {\n",
              "        text-align: right;\n",
              "    }\n",
              "</style>\n",
              "<table border=\"1\" class=\"dataframe\">\n",
              "  <thead>\n",
              "    <tr style=\"text-align: right;\">\n",
              "      <th></th>\n",
              "      <th>Deaths</th>\n",
              "    </tr>\n",
              "    <tr>\n",
              "      <th>week_month_year</th>\n",
              "      <th></th>\n",
              "    </tr>\n",
              "  </thead>\n",
              "  <tbody>\n",
              "    <tr>\n",
              "      <th>2016-06-20/2016-06-26</th>\n",
              "      <td>0.014085</td>\n",
              "    </tr>\n",
              "    <tr>\n",
              "      <th>2016-07-11/2016-07-17</th>\n",
              "      <td>0.018779</td>\n",
              "    </tr>\n",
              "    <tr>\n",
              "      <th>2016-08-01/2016-08-07</th>\n",
              "      <td>0.014085</td>\n",
              "    </tr>\n",
              "    <tr>\n",
              "      <th>2016-08-08/2016-08-14</th>\n",
              "      <td>0.004695</td>\n",
              "    </tr>\n",
              "    <tr>\n",
              "      <th>2016-08-15/2016-08-21</th>\n",
              "      <td>0.037559</td>\n",
              "    </tr>\n",
              "    <tr>\n",
              "      <th>...</th>\n",
              "      <td>...</td>\n",
              "    </tr>\n",
              "    <tr>\n",
              "      <th>2021-05-24/2021-05-30</th>\n",
              "      <td>0.014085</td>\n",
              "    </tr>\n",
              "    <tr>\n",
              "      <th>2021-05-31/2021-06-06</th>\n",
              "      <td>0.051643</td>\n",
              "    </tr>\n",
              "    <tr>\n",
              "      <th>2021-06-07/2021-06-13</th>\n",
              "      <td>0.037559</td>\n",
              "    </tr>\n",
              "    <tr>\n",
              "      <th>2021-06-14/2021-06-20</th>\n",
              "      <td>0.075117</td>\n",
              "    </tr>\n",
              "    <tr>\n",
              "      <th>2021-06-21/2021-06-27</th>\n",
              "      <td>0.023474</td>\n",
              "    </tr>\n",
              "  </tbody>\n",
              "</table>\n",
              "<p>232 rows × 1 columns</p>\n",
              "</div>"
            ],
            "text/plain": [
              "                         Deaths\n",
              "week_month_year                \n",
              "2016-06-20/2016-06-26  0.014085\n",
              "2016-07-11/2016-07-17  0.018779\n",
              "2016-08-01/2016-08-07  0.014085\n",
              "2016-08-08/2016-08-14  0.004695\n",
              "2016-08-15/2016-08-21  0.037559\n",
              "...                         ...\n",
              "2021-05-24/2021-05-30  0.014085\n",
              "2021-05-31/2021-06-06  0.051643\n",
              "2021-06-07/2021-06-13  0.037559\n",
              "2021-06-14/2021-06-20  0.075117\n",
              "2021-06-21/2021-06-27  0.023474\n",
              "\n",
              "[232 rows x 1 columns]"
            ]
          },
          "metadata": {
            "tags": []
          },
          "execution_count": 69
        }
      ]
    },
    {
      "cell_type": "code",
      "metadata": {
        "id": "rOyYsnHlIL2J"
      },
      "source": [
        "#denormalize(scaled_data,min,max)\n"
      ],
      "execution_count": 70,
      "outputs": []
    },
    {
      "cell_type": "code",
      "metadata": {
        "id": "mHdkefAdpCIn"
      },
      "source": [
        "from statsmodels.graphics.tsaplots import plot_acf , plot_pacf"
      ],
      "execution_count": 71,
      "outputs": []
    },
    {
      "cell_type": "code",
      "metadata": {
        "colab": {
          "base_uri": "https://localhost:8080/",
          "height": 545
        },
        "id": "hxOYWO1upMnC",
        "outputId": "6c841e15-fc06-47be-e58b-3c340a8ba3f6"
      },
      "source": [
        "#plot_acf(data['Deaths'])\n",
        "plot_acf(scaled_data)\n",
        "#plot_acf(df['first_death_diff'])"
      ],
      "execution_count": 72,
      "outputs": [
        {
          "output_type": "execute_result",
          "data": {
            "image/png": "[encoded data removed]",
            "text/plain": [
              "<Figure size 432x288 with 1 Axes>"
            ]
          },
          "metadata": {
            "tags": []
          },
          "execution_count": 72
        },
        {
          "output_type": "display_data",
          "data": {
            "image/png": "[encoded data removed]",
            "text/plain": [
              "<Figure size 432x288 with 1 Axes>"
            ]
          },
          "metadata": {
            "tags": [],
            "needs_background": "light"
          }
        }
      ]
    },
    {
      "cell_type": "code",
      "metadata": {
        "colab": {
          "base_uri": "https://localhost:8080/",
          "height": 545
        },
        "id": "DyRJbCYfppNj",
        "outputId": "aad01747-7519-49a6-98c5-2ff7986b3135"
      },
      "source": [
        "#plot_pacf(data['Deaths'])\n",
        "\n",
        "plot_pacf(scaled_data)\n",
        "#plot_pacf(df['first_death_diff'])"
      ],
      "execution_count": 73,
      "outputs": [
        {
          "output_type": "execute_result",
          "data": {
            "image/png": "[encoded data removed]",
            "text/plain": [
              "<Figure size 432x288 with 1 Axes>"
            ]
          },
          "metadata": {
            "tags": []
          },
          "execution_count": 73
        },
        {
          "output_type": "display_data",
          "data": {
            "image/png": "[encoded data removed]",
            "text/plain": [
              "<Figure size 432x288 with 1 Axes>"
            ]
          },
          "metadata": {
            "tags": [],
            "needs_background": "light"
          }
        }
      ]
    },
    {
      "cell_type": "code",
      "metadata": {
        "colab": {
          "base_uri": "https://localhost:8080/"
        },
        "id": "kLxsPuf7qGee",
        "outputId": "6861d420-21f5-48e4-e686-49fdb0d23dd6"
      },
      "source": [
        "scaled_data.shape\n",
        "#data.shape\n"
      ],
      "execution_count": 74,
      "outputs": [
        {
          "output_type": "execute_result",
          "data": {
            "text/plain": [
              "(232, 1)"
            ]
          },
          "metadata": {
            "tags": []
          },
          "execution_count": 74
        }
      ]
    },
    {
      "cell_type": "code",
      "metadata": {
        "id": "nu0BZ6cTqGpW"
      },
      "source": [
        "#training_data = data[:225]\n",
        "#test_data = data[225:]\n",
        "\n",
        "training_data = scaled_data[:225]\n",
        "test_data = scaled_data[225:]\n",
        "#training_data = df['first_death_diff'][:195]\n",
        "#test_data = df['first_death_diff'][195:]"
      ],
      "execution_count": 75,
      "outputs": []
    },
    {
      "cell_type": "code",
      "metadata": {
        "id": "al6cXyQBJgSH"
      },
      "source": [
        ""
      ],
      "execution_count": 75,
      "outputs": []
    },
    {
      "cell_type": "code",
      "metadata": {
        "id": "XZCvRu_Ege_n"
      },
      "source": [
        " from statsmodels.tsa.arima_model import ARIMA"
      ],
      "execution_count": 76,
      "outputs": []
    },
    {
      "cell_type": "code",
      "metadata": {
        "id": "LCexrNMKgfCk"
      },
      "source": [
        "arima = ARIMA(training_data,order=(4,1,4))"
      ],
      "execution_count": 77,
      "outputs": []
    },
    {
      "cell_type": "code",
      "metadata": {
        "id": "YCDNmRXurzTw",
        "colab": {
          "base_uri": "https://localhost:8080/"
        },
        "outputId": "825ea135-02cf-4893-e166-1b8b183735c6"
      },
      "source": [
        "model = arima.fit()"
      ],
      "execution_count": 78,
      "outputs": [
        {
          "output_type": "stream",
          "text": [
            "/usr/local/lib/python3.7/dist-packages/statsmodels/base/model.py:492: HessianInversionWarning:\n",
            "\n",
            "Inverting hessian failed, no bse or cov_params available\n",
            "\n"
          ],
          "name": "stderr"
        }
      ]
    },
    {
      "cell_type": "markdown",
      "metadata": {
        "id": "51O3RO5cXDa2"
      },
      "source": [
        "Predict using ARIMA model"
      ]
    },
    {
      "cell_type": "code",
      "metadata": {
        "id": "uLL5ZlRHbZQR"
      },
      "source": [
        "from sklearn import metrics"
      ],
      "execution_count": 79,
      "outputs": []
    },
    {
      "cell_type": "code",
      "metadata": {
        "id": "rNM1M-w-cO3v"
      },
      "source": [
        "def mape(y_true, y_pred):\n",
        "    return np.mean(np.abs((y_pred - y_true) / y_true)) * 100"
      ],
      "execution_count": 80,
      "outputs": []
    },
    {
      "cell_type": "code",
      "metadata": {
        "id": "zBcnMzMqW7wq"
      },
      "source": [
        "predictions = model.forecast(steps=len(test_data))[0]\n"
      ],
      "execution_count": 81,
      "outputs": []
    },
    {
      "cell_type": "code",
      "metadata": {
        "colab": {
          "base_uri": "https://localhost:8080/"
        },
        "id": "bREFZVyxbd9l",
        "outputId": "6443b460-9c01-47ac-eef6-92c8474f2da4"
      },
      "source": [
        "print(\"RMSE\")\n",
        "print(np.sqrt(mean_squared_error(test_data, predictions)))\n",
        "print(\"MSE\")\n",
        "print(metrics.mean_squared_error(test_data, predictions))\n",
        "print(\"R2\")\n",
        "print(metrics.r2_score(test_data, predictions))\n",
        "print(\"MAPE\")\n",
        "print(mape(test_data['Deaths'].to_list(), predictions))"
      ],
      "execution_count": 82,
      "outputs": [
        {
          "output_type": "stream",
          "text": [
            "RMSE\n",
            "0.03493303661927191\n",
            "MSE\n",
            "0.0012203170474433926\n",
            "R2\n",
            "0.18581523344912843\n",
            "MAPE\n",
            "92.58733213311031\n"
          ],
          "name": "stdout"
        }
      ]
    },
    {
      "cell_type": "code",
      "metadata": {
        "colab": {
          "base_uri": "https://localhost:8080/",
          "height": 287
        },
        "id": "AIf1BCw8t3Ck",
        "outputId": "634e743c-4ecf-4c2c-c87d-8da3d25758ea"
      },
      "source": [
        "pred = pd.DataFrame(predictions)\n",
        "print(\"Predicted value\")\n",
        "denormalize(pred,min,max)"
      ],
      "execution_count": 83,
      "outputs": [
        {
          "output_type": "stream",
          "text": [
            "Predicted value\n"
          ],
          "name": "stdout"
        },
        {
          "output_type": "execute_result",
          "data": {
            "text/html": [
              "<div>\n",
              "<style scoped>\n",
              "    .dataframe tbody tr th:only-of-type {\n",
              "        vertical-align: middle;\n",
              "    }\n",
              "\n",
              "    .dataframe tbody tr th {\n",
              "        vertical-align: top;\n",
              "    }\n",
              "\n",
              "    .dataframe thead th {\n",
              "        text-align: right;\n",
              "    }\n",
              "</style>\n",
              "<table border=\"1\" class=\"dataframe\">\n",
              "  <thead>\n",
              "    <tr style=\"text-align: right;\">\n",
              "      <th></th>\n",
              "      <th>0</th>\n",
              "    </tr>\n",
              "  </thead>\n",
              "  <tbody>\n",
              "    <tr>\n",
              "      <th>0</th>\n",
              "      <td>20.0</td>\n",
              "    </tr>\n",
              "    <tr>\n",
              "      <th>1</th>\n",
              "      <td>18.0</td>\n",
              "    </tr>\n",
              "    <tr>\n",
              "      <th>2</th>\n",
              "      <td>11.0</td>\n",
              "    </tr>\n",
              "    <tr>\n",
              "      <th>3</th>\n",
              "      <td>15.0</td>\n",
              "    </tr>\n",
              "    <tr>\n",
              "      <th>4</th>\n",
              "      <td>21.0</td>\n",
              "    </tr>\n",
              "    <tr>\n",
              "      <th>5</th>\n",
              "      <td>14.0</td>\n",
              "    </tr>\n",
              "    <tr>\n",
              "      <th>6</th>\n",
              "      <td>12.0</td>\n",
              "    </tr>\n",
              "  </tbody>\n",
              "</table>\n",
              "</div>"
            ],
            "text/plain": [
              "      0\n",
              "0  20.0\n",
              "1  18.0\n",
              "2  11.0\n",
              "3  15.0\n",
              "4  21.0\n",
              "5  14.0\n",
              "6  12.0"
            ]
          },
          "metadata": {
            "tags": []
          },
          "execution_count": 83
        }
      ]
    },
    {
      "cell_type": "code",
      "metadata": {
        "colab": {
          "base_uri": "https://localhost:8080/"
        },
        "id": "EnHuZdJvsQ9f",
        "outputId": "19a9e675-07fb-4507-f4d8-75e58fff51b4"
      },
      "source": [
        "print(\"Actual value\")\n",
        "denormalize(test_data['Deaths'],min,max)"
      ],
      "execution_count": 86,
      "outputs": [
        {
          "output_type": "stream",
          "text": [
            "Actual value\n"
          ],
          "name": "stdout"
        },
        {
          "output_type": "stream",
          "text": [
            "/usr/local/lib/python3.7/dist-packages/ipykernel_launcher.py:4: SettingWithCopyWarning:\n",
            "\n",
            "\n",
            "A value is trying to be set on a copy of a slice from a DataFrame\n",
            "\n",
            "See the caveats in the documentation: https://pandas.pydata.org/pandas-docs/stable/user_guide/indexing.html#returning-a-view-versus-a-copy\n",
            "\n"
          ],
          "name": "stderr"
        },
        {
          "output_type": "execute_result",
          "data": {
            "text/plain": [
              "week_month_year\n",
              "2021-05-10/2021-05-16    20.0\n",
              "2021-05-17/2021-05-23    28.0\n",
              "2021-05-24/2021-05-30     3.0\n",
              "2021-05-31/2021-06-06    11.0\n",
              "2021-06-07/2021-06-13     8.0\n",
              "2021-06-14/2021-06-20    16.0\n",
              "2021-06-21/2021-06-27     5.0\n",
              "Freq: W-SUN, Name: Deaths, dtype: float64"
            ]
          },
          "metadata": {
            "tags": []
          },
          "execution_count": 86
        }
      ]
    },
    {
      "cell_type": "code",
      "metadata": {
        "colab": {
          "base_uri": "https://localhost:8080/",
          "height": 320
        },
        "id": "OObtmPNHeydX",
        "outputId": "39768c55-2251-4533-d082-34ff1d062a0e"
      },
      "source": [
        "print(\"Actual value : {}\".format(test_data['Deaths'].to_list()))\n",
        "print(\"predicted value: {}\".format(pred[0].to_list()))\n",
        "import matplotlib.pyplot as plt\n",
        "plt.plot(pred)\n",
        "plt.plot(test_data['Deaths'].to_list())\n",
        "plt.legend(['prediction', 'Actual'])"
      ],
      "execution_count": 95,
      "outputs": [
        {
          "output_type": "stream",
          "text": [
            "Actual value : [20.0, 28.0, 3.0, 11.0, 8.0, 16.0, 5.0]\n",
            "predicted value: [20.0, 18.0, 11.0, 15.0, 21.0, 14.0, 12.0]\n"
          ],
          "name": "stdout"
        },
        {
          "output_type": "execute_result",
          "data": {
            "text/plain": [
              "<matplotlib.legend.Legend at 0x7feefa57fc10>"
            ]
          },
          "metadata": {
            "tags": []
          },
          "execution_count": 95
        },
        {
          "output_type": "display_data",
          "data": {
            "image/png": "[encoded data removed]",
            "text/plain": [
              "<Figure size 432x288 with 1 Axes>"
            ]
          },
          "metadata": {
            "tags": [],
            "needs_background": "light"
          }
        }
      ]
    },
    {
      "cell_type": "markdown",
      "metadata": {
        "id": "f2P4ny2cX05K"
      },
      "source": [
        "# Facebook prophet"
      ]
    },
    {
      "cell_type": "code",
      "metadata": {
        "id": "9_4D9n_Xh53W"
      },
      "source": [
        "scaled_data =data.copy()\n",
        "normalize(scaled_data,min,max)\n",
        "fb =scaled_data.reset_index()"
      ],
      "execution_count": 96,
      "outputs": []
    },
    {
      "cell_type": "code",
      "metadata": {
        "id": "6liEHlWPinEv"
      },
      "source": [
        "fb['week_month_year'] = fb['week_month_year'].dt.to_timestamp('s').dt.strftime('%Y-%m-%d %H:%M:%S').add('.000')"
      ],
      "execution_count": 97,
      "outputs": []
    },
    {
      "cell_type": "code",
      "metadata": {
        "colab": {
          "base_uri": "https://localhost:8080/",
          "height": 424
        },
        "id": "j91vbhmQjuuP",
        "outputId": "4fa1b11d-6057-4434-96a7-3cab27bc684d"
      },
      "source": [
        "fb"
      ],
      "execution_count": 98,
      "outputs": [
        {
          "output_type": "execute_result",
          "data": {
            "text/html": [
              "<div>\n",
              "<style scoped>\n",
              "    .dataframe tbody tr th:only-of-type {\n",
              "        vertical-align: middle;\n",
              "    }\n",
              "\n",
              "    .dataframe tbody tr th {\n",
              "        vertical-align: top;\n",
              "    }\n",
              "\n",
              "    .dataframe thead th {\n",
              "        text-align: right;\n",
              "    }\n",
              "</style>\n",
              "<table border=\"1\" class=\"dataframe\">\n",
              "  <thead>\n",
              "    <tr style=\"text-align: right;\">\n",
              "      <th></th>\n",
              "      <th>week_month_year</th>\n",
              "      <th>Deaths</th>\n",
              "    </tr>\n",
              "  </thead>\n",
              "  <tbody>\n",
              "    <tr>\n",
              "      <th>0</th>\n",
              "      <td>2016-06-20 00:00:00.000</td>\n",
              "      <td>0.014085</td>\n",
              "    </tr>\n",
              "    <tr>\n",
              "      <th>1</th>\n",
              "      <td>2016-07-11 00:00:00.000</td>\n",
              "      <td>0.018779</td>\n",
              "    </tr>\n",
              "    <tr>\n",
              "      <th>2</th>\n",
              "      <td>2016-08-01 00:00:00.000</td>\n",
              "      <td>0.014085</td>\n",
              "    </tr>\n",
              "    <tr>\n",
              "      <th>3</th>\n",
              "      <td>2016-08-08 00:00:00.000</td>\n",
              "      <td>0.004695</td>\n",
              "    </tr>\n",
              "    <tr>\n",
              "      <th>4</th>\n",
              "      <td>2016-08-15 00:00:00.000</td>\n",
              "      <td>0.037559</td>\n",
              "    </tr>\n",
              "    <tr>\n",
              "      <th>...</th>\n",
              "      <td>...</td>\n",
              "      <td>...</td>\n",
              "    </tr>\n",
              "    <tr>\n",
              "      <th>227</th>\n",
              "      <td>2021-05-24 00:00:00.000</td>\n",
              "      <td>0.014085</td>\n",
              "    </tr>\n",
              "    <tr>\n",
              "      <th>228</th>\n",
              "      <td>2021-05-31 00:00:00.000</td>\n",
              "      <td>0.051643</td>\n",
              "    </tr>\n",
              "    <tr>\n",
              "      <th>229</th>\n",
              "      <td>2021-06-07 00:00:00.000</td>\n",
              "      <td>0.037559</td>\n",
              "    </tr>\n",
              "    <tr>\n",
              "      <th>230</th>\n",
              "      <td>2021-06-14 00:00:00.000</td>\n",
              "      <td>0.075117</td>\n",
              "    </tr>\n",
              "    <tr>\n",
              "      <th>231</th>\n",
              "      <td>2021-06-21 00:00:00.000</td>\n",
              "      <td>0.023474</td>\n",
              "    </tr>\n",
              "  </tbody>\n",
              "</table>\n",
              "<p>232 rows × 2 columns</p>\n",
              "</div>"
            ],
            "text/plain": [
              "             week_month_year    Deaths\n",
              "0    2016-06-20 00:00:00.000  0.014085\n",
              "1    2016-07-11 00:00:00.000  0.018779\n",
              "2    2016-08-01 00:00:00.000  0.014085\n",
              "3    2016-08-08 00:00:00.000  0.004695\n",
              "4    2016-08-15 00:00:00.000  0.037559\n",
              "..                       ...       ...\n",
              "227  2021-05-24 00:00:00.000  0.014085\n",
              "228  2021-05-31 00:00:00.000  0.051643\n",
              "229  2021-06-07 00:00:00.000  0.037559\n",
              "230  2021-06-14 00:00:00.000  0.075117\n",
              "231  2021-06-21 00:00:00.000  0.023474\n",
              "\n",
              "[232 rows x 2 columns]"
            ]
          },
          "metadata": {
            "tags": []
          },
          "execution_count": 98
        }
      ]
    },
    {
      "cell_type": "code",
      "metadata": {
        "id": "FXqsBGJKjCNU"
      },
      "source": [
        "import fbprophet\n",
        "import pandas as pd\n",
        "from fbprophet import Prophet"
      ],
      "execution_count": 99,
      "outputs": []
    },
    {
      "cell_type": "code",
      "metadata": {
        "id": "ugOmFpJ3s6AY"
      },
      "source": [
        "df_prophet =fb.rename(columns={'week_month_year' : 'ds', 'Deaths': 'y'})\n"
      ],
      "execution_count": 100,
      "outputs": []
    },
    {
      "cell_type": "code",
      "metadata": {
        "colab": {
          "base_uri": "https://localhost:8080/",
          "height": 206
        },
        "id": "IX0fEE8Xiv_M",
        "outputId": "ffe9a6c3-f21a-4383-b729-e806c46fb346"
      },
      "source": [
        "\n",
        "df_prophet.head()"
      ],
      "execution_count": 101,
      "outputs": [
        {
          "output_type": "execute_result",
          "data": {
            "text/html": [
              "<div>\n",
              "<style scoped>\n",
              "    .dataframe tbody tr th:only-of-type {\n",
              "        vertical-align: middle;\n",
              "    }\n",
              "\n",
              "    .dataframe tbody tr th {\n",
              "        vertical-align: top;\n",
              "    }\n",
              "\n",
              "    .dataframe thead th {\n",
              "        text-align: right;\n",
              "    }\n",
              "</style>\n",
              "<table border=\"1\" class=\"dataframe\">\n",
              "  <thead>\n",
              "    <tr style=\"text-align: right;\">\n",
              "      <th></th>\n",
              "      <th>ds</th>\n",
              "      <th>y</th>\n",
              "    </tr>\n",
              "  </thead>\n",
              "  <tbody>\n",
              "    <tr>\n",
              "      <th>0</th>\n",
              "      <td>2016-06-20 00:00:00.000</td>\n",
              "      <td>0.014085</td>\n",
              "    </tr>\n",
              "    <tr>\n",
              "      <th>1</th>\n",
              "      <td>2016-07-11 00:00:00.000</td>\n",
              "      <td>0.018779</td>\n",
              "    </tr>\n",
              "    <tr>\n",
              "      <th>2</th>\n",
              "      <td>2016-08-01 00:00:00.000</td>\n",
              "      <td>0.014085</td>\n",
              "    </tr>\n",
              "    <tr>\n",
              "      <th>3</th>\n",
              "      <td>2016-08-08 00:00:00.000</td>\n",
              "      <td>0.004695</td>\n",
              "    </tr>\n",
              "    <tr>\n",
              "      <th>4</th>\n",
              "      <td>2016-08-15 00:00:00.000</td>\n",
              "      <td>0.037559</td>\n",
              "    </tr>\n",
              "  </tbody>\n",
              "</table>\n",
              "</div>"
            ],
            "text/plain": [
              "                        ds         y\n",
              "0  2016-06-20 00:00:00.000  0.014085\n",
              "1  2016-07-11 00:00:00.000  0.018779\n",
              "2  2016-08-01 00:00:00.000  0.014085\n",
              "3  2016-08-08 00:00:00.000  0.004695\n",
              "4  2016-08-15 00:00:00.000  0.037559"
            ]
          },
          "metadata": {
            "tags": []
          },
          "execution_count": 101
        }
      ]
    },
    {
      "cell_type": "code",
      "metadata": {
        "id": "oxrG2n5Zi8uU"
      },
      "source": [
        "#initialize the model\n",
        "m = Prophet()"
      ],
      "execution_count": 102,
      "outputs": []
    },
    {
      "cell_type": "code",
      "metadata": {
        "colab": {
          "base_uri": "https://localhost:8080/"
        },
        "id": "uwe86ekki2gO",
        "outputId": "8f49b6cf-3b1b-41af-f881-2bd649ef128f"
      },
      "source": [
        "model = m.fit(df_prophet)"
      ],
      "execution_count": 103,
      "outputs": [
        {
          "output_type": "stream",
          "text": [
            "INFO:fbprophet:Disabling weekly seasonality. Run prophet with weekly_seasonality=True to override this.\n",
            "INFO:fbprophet:Disabling daily seasonality. Run prophet with daily_seasonality=True to override this.\n"
          ],
          "name": "stderr"
        }
      ]
    },
    {
      "cell_type": "markdown",
      "metadata": {
        "id": "e8tta9qiUo2E"
      },
      "source": [
        "Create Future data for your prediction purpose"
      ]
    },
    {
      "cell_type": "code",
      "metadata": {
        "colab": {
          "base_uri": "https://localhost:8080/"
        },
        "id": "Ki6DVlE9i5hz",
        "outputId": "04580009-58b7-452c-ff5e-f41f7228bbeb"
      },
      "source": [
        "model.seasonalities"
      ],
      "execution_count": 104,
      "outputs": [
        {
          "output_type": "execute_result",
          "data": {
            "text/plain": [
              "OrderedDict([('yearly',\n",
              "              {'condition_name': None,\n",
              "               'fourier_order': 10,\n",
              "               'mode': 'additive',\n",
              "               'period': 365.25,\n",
              "               'prior_scale': 10.0})])"
            ]
          },
          "metadata": {
            "tags": []
          },
          "execution_count": 104
        }
      ]
    },
    {
      "cell_type": "code",
      "metadata": {
        "id": "_tiFQesYj9pr"
      },
      "source": [
        "future_global = model.make_future_dataframe(periods=7,freq='D')"
      ],
      "execution_count": 105,
      "outputs": []
    },
    {
      "cell_type": "code",
      "metadata": {
        "colab": {
          "base_uri": "https://localhost:8080/",
          "height": 424
        },
        "id": "N2159lV9kBGU",
        "outputId": "44d41c19-1c89-465c-fb84-0851adb40208"
      },
      "source": [
        "future_global"
      ],
      "execution_count": 106,
      "outputs": [
        {
          "output_type": "execute_result",
          "data": {
            "text/html": [
              "<div>\n",
              "<style scoped>\n",
              "    .dataframe tbody tr th:only-of-type {\n",
              "        vertical-align: middle;\n",
              "    }\n",
              "\n",
              "    .dataframe tbody tr th {\n",
              "        vertical-align: top;\n",
              "    }\n",
              "\n",
              "    .dataframe thead th {\n",
              "        text-align: right;\n",
              "    }\n",
              "</style>\n",
              "<table border=\"1\" class=\"dataframe\">\n",
              "  <thead>\n",
              "    <tr style=\"text-align: right;\">\n",
              "      <th></th>\n",
              "      <th>ds</th>\n",
              "    </tr>\n",
              "  </thead>\n",
              "  <tbody>\n",
              "    <tr>\n",
              "      <th>0</th>\n",
              "      <td>2016-06-20</td>\n",
              "    </tr>\n",
              "    <tr>\n",
              "      <th>1</th>\n",
              "      <td>2016-07-11</td>\n",
              "    </tr>\n",
              "    <tr>\n",
              "      <th>2</th>\n",
              "      <td>2016-08-01</td>\n",
              "    </tr>\n",
              "    <tr>\n",
              "      <th>3</th>\n",
              "      <td>2016-08-08</td>\n",
              "    </tr>\n",
              "    <tr>\n",
              "      <th>4</th>\n",
              "      <td>2016-08-15</td>\n",
              "    </tr>\n",
              "    <tr>\n",
              "      <th>...</th>\n",
              "      <td>...</td>\n",
              "    </tr>\n",
              "    <tr>\n",
              "      <th>234</th>\n",
              "      <td>2021-06-24</td>\n",
              "    </tr>\n",
              "    <tr>\n",
              "      <th>235</th>\n",
              "      <td>2021-06-25</td>\n",
              "    </tr>\n",
              "    <tr>\n",
              "      <th>236</th>\n",
              "      <td>2021-06-26</td>\n",
              "    </tr>\n",
              "    <tr>\n",
              "      <th>237</th>\n",
              "      <td>2021-06-27</td>\n",
              "    </tr>\n",
              "    <tr>\n",
              "      <th>238</th>\n",
              "      <td>2021-06-28</td>\n",
              "    </tr>\n",
              "  </tbody>\n",
              "</table>\n",
              "<p>239 rows × 1 columns</p>\n",
              "</div>"
            ],
            "text/plain": [
              "            ds\n",
              "0   2016-06-20\n",
              "1   2016-07-11\n",
              "2   2016-08-01\n",
              "3   2016-08-08\n",
              "4   2016-08-15\n",
              "..         ...\n",
              "234 2021-06-24\n",
              "235 2021-06-25\n",
              "236 2021-06-26\n",
              "237 2021-06-27\n",
              "238 2021-06-28\n",
              "\n",
              "[239 rows x 1 columns]"
            ]
          },
          "metadata": {
            "tags": []
          },
          "execution_count": 106
        }
      ]
    },
    {
      "cell_type": "code",
      "metadata": {
        "colab": {
          "base_uri": "https://localhost:8080/"
        },
        "id": "jGRX51g8kDwR",
        "outputId": "b6b5f979-b49e-4004-e033-c02f2eb02832"
      },
      "source": [
        "df_prophet.shape"
      ],
      "execution_count": 107,
      "outputs": [
        {
          "output_type": "execute_result",
          "data": {
            "text/plain": [
              "(232, 2)"
            ]
          },
          "metadata": {
            "tags": []
          },
          "execution_count": 107
        }
      ]
    },
    {
      "cell_type": "code",
      "metadata": {
        "colab": {
          "base_uri": "https://localhost:8080/"
        },
        "id": "HUX_pkdEkrfD",
        "outputId": "ca8f2b8e-683f-4627-c70a-4aed7daa86e3"
      },
      "source": [
        "future_global.shape"
      ],
      "execution_count": 108,
      "outputs": [
        {
          "output_type": "execute_result",
          "data": {
            "text/plain": [
              "(239, 1)"
            ]
          },
          "metadata": {
            "tags": []
          },
          "execution_count": 108
        }
      ]
    },
    {
      "cell_type": "code",
      "metadata": {
        "colab": {
          "base_uri": "https://localhost:8080/"
        },
        "id": "zBu6qvSzktdn",
        "outputId": "4945e914-2054-4804-e423-9670788fadf5"
      },
      "source": [
        "df_prophet['ds'].tail()"
      ],
      "execution_count": 109,
      "outputs": [
        {
          "output_type": "execute_result",
          "data": {
            "text/plain": [
              "227    2021-05-24 00:00:00.000\n",
              "228    2021-05-31 00:00:00.000\n",
              "229    2021-06-07 00:00:00.000\n",
              "230    2021-06-14 00:00:00.000\n",
              "231    2021-06-21 00:00:00.000\n",
              "Name: ds, dtype: object"
            ]
          },
          "metadata": {
            "tags": []
          },
          "execution_count": 109
        }
      ]
    },
    {
      "cell_type": "markdown",
      "metadata": {
        "id": "KeVg8BYmUx-w"
      },
      "source": [
        "Doing Predictions on your Future data"
      ]
    },
    {
      "cell_type": "code",
      "metadata": {
        "colab": {
          "base_uri": "https://localhost:8080/",
          "height": 444
        },
        "id": "zy3PaWTZkxP4",
        "outputId": "1711d448-d3db-4fb6-eebd-7d69af40009f"
      },
      "source": [
        "prediction =  model.predict(future_global)\n",
        "prediction"
      ],
      "execution_count": 110,
      "outputs": [
        {
          "output_type": "execute_result",
          "data": {
            "text/html": [
              "<div>\n",
              "<style scoped>\n",
              "    .dataframe tbody tr th:only-of-type {\n",
              "        vertical-align: middle;\n",
              "    }\n",
              "\n",
              "    .dataframe tbody tr th {\n",
              "        vertical-align: top;\n",
              "    }\n",
              "\n",
              "    .dataframe thead th {\n",
              "        text-align: right;\n",
              "    }\n",
              "</style>\n",
              "<table border=\"1\" class=\"dataframe\">\n",
              "  <thead>\n",
              "    <tr style=\"text-align: right;\">\n",
              "      <th></th>\n",
              "      <th>ds</th>\n",
              "      <th>trend</th>\n",
              "      <th>yhat_lower</th>\n",
              "      <th>yhat_upper</th>\n",
              "      <th>trend_lower</th>\n",
              "      <th>trend_upper</th>\n",
              "      <th>additive_terms</th>\n",
              "      <th>additive_terms_lower</th>\n",
              "      <th>additive_terms_upper</th>\n",
              "      <th>yearly</th>\n",
              "      <th>yearly_lower</th>\n",
              "      <th>yearly_upper</th>\n",
              "      <th>multiplicative_terms</th>\n",
              "      <th>multiplicative_terms_lower</th>\n",
              "      <th>multiplicative_terms_upper</th>\n",
              "      <th>yhat</th>\n",
              "    </tr>\n",
              "  </thead>\n",
              "  <tbody>\n",
              "    <tr>\n",
              "      <th>0</th>\n",
              "      <td>2016-06-20</td>\n",
              "      <td>0.050526</td>\n",
              "      <td>-0.039399</td>\n",
              "      <td>0.184808</td>\n",
              "      <td>0.050526</td>\n",
              "      <td>0.050526</td>\n",
              "      <td>0.019115</td>\n",
              "      <td>0.019115</td>\n",
              "      <td>0.019115</td>\n",
              "      <td>0.019115</td>\n",
              "      <td>0.019115</td>\n",
              "      <td>0.019115</td>\n",
              "      <td>0.0</td>\n",
              "      <td>0.0</td>\n",
              "      <td>0.0</td>\n",
              "      <td>0.069641</td>\n",
              "    </tr>\n",
              "    <tr>\n",
              "      <th>1</th>\n",
              "      <td>2016-07-11</td>\n",
              "      <td>0.051181</td>\n",
              "      <td>-0.065233</td>\n",
              "      <td>0.152134</td>\n",
              "      <td>0.051181</td>\n",
              "      <td>0.051181</td>\n",
              "      <td>-0.004243</td>\n",
              "      <td>-0.004243</td>\n",
              "      <td>-0.004243</td>\n",
              "      <td>-0.004243</td>\n",
              "      <td>-0.004243</td>\n",
              "      <td>-0.004243</td>\n",
              "      <td>0.0</td>\n",
              "      <td>0.0</td>\n",
              "      <td>0.0</td>\n",
              "      <td>0.046938</td>\n",
              "    </tr>\n",
              "    <tr>\n",
              "      <th>2</th>\n",
              "      <td>2016-08-01</td>\n",
              "      <td>0.051836</td>\n",
              "      <td>-0.068315</td>\n",
              "      <td>0.141605</td>\n",
              "      <td>0.051836</td>\n",
              "      <td>0.051836</td>\n",
              "      <td>-0.020513</td>\n",
              "      <td>-0.020513</td>\n",
              "      <td>-0.020513</td>\n",
              "      <td>-0.020513</td>\n",
              "      <td>-0.020513</td>\n",
              "      <td>-0.020513</td>\n",
              "      <td>0.0</td>\n",
              "      <td>0.0</td>\n",
              "      <td>0.0</td>\n",
              "      <td>0.031322</td>\n",
              "    </tr>\n",
              "    <tr>\n",
              "      <th>3</th>\n",
              "      <td>2016-08-08</td>\n",
              "      <td>0.052054</td>\n",
              "      <td>-0.054796</td>\n",
              "      <td>0.154426</td>\n",
              "      <td>0.052054</td>\n",
              "      <td>0.052054</td>\n",
              "      <td>-0.000967</td>\n",
              "      <td>-0.000967</td>\n",
              "      <td>-0.000967</td>\n",
              "      <td>-0.000967</td>\n",
              "      <td>-0.000967</td>\n",
              "      <td>-0.000967</td>\n",
              "      <td>0.0</td>\n",
              "      <td>0.0</td>\n",
              "      <td>0.0</td>\n",
              "      <td>0.051087</td>\n",
              "    </tr>\n",
              "    <tr>\n",
              "      <th>4</th>\n",
              "      <td>2016-08-15</td>\n",
              "      <td>0.052272</td>\n",
              "      <td>-0.043660</td>\n",
              "      <td>0.173728</td>\n",
              "      <td>0.052272</td>\n",
              "      <td>0.052272</td>\n",
              "      <td>0.014149</td>\n",
              "      <td>0.014149</td>\n",
              "      <td>0.014149</td>\n",
              "      <td>0.014149</td>\n",
              "      <td>0.014149</td>\n",
              "      <td>0.014149</td>\n",
              "      <td>0.0</td>\n",
              "      <td>0.0</td>\n",
              "      <td>0.0</td>\n",
              "      <td>0.066421</td>\n",
              "    </tr>\n",
              "    <tr>\n",
              "      <th>...</th>\n",
              "      <td>...</td>\n",
              "      <td>...</td>\n",
              "      <td>...</td>\n",
              "      <td>...</td>\n",
              "      <td>...</td>\n",
              "      <td>...</td>\n",
              "      <td>...</td>\n",
              "      <td>...</td>\n",
              "      <td>...</td>\n",
              "      <td>...</td>\n",
              "      <td>...</td>\n",
              "      <td>...</td>\n",
              "      <td>...</td>\n",
              "      <td>...</td>\n",
              "      <td>...</td>\n",
              "      <td>...</td>\n",
              "    </tr>\n",
              "    <tr>\n",
              "      <th>234</th>\n",
              "      <td>2021-06-24</td>\n",
              "      <td>0.066084</td>\n",
              "      <td>-0.018708</td>\n",
              "      <td>0.194232</td>\n",
              "      <td>0.066084</td>\n",
              "      <td>0.066084</td>\n",
              "      <td>0.015989</td>\n",
              "      <td>0.015989</td>\n",
              "      <td>0.015989</td>\n",
              "      <td>0.015989</td>\n",
              "      <td>0.015989</td>\n",
              "      <td>0.015989</td>\n",
              "      <td>0.0</td>\n",
              "      <td>0.0</td>\n",
              "      <td>0.0</td>\n",
              "      <td>0.082074</td>\n",
              "    </tr>\n",
              "    <tr>\n",
              "      <th>235</th>\n",
              "      <td>2021-06-25</td>\n",
              "      <td>0.066053</td>\n",
              "      <td>-0.024183</td>\n",
              "      <td>0.188470</td>\n",
              "      <td>0.066053</td>\n",
              "      <td>0.066053</td>\n",
              "      <td>0.015240</td>\n",
              "      <td>0.015240</td>\n",
              "      <td>0.015240</td>\n",
              "      <td>0.015240</td>\n",
              "      <td>0.015240</td>\n",
              "      <td>0.015240</td>\n",
              "      <td>0.0</td>\n",
              "      <td>0.0</td>\n",
              "      <td>0.0</td>\n",
              "      <td>0.081293</td>\n",
              "    </tr>\n",
              "    <tr>\n",
              "      <th>236</th>\n",
              "      <td>2021-06-26</td>\n",
              "      <td>0.066022</td>\n",
              "      <td>-0.033497</td>\n",
              "      <td>0.187437</td>\n",
              "      <td>0.066022</td>\n",
              "      <td>0.066022</td>\n",
              "      <td>0.014524</td>\n",
              "      <td>0.014524</td>\n",
              "      <td>0.014524</td>\n",
              "      <td>0.014524</td>\n",
              "      <td>0.014524</td>\n",
              "      <td>0.014524</td>\n",
              "      <td>0.0</td>\n",
              "      <td>0.0</td>\n",
              "      <td>0.0</td>\n",
              "      <td>0.080546</td>\n",
              "    </tr>\n",
              "    <tr>\n",
              "      <th>237</th>\n",
              "      <td>2021-06-27</td>\n",
              "      <td>0.065991</td>\n",
              "      <td>-0.029021</td>\n",
              "      <td>0.184666</td>\n",
              "      <td>0.065991</td>\n",
              "      <td>0.065991</td>\n",
              "      <td>0.013830</td>\n",
              "      <td>0.013830</td>\n",
              "      <td>0.013830</td>\n",
              "      <td>0.013830</td>\n",
              "      <td>0.013830</td>\n",
              "      <td>0.013830</td>\n",
              "      <td>0.0</td>\n",
              "      <td>0.0</td>\n",
              "      <td>0.0</td>\n",
              "      <td>0.079821</td>\n",
              "    </tr>\n",
              "    <tr>\n",
              "      <th>238</th>\n",
              "      <td>2021-06-28</td>\n",
              "      <td>0.065960</td>\n",
              "      <td>-0.030659</td>\n",
              "      <td>0.184013</td>\n",
              "      <td>0.065960</td>\n",
              "      <td>0.065960</td>\n",
              "      <td>0.013145</td>\n",
              "      <td>0.013145</td>\n",
              "      <td>0.013145</td>\n",
              "      <td>0.013145</td>\n",
              "      <td>0.013145</td>\n",
              "      <td>0.013145</td>\n",
              "      <td>0.0</td>\n",
              "      <td>0.0</td>\n",
              "      <td>0.0</td>\n",
              "      <td>0.079104</td>\n",
              "    </tr>\n",
              "  </tbody>\n",
              "</table>\n",
              "<p>239 rows × 16 columns</p>\n",
              "</div>"
            ],
            "text/plain": [
              "            ds     trend  ...  multiplicative_terms_upper      yhat\n",
              "0   2016-06-20  0.050526  ...                         0.0  0.069641\n",
              "1   2016-07-11  0.051181  ...                         0.0  0.046938\n",
              "2   2016-08-01  0.051836  ...                         0.0  0.031322\n",
              "3   2016-08-08  0.052054  ...                         0.0  0.051087\n",
              "4   2016-08-15  0.052272  ...                         0.0  0.066421\n",
              "..         ...       ...  ...                         ...       ...\n",
              "234 2021-06-24  0.066084  ...                         0.0  0.082074\n",
              "235 2021-06-25  0.066053  ...                         0.0  0.081293\n",
              "236 2021-06-26  0.066022  ...                         0.0  0.080546\n",
              "237 2021-06-27  0.065991  ...                         0.0  0.079821\n",
              "238 2021-06-28  0.065960  ...                         0.0  0.079104\n",
              "\n",
              "[239 rows x 16 columns]"
            ]
          },
          "metadata": {
            "tags": []
          },
          "execution_count": 110
        }
      ]
    },
    {
      "cell_type": "code",
      "metadata": {
        "colab": {
          "base_uri": "https://localhost:8080/",
          "height": 206
        },
        "id": "nNJeAvxuk0G-",
        "outputId": "802245d1-ecdd-4c37-f585-ab8b85e5715e"
      },
      "source": [
        "prediction[['ds', 'yhat' , 'yhat_lower', 'yhat_upper']].tail()"
      ],
      "execution_count": 111,
      "outputs": [
        {
          "output_type": "execute_result",
          "data": {
            "text/html": [
              "<div>\n",
              "<style scoped>\n",
              "    .dataframe tbody tr th:only-of-type {\n",
              "        vertical-align: middle;\n",
              "    }\n",
              "\n",
              "    .dataframe tbody tr th {\n",
              "        vertical-align: top;\n",
              "    }\n",
              "\n",
              "    .dataframe thead th {\n",
              "        text-align: right;\n",
              "    }\n",
              "</style>\n",
              "<table border=\"1\" class=\"dataframe\">\n",
              "  <thead>\n",
              "    <tr style=\"text-align: right;\">\n",
              "      <th></th>\n",
              "      <th>ds</th>\n",
              "      <th>yhat</th>\n",
              "      <th>yhat_lower</th>\n",
              "      <th>yhat_upper</th>\n",
              "    </tr>\n",
              "  </thead>\n",
              "  <tbody>\n",
              "    <tr>\n",
              "      <th>234</th>\n",
              "      <td>2021-06-24</td>\n",
              "      <td>0.082074</td>\n",
              "      <td>-0.018708</td>\n",
              "      <td>0.194232</td>\n",
              "    </tr>\n",
              "    <tr>\n",
              "      <th>235</th>\n",
              "      <td>2021-06-25</td>\n",
              "      <td>0.081293</td>\n",
              "      <td>-0.024183</td>\n",
              "      <td>0.188470</td>\n",
              "    </tr>\n",
              "    <tr>\n",
              "      <th>236</th>\n",
              "      <td>2021-06-26</td>\n",
              "      <td>0.080546</td>\n",
              "      <td>-0.033497</td>\n",
              "      <td>0.187437</td>\n",
              "    </tr>\n",
              "    <tr>\n",
              "      <th>237</th>\n",
              "      <td>2021-06-27</td>\n",
              "      <td>0.079821</td>\n",
              "      <td>-0.029021</td>\n",
              "      <td>0.184666</td>\n",
              "    </tr>\n",
              "    <tr>\n",
              "      <th>238</th>\n",
              "      <td>2021-06-28</td>\n",
              "      <td>0.079104</td>\n",
              "      <td>-0.030659</td>\n",
              "      <td>0.184013</td>\n",
              "    </tr>\n",
              "  </tbody>\n",
              "</table>\n",
              "</div>"
            ],
            "text/plain": [
              "            ds      yhat  yhat_lower  yhat_upper\n",
              "234 2021-06-24  0.082074   -0.018708    0.194232\n",
              "235 2021-06-25  0.081293   -0.024183    0.188470\n",
              "236 2021-06-26  0.080546   -0.033497    0.187437\n",
              "237 2021-06-27  0.079821   -0.029021    0.184666\n",
              "238 2021-06-28  0.079104   -0.030659    0.184013"
            ]
          },
          "metadata": {
            "tags": []
          },
          "execution_count": 111
        }
      ]
    },
    {
      "cell_type": "markdown",
      "metadata": {
        "id": "stoZU8d4U3ki"
      },
      "source": [
        "Visualise your predictions"
      ]
    },
    {
      "cell_type": "code",
      "metadata": {
        "colab": {
          "base_uri": "https://localhost:8080/",
          "height": 865
        },
        "id": "7FkStjjQk2c8",
        "outputId": "50fede18-bcbb-4dd2-fd44-d75b069d44c0"
      },
      "source": [
        "model.plot(prediction)"
      ],
      "execution_count": 112,
      "outputs": [
        {
          "output_type": "execute_result",
          "data": {
            "image/png": "[encoded data removed]",
            "text/plain": [
              "<Figure size 720x432 with 1 Axes>"
            ]
          },
          "metadata": {
            "tags": []
          },
          "execution_count": 112
        },
        {
          "output_type": "display_data",
          "data": {
            "image/png": "[encoded data removed]",
            "text/plain": [
              "<Figure size 720x432 with 1 Axes>"
            ]
          },
          "metadata": {
            "tags": []
          }
        }
      ]
    },
    {
      "cell_type": "code",
      "metadata": {
        "colab": {
          "base_uri": "https://localhost:8080/",
          "height": 867
        },
        "id": "EVzuwAVWk4fG",
        "outputId": "6a571dd0-db5d-4610-86bd-9884d42fbe77"
      },
      "source": [
        "model.plot_components(prediction)"
      ],
      "execution_count": 113,
      "outputs": [
        {
          "output_type": "execute_result",
          "data": {
            "image/png": "[encoded data removed]",
            "text/plain": [
              "<Figure size 648x432 with 2 Axes>"
            ]
          },
          "metadata": {
            "tags": []
          },
          "execution_count": 113
        },
        {
          "output_type": "display_data",
          "data": {
            "image/png": "[encoded data removed]",
            "text/plain": [
              "<Figure size 648x432 with 2 Axes>"
            ]
          },
          "metadata": {
            "tags": []
          }
        }
      ]
    },
    {
      "cell_type": "code",
      "metadata": {
        "id": "GK0yU8UdlFGJ"
      },
      "source": [
        "from fbprophet.plot import add_changepoints_to_plot"
      ],
      "execution_count": 114,
      "outputs": []
    },
    {
      "cell_type": "code",
      "metadata": {
        "colab": {
          "base_uri": "https://localhost:8080/",
          "height": 441
        },
        "id": "8HjCsM5KlLlV",
        "outputId": "b8510bfc-fdb7-4670-8c12-71d60f9c0f4c"
      },
      "source": [
        "fig = model.plot(prediction)\n",
        "a = add_changepoints_to_plot(fig.gca() , model, prediction)"
      ],
      "execution_count": 115,
      "outputs": [
        {
          "output_type": "display_data",
          "data": {
            "image/png": "[encoded data removed]",
            "text/plain": [
              "<Figure size 720x432 with 1 Axes>"
            ]
          },
          "metadata": {
            "tags": []
          }
        }
      ]
    },
    {
      "cell_type": "markdown",
      "metadata": {
        "id": "pES3Pd4DVEcS"
      },
      "source": [
        "Cross Validating your time series data"
      ]
    },
    {
      "cell_type": "code",
      "metadata": {
        "id": "0XKiOvRflNH9"
      },
      "source": [
        "from fbprophet.diagnostics import cross_validation"
      ],
      "execution_count": 116,
      "outputs": []
    },
    {
      "cell_type": "code",
      "metadata": {
        "colab": {
          "base_uri": "https://localhost:8080/",
          "height": 86,
          "referenced_widgets": [
            "7a44e352a11e440a940b2e9f85e94de6",
            "dee601bfe9aa4d208714877ea8de2734",
            "026028925e8348dbbc5153f6ea5fb828",
            "451c88561c7e494ba47e85266de2af7c",
            "31943521ea614c888ab2ee93a6546e65",
            "ce44ac0e7f134f95bf2c0106b0b84b79",
            "05db32f7c5774c82889869f925e4ced8",
            "b8c205960e3b4199942bd6aa9eab3d6a"
          ]
        },
        "id": "tjuDarbEliKV",
        "outputId": "fc4f41ce-ebef-46d8-c8d4-eb5f89b2db47"
      },
      "source": [
        "df_cv = cross_validation(model , horizon='30 days', period='15 days',initial='366 days' )"
      ],
      "execution_count": 126,
      "outputs": [
        {
          "output_type": "stream",
          "text": [
            "INFO:fbprophet:Making 93 forecasts with cutoffs between 2017-07-02 00:00:00 and 2021-05-22 00:00:00\n"
          ],
          "name": "stderr"
        },
        {
          "output_type": "display_data",
          "data": {
            "application/vnd.jupyter.widget-view+json": {
              "model_id": "7a44e352a11e440a940b2e9f85e94de6",
              "version_minor": 0,
              "version_major": 2
            },
            "text/plain": [
              "HBox(children=(FloatProgress(value=0.0, max=93.0), HTML(value='')))"
            ]
          },
          "metadata": {
            "tags": []
          }
        },
        {
          "output_type": "stream",
          "text": [
            "\n"
          ],
          "name": "stdout"
        }
      ]
    },
    {
      "cell_type": "code",
      "metadata": {
        "colab": {
          "base_uri": "https://localhost:8080/",
          "height": 206
        },
        "id": "Nkmv2U4RllW-",
        "outputId": "f92e82ea-3e7c-4b1a-ef9f-3ad87d58b4b2"
      },
      "source": [
        "df_cv.head()"
      ],
      "execution_count": 127,
      "outputs": [
        {
          "output_type": "execute_result",
          "data": {
            "text/html": [
              "<div>\n",
              "<style scoped>\n",
              "    .dataframe tbody tr th:only-of-type {\n",
              "        vertical-align: middle;\n",
              "    }\n",
              "\n",
              "    .dataframe tbody tr th {\n",
              "        vertical-align: top;\n",
              "    }\n",
              "\n",
              "    .dataframe thead th {\n",
              "        text-align: right;\n",
              "    }\n",
              "</style>\n",
              "<table border=\"1\" class=\"dataframe\">\n",
              "  <thead>\n",
              "    <tr style=\"text-align: right;\">\n",
              "      <th></th>\n",
              "      <th>ds</th>\n",
              "      <th>yhat</th>\n",
              "      <th>yhat_lower</th>\n",
              "      <th>yhat_upper</th>\n",
              "      <th>y</th>\n",
              "      <th>cutoff</th>\n",
              "    </tr>\n",
              "  </thead>\n",
              "  <tbody>\n",
              "    <tr>\n",
              "      <th>0</th>\n",
              "      <td>2017-07-03</td>\n",
              "      <td>0.227343</td>\n",
              "      <td>0.177425</td>\n",
              "      <td>0.276273</td>\n",
              "      <td>0.009390</td>\n",
              "      <td>2017-07-02</td>\n",
              "    </tr>\n",
              "    <tr>\n",
              "      <th>1</th>\n",
              "      <td>2017-07-10</td>\n",
              "      <td>0.169198</td>\n",
              "      <td>0.113846</td>\n",
              "      <td>0.220907</td>\n",
              "      <td>0.009390</td>\n",
              "      <td>2017-07-02</td>\n",
              "    </tr>\n",
              "    <tr>\n",
              "      <th>2</th>\n",
              "      <td>2017-07-17</td>\n",
              "      <td>0.114298</td>\n",
              "      <td>0.062866</td>\n",
              "      <td>0.165949</td>\n",
              "      <td>0.014085</td>\n",
              "      <td>2017-07-02</td>\n",
              "    </tr>\n",
              "    <tr>\n",
              "      <th>3</th>\n",
              "      <td>2017-07-24</td>\n",
              "      <td>0.111465</td>\n",
              "      <td>0.062534</td>\n",
              "      <td>0.163044</td>\n",
              "      <td>0.037559</td>\n",
              "      <td>2017-07-02</td>\n",
              "    </tr>\n",
              "    <tr>\n",
              "      <th>4</th>\n",
              "      <td>2017-07-24</td>\n",
              "      <td>0.034563</td>\n",
              "      <td>-0.017602</td>\n",
              "      <td>0.091277</td>\n",
              "      <td>0.037559</td>\n",
              "      <td>2017-07-17</td>\n",
              "    </tr>\n",
              "  </tbody>\n",
              "</table>\n",
              "</div>"
            ],
            "text/plain": [
              "          ds      yhat  yhat_lower  yhat_upper         y     cutoff\n",
              "0 2017-07-03  0.227343    0.177425    0.276273  0.009390 2017-07-02\n",
              "1 2017-07-10  0.169198    0.113846    0.220907  0.009390 2017-07-02\n",
              "2 2017-07-17  0.114298    0.062866    0.165949  0.014085 2017-07-02\n",
              "3 2017-07-24  0.111465    0.062534    0.163044  0.037559 2017-07-02\n",
              "4 2017-07-24  0.034563   -0.017602    0.091277  0.037559 2017-07-17"
            ]
          },
          "metadata": {
            "tags": []
          },
          "execution_count": 127
        }
      ]
    },
    {
      "cell_type": "markdown",
      "metadata": {
        "id": "YVhD7_y_VOkX"
      },
      "source": [
        " Obtain Performance metrics for my data"
      ]
    },
    {
      "cell_type": "code",
      "metadata": {
        "id": "V4QQD-gkmgED"
      },
      "source": [
        "from fbprophet.diagnostics import performance_metrics"
      ],
      "execution_count": 128,
      "outputs": []
    },
    {
      "cell_type": "code",
      "metadata": {
        "colab": {
          "base_uri": "https://localhost:8080/",
          "height": 225
        },
        "id": "mpVa0RkMmjaG",
        "outputId": "21dc1baf-c36f-4b1e-c113-599d7b9c2764"
      },
      "source": [
        "df_performance = performance_metrics(df_cv)\n",
        "df_performance.head()"
      ],
      "execution_count": 129,
      "outputs": [
        {
          "output_type": "stream",
          "text": [
            "INFO:fbprophet:Skipping MAPE because y close to 0\n"
          ],
          "name": "stderr"
        },
        {
          "output_type": "execute_result",
          "data": {
            "text/html": [
              "<div>\n",
              "<style scoped>\n",
              "    .dataframe tbody tr th:only-of-type {\n",
              "        vertical-align: middle;\n",
              "    }\n",
              "\n",
              "    .dataframe tbody tr th {\n",
              "        vertical-align: top;\n",
              "    }\n",
              "\n",
              "    .dataframe thead th {\n",
              "        text-align: right;\n",
              "    }\n",
              "</style>\n",
              "<table border=\"1\" class=\"dataframe\">\n",
              "  <thead>\n",
              "    <tr style=\"text-align: right;\">\n",
              "      <th></th>\n",
              "      <th>horizon</th>\n",
              "      <th>mse</th>\n",
              "      <th>rmse</th>\n",
              "      <th>mae</th>\n",
              "      <th>mdape</th>\n",
              "      <th>coverage</th>\n",
              "    </tr>\n",
              "  </thead>\n",
              "  <tbody>\n",
              "    <tr>\n",
              "      <th>0</th>\n",
              "      <td>3 days</td>\n",
              "      <td>0.004373</td>\n",
              "      <td>0.066127</td>\n",
              "      <td>0.048289</td>\n",
              "      <td>0.612854</td>\n",
              "      <td>0.814969</td>\n",
              "    </tr>\n",
              "    <tr>\n",
              "      <th>1</th>\n",
              "      <td>4 days</td>\n",
              "      <td>0.003863</td>\n",
              "      <td>0.062150</td>\n",
              "      <td>0.047525</td>\n",
              "      <td>0.566825</td>\n",
              "      <td>0.810811</td>\n",
              "    </tr>\n",
              "    <tr>\n",
              "      <th>2</th>\n",
              "      <td>5 days</td>\n",
              "      <td>0.003859</td>\n",
              "      <td>0.062119</td>\n",
              "      <td>0.048926</td>\n",
              "      <td>0.471170</td>\n",
              "      <td>0.833680</td>\n",
              "    </tr>\n",
              "    <tr>\n",
              "      <th>3</th>\n",
              "      <td>6 days</td>\n",
              "      <td>0.004779</td>\n",
              "      <td>0.069128</td>\n",
              "      <td>0.050305</td>\n",
              "      <td>0.471170</td>\n",
              "      <td>0.851351</td>\n",
              "    </tr>\n",
              "    <tr>\n",
              "      <th>4</th>\n",
              "      <td>7 days</td>\n",
              "      <td>0.004350</td>\n",
              "      <td>0.065957</td>\n",
              "      <td>0.049323</td>\n",
              "      <td>0.667837</td>\n",
              "      <td>0.882883</td>\n",
              "    </tr>\n",
              "  </tbody>\n",
              "</table>\n",
              "</div>"
            ],
            "text/plain": [
              "  horizon       mse      rmse       mae     mdape  coverage\n",
              "0  3 days  0.004373  0.066127  0.048289  0.612854  0.814969\n",
              "1  4 days  0.003863  0.062150  0.047525  0.566825  0.810811\n",
              "2  5 days  0.003859  0.062119  0.048926  0.471170  0.833680\n",
              "3  6 days  0.004779  0.069128  0.050305  0.471170  0.851351\n",
              "4  7 days  0.004350  0.065957  0.049323  0.667837  0.882883"
            ]
          },
          "metadata": {
            "tags": []
          },
          "execution_count": 129
        }
      ]
    },
    {
      "cell_type": "code",
      "metadata": {
        "colab": {
          "base_uri": "https://localhost:8080/",
          "height": 388
        },
        "id": "6DpojWNjmmN5",
        "outputId": "4583a18f-0f9b-4971-996e-43701eee82c6"
      },
      "source": [
        "from fbprophet.plot import plot_cross_validation_metric\n",
        "df_performance = plot_cross_validation_metric(df_cv,metric='rmse')"
      ],
      "execution_count": 130,
      "outputs": [
        {
          "output_type": "display_data",
          "data": {
            "image/png": "[encoded data removed]",
            "text/plain": [
              "<Figure size 720x432 with 1 Axes>"
            ]
          },
          "metadata": {
            "tags": []
          }
        }
      ]
    },
    {
      "cell_type": "code",
      "metadata": {
        "colab": {
          "base_uri": "https://localhost:8080/",
          "height": 388
        },
        "id": "qsUYGWK8momP",
        "outputId": "7c0d66fc-fc28-44b6-b907-63929133318f"
      },
      "source": [
        "df_performance = plot_cross_validation_metric(df_cv,metric='mse')"
      ],
      "execution_count": 131,
      "outputs": [
        {
          "output_type": "display_data",
          "data": {
            "image/png": "[encoded data removed]",
            "text/plain": [
              "<Figure size 720x432 with 1 Axes>"
            ]
          },
          "metadata": {
            "tags": []
          }
        }
      ]
    },
    {
      "cell_type": "code",
      "metadata": {
        "id": "wu3G5RU4RGro"
      },
      "source": [
        ""
      ],
      "execution_count": null,
      "outputs": []
    }
  ]
}