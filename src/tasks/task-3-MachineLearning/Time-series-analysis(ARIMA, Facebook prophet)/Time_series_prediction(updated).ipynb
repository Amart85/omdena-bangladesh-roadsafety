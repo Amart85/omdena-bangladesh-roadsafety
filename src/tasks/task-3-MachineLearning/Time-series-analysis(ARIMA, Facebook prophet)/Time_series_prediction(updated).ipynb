{
  "nbformat": 4,
  "nbformat_minor": 0,
  "metadata": {
    "colab": {
      "name": "Time-series_prediction.ipynb",
      "provenance": []
    },
    "kernelspec": {
      "name": "python3",
      "display_name": "Python 3"
    },
    "language_info": {
      "name": "python"
    },
    "widgets": {
      "application/vnd.jupyter.widget-state+json": {
        "8e62ca0fe0ad41499cd3a8e724b0c8c0": {
          "model_module": "@jupyter-widgets/controls",
          "model_name": "HBoxModel",
          "state": {
            "_view_name": "HBoxView",
            "_dom_classes": [],
            "_model_name": "HBoxModel",
            "_view_module": "@jupyter-widgets/controls",
            "_model_module_version": "1.5.0",
            "_view_count": null,
            "_view_module_version": "1.5.0",
            "box_style": "",
            "layout": "IPY_MODEL_a5081f7e90db4e5fae4776d4940fccb3",
            "_model_module": "@jupyter-widgets/controls",
            "children": [
              "IPY_MODEL_c3bee97e4934423e82addb266b567cb7",
              "IPY_MODEL_e736b37fdfa74f9daf7443d2a352d370"
            ]
          }
        },
        "a5081f7e90db4e5fae4776d4940fccb3": {
          "model_module": "@jupyter-widgets/base",
          "model_name": "LayoutModel",
          "state": {
            "_view_name": "LayoutView",
            "grid_template_rows": null,
            "right": null,
            "justify_content": null,
            "_view_module": "@jupyter-widgets/base",
            "overflow": null,
            "_model_module_version": "1.2.0",
            "_view_count": null,
            "flex_flow": null,
            "width": null,
            "min_width": null,
            "border": null,
            "align_items": null,
            "bottom": null,
            "_model_module": "@jupyter-widgets/base",
            "top": null,
            "grid_column": null,
            "overflow_y": null,
            "overflow_x": null,
            "grid_auto_flow": null,
            "grid_area": null,
            "grid_template_columns": null,
            "flex": null,
            "_model_name": "LayoutModel",
            "justify_items": null,
            "grid_row": null,
            "max_height": null,
            "align_content": null,
            "visibility": null,
            "align_self": null,
            "height": null,
            "min_height": null,
            "padding": null,
            "grid_auto_rows": null,
            "grid_gap": null,
            "max_width": null,
            "order": null,
            "_view_module_version": "1.2.0",
            "grid_template_areas": null,
            "object_position": null,
            "object_fit": null,
            "grid_auto_columns": null,
            "margin": null,
            "display": null,
            "left": null
          }
        },
        "c3bee97e4934423e82addb266b567cb7": {
          "model_module": "@jupyter-widgets/controls",
          "model_name": "FloatProgressModel",
          "state": {
            "_view_name": "ProgressView",
            "style": "IPY_MODEL_fb2f6ad7198e45c68856205ca09a576c",
            "_dom_classes": [],
            "description": "100%",
            "_model_name": "FloatProgressModel",
            "bar_style": "success",
            "max": 368,
            "_view_module": "@jupyter-widgets/controls",
            "_model_module_version": "1.5.0",
            "value": 368,
            "_view_count": null,
            "_view_module_version": "1.5.0",
            "orientation": "horizontal",
            "min": 0,
            "description_tooltip": null,
            "_model_module": "@jupyter-widgets/controls",
            "layout": "IPY_MODEL_d532798af0ec4ae387f22f385e120193"
          }
        },
        "e736b37fdfa74f9daf7443d2a352d370": {
          "model_module": "@jupyter-widgets/controls",
          "model_name": "HTMLModel",
          "state": {
            "_view_name": "HTMLView",
            "style": "IPY_MODEL_b6699bccbfba486187bc4d4b65aa76f4",
            "_dom_classes": [],
            "description": "",
            "_model_name": "HTMLModel",
            "placeholder": "​",
            "_view_module": "@jupyter-widgets/controls",
            "_model_module_version": "1.5.0",
            "value": " 368/368 [12:35&lt;00:00,  2.05s/it]",
            "_view_count": null,
            "_view_module_version": "1.5.0",
            "description_tooltip": null,
            "_model_module": "@jupyter-widgets/controls",
            "layout": "IPY_MODEL_08680cf9d7964cf5901c159b04ca85ad"
          }
        },
        "fb2f6ad7198e45c68856205ca09a576c": {
          "model_module": "@jupyter-widgets/controls",
          "model_name": "ProgressStyleModel",
          "state": {
            "_view_name": "StyleView",
            "_model_name": "ProgressStyleModel",
            "description_width": "initial",
            "_view_module": "@jupyter-widgets/base",
            "_model_module_version": "1.5.0",
            "_view_count": null,
            "_view_module_version": "1.2.0",
            "bar_color": null,
            "_model_module": "@jupyter-widgets/controls"
          }
        },
        "d532798af0ec4ae387f22f385e120193": {
          "model_module": "@jupyter-widgets/base",
          "model_name": "LayoutModel",
          "state": {
            "_view_name": "LayoutView",
            "grid_template_rows": null,
            "right": null,
            "justify_content": null,
            "_view_module": "@jupyter-widgets/base",
            "overflow": null,
            "_model_module_version": "1.2.0",
            "_view_count": null,
            "flex_flow": null,
            "width": null,
            "min_width": null,
            "border": null,
            "align_items": null,
            "bottom": null,
            "_model_module": "@jupyter-widgets/base",
            "top": null,
            "grid_column": null,
            "overflow_y": null,
            "overflow_x": null,
            "grid_auto_flow": null,
            "grid_area": null,
            "grid_template_columns": null,
            "flex": null,
            "_model_name": "LayoutModel",
            "justify_items": null,
            "grid_row": null,
            "max_height": null,
            "align_content": null,
            "visibility": null,
            "align_self": null,
            "height": null,
            "min_height": null,
            "padding": null,
            "grid_auto_rows": null,
            "grid_gap": null,
            "max_width": null,
            "order": null,
            "_view_module_version": "1.2.0",
            "grid_template_areas": null,
            "object_position": null,
            "object_fit": null,
            "grid_auto_columns": null,
            "margin": null,
            "display": null,
            "left": null
          }
        },
        "b6699bccbfba486187bc4d4b65aa76f4": {
          "model_module": "@jupyter-widgets/controls",
          "model_name": "DescriptionStyleModel",
          "state": {
            "_view_name": "StyleView",
            "_model_name": "DescriptionStyleModel",
            "description_width": "",
            "_view_module": "@jupyter-widgets/base",
            "_model_module_version": "1.5.0",
            "_view_count": null,
            "_view_module_version": "1.2.0",
            "_model_module": "@jupyter-widgets/controls"
          }
        },
        "08680cf9d7964cf5901c159b04ca85ad": {
          "model_module": "@jupyter-widgets/base",
          "model_name": "LayoutModel",
          "state": {
            "_view_name": "LayoutView",
            "grid_template_rows": null,
            "right": null,
            "justify_content": null,
            "_view_module": "@jupyter-widgets/base",
            "overflow": null,
            "_model_module_version": "1.2.0",
            "_view_count": null,
            "flex_flow": null,
            "width": null,
            "min_width": null,
            "border": null,
            "align_items": null,
            "bottom": null,
            "_model_module": "@jupyter-widgets/base",
            "top": null,
            "grid_column": null,
            "overflow_y": null,
            "overflow_x": null,
            "grid_auto_flow": null,
            "grid_area": null,
            "grid_template_columns": null,
            "flex": null,
            "_model_name": "LayoutModel",
            "justify_items": null,
            "grid_row": null,
            "max_height": null,
            "align_content": null,
            "visibility": null,
            "align_self": null,
            "height": null,
            "min_height": null,
            "padding": null,
            "grid_auto_rows": null,
            "grid_gap": null,
            "max_width": null,
            "order": null,
            "_view_module_version": "1.2.0",
            "grid_template_areas": null,
            "object_position": null,
            "object_fit": null,
            "grid_auto_columns": null,
            "margin": null,
            "display": null,
            "left": null
          }
        }
      }
    }
  },
  "cells": [
    {
      "cell_type": "code",
      "metadata": {
        "id": "wqmGgVUfqtnC"
      },
      "source": [
        "import pandas as pd\n",
        "import numpy as np\n",
        "import plotly.express as px\n",
        "import seaborn as sns\n",
        "import matplotlib.pyplot as plt\n",
        "import datetime\n",
        "from sklearn.preprocessing import MinMaxScaler \n"
      ],
      "execution_count": null,
      "outputs": []
    },
    {
      "cell_type": "code",
      "metadata": {
        "colab": {
          "base_uri": "https://localhost:8080/"
        },
        "id": "Hwg4HNPFrvbD",
        "outputId": "c337da29-3913-4044-8a64-cdc793462be3"
      },
      "source": [
        "from google.colab import drive\n",
        "drive.mount('/content/drive')"
      ],
      "execution_count": null,
      "outputs": [
        {
          "output_type": "stream",
          "text": [
            "Drive already mounted at /content/drive; to attempt to forcibly remount, call drive.mount(\"/content/drive\", force_remount=True).\n"
          ],
          "name": "stdout"
        }
      ]
    },
    {
      "cell_type": "code",
      "metadata": {
        "id": "zBuyF8HbrovJ"
      },
      "source": [
        "df = pd.read_csv(\"/content/drive/MyDrive/Colab Notebooks/omdena-time-series-analysis/data/Dhaka Tribune Complete Data.csv\")"
      ],
      "execution_count": null,
      "outputs": []
    },
    {
      "cell_type": "code",
      "metadata": {
        "colab": {
          "base_uri": "https://localhost:8080/",
          "height": 206
        },
        "id": "T3cdbCZosKLq",
        "outputId": "5773f4bc-7dee-4e5b-9fa5-2f530b426e63"
      },
      "source": [
        "df.head()"
      ],
      "execution_count": null,
      "outputs": [
        {
          "output_type": "execute_result",
          "data": {
            "text/html": [
              "<div>\n",
              "<style scoped>\n",
              "    .dataframe tbody tr th:only-of-type {\n",
              "        vertical-align: middle;\n",
              "    }\n",
              "\n",
              "    .dataframe tbody tr th {\n",
              "        vertical-align: top;\n",
              "    }\n",
              "\n",
              "    .dataframe thead th {\n",
              "        text-align: right;\n",
              "    }\n",
              "</style>\n",
              "<table border=\"1\" class=\"dataframe\">\n",
              "  <thead>\n",
              "    <tr style=\"text-align: right;\">\n",
              "      <th></th>\n",
              "      <th>Unnamed: 0</th>\n",
              "      <th>Newspaper Name</th>\n",
              "      <th>Accident date</th>\n",
              "      <th>Header</th>\n",
              "      <th>News title</th>\n",
              "      <th>Deaths</th>\n",
              "      <th>Injured</th>\n",
              "    </tr>\n",
              "  </thead>\n",
              "  <tbody>\n",
              "    <tr>\n",
              "      <th>0</th>\n",
              "      <td>0</td>\n",
              "      <td>Dhaka Tribune</td>\n",
              "      <td>Jun 26 2021</td>\n",
              "      <td>Two labourers killed in Dhaka road accident</td>\n",
              "      <td>2 killed in Dhaka road crash</td>\n",
              "      <td>2.0</td>\n",
              "      <td>2</td>\n",
              "    </tr>\n",
              "    <tr>\n",
              "      <th>1</th>\n",
              "      <td>1</td>\n",
              "      <td>Dhaka Tribune</td>\n",
              "      <td>Jun 23 2021</td>\n",
              "      <td>Three killed in Muktagacha road accident</td>\n",
              "      <td>Three killed in Muktagacha road...</td>\n",
              "      <td>3.0</td>\n",
              "      <td>0</td>\n",
              "    </tr>\n",
              "    <tr>\n",
              "      <th>2</th>\n",
              "      <td>2</td>\n",
              "      <td>Dhaka Tribune</td>\n",
              "      <td>Jun 19 2021</td>\n",
              "      <td>Truck-pickup van collision leaves 3 dead in Na...</td>\n",
              "      <td>Truck-pickup van collision leaves 3...</td>\n",
              "      <td>3.0</td>\n",
              "      <td>0</td>\n",
              "    </tr>\n",
              "    <tr>\n",
              "      <th>3</th>\n",
              "      <td>3</td>\n",
              "      <td>Dhaka Tribune</td>\n",
              "      <td>Jun 19 2021</td>\n",
              "      <td>Couple, infant grandson killed in Bogra bus-au...</td>\n",
              "      <td>Bogra road crash kills 3</td>\n",
              "      <td>3.0</td>\n",
              "      <td>0</td>\n",
              "    </tr>\n",
              "    <tr>\n",
              "      <th>4</th>\n",
              "      <td>4</td>\n",
              "      <td>Dhaka Tribune</td>\n",
              "      <td>Jun 19 2021</td>\n",
              "      <td>Policeman killed in Dhaka road accident</td>\n",
              "      <td>Cop killed in Dhaka road crash</td>\n",
              "      <td>1.0</td>\n",
              "      <td>0</td>\n",
              "    </tr>\n",
              "  </tbody>\n",
              "</table>\n",
              "</div>"
            ],
            "text/plain": [
              "   Unnamed: 0 Newspaper Name  ... Deaths Injured\n",
              "0           0  Dhaka Tribune  ...    2.0       2\n",
              "1           1  Dhaka Tribune  ...    3.0       0\n",
              "2           2  Dhaka Tribune  ...    3.0       0\n",
              "3           3  Dhaka Tribune  ...    3.0       0\n",
              "4           4  Dhaka Tribune  ...    1.0       0\n",
              "\n",
              "[5 rows x 7 columns]"
            ]
          },
          "metadata": {
            "tags": []
          },
          "execution_count": 71
        }
      ]
    },
    {
      "cell_type": "code",
      "metadata": {
        "colab": {
          "base_uri": "https://localhost:8080/"
        },
        "id": "aTZ7YMGH0lsu",
        "outputId": "ad7a9d18-439d-485a-a735-80fb50f00386"
      },
      "source": [
        "df.shape"
      ],
      "execution_count": null,
      "outputs": [
        {
          "output_type": "execute_result",
          "data": {
            "text/plain": [
              "(776, 7)"
            ]
          },
          "metadata": {
            "tags": []
          },
          "execution_count": 72
        }
      ]
    },
    {
      "cell_type": "code",
      "metadata": {
        "id": "WjDPoaNXqhvT"
      },
      "source": [
        "def convert_daily(df):\n",
        "  start = datetime.datetime(2016,6,1)\n",
        "  end = datetime.datetime(2021,6,1)\n",
        "  index = pd.date_range(start, end).to_list()\n",
        "  date = pd.DataFrame(index)\n",
        "  date.columns = ['Date']\n",
        "  df1 = df[['Accident date','Deaths']]\n",
        "  result = pd.merge(date, df1, how=\"left\",left_on='Date', right_on='Accident date')\n",
        "  result.drop(columns='Accident date',inplace=True)\n",
        "  result.fillna(0)\n",
        "  return result"
      ],
      "execution_count": null,
      "outputs": []
    },
    {
      "cell_type": "code",
      "metadata": {
        "colab": {
          "base_uri": "https://localhost:8080/"
        },
        "id": "QKI4UZ_jNJwS",
        "outputId": "f0aff2a3-50c7-4b81-e791-6a94a9da51c5"
      },
      "source": [
        "df.fillna(0,inplace=True)\n",
        "df.isna().sum()"
      ],
      "execution_count": null,
      "outputs": [
        {
          "output_type": "execute_result",
          "data": {
            "text/plain": [
              "Unnamed: 0        0\n",
              "Newspaper Name    0\n",
              "Accident date     0\n",
              "Header            0\n",
              "News title        0\n",
              "Deaths            0\n",
              "Injured           0\n",
              "dtype: int64"
            ]
          },
          "metadata": {
            "tags": []
          },
          "execution_count": 74
        }
      ]
    },
    {
      "cell_type": "code",
      "metadata": {
        "colab": {
          "base_uri": "https://localhost:8080/"
        },
        "id": "mU1KHueFLKb_",
        "outputId": "6a294314-7290-4d1b-d47f-7f7758a97dd2"
      },
      "source": [
        "print(df.dtypes)"
      ],
      "execution_count": null,
      "outputs": [
        {
          "output_type": "stream",
          "text": [
            "Unnamed: 0          int64\n",
            "Newspaper Name     object\n",
            "Accident date      object\n",
            "Header             object\n",
            "News title         object\n",
            "Deaths            float64\n",
            "Injured             int64\n",
            "dtype: object\n"
          ],
          "name": "stdout"
        }
      ]
    },
    {
      "cell_type": "code",
      "metadata": {
        "id": "RdCLcuktsMKs"
      },
      "source": [
        "df['Accident date'] = pd.to_datetime(df['Accident date'])\n",
        "df['month_year'] = pd.to_datetime(df['Accident date']).dt.to_period('M')    # monthly basic  (fatched month and year in a row from individual date row.) \n",
        "df['week_month_year'] = pd.to_datetime(df['Accident date']).dt.to_period('w')  # weekly basic (fatched first date of week and last date of week in a row from individual date row.)"
      ],
      "execution_count": null,
      "outputs": []
    },
    {
      "cell_type": "code",
      "metadata": {
        "colab": {
          "base_uri": "https://localhost:8080/",
          "height": 206
        },
        "id": "U9W-OcINUSRk",
        "outputId": "21938fc2-7793-4001-e941-c0f55cadb671"
      },
      "source": [
        "df.head()"
      ],
      "execution_count": null,
      "outputs": [
        {
          "output_type": "execute_result",
          "data": {
            "text/html": [
              "<div>\n",
              "<style scoped>\n",
              "    .dataframe tbody tr th:only-of-type {\n",
              "        vertical-align: middle;\n",
              "    }\n",
              "\n",
              "    .dataframe tbody tr th {\n",
              "        vertical-align: top;\n",
              "    }\n",
              "\n",
              "    .dataframe thead th {\n",
              "        text-align: right;\n",
              "    }\n",
              "</style>\n",
              "<table border=\"1\" class=\"dataframe\">\n",
              "  <thead>\n",
              "    <tr style=\"text-align: right;\">\n",
              "      <th></th>\n",
              "      <th>Unnamed: 0</th>\n",
              "      <th>Newspaper Name</th>\n",
              "      <th>Accident date</th>\n",
              "      <th>Header</th>\n",
              "      <th>News title</th>\n",
              "      <th>Deaths</th>\n",
              "      <th>Injured</th>\n",
              "      <th>month_year</th>\n",
              "      <th>week_month_year</th>\n",
              "    </tr>\n",
              "  </thead>\n",
              "  <tbody>\n",
              "    <tr>\n",
              "      <th>0</th>\n",
              "      <td>0</td>\n",
              "      <td>Dhaka Tribune</td>\n",
              "      <td>2021-06-26</td>\n",
              "      <td>Two labourers killed in Dhaka road accident</td>\n",
              "      <td>2 killed in Dhaka road crash</td>\n",
              "      <td>2.0</td>\n",
              "      <td>2</td>\n",
              "      <td>2021-06</td>\n",
              "      <td>2021-06-21/2021-06-27</td>\n",
              "    </tr>\n",
              "    <tr>\n",
              "      <th>1</th>\n",
              "      <td>1</td>\n",
              "      <td>Dhaka Tribune</td>\n",
              "      <td>2021-06-23</td>\n",
              "      <td>Three killed in Muktagacha road accident</td>\n",
              "      <td>Three killed in Muktagacha road...</td>\n",
              "      <td>3.0</td>\n",
              "      <td>0</td>\n",
              "      <td>2021-06</td>\n",
              "      <td>2021-06-21/2021-06-27</td>\n",
              "    </tr>\n",
              "    <tr>\n",
              "      <th>2</th>\n",
              "      <td>2</td>\n",
              "      <td>Dhaka Tribune</td>\n",
              "      <td>2021-06-19</td>\n",
              "      <td>Truck-pickup van collision leaves 3 dead in Na...</td>\n",
              "      <td>Truck-pickup van collision leaves 3...</td>\n",
              "      <td>3.0</td>\n",
              "      <td>0</td>\n",
              "      <td>2021-06</td>\n",
              "      <td>2021-06-14/2021-06-20</td>\n",
              "    </tr>\n",
              "    <tr>\n",
              "      <th>3</th>\n",
              "      <td>3</td>\n",
              "      <td>Dhaka Tribune</td>\n",
              "      <td>2021-06-19</td>\n",
              "      <td>Couple, infant grandson killed in Bogra bus-au...</td>\n",
              "      <td>Bogra road crash kills 3</td>\n",
              "      <td>3.0</td>\n",
              "      <td>0</td>\n",
              "      <td>2021-06</td>\n",
              "      <td>2021-06-14/2021-06-20</td>\n",
              "    </tr>\n",
              "    <tr>\n",
              "      <th>4</th>\n",
              "      <td>4</td>\n",
              "      <td>Dhaka Tribune</td>\n",
              "      <td>2021-06-19</td>\n",
              "      <td>Policeman killed in Dhaka road accident</td>\n",
              "      <td>Cop killed in Dhaka road crash</td>\n",
              "      <td>1.0</td>\n",
              "      <td>0</td>\n",
              "      <td>2021-06</td>\n",
              "      <td>2021-06-14/2021-06-20</td>\n",
              "    </tr>\n",
              "  </tbody>\n",
              "</table>\n",
              "</div>"
            ],
            "text/plain": [
              "   Unnamed: 0 Newspaper Name  ... month_year        week_month_year\n",
              "0           0  Dhaka Tribune  ...    2021-06  2021-06-21/2021-06-27\n",
              "1           1  Dhaka Tribune  ...    2021-06  2021-06-21/2021-06-27\n",
              "2           2  Dhaka Tribune  ...    2021-06  2021-06-14/2021-06-20\n",
              "3           3  Dhaka Tribune  ...    2021-06  2021-06-14/2021-06-20\n",
              "4           4  Dhaka Tribune  ...    2021-06  2021-06-14/2021-06-20\n",
              "\n",
              "[5 rows x 9 columns]"
            ]
          },
          "metadata": {
            "tags": []
          },
          "execution_count": 77
        }
      ]
    },
    {
      "cell_type": "code",
      "metadata": {
        "id": "XPtoDD_JsP8d"
      },
      "source": [
        "#temp =df.groupby(['month_year'],as_index = False)['Deaths'].sum() # monthly operation\n",
        "\n",
        "temp =df.groupby(['week_month_year'],as_index = False)['Deaths'].sum() #weekly operation"
      ],
      "execution_count": null,
      "outputs": []
    },
    {
      "cell_type": "code",
      "metadata": {
        "colab": {
          "base_uri": "https://localhost:8080/"
        },
        "id": "I4U7Og7PWi1I",
        "outputId": "cd79e218-77e0-41bc-8c3b-cd46b3cfff6e"
      },
      "source": [
        "temp.shape"
      ],
      "execution_count": null,
      "outputs": [
        {
          "output_type": "execute_result",
          "data": {
            "text/plain": [
              "(232, 2)"
            ]
          },
          "metadata": {
            "tags": []
          },
          "execution_count": 79
        }
      ]
    },
    {
      "cell_type": "code",
      "metadata": {
        "colab": {
          "base_uri": "https://localhost:8080/",
          "height": 298
        },
        "id": "ma_YrvtrDgwK",
        "outputId": "1cba9795-4c99-4f2f-f793-c02ecfaeca30"
      },
      "source": [
        "temp.plot(x='week_month_year')"
      ],
      "execution_count": null,
      "outputs": [
        {
          "output_type": "execute_result",
          "data": {
            "text/plain": [
              "<matplotlib.axes._subplots.AxesSubplot at 0x7f9010a14490>"
            ]
          },
          "metadata": {
            "tags": []
          },
          "execution_count": 80
        },
        {
          "output_type": "display_data",
          "data": {
            "image/png": "[encoded data removed]",
            "text/plain": [
              "<Figure size 432x288 with 1 Axes>"
            ]
          },
          "metadata": {
            "tags": [],
            "needs_background": "light"
          }
        }
      ]
    },
    {
      "cell_type": "code",
      "metadata": {
        "colab": {
          "base_uri": "https://localhost:8080/"
        },
        "id": "Pkkn7VZgU72l",
        "outputId": "f76c906f-8a13-4aaf-e612-d3405d8edb78"
      },
      "source": [
        "print(temp.shape)\n"
      ],
      "execution_count": null,
      "outputs": [
        {
          "output_type": "stream",
          "text": [
            "(232, 2)\n"
          ],
          "name": "stdout"
        }
      ]
    },
    {
      "cell_type": "markdown",
      "metadata": {
        "id": "z_guHj9S1jU9"
      },
      "source": [
        "# perform Data Pre-Processing on data and make  it ready time series model"
      ]
    },
    {
      "cell_type": "code",
      "metadata": {
        "id": "2A4OM-F64Ec5"
      },
      "source": [
        "temp.set_index('week_month_year', inplace=True)"
      ],
      "execution_count": null,
      "outputs": []
    },
    {
      "cell_type": "code",
      "metadata": {
        "colab": {
          "base_uri": "https://localhost:8080/"
        },
        "id": "nNS8bqG44GcS",
        "outputId": "3b62b0ec-07c7-44ca-ab8b-04c92cb47d75"
      },
      "source": [
        "temp.dtypes"
      ],
      "execution_count": null,
      "outputs": [
        {
          "output_type": "execute_result",
          "data": {
            "text/plain": [
              "Deaths    float64\n",
              "dtype: object"
            ]
          },
          "metadata": {
            "tags": []
          },
          "execution_count": 83
        }
      ]
    },
    {
      "cell_type": "code",
      "metadata": {
        "id": "NHlosuqvrMKj"
      },
      "source": [
        "data=temp.copy()"
      ],
      "execution_count": null,
      "outputs": []
    },
    {
      "cell_type": "markdown",
      "metadata": {
        "id": "kLBT-trq7Div"
      },
      "source": [
        "Check whether Data is stationery or not, if not make it stationery"
      ]
    },
    {
      "cell_type": "code",
      "metadata": {
        "id": "11rCm2cg7-b2"
      },
      "source": [
        "from statsmodels.tsa.stattools import adfuller"
      ],
      "execution_count": null,
      "outputs": []
    },
    {
      "cell_type": "code",
      "metadata": {
        "colab": {
          "base_uri": "https://localhost:8080/"
        },
        "id": "7F_1VcwC8eif",
        "outputId": "77d04bd1-9385-4082-a260-2fdd08e93a0a"
      },
      "source": [
        "adfuller(temp['Deaths'])"
      ],
      "execution_count": null,
      "outputs": [
        {
          "output_type": "execute_result",
          "data": {
            "text/plain": [
              "(-14.15693995906928,\n",
              " 2.113561505295262e-26,\n",
              " 0,\n",
              " 231,\n",
              " {'1%': -3.4589796764641,\n",
              "  '10%': -2.573482381701992,\n",
              "  '5%': -2.8741347158661448},\n",
              " 1897.2549426371677)"
            ]
          },
          "metadata": {
            "tags": []
          },
          "execution_count": 86
        }
      ]
    },
    {
      "cell_type": "code",
      "metadata": {
        "id": "BUgz1Srv8wJ-"
      },
      "source": [
        "def adfuller_test(Temp):\n",
        "  result = adfuller(Temp)\n",
        "  labels = ['ADF Test stats' , 'p-value' , '#lags used', 'no of observations used']\n",
        "\n",
        "  for value , label in zip(result , labels):\n",
        "    print('{} : {}'.format(label , value))\n",
        "  if result[1] <= 0.05:\n",
        "    print(\"Strong evidence against the null hypo , henece we can reject the null hypo & data is stationary\")\n",
        "  else:\n",
        "    print(\"weak evidence against the null hypo , henece we have failed to reject the null hypo & data is not stationary\")"
      ],
      "execution_count": null,
      "outputs": []
    },
    {
      "cell_type": "code",
      "metadata": {
        "colab": {
          "base_uri": "https://localhost:8080/"
        },
        "id": "cdc9KsYAahWN",
        "outputId": "e869d546-46e9-48fd-8b43-5b0f779d8de7"
      },
      "source": [
        "adfuller_test(temp['Deaths'])"
      ],
      "execution_count": null,
      "outputs": [
        {
          "output_type": "stream",
          "text": [
            "ADF Test stats : -14.15693995906928\n",
            "p-value : 2.113561505295262e-26\n",
            "#lags used : 0\n",
            "no of observations used : 231\n",
            "Strong evidence against the null hypo , henece we can reject the null hypo & data is stationary\n"
          ],
          "name": "stdout"
        }
      ]
    },
    {
      "cell_type": "code",
      "metadata": {
        "id": "UVpuY2K1dmuQ"
      },
      "source": [
        "df = temp.copy()"
      ],
      "execution_count": null,
      "outputs": []
    },
    {
      "cell_type": "code",
      "metadata": {
        "id": "-EXnrmFqdxSp"
      },
      "source": [
        "#df['first_death_diff'] = df['Deaths']-df['Deaths'].shift(7)"
      ],
      "execution_count": null,
      "outputs": []
    },
    {
      "cell_type": "markdown",
      "metadata": {
        "id": "-V6NUbUrd3_5"
      },
      "source": [
        " Examine if there is a seasonality in a data or not"
      ]
    },
    {
      "cell_type": "code",
      "metadata": {
        "id": "uBMx-uOKamfV"
      },
      "source": [
        "temp['week'] = temp.index.week"
      ],
      "execution_count": null,
      "outputs": []
    },
    {
      "cell_type": "code",
      "metadata": {
        "id": "4V_w1btReYC1"
      },
      "source": [
        "temp['year'] = temp.index.year"
      ],
      "execution_count": null,
      "outputs": []
    },
    {
      "cell_type": "code",
      "metadata": {
        "colab": {
          "base_uri": "https://localhost:8080/",
          "height": 238
        },
        "id": "nExx4wJ7eeRN",
        "outputId": "8fd82862-9a55-4ec1-9c04-2434557fe8f7"
      },
      "source": [
        "temp.head()"
      ],
      "execution_count": null,
      "outputs": [
        {
          "output_type": "execute_result",
          "data": {
            "text/html": [
              "<div>\n",
              "<style scoped>\n",
              "    .dataframe tbody tr th:only-of-type {\n",
              "        vertical-align: middle;\n",
              "    }\n",
              "\n",
              "    .dataframe tbody tr th {\n",
              "        vertical-align: top;\n",
              "    }\n",
              "\n",
              "    .dataframe thead th {\n",
              "        text-align: right;\n",
              "    }\n",
              "</style>\n",
              "<table border=\"1\" class=\"dataframe\">\n",
              "  <thead>\n",
              "    <tr style=\"text-align: right;\">\n",
              "      <th></th>\n",
              "      <th>Deaths</th>\n",
              "      <th>week</th>\n",
              "      <th>year</th>\n",
              "    </tr>\n",
              "    <tr>\n",
              "      <th>week_month_year</th>\n",
              "      <th></th>\n",
              "      <th></th>\n",
              "      <th></th>\n",
              "    </tr>\n",
              "  </thead>\n",
              "  <tbody>\n",
              "    <tr>\n",
              "      <th>2016-06-20/2016-06-26</th>\n",
              "      <td>3.0</td>\n",
              "      <td>25</td>\n",
              "      <td>2016</td>\n",
              "    </tr>\n",
              "    <tr>\n",
              "      <th>2016-07-11/2016-07-17</th>\n",
              "      <td>4.0</td>\n",
              "      <td>28</td>\n",
              "      <td>2016</td>\n",
              "    </tr>\n",
              "    <tr>\n",
              "      <th>2016-08-01/2016-08-07</th>\n",
              "      <td>3.0</td>\n",
              "      <td>31</td>\n",
              "      <td>2016</td>\n",
              "    </tr>\n",
              "    <tr>\n",
              "      <th>2016-08-08/2016-08-14</th>\n",
              "      <td>1.0</td>\n",
              "      <td>32</td>\n",
              "      <td>2016</td>\n",
              "    </tr>\n",
              "    <tr>\n",
              "      <th>2016-08-15/2016-08-21</th>\n",
              "      <td>8.0</td>\n",
              "      <td>33</td>\n",
              "      <td>2016</td>\n",
              "    </tr>\n",
              "  </tbody>\n",
              "</table>\n",
              "</div>"
            ],
            "text/plain": [
              "                       Deaths  week  year\n",
              "week_month_year                          \n",
              "2016-06-20/2016-06-26     3.0    25  2016\n",
              "2016-07-11/2016-07-17     4.0    28  2016\n",
              "2016-08-01/2016-08-07     3.0    31  2016\n",
              "2016-08-08/2016-08-14     1.0    32  2016\n",
              "2016-08-15/2016-08-21     8.0    33  2016"
            ]
          },
          "metadata": {
            "tags": []
          },
          "execution_count": 93
        }
      ]
    },
    {
      "cell_type": "code",
      "metadata": {
        "id": "GB_018jdefwr"
      },
      "source": [
        "pivot = temp.pivot_table(values='Deaths', index='week',columns='year')"
      ],
      "execution_count": null,
      "outputs": []
    },
    {
      "cell_type": "code",
      "metadata": {
        "colab": {
          "base_uri": "https://localhost:8080/",
          "height": 1000
        },
        "id": "5VE1xolQfMaj",
        "outputId": "ad0a65e0-1ea9-4f9d-8a09-65a5db0ed922"
      },
      "source": [
        "pivot"
      ],
      "execution_count": null,
      "outputs": [
        {
          "output_type": "execute_result",
          "data": {
            "text/html": [
              "<div>\n",
              "<style scoped>\n",
              "    .dataframe tbody tr th:only-of-type {\n",
              "        vertical-align: middle;\n",
              "    }\n",
              "\n",
              "    .dataframe tbody tr th {\n",
              "        vertical-align: top;\n",
              "    }\n",
              "\n",
              "    .dataframe thead th {\n",
              "        text-align: right;\n",
              "    }\n",
              "</style>\n",
              "<table border=\"1\" class=\"dataframe\">\n",
              "  <thead>\n",
              "    <tr style=\"text-align: right;\">\n",
              "      <th>year</th>\n",
              "      <th>2016</th>\n",
              "      <th>2017</th>\n",
              "      <th>2018</th>\n",
              "      <th>2019</th>\n",
              "      <th>2020</th>\n",
              "      <th>2021</th>\n",
              "    </tr>\n",
              "    <tr>\n",
              "      <th>week</th>\n",
              "      <th></th>\n",
              "      <th></th>\n",
              "      <th></th>\n",
              "      <th></th>\n",
              "      <th></th>\n",
              "      <th></th>\n",
              "    </tr>\n",
              "  </thead>\n",
              "  <tbody>\n",
              "    <tr>\n",
              "      <th>1</th>\n",
              "      <td>NaN</td>\n",
              "      <td>1.0</td>\n",
              "      <td>7.0</td>\n",
              "      <td>13.0</td>\n",
              "      <td>16.0</td>\n",
              "      <td>1.0</td>\n",
              "    </tr>\n",
              "    <tr>\n",
              "      <th>2</th>\n",
              "      <td>NaN</td>\n",
              "      <td>NaN</td>\n",
              "      <td>2.0</td>\n",
              "      <td>13.0</td>\n",
              "      <td>13.0</td>\n",
              "      <td>6.0</td>\n",
              "    </tr>\n",
              "    <tr>\n",
              "      <th>3</th>\n",
              "      <td>NaN</td>\n",
              "      <td>NaN</td>\n",
              "      <td>18.0</td>\n",
              "      <td>13.0</td>\n",
              "      <td>19.0</td>\n",
              "      <td>5.0</td>\n",
              "    </tr>\n",
              "    <tr>\n",
              "      <th>4</th>\n",
              "      <td>NaN</td>\n",
              "      <td>NaN</td>\n",
              "      <td>NaN</td>\n",
              "      <td>43.0</td>\n",
              "      <td>18.0</td>\n",
              "      <td>1.0</td>\n",
              "    </tr>\n",
              "    <tr>\n",
              "      <th>5</th>\n",
              "      <td>NaN</td>\n",
              "      <td>76.0</td>\n",
              "      <td>5.0</td>\n",
              "      <td>25.0</td>\n",
              "      <td>17.0</td>\n",
              "      <td>37.0</td>\n",
              "    </tr>\n",
              "    <tr>\n",
              "      <th>6</th>\n",
              "      <td>NaN</td>\n",
              "      <td>21.0</td>\n",
              "      <td>6.0</td>\n",
              "      <td>31.0</td>\n",
              "      <td>13.0</td>\n",
              "      <td>16.0</td>\n",
              "    </tr>\n",
              "    <tr>\n",
              "      <th>7</th>\n",
              "      <td>NaN</td>\n",
              "      <td>10.0</td>\n",
              "      <td>NaN</td>\n",
              "      <td>48.0</td>\n",
              "      <td>32.0</td>\n",
              "      <td>12.0</td>\n",
              "    </tr>\n",
              "    <tr>\n",
              "      <th>8</th>\n",
              "      <td>NaN</td>\n",
              "      <td>4.0</td>\n",
              "      <td>1.0</td>\n",
              "      <td>19.0</td>\n",
              "      <td>20.0</td>\n",
              "      <td>36.0</td>\n",
              "    </tr>\n",
              "    <tr>\n",
              "      <th>9</th>\n",
              "      <td>NaN</td>\n",
              "      <td>6.0</td>\n",
              "      <td>4.0</td>\n",
              "      <td>10.0</td>\n",
              "      <td>47.0</td>\n",
              "      <td>23.0</td>\n",
              "    </tr>\n",
              "    <tr>\n",
              "      <th>10</th>\n",
              "      <td>NaN</td>\n",
              "      <td>2.0</td>\n",
              "      <td>8.0</td>\n",
              "      <td>11.0</td>\n",
              "      <td>37.0</td>\n",
              "      <td>5.0</td>\n",
              "    </tr>\n",
              "    <tr>\n",
              "      <th>11</th>\n",
              "      <td>NaN</td>\n",
              "      <td>9.0</td>\n",
              "      <td>NaN</td>\n",
              "      <td>3.0</td>\n",
              "      <td>39.0</td>\n",
              "      <td>14.0</td>\n",
              "    </tr>\n",
              "    <tr>\n",
              "      <th>12</th>\n",
              "      <td>NaN</td>\n",
              "      <td>42.0</td>\n",
              "      <td>NaN</td>\n",
              "      <td>23.0</td>\n",
              "      <td>39.0</td>\n",
              "      <td>26.0</td>\n",
              "    </tr>\n",
              "    <tr>\n",
              "      <th>13</th>\n",
              "      <td>NaN</td>\n",
              "      <td>19.0</td>\n",
              "      <td>14.0</td>\n",
              "      <td>29.0</td>\n",
              "      <td>26.0</td>\n",
              "      <td>7.0</td>\n",
              "    </tr>\n",
              "    <tr>\n",
              "      <th>14</th>\n",
              "      <td>NaN</td>\n",
              "      <td>3.0</td>\n",
              "      <td>28.0</td>\n",
              "      <td>10.0</td>\n",
              "      <td>2.0</td>\n",
              "      <td>4.0</td>\n",
              "    </tr>\n",
              "    <tr>\n",
              "      <th>15</th>\n",
              "      <td>NaN</td>\n",
              "      <td>27.0</td>\n",
              "      <td>4.0</td>\n",
              "      <td>13.0</td>\n",
              "      <td>NaN</td>\n",
              "      <td>25.0</td>\n",
              "    </tr>\n",
              "    <tr>\n",
              "      <th>16</th>\n",
              "      <td>NaN</td>\n",
              "      <td>14.0</td>\n",
              "      <td>4.0</td>\n",
              "      <td>43.0</td>\n",
              "      <td>1.0</td>\n",
              "      <td>6.0</td>\n",
              "    </tr>\n",
              "    <tr>\n",
              "      <th>17</th>\n",
              "      <td>NaN</td>\n",
              "      <td>5.0</td>\n",
              "      <td>13.0</td>\n",
              "      <td>17.0</td>\n",
              "      <td>14.0</td>\n",
              "      <td>12.0</td>\n",
              "    </tr>\n",
              "    <tr>\n",
              "      <th>18</th>\n",
              "      <td>NaN</td>\n",
              "      <td>2.0</td>\n",
              "      <td>6.0</td>\n",
              "      <td>35.0</td>\n",
              "      <td>213.0</td>\n",
              "      <td>11.0</td>\n",
              "    </tr>\n",
              "    <tr>\n",
              "      <th>19</th>\n",
              "      <td>NaN</td>\n",
              "      <td>13.0</td>\n",
              "      <td>15.0</td>\n",
              "      <td>19.0</td>\n",
              "      <td>NaN</td>\n",
              "      <td>20.0</td>\n",
              "    </tr>\n",
              "    <tr>\n",
              "      <th>20</th>\n",
              "      <td>NaN</td>\n",
              "      <td>NaN</td>\n",
              "      <td>5.0</td>\n",
              "      <td>10.0</td>\n",
              "      <td>1.0</td>\n",
              "      <td>28.0</td>\n",
              "    </tr>\n",
              "    <tr>\n",
              "      <th>21</th>\n",
              "      <td>NaN</td>\n",
              "      <td>12.0</td>\n",
              "      <td>12.0</td>\n",
              "      <td>13.0</td>\n",
              "      <td>27.0</td>\n",
              "      <td>3.0</td>\n",
              "    </tr>\n",
              "    <tr>\n",
              "      <th>22</th>\n",
              "      <td>NaN</td>\n",
              "      <td>7.0</td>\n",
              "      <td>20.0</td>\n",
              "      <td>35.0</td>\n",
              "      <td>2.0</td>\n",
              "      <td>11.0</td>\n",
              "    </tr>\n",
              "    <tr>\n",
              "      <th>23</th>\n",
              "      <td>NaN</td>\n",
              "      <td>NaN</td>\n",
              "      <td>42.0</td>\n",
              "      <td>42.0</td>\n",
              "      <td>14.0</td>\n",
              "      <td>8.0</td>\n",
              "    </tr>\n",
              "    <tr>\n",
              "      <th>24</th>\n",
              "      <td>NaN</td>\n",
              "      <td>2.0</td>\n",
              "      <td>11.0</td>\n",
              "      <td>8.0</td>\n",
              "      <td>4.0</td>\n",
              "      <td>16.0</td>\n",
              "    </tr>\n",
              "    <tr>\n",
              "      <th>25</th>\n",
              "      <td>3.0</td>\n",
              "      <td>14.0</td>\n",
              "      <td>103.0</td>\n",
              "      <td>3.0</td>\n",
              "      <td>3.0</td>\n",
              "      <td>5.0</td>\n",
              "    </tr>\n",
              "    <tr>\n",
              "      <th>26</th>\n",
              "      <td>NaN</td>\n",
              "      <td>53.0</td>\n",
              "      <td>13.0</td>\n",
              "      <td>37.0</td>\n",
              "      <td>10.0</td>\n",
              "      <td>NaN</td>\n",
              "    </tr>\n",
              "    <tr>\n",
              "      <th>27</th>\n",
              "      <td>NaN</td>\n",
              "      <td>2.0</td>\n",
              "      <td>2.0</td>\n",
              "      <td>45.0</td>\n",
              "      <td>9.0</td>\n",
              "      <td>NaN</td>\n",
              "    </tr>\n",
              "    <tr>\n",
              "      <th>28</th>\n",
              "      <td>4.0</td>\n",
              "      <td>2.0</td>\n",
              "      <td>19.0</td>\n",
              "      <td>17.0</td>\n",
              "      <td>3.0</td>\n",
              "      <td>NaN</td>\n",
              "    </tr>\n",
              "    <tr>\n",
              "      <th>29</th>\n",
              "      <td>NaN</td>\n",
              "      <td>3.0</td>\n",
              "      <td>29.0</td>\n",
              "      <td>24.0</td>\n",
              "      <td>NaN</td>\n",
              "      <td>NaN</td>\n",
              "    </tr>\n",
              "    <tr>\n",
              "      <th>30</th>\n",
              "      <td>NaN</td>\n",
              "      <td>8.0</td>\n",
              "      <td>12.0</td>\n",
              "      <td>16.0</td>\n",
              "      <td>9.0</td>\n",
              "      <td>NaN</td>\n",
              "    </tr>\n",
              "    <tr>\n",
              "      <th>31</th>\n",
              "      <td>3.0</td>\n",
              "      <td>NaN</td>\n",
              "      <td>5.0</td>\n",
              "      <td>24.0</td>\n",
              "      <td>7.0</td>\n",
              "      <td>NaN</td>\n",
              "    </tr>\n",
              "    <tr>\n",
              "      <th>32</th>\n",
              "      <td>1.0</td>\n",
              "      <td>4.0</td>\n",
              "      <td>13.0</td>\n",
              "      <td>8.0</td>\n",
              "      <td>21.0</td>\n",
              "      <td>NaN</td>\n",
              "    </tr>\n",
              "    <tr>\n",
              "      <th>33</th>\n",
              "      <td>8.0</td>\n",
              "      <td>3.0</td>\n",
              "      <td>18.0</td>\n",
              "      <td>51.0</td>\n",
              "      <td>14.0</td>\n",
              "      <td>NaN</td>\n",
              "    </tr>\n",
              "    <tr>\n",
              "      <th>34</th>\n",
              "      <td>2.0</td>\n",
              "      <td>13.0</td>\n",
              "      <td>65.0</td>\n",
              "      <td>23.0</td>\n",
              "      <td>8.0</td>\n",
              "      <td>NaN</td>\n",
              "    </tr>\n",
              "    <tr>\n",
              "      <th>35</th>\n",
              "      <td>1.0</td>\n",
              "      <td>NaN</td>\n",
              "      <td>30.0</td>\n",
              "      <td>15.0</td>\n",
              "      <td>8.0</td>\n",
              "      <td>NaN</td>\n",
              "    </tr>\n",
              "    <tr>\n",
              "      <th>36</th>\n",
              "      <td>36.0</td>\n",
              "      <td>NaN</td>\n",
              "      <td>9.0</td>\n",
              "      <td>21.0</td>\n",
              "      <td>NaN</td>\n",
              "      <td>NaN</td>\n",
              "    </tr>\n",
              "    <tr>\n",
              "      <th>37</th>\n",
              "      <td>60.0</td>\n",
              "      <td>3.0</td>\n",
              "      <td>17.0</td>\n",
              "      <td>9.0</td>\n",
              "      <td>15.0</td>\n",
              "      <td>NaN</td>\n",
              "    </tr>\n",
              "    <tr>\n",
              "      <th>38</th>\n",
              "      <td>14.0</td>\n",
              "      <td>1.0</td>\n",
              "      <td>15.0</td>\n",
              "      <td>24.0</td>\n",
              "      <td>9.0</td>\n",
              "      <td>NaN</td>\n",
              "    </tr>\n",
              "    <tr>\n",
              "      <th>39</th>\n",
              "      <td>14.0</td>\n",
              "      <td>3.0</td>\n",
              "      <td>23.0</td>\n",
              "      <td>13.0</td>\n",
              "      <td>5.0</td>\n",
              "      <td>NaN</td>\n",
              "    </tr>\n",
              "    <tr>\n",
              "      <th>40</th>\n",
              "      <td>12.0</td>\n",
              "      <td>3.0</td>\n",
              "      <td>1.0</td>\n",
              "      <td>17.0</td>\n",
              "      <td>1.0</td>\n",
              "      <td>NaN</td>\n",
              "    </tr>\n",
              "    <tr>\n",
              "      <th>41</th>\n",
              "      <td>NaN</td>\n",
              "      <td>6.0</td>\n",
              "      <td>7.0</td>\n",
              "      <td>11.0</td>\n",
              "      <td>6.0</td>\n",
              "      <td>NaN</td>\n",
              "    </tr>\n",
              "    <tr>\n",
              "      <th>42</th>\n",
              "      <td>5.0</td>\n",
              "      <td>1.0</td>\n",
              "      <td>5.0</td>\n",
              "      <td>16.0</td>\n",
              "      <td>2.0</td>\n",
              "      <td>NaN</td>\n",
              "    </tr>\n",
              "    <tr>\n",
              "      <th>43</th>\n",
              "      <td>3.0</td>\n",
              "      <td>1.0</td>\n",
              "      <td>10.0</td>\n",
              "      <td>10.0</td>\n",
              "      <td>NaN</td>\n",
              "      <td>NaN</td>\n",
              "    </tr>\n",
              "    <tr>\n",
              "      <th>44</th>\n",
              "      <td>12.0</td>\n",
              "      <td>11.0</td>\n",
              "      <td>12.0</td>\n",
              "      <td>8.0</td>\n",
              "      <td>4.0</td>\n",
              "      <td>NaN</td>\n",
              "    </tr>\n",
              "    <tr>\n",
              "      <th>45</th>\n",
              "      <td>NaN</td>\n",
              "      <td>NaN</td>\n",
              "      <td>9.0</td>\n",
              "      <td>13.0</td>\n",
              "      <td>8.0</td>\n",
              "      <td>NaN</td>\n",
              "    </tr>\n",
              "    <tr>\n",
              "      <th>46</th>\n",
              "      <td>5.0</td>\n",
              "      <td>NaN</td>\n",
              "      <td>7.0</td>\n",
              "      <td>10.0</td>\n",
              "      <td>1.0</td>\n",
              "      <td>NaN</td>\n",
              "    </tr>\n",
              "    <tr>\n",
              "      <th>47</th>\n",
              "      <td>NaN</td>\n",
              "      <td>NaN</td>\n",
              "      <td>11.0</td>\n",
              "      <td>16.0</td>\n",
              "      <td>15.0</td>\n",
              "      <td>NaN</td>\n",
              "    </tr>\n",
              "    <tr>\n",
              "      <th>48</th>\n",
              "      <td>3.0</td>\n",
              "      <td>NaN</td>\n",
              "      <td>21.0</td>\n",
              "      <td>4.0</td>\n",
              "      <td>0.0</td>\n",
              "      <td>NaN</td>\n",
              "    </tr>\n",
              "    <tr>\n",
              "      <th>49</th>\n",
              "      <td>6.0</td>\n",
              "      <td>NaN</td>\n",
              "      <td>15.0</td>\n",
              "      <td>11.0</td>\n",
              "      <td>9.0</td>\n",
              "      <td>NaN</td>\n",
              "    </tr>\n",
              "    <tr>\n",
              "      <th>50</th>\n",
              "      <td>19.0</td>\n",
              "      <td>6.0</td>\n",
              "      <td>21.0</td>\n",
              "      <td>11.0</td>\n",
              "      <td>38.0</td>\n",
              "      <td>NaN</td>\n",
              "    </tr>\n",
              "    <tr>\n",
              "      <th>51</th>\n",
              "      <td>13.0</td>\n",
              "      <td>1.0</td>\n",
              "      <td>27.0</td>\n",
              "      <td>24.0</td>\n",
              "      <td>NaN</td>\n",
              "      <td>NaN</td>\n",
              "    </tr>\n",
              "    <tr>\n",
              "      <th>52</th>\n",
              "      <td>NaN</td>\n",
              "      <td>9.0</td>\n",
              "      <td>3.0</td>\n",
              "      <td>19.0</td>\n",
              "      <td>1.0</td>\n",
              "      <td>NaN</td>\n",
              "    </tr>\n",
              "    <tr>\n",
              "      <th>53</th>\n",
              "      <td>NaN</td>\n",
              "      <td>NaN</td>\n",
              "      <td>NaN</td>\n",
              "      <td>NaN</td>\n",
              "      <td>NaN</td>\n",
              "      <td>22.0</td>\n",
              "    </tr>\n",
              "  </tbody>\n",
              "</table>\n",
              "</div>"
            ],
            "text/plain": [
              "year  2016  2017   2018  2019   2020  2021\n",
              "week                                      \n",
              "1      NaN   1.0    7.0  13.0   16.0   1.0\n",
              "2      NaN   NaN    2.0  13.0   13.0   6.0\n",
              "3      NaN   NaN   18.0  13.0   19.0   5.0\n",
              "4      NaN   NaN    NaN  43.0   18.0   1.0\n",
              "5      NaN  76.0    5.0  25.0   17.0  37.0\n",
              "6      NaN  21.0    6.0  31.0   13.0  16.0\n",
              "7      NaN  10.0    NaN  48.0   32.0  12.0\n",
              "8      NaN   4.0    1.0  19.0   20.0  36.0\n",
              "9      NaN   6.0    4.0  10.0   47.0  23.0\n",
              "10     NaN   2.0    8.0  11.0   37.0   5.0\n",
              "11     NaN   9.0    NaN   3.0   39.0  14.0\n",
              "12     NaN  42.0    NaN  23.0   39.0  26.0\n",
              "13     NaN  19.0   14.0  29.0   26.0   7.0\n",
              "14     NaN   3.0   28.0  10.0    2.0   4.0\n",
              "15     NaN  27.0    4.0  13.0    NaN  25.0\n",
              "16     NaN  14.0    4.0  43.0    1.0   6.0\n",
              "17     NaN   5.0   13.0  17.0   14.0  12.0\n",
              "18     NaN   2.0    6.0  35.0  213.0  11.0\n",
              "19     NaN  13.0   15.0  19.0    NaN  20.0\n",
              "20     NaN   NaN    5.0  10.0    1.0  28.0\n",
              "21     NaN  12.0   12.0  13.0   27.0   3.0\n",
              "22     NaN   7.0   20.0  35.0    2.0  11.0\n",
              "23     NaN   NaN   42.0  42.0   14.0   8.0\n",
              "24     NaN   2.0   11.0   8.0    4.0  16.0\n",
              "25     3.0  14.0  103.0   3.0    3.0   5.0\n",
              "26     NaN  53.0   13.0  37.0   10.0   NaN\n",
              "27     NaN   2.0    2.0  45.0    9.0   NaN\n",
              "28     4.0   2.0   19.0  17.0    3.0   NaN\n",
              "29     NaN   3.0   29.0  24.0    NaN   NaN\n",
              "30     NaN   8.0   12.0  16.0    9.0   NaN\n",
              "31     3.0   NaN    5.0  24.0    7.0   NaN\n",
              "32     1.0   4.0   13.0   8.0   21.0   NaN\n",
              "33     8.0   3.0   18.0  51.0   14.0   NaN\n",
              "34     2.0  13.0   65.0  23.0    8.0   NaN\n",
              "35     1.0   NaN   30.0  15.0    8.0   NaN\n",
              "36    36.0   NaN    9.0  21.0    NaN   NaN\n",
              "37    60.0   3.0   17.0   9.0   15.0   NaN\n",
              "38    14.0   1.0   15.0  24.0    9.0   NaN\n",
              "39    14.0   3.0   23.0  13.0    5.0   NaN\n",
              "40    12.0   3.0    1.0  17.0    1.0   NaN\n",
              "41     NaN   6.0    7.0  11.0    6.0   NaN\n",
              "42     5.0   1.0    5.0  16.0    2.0   NaN\n",
              "43     3.0   1.0   10.0  10.0    NaN   NaN\n",
              "44    12.0  11.0   12.0   8.0    4.0   NaN\n",
              "45     NaN   NaN    9.0  13.0    8.0   NaN\n",
              "46     5.0   NaN    7.0  10.0    1.0   NaN\n",
              "47     NaN   NaN   11.0  16.0   15.0   NaN\n",
              "48     3.0   NaN   21.0   4.0    0.0   NaN\n",
              "49     6.0   NaN   15.0  11.0    9.0   NaN\n",
              "50    19.0   6.0   21.0  11.0   38.0   NaN\n",
              "51    13.0   1.0   27.0  24.0    NaN   NaN\n",
              "52     NaN   9.0    3.0  19.0    1.0   NaN\n",
              "53     NaN   NaN    NaN   NaN    NaN  22.0"
            ]
          },
          "metadata": {
            "tags": []
          },
          "execution_count": 95
        }
      ]
    },
    {
      "cell_type": "code",
      "metadata": {
        "id": "PGPBMYxefNim",
        "colab": {
          "base_uri": "https://localhost:8080/",
          "height": 406
        },
        "outputId": "4959937c-015b-4de8-8085-ff17a1569895"
      },
      "source": [
        "pivot.plot(figsize= (20,6))\n",
        "plt.xlabel('Week')\n",
        "plt.ylabel('Deaths')"
      ],
      "execution_count": null,
      "outputs": [
        {
          "output_type": "execute_result",
          "data": {
            "text/plain": [
              "Text(0, 0.5, 'Deaths')"
            ]
          },
          "metadata": {
            "tags": []
          },
          "execution_count": 96
        },
        {
          "output_type": "display_data",
          "data": {
            "image/png": "[encoded data removed]",
            "text/plain": [
              "<Figure size 1440x432 with 1 Axes>"
            ]
          },
          "metadata": {
            "tags": [],
            "needs_background": "light"
          }
        }
      ]
    },
    {
      "cell_type": "code",
      "metadata": {
        "colab": {
          "base_uri": "https://localhost:8080/",
          "height": 406
        },
        "id": "1cg8rvtEfT5n",
        "outputId": "22020737-3138-463b-ddf6-a3e5ae1be53b"
      },
      "source": [
        "weekly_seasonality = pivot.mean(axis=1)\n",
        "weekly_seasonality.plot(figsize =(20,6))"
      ],
      "execution_count": null,
      "outputs": [
        {
          "output_type": "execute_result",
          "data": {
            "text/plain": [
              "<matplotlib.axes._subplots.AxesSubplot at 0x7f90108d2890>"
            ]
          },
          "metadata": {
            "tags": []
          },
          "execution_count": 97
        },
        {
          "output_type": "display_data",
          "data": {
            "image/png": "[encoded data removed]",
            "text/plain": [
              "<Figure size 1440x432 with 1 Axes>"
            ]
          },
          "metadata": {
            "tags": [],
            "needs_background": "light"
          }
        }
      ]
    },
    {
      "cell_type": "markdown",
      "metadata": {
        "id": "arv0rzijgw2E"
      },
      "source": [
        "Build Time Series Model using Moving Average"
      ]
    },
    {
      "cell_type": "code",
      "metadata": {
        "colab": {
          "base_uri": "https://localhost:8080/",
          "height": 238
        },
        "id": "LksD5yP6gZuX",
        "outputId": "18bf31e5-cbd4-4f39-fc12-9f8e069329a3"
      },
      "source": [
        "temp.head()"
      ],
      "execution_count": null,
      "outputs": [
        {
          "output_type": "execute_result",
          "data": {
            "text/html": [
              "<div>\n",
              "<style scoped>\n",
              "    .dataframe tbody tr th:only-of-type {\n",
              "        vertical-align: middle;\n",
              "    }\n",
              "\n",
              "    .dataframe tbody tr th {\n",
              "        vertical-align: top;\n",
              "    }\n",
              "\n",
              "    .dataframe thead th {\n",
              "        text-align: right;\n",
              "    }\n",
              "</style>\n",
              "<table border=\"1\" class=\"dataframe\">\n",
              "  <thead>\n",
              "    <tr style=\"text-align: right;\">\n",
              "      <th></th>\n",
              "      <th>Deaths</th>\n",
              "      <th>week</th>\n",
              "      <th>year</th>\n",
              "    </tr>\n",
              "    <tr>\n",
              "      <th>week_month_year</th>\n",
              "      <th></th>\n",
              "      <th></th>\n",
              "      <th></th>\n",
              "    </tr>\n",
              "  </thead>\n",
              "  <tbody>\n",
              "    <tr>\n",
              "      <th>2016-06-20/2016-06-26</th>\n",
              "      <td>3.0</td>\n",
              "      <td>25</td>\n",
              "      <td>2016</td>\n",
              "    </tr>\n",
              "    <tr>\n",
              "      <th>2016-07-11/2016-07-17</th>\n",
              "      <td>4.0</td>\n",
              "      <td>28</td>\n",
              "      <td>2016</td>\n",
              "    </tr>\n",
              "    <tr>\n",
              "      <th>2016-08-01/2016-08-07</th>\n",
              "      <td>3.0</td>\n",
              "      <td>31</td>\n",
              "      <td>2016</td>\n",
              "    </tr>\n",
              "    <tr>\n",
              "      <th>2016-08-08/2016-08-14</th>\n",
              "      <td>1.0</td>\n",
              "      <td>32</td>\n",
              "      <td>2016</td>\n",
              "    </tr>\n",
              "    <tr>\n",
              "      <th>2016-08-15/2016-08-21</th>\n",
              "      <td>8.0</td>\n",
              "      <td>33</td>\n",
              "      <td>2016</td>\n",
              "    </tr>\n",
              "  </tbody>\n",
              "</table>\n",
              "</div>"
            ],
            "text/plain": [
              "                       Deaths  week  year\n",
              "week_month_year                          \n",
              "2016-06-20/2016-06-26     3.0    25  2016\n",
              "2016-07-11/2016-07-17     4.0    28  2016\n",
              "2016-08-01/2016-08-07     3.0    31  2016\n",
              "2016-08-08/2016-08-14     1.0    32  2016\n",
              "2016-08-15/2016-08-21     8.0    33  2016"
            ]
          },
          "metadata": {
            "tags": []
          },
          "execution_count": 98
        }
      ]
    },
    {
      "cell_type": "code",
      "metadata": {
        "id": "27xrizWjezdP"
      },
      "source": [
        "#df =df.dropna()"
      ],
      "execution_count": null,
      "outputs": []
    },
    {
      "cell_type": "code",
      "metadata": {
        "id": "8iRzS_9Fe_8m",
        "colab": {
          "base_uri": "https://localhost:8080/"
        },
        "outputId": "14077d06-5ea3-4244-e3ec-1925c0748f99"
      },
      "source": [
        "df.isna().sum()"
      ],
      "execution_count": null,
      "outputs": [
        {
          "output_type": "execute_result",
          "data": {
            "text/plain": [
              "Deaths    0\n",
              "dtype: int64"
            ]
          },
          "metadata": {
            "tags": []
          },
          "execution_count": 100
        }
      ]
    },
    {
      "cell_type": "code",
      "metadata": {
        "id": "ehniwAilhSst"
      },
      "source": [
        "value = pd.DataFrame(temp['Deaths'])\n",
        "temp_df =pd.concat([value, temp['Deaths'].rolling(window = 7).mean()], axis=1)"
      ],
      "execution_count": null,
      "outputs": []
    },
    {
      "cell_type": "code",
      "metadata": {
        "id": "ui-JuZH0iUp_"
      },
      "source": [
        "temp_df.columns = ['actual' , 'forecast']"
      ],
      "execution_count": null,
      "outputs": []
    },
    {
      "cell_type": "code",
      "metadata": {
        "colab": {
          "base_uri": "https://localhost:8080/",
          "height": 708
        },
        "id": "eIdE65lgilar",
        "outputId": "42152f9e-3366-4c9a-e60b-2c326142dedd"
      },
      "source": [
        "temp_df.head(20)"
      ],
      "execution_count": null,
      "outputs": [
        {
          "output_type": "execute_result",
          "data": {
            "text/html": [
              "<div>\n",
              "<style scoped>\n",
              "    .dataframe tbody tr th:only-of-type {\n",
              "        vertical-align: middle;\n",
              "    }\n",
              "\n",
              "    .dataframe tbody tr th {\n",
              "        vertical-align: top;\n",
              "    }\n",
              "\n",
              "    .dataframe thead th {\n",
              "        text-align: right;\n",
              "    }\n",
              "</style>\n",
              "<table border=\"1\" class=\"dataframe\">\n",
              "  <thead>\n",
              "    <tr style=\"text-align: right;\">\n",
              "      <th></th>\n",
              "      <th>actual</th>\n",
              "      <th>forecast</th>\n",
              "    </tr>\n",
              "    <tr>\n",
              "      <th>week_month_year</th>\n",
              "      <th></th>\n",
              "      <th></th>\n",
              "    </tr>\n",
              "  </thead>\n",
              "  <tbody>\n",
              "    <tr>\n",
              "      <th>2016-06-20/2016-06-26</th>\n",
              "      <td>3.0</td>\n",
              "      <td>NaN</td>\n",
              "    </tr>\n",
              "    <tr>\n",
              "      <th>2016-07-11/2016-07-17</th>\n",
              "      <td>4.0</td>\n",
              "      <td>NaN</td>\n",
              "    </tr>\n",
              "    <tr>\n",
              "      <th>2016-08-01/2016-08-07</th>\n",
              "      <td>3.0</td>\n",
              "      <td>NaN</td>\n",
              "    </tr>\n",
              "    <tr>\n",
              "      <th>2016-08-08/2016-08-14</th>\n",
              "      <td>1.0</td>\n",
              "      <td>NaN</td>\n",
              "    </tr>\n",
              "    <tr>\n",
              "      <th>2016-08-15/2016-08-21</th>\n",
              "      <td>8.0</td>\n",
              "      <td>NaN</td>\n",
              "    </tr>\n",
              "    <tr>\n",
              "      <th>2016-08-22/2016-08-28</th>\n",
              "      <td>2.0</td>\n",
              "      <td>NaN</td>\n",
              "    </tr>\n",
              "    <tr>\n",
              "      <th>2016-08-29/2016-09-04</th>\n",
              "      <td>1.0</td>\n",
              "      <td>3.142857</td>\n",
              "    </tr>\n",
              "    <tr>\n",
              "      <th>2016-09-05/2016-09-11</th>\n",
              "      <td>36.0</td>\n",
              "      <td>7.857143</td>\n",
              "    </tr>\n",
              "    <tr>\n",
              "      <th>2016-09-12/2016-09-18</th>\n",
              "      <td>60.0</td>\n",
              "      <td>15.857143</td>\n",
              "    </tr>\n",
              "    <tr>\n",
              "      <th>2016-09-19/2016-09-25</th>\n",
              "      <td>14.0</td>\n",
              "      <td>17.428571</td>\n",
              "    </tr>\n",
              "    <tr>\n",
              "      <th>2016-09-26/2016-10-02</th>\n",
              "      <td>14.0</td>\n",
              "      <td>19.285714</td>\n",
              "    </tr>\n",
              "    <tr>\n",
              "      <th>2016-10-03/2016-10-09</th>\n",
              "      <td>12.0</td>\n",
              "      <td>19.857143</td>\n",
              "    </tr>\n",
              "    <tr>\n",
              "      <th>2016-10-17/2016-10-23</th>\n",
              "      <td>5.0</td>\n",
              "      <td>20.285714</td>\n",
              "    </tr>\n",
              "    <tr>\n",
              "      <th>2016-10-24/2016-10-30</th>\n",
              "      <td>3.0</td>\n",
              "      <td>20.571429</td>\n",
              "    </tr>\n",
              "    <tr>\n",
              "      <th>2016-10-31/2016-11-06</th>\n",
              "      <td>12.0</td>\n",
              "      <td>17.142857</td>\n",
              "    </tr>\n",
              "    <tr>\n",
              "      <th>2016-11-14/2016-11-20</th>\n",
              "      <td>5.0</td>\n",
              "      <td>9.285714</td>\n",
              "    </tr>\n",
              "    <tr>\n",
              "      <th>2016-11-28/2016-12-04</th>\n",
              "      <td>3.0</td>\n",
              "      <td>7.714286</td>\n",
              "    </tr>\n",
              "    <tr>\n",
              "      <th>2016-12-05/2016-12-11</th>\n",
              "      <td>6.0</td>\n",
              "      <td>6.571429</td>\n",
              "    </tr>\n",
              "    <tr>\n",
              "      <th>2016-12-12/2016-12-18</th>\n",
              "      <td>19.0</td>\n",
              "      <td>7.571429</td>\n",
              "    </tr>\n",
              "    <tr>\n",
              "      <th>2016-12-19/2016-12-25</th>\n",
              "      <td>13.0</td>\n",
              "      <td>8.714286</td>\n",
              "    </tr>\n",
              "  </tbody>\n",
              "</table>\n",
              "</div>"
            ],
            "text/plain": [
              "                       actual   forecast\n",
              "week_month_year                         \n",
              "2016-06-20/2016-06-26     3.0        NaN\n",
              "2016-07-11/2016-07-17     4.0        NaN\n",
              "2016-08-01/2016-08-07     3.0        NaN\n",
              "2016-08-08/2016-08-14     1.0        NaN\n",
              "2016-08-15/2016-08-21     8.0        NaN\n",
              "2016-08-22/2016-08-28     2.0        NaN\n",
              "2016-08-29/2016-09-04     1.0   3.142857\n",
              "2016-09-05/2016-09-11    36.0   7.857143\n",
              "2016-09-12/2016-09-18    60.0  15.857143\n",
              "2016-09-19/2016-09-25    14.0  17.428571\n",
              "2016-09-26/2016-10-02    14.0  19.285714\n",
              "2016-10-03/2016-10-09    12.0  19.857143\n",
              "2016-10-17/2016-10-23     5.0  20.285714\n",
              "2016-10-24/2016-10-30     3.0  20.571429\n",
              "2016-10-31/2016-11-06    12.0  17.142857\n",
              "2016-11-14/2016-11-20     5.0   9.285714\n",
              "2016-11-28/2016-12-04     3.0   7.714286\n",
              "2016-12-05/2016-12-11     6.0   6.571429\n",
              "2016-12-12/2016-12-18    19.0   7.571429\n",
              "2016-12-19/2016-12-25    13.0   8.714286"
            ]
          },
          "metadata": {
            "tags": []
          },
          "execution_count": 103
        }
      ]
    },
    {
      "cell_type": "markdown",
      "metadata": {
        "id": "Ty427sYeg6Hg"
      },
      "source": [
        "Evaluate Moving Average model."
      ]
    },
    {
      "cell_type": "code",
      "metadata": {
        "id": "mwKjtBtLi4wA"
      },
      "source": [
        "from sklearn.metrics import mean_squared_error"
      ],
      "execution_count": null,
      "outputs": []
    },
    {
      "cell_type": "code",
      "metadata": {
        "colab": {
          "base_uri": "https://localhost:8080/"
        },
        "id": "vIaZhNwCge8V",
        "outputId": "87bc3bed-1e2f-4f3d-f920-95fe5f77540f"
      },
      "source": [
        "np.sqrt(mean_squared_error(temp_df['forecast'][6:], temp_df['actual'][6:]))"
      ],
      "execution_count": null,
      "outputs": [
        {
          "output_type": "execute_result",
          "data": {
            "text/plain": [
              "17.551289683390735"
            ]
          },
          "metadata": {
            "tags": []
          },
          "execution_count": 105
        }
      ]
    },
    {
      "cell_type": "markdown",
      "metadata": {
        "id": "bK3GlIMvoOJC"
      },
      "source": [
        "Apply ARIMA on data"
      ]
    },
    {
      "cell_type": "code",
      "metadata": {
        "id": "V_bRLf04y1ro"
      },
      "source": [
        "scaled_data = data.copy()\n"
      ],
      "execution_count": null,
      "outputs": []
    },
    {
      "cell_type": "code",
      "metadata": {
        "id": "tRj71jfD84Be"
      },
      "source": [
        "#min-max normalization\n",
        "def normalize(data,min, max):\n",
        "  for i in range(len(data)):\n",
        "    data.iloc[i] =((data.iloc[i] - min )/(( max - min )))\n",
        "  return data\n"
      ],
      "execution_count": null,
      "outputs": []
    },
    {
      "cell_type": "code",
      "metadata": {
        "id": "aJ62ZHrz-Ldr"
      },
      "source": [
        "#MIN-MAX denormalization\n",
        "def denormalize(data,min,max):\n",
        "  for i in range(len(data)):\n",
        "    data.iloc[i] = round(data.iloc[i]*(max - min) + min)\n",
        "  return data "
      ],
      "execution_count": null,
      "outputs": []
    },
    {
      "cell_type": "code",
      "metadata": {
        "colab": {
          "base_uri": "https://localhost:8080/",
          "height": 455
        },
        "id": "QRAlHO5hywzV",
        "outputId": "f6889c65-4584-4ea3-d780-6fab4924c826"
      },
      "source": [
        "#scaled_data['Deaths'] = scaler.fit_transform(data)\n",
        "min = np.min(scaled_data['Deaths'])\n",
        "max = np.max(scaled_data['Deaths'])\n",
        "normalize(scaled_data ,min , max)\n"
      ],
      "execution_count": null,
      "outputs": [
        {
          "output_type": "execute_result",
          "data": {
            "text/html": [
              "<div>\n",
              "<style scoped>\n",
              "    .dataframe tbody tr th:only-of-type {\n",
              "        vertical-align: middle;\n",
              "    }\n",
              "\n",
              "    .dataframe tbody tr th {\n",
              "        vertical-align: top;\n",
              "    }\n",
              "\n",
              "    .dataframe thead th {\n",
              "        text-align: right;\n",
              "    }\n",
              "</style>\n",
              "<table border=\"1\" class=\"dataframe\">\n",
              "  <thead>\n",
              "    <tr style=\"text-align: right;\">\n",
              "      <th></th>\n",
              "      <th>Deaths</th>\n",
              "    </tr>\n",
              "    <tr>\n",
              "      <th>week_month_year</th>\n",
              "      <th></th>\n",
              "    </tr>\n",
              "  </thead>\n",
              "  <tbody>\n",
              "    <tr>\n",
              "      <th>2016-06-20/2016-06-26</th>\n",
              "      <td>0.014085</td>\n",
              "    </tr>\n",
              "    <tr>\n",
              "      <th>2016-07-11/2016-07-17</th>\n",
              "      <td>0.018779</td>\n",
              "    </tr>\n",
              "    <tr>\n",
              "      <th>2016-08-01/2016-08-07</th>\n",
              "      <td>0.014085</td>\n",
              "    </tr>\n",
              "    <tr>\n",
              "      <th>2016-08-08/2016-08-14</th>\n",
              "      <td>0.004695</td>\n",
              "    </tr>\n",
              "    <tr>\n",
              "      <th>2016-08-15/2016-08-21</th>\n",
              "      <td>0.037559</td>\n",
              "    </tr>\n",
              "    <tr>\n",
              "      <th>...</th>\n",
              "      <td>...</td>\n",
              "    </tr>\n",
              "    <tr>\n",
              "      <th>2021-05-24/2021-05-30</th>\n",
              "      <td>0.014085</td>\n",
              "    </tr>\n",
              "    <tr>\n",
              "      <th>2021-05-31/2021-06-06</th>\n",
              "      <td>0.051643</td>\n",
              "    </tr>\n",
              "    <tr>\n",
              "      <th>2021-06-07/2021-06-13</th>\n",
              "      <td>0.037559</td>\n",
              "    </tr>\n",
              "    <tr>\n",
              "      <th>2021-06-14/2021-06-20</th>\n",
              "      <td>0.075117</td>\n",
              "    </tr>\n",
              "    <tr>\n",
              "      <th>2021-06-21/2021-06-27</th>\n",
              "      <td>0.023474</td>\n",
              "    </tr>\n",
              "  </tbody>\n",
              "</table>\n",
              "<p>232 rows × 1 columns</p>\n",
              "</div>"
            ],
            "text/plain": [
              "                         Deaths\n",
              "week_month_year                \n",
              "2016-06-20/2016-06-26  0.014085\n",
              "2016-07-11/2016-07-17  0.018779\n",
              "2016-08-01/2016-08-07  0.014085\n",
              "2016-08-08/2016-08-14  0.004695\n",
              "2016-08-15/2016-08-21  0.037559\n",
              "...                         ...\n",
              "2021-05-24/2021-05-30  0.014085\n",
              "2021-05-31/2021-06-06  0.051643\n",
              "2021-06-07/2021-06-13  0.037559\n",
              "2021-06-14/2021-06-20  0.075117\n",
              "2021-06-21/2021-06-27  0.023474\n",
              "\n",
              "[232 rows x 1 columns]"
            ]
          },
          "metadata": {
            "tags": []
          },
          "execution_count": 109
        }
      ]
    },
    {
      "cell_type": "code",
      "metadata": {
        "id": "rOyYsnHlIL2J"
      },
      "source": [
        "#denormalize(scaled_data,min,max)\n"
      ],
      "execution_count": null,
      "outputs": []
    },
    {
      "cell_type": "code",
      "metadata": {
        "id": "mHdkefAdpCIn"
      },
      "source": [
        "from statsmodels.graphics.tsaplots import plot_acf , plot_pacf"
      ],
      "execution_count": null,
      "outputs": []
    },
    {
      "cell_type": "code",
      "metadata": {
        "colab": {
          "base_uri": "https://localhost:8080/",
          "height": 545
        },
        "id": "hxOYWO1upMnC",
        "outputId": "346b384c-b5c5-4972-db13-21279c7c0db3"
      },
      "source": [
        "#plot_acf(data['Deaths'])\n",
        "plot_acf(scaled_data)\n",
        "#plot_acf(df['first_death_diff'])"
      ],
      "execution_count": null,
      "outputs": [
        {
          "output_type": "execute_result",
          "data": {
            "image/png": "[encoded data removed]",
            "text/plain": [
              "<Figure size 432x288 with 1 Axes>"
            ]
          },
          "metadata": {
            "tags": []
          },
          "execution_count": 112
        },
        {
          "output_type": "display_data",
          "data": {
            "image/png": "[encoded data removed]",
            "text/plain": [
              "<Figure size 432x288 with 1 Axes>"
            ]
          },
          "metadata": {
            "tags": [],
            "needs_background": "light"
          }
        }
      ]
    },
    {
      "cell_type": "code",
      "metadata": {
        "colab": {
          "base_uri": "https://localhost:8080/",
          "height": 545
        },
        "id": "DyRJbCYfppNj",
        "outputId": "a87f8b5e-6432-4fd3-85bc-bf7ad33a3ddd"
      },
      "source": [
        "#plot_pacf(data['Deaths'])\n",
        "\n",
        "plot_pacf(scaled_data)\n",
        "#plot_pacf(df['first_death_diff'])"
      ],
      "execution_count": null,
      "outputs": [
        {
          "output_type": "execute_result",
          "data": {
            "image/png": "[encoded data removed]",
            "text/plain": [
              "<Figure size 432x288 with 1 Axes>"
            ]
          },
          "metadata": {
            "tags": []
          },
          "execution_count": 113
        },
        {
          "output_type": "display_data",
          "data": {
            "image/png": "[encoded data removed]",
            "text/plain": [
              "<Figure size 432x288 with 1 Axes>"
            ]
          },
          "metadata": {
            "tags": [],
            "needs_background": "light"
          }
        }
      ]
    },
    {
      "cell_type": "code",
      "metadata": {
        "colab": {
          "base_uri": "https://localhost:8080/"
        },
        "id": "kLxsPuf7qGee",
        "outputId": "81ee7f92-ff70-4725-b94f-a6006eb9c689"
      },
      "source": [
        "scaled_data.shape\n",
        "#data.shape\n"
      ],
      "execution_count": null,
      "outputs": [
        {
          "output_type": "execute_result",
          "data": {
            "text/plain": [
              "(232, 1)"
            ]
          },
          "metadata": {
            "tags": []
          },
          "execution_count": 114
        }
      ]
    },
    {
      "cell_type": "code",
      "metadata": {
        "id": "nu0BZ6cTqGpW"
      },
      "source": [
        "#training_data = data[:225]\n",
        "#test_data = data[225:]\n",
        "\n",
        "training_data = scaled_data[:225]\n",
        "test_data = scaled_data[225:]\n",
        "#training_data = df['first_death_diff'][:195]\n",
        "#test_data = df['first_death_diff'][195:]"
      ],
      "execution_count": null,
      "outputs": []
    },
    {
      "cell_type": "code",
      "metadata": {
        "id": "al6cXyQBJgSH"
      },
      "source": [
        ""
      ],
      "execution_count": null,
      "outputs": []
    },
    {
      "cell_type": "code",
      "metadata": {
        "id": "XZCvRu_Ege_n"
      },
      "source": [
        " from statsmodels.tsa.arima_model import ARIMA"
      ],
      "execution_count": null,
      "outputs": []
    },
    {
      "cell_type": "code",
      "metadata": {
        "id": "gchkdLfHY-XY"
      },
      "source": [
        "import warnings\n",
        "import pandas as pd\n",
        "from statsmodels.tsa.arima_model import ARIMA\n",
        "from sklearn.metrics import mean_squared_error\n",
        "from math import sqrt\n",
        "from matplotlib import pyplot"
      ],
      "execution_count": null,
      "outputs": []
    },
    {
      "cell_type": "code",
      "metadata": {
        "colab": {
          "base_uri": "https://localhost:8080/",
          "height": 300
        },
        "id": "ZwsGAIn2XIs_",
        "outputId": "61170199-1e53-4688-a2c3-f6253e75871c"
      },
      "source": [
        "test_data"
      ],
      "execution_count": null,
      "outputs": [
        {
          "output_type": "execute_result",
          "data": {
            "text/html": [
              "<div>\n",
              "<style scoped>\n",
              "    .dataframe tbody tr th:only-of-type {\n",
              "        vertical-align: middle;\n",
              "    }\n",
              "\n",
              "    .dataframe tbody tr th {\n",
              "        vertical-align: top;\n",
              "    }\n",
              "\n",
              "    .dataframe thead th {\n",
              "        text-align: right;\n",
              "    }\n",
              "</style>\n",
              "<table border=\"1\" class=\"dataframe\">\n",
              "  <thead>\n",
              "    <tr style=\"text-align: right;\">\n",
              "      <th></th>\n",
              "      <th>Deaths</th>\n",
              "    </tr>\n",
              "    <tr>\n",
              "      <th>week_month_year</th>\n",
              "      <th></th>\n",
              "    </tr>\n",
              "  </thead>\n",
              "  <tbody>\n",
              "    <tr>\n",
              "      <th>2021-05-10/2021-05-16</th>\n",
              "      <td>0.093897</td>\n",
              "    </tr>\n",
              "    <tr>\n",
              "      <th>2021-05-17/2021-05-23</th>\n",
              "      <td>0.131455</td>\n",
              "    </tr>\n",
              "    <tr>\n",
              "      <th>2021-05-24/2021-05-30</th>\n",
              "      <td>0.014085</td>\n",
              "    </tr>\n",
              "    <tr>\n",
              "      <th>2021-05-31/2021-06-06</th>\n",
              "      <td>0.051643</td>\n",
              "    </tr>\n",
              "    <tr>\n",
              "      <th>2021-06-07/2021-06-13</th>\n",
              "      <td>0.037559</td>\n",
              "    </tr>\n",
              "    <tr>\n",
              "      <th>2021-06-14/2021-06-20</th>\n",
              "      <td>0.075117</td>\n",
              "    </tr>\n",
              "    <tr>\n",
              "      <th>2021-06-21/2021-06-27</th>\n",
              "      <td>0.023474</td>\n",
              "    </tr>\n",
              "  </tbody>\n",
              "</table>\n",
              "</div>"
            ],
            "text/plain": [
              "                         Deaths\n",
              "week_month_year                \n",
              "2021-05-10/2021-05-16  0.093897\n",
              "2021-05-17/2021-05-23  0.131455\n",
              "2021-05-24/2021-05-30  0.014085\n",
              "2021-05-31/2021-06-06  0.051643\n",
              "2021-06-07/2021-06-13  0.037559\n",
              "2021-06-14/2021-06-20  0.075117\n",
              "2021-06-21/2021-06-27  0.023474"
            ]
          },
          "metadata": {
            "tags": []
          },
          "execution_count": 118
        }
      ]
    },
    {
      "cell_type": "code",
      "metadata": {
        "id": "dLzFzYacWJIZ"
      },
      "source": [
        "def evaluate_models(dataset,test_data, p_values, d_values, q_values):\n",
        "\n",
        "  best_score = float(\"inf\")\n",
        "  best_cfg = None\n",
        "\n",
        "  for p in p_values:\n",
        "    for d in d_values:\n",
        "      for q in q_values:\n",
        "        order = (p, d, q)\n",
        "        try:\n",
        "          \n",
        "          arima = ARIMA(dataset,order=order)\n",
        "          model = arima.fit()\n",
        "          predictions = model.forecast(steps=len(test_data))[0]\n",
        "          test = test_data['Deaths'].to_list()\n",
        "          rmse =  np.sqrt(mean_squared_error(test, predictions))\n",
        "          if rmse < best_score:\n",
        "            best_score, best_cfg = rmse, order\n",
        "            print('ARIMA%s RMSE=%.3f' % (order, rmse))\n",
        "        except:\n",
        "          continue\n",
        "\n",
        "  print('Best ARIMA%s RMSE=%.3f' % (best_cfg, best_score))\n",
        "  return best_cfg\n"
      ],
      "execution_count": null,
      "outputs": []
    },
    {
      "cell_type": "code",
      "metadata": {
        "colab": {
          "base_uri": "https://localhost:8080/"
        },
        "id": "KtmodK-DW1xH",
        "outputId": "c51bf7dd-5cb5-4784-b730-4c03fb622be9"
      },
      "source": [
        "p_values = range(0, 4)\n",
        "d_values = range(0, 1)\n",
        "q_values = range(0, 4)\n",
        "#warnings.filterwarnings(\"ignore\")\n",
        "\n",
        "order = evaluate_models(training_data,test_data, p_values, d_values, q_values)\n",
        "print(order)"
      ],
      "execution_count": null,
      "outputs": [
        {
          "output_type": "stream",
          "text": [
            "ARIMA(0, 0, 0) RMSE=0.041\n",
            "ARIMA(1, 0, 1) RMSE=0.040\n"
          ],
          "name": "stdout"
        },
        {
          "output_type": "stream",
          "text": [
            "/usr/local/lib/python3.7/dist-packages/statsmodels/base/model.py:492: HessianInversionWarning:\n",
            "\n",
            "Inverting hessian failed, no bse or cov_params available\n",
            "\n"
          ],
          "name": "stderr"
        },
        {
          "output_type": "stream",
          "text": [
            "ARIMA(3, 0, 1) RMSE=0.040\n",
            "ARIMA(3, 0, 2) RMSE=0.036\n",
            "Best ARIMA(3, 0, 2) RMSE=0.036\n",
            "(3, 0, 2)\n"
          ],
          "name": "stdout"
        },
        {
          "output_type": "stream",
          "text": [
            "/usr/local/lib/python3.7/dist-packages/statsmodels/base/model.py:512: ConvergenceWarning:\n",
            "\n",
            "Maximum Likelihood optimization failed to converge. Check mle_retvals\n",
            "\n"
          ],
          "name": "stderr"
        }
      ]
    },
    {
      "cell_type": "code",
      "metadata": {
        "id": "LCexrNMKgfCk"
      },
      "source": [
        "arima = ARIMA(training_data,order=order)"
      ],
      "execution_count": null,
      "outputs": []
    },
    {
      "cell_type": "code",
      "metadata": {
        "id": "YCDNmRXurzTw",
        "colab": {
          "base_uri": "https://localhost:8080/"
        },
        "outputId": "25611b8b-5273-46a6-c12d-89808b27fbb3"
      },
      "source": [
        "model = arima.fit()"
      ],
      "execution_count": null,
      "outputs": [
        {
          "output_type": "stream",
          "text": [
            "/usr/local/lib/python3.7/dist-packages/statsmodels/base/model.py:512: ConvergenceWarning:\n",
            "\n",
            "Maximum Likelihood optimization failed to converge. Check mle_retvals\n",
            "\n"
          ],
          "name": "stderr"
        }
      ]
    },
    {
      "cell_type": "markdown",
      "metadata": {
        "id": "51O3RO5cXDa2"
      },
      "source": [
        "Predict using ARIMA model"
      ]
    },
    {
      "cell_type": "code",
      "metadata": {
        "id": "uLL5ZlRHbZQR"
      },
      "source": [
        "from sklearn import metrics"
      ],
      "execution_count": null,
      "outputs": []
    },
    {
      "cell_type": "code",
      "metadata": {
        "id": "rNM1M-w-cO3v"
      },
      "source": [
        "def mape(y_true, y_pred):\n",
        "    return np.mean(np.abs((y_pred - y_true) / y_true)) * 100"
      ],
      "execution_count": null,
      "outputs": []
    },
    {
      "cell_type": "code",
      "metadata": {
        "id": "zBcnMzMqW7wq"
      },
      "source": [
        "predictions = model.forecast(steps=len(test_data))[0]\n"
      ],
      "execution_count": null,
      "outputs": []
    },
    {
      "cell_type": "code",
      "metadata": {
        "colab": {
          "base_uri": "https://localhost:8080/",
          "height": 578
        },
        "id": "wNlmYFKkE2nZ",
        "outputId": "b18b7e39-4051-4263-9ce8-0af625ab1921"
      },
      "source": [
        "pred = pd.DataFrame(predictions)\n",
        "print(\"Predicted value\")\n",
        "denormalize(pred,min,max)\n",
        "denormalize(test_data,min,max)"
      ],
      "execution_count": null,
      "outputs": [
        {
          "output_type": "stream",
          "text": [
            "Predicted value\n"
          ],
          "name": "stdout"
        },
        {
          "output_type": "stream",
          "text": [
            "/usr/local/lib/python3.7/dist-packages/pandas/core/indexing.py:670: SettingWithCopyWarning:\n",
            "\n",
            "\n",
            "A value is trying to be set on a copy of a slice from a DataFrame\n",
            "\n",
            "See the caveats in the documentation: https://pandas.pydata.org/pandas-docs/stable/user_guide/indexing.html#returning-a-view-versus-a-copy\n",
            "\n",
            "/usr/local/lib/python3.7/dist-packages/ipykernel_launcher.py:4: SettingWithCopyWarning:\n",
            "\n",
            "\n",
            "A value is trying to be set on a copy of a slice from a DataFrame\n",
            "\n",
            "See the caveats in the documentation: https://pandas.pydata.org/pandas-docs/stable/user_guide/indexing.html#returning-a-view-versus-a-copy\n",
            "\n"
          ],
          "name": "stderr"
        },
        {
          "output_type": "execute_result",
          "data": {
            "text/html": [
              "<div>\n",
              "<style scoped>\n",
              "    .dataframe tbody tr th:only-of-type {\n",
              "        vertical-align: middle;\n",
              "    }\n",
              "\n",
              "    .dataframe tbody tr th {\n",
              "        vertical-align: top;\n",
              "    }\n",
              "\n",
              "    .dataframe thead th {\n",
              "        text-align: right;\n",
              "    }\n",
              "</style>\n",
              "<table border=\"1\" class=\"dataframe\">\n",
              "  <thead>\n",
              "    <tr style=\"text-align: right;\">\n",
              "      <th></th>\n",
              "      <th>Deaths</th>\n",
              "    </tr>\n",
              "    <tr>\n",
              "      <th>week_month_year</th>\n",
              "      <th></th>\n",
              "    </tr>\n",
              "  </thead>\n",
              "  <tbody>\n",
              "    <tr>\n",
              "      <th>2021-05-10/2021-05-16</th>\n",
              "      <td>20.0</td>\n",
              "    </tr>\n",
              "    <tr>\n",
              "      <th>2021-05-17/2021-05-23</th>\n",
              "      <td>28.0</td>\n",
              "    </tr>\n",
              "    <tr>\n",
              "      <th>2021-05-24/2021-05-30</th>\n",
              "      <td>3.0</td>\n",
              "    </tr>\n",
              "    <tr>\n",
              "      <th>2021-05-31/2021-06-06</th>\n",
              "      <td>11.0</td>\n",
              "    </tr>\n",
              "    <tr>\n",
              "      <th>2021-06-07/2021-06-13</th>\n",
              "      <td>8.0</td>\n",
              "    </tr>\n",
              "    <tr>\n",
              "      <th>2021-06-14/2021-06-20</th>\n",
              "      <td>16.0</td>\n",
              "    </tr>\n",
              "    <tr>\n",
              "      <th>2021-06-21/2021-06-27</th>\n",
              "      <td>5.0</td>\n",
              "    </tr>\n",
              "  </tbody>\n",
              "</table>\n",
              "</div>"
            ],
            "text/plain": [
              "                       Deaths\n",
              "week_month_year              \n",
              "2021-05-10/2021-05-16    20.0\n",
              "2021-05-17/2021-05-23    28.0\n",
              "2021-05-24/2021-05-30     3.0\n",
              "2021-05-31/2021-06-06    11.0\n",
              "2021-06-07/2021-06-13     8.0\n",
              "2021-06-14/2021-06-20    16.0\n",
              "2021-06-21/2021-06-27     5.0"
            ]
          },
          "metadata": {
            "tags": []
          },
          "execution_count": 126
        }
      ]
    },
    {
      "cell_type": "code",
      "metadata": {
        "id": "82d8JflnFIYd"
      },
      "source": [
        ""
      ],
      "execution_count": null,
      "outputs": []
    },
    {
      "cell_type": "code",
      "metadata": {
        "colab": {
          "base_uri": "https://localhost:8080/"
        },
        "id": "bREFZVyxbd9l",
        "outputId": "db053457-e417-465c-b500-0728c288c208"
      },
      "source": [
        "print(\"RMSE\")\n",
        "print(np.sqrt(mean_squared_error(test_data, predictions)))\n",
        "print(\"MSE\")\n",
        "print(metrics.mean_squared_error(test_data, predictions))\n",
        "print(\"R2\")\n",
        "print(metrics.r2_score(test_data, predictions))\n",
        "print(\"MAPE\")\n",
        "print(mape(test_data['Deaths'].to_list(), predictions))\n",
        "print(\"MAE\")\n",
        "print(metrics.mean_absolute_error(test_data, predictions))"
      ],
      "execution_count": null,
      "outputs": [
        {
          "output_type": "stream",
          "text": [
            "RMSE\n",
            "7.736739808029145\n",
            "MSE\n",
            "59.857142857142854\n",
            "R2\n",
            "0.11974789915966388\n",
            "MAPE\n",
            "99.21227581941866\n",
            "MAE\n",
            "7.0\n"
          ],
          "name": "stdout"
        }
      ]
    },
    {
      "cell_type": "code",
      "metadata": {
        "id": "AIf1BCw8t3Ck"
      },
      "source": [
        ""
      ],
      "execution_count": null,
      "outputs": []
    },
    {
      "cell_type": "code",
      "metadata": {
        "id": "EnHuZdJvsQ9f"
      },
      "source": [
        ""
      ],
      "execution_count": null,
      "outputs": []
    },
    {
      "cell_type": "code",
      "metadata": {
        "colab": {
          "base_uri": "https://localhost:8080/",
          "height": 357
        },
        "id": "OObtmPNHeydX",
        "outputId": "754627b2-a49e-412a-e03f-8e6752271da8"
      },
      "source": [
        "print(\"Actual value : {}\".format(test_data['Deaths'].to_list()))\n",
        "print(\"predicted value: {}\".format(pred[0].to_list()))\n",
        "import matplotlib.pyplot as plt\n",
        "fig , ax = plt.subplots(figsize=(50,10))\n",
        "ax.plot(pred)\n",
        "ax.plot(test_data['Deaths'].to_list())\n",
        "plt.legend(['prediction', 'Actual'])"
      ],
      "execution_count": null,
      "outputs": [
        {
          "output_type": "stream",
          "text": [
            "Actual value : [20.0, 28.0, 3.0, 11.0, 8.0, 16.0, 5.0]\n",
            "predicted value: [13.0, 16.0, 13.0, 17.0, 13.0, 17.0, 13.0]\n"
          ],
          "name": "stdout"
        },
        {
          "output_type": "execute_result",
          "data": {
            "text/plain": [
              "<matplotlib.legend.Legend at 0x7f90083a4850>"
            ]
          },
          "metadata": {
            "tags": []
          },
          "execution_count": 233
        },
        {
          "output_type": "display_data",
          "data": {
            "image/png": "[encoded data removed]",
            "text/plain": [
              "<Figure size 3600x720 with 1 Axes>"
            ]
          },
          "metadata": {
            "tags": [],
            "needs_background": "light"
          }
        }
      ]
    },
    {
      "cell_type": "markdown",
      "metadata": {
        "id": "f2P4ny2cX05K"
      },
      "source": [
        "# Facebook prophet"
      ]
    },
    {
      "cell_type": "code",
      "metadata": {
        "id": "9_4D9n_Xh53W"
      },
      "source": [
        "scaled_data =data.copy()\n",
        "normalize(scaled_data,min,max)\n",
        "fb =scaled_data.reset_index()"
      ],
      "execution_count": null,
      "outputs": []
    },
    {
      "cell_type": "code",
      "metadata": {
        "id": "6liEHlWPinEv"
      },
      "source": [
        "fb['week_month_year'] = fb['week_month_year'].dt.to_timestamp('s').dt.strftime('%Y-%m-%d %H:%M:%S').add('.000')"
      ],
      "execution_count": null,
      "outputs": []
    },
    {
      "cell_type": "code",
      "metadata": {
        "colab": {
          "base_uri": "https://localhost:8080/",
          "height": 424
        },
        "id": "j91vbhmQjuuP",
        "outputId": "24b5d096-a292-4c92-d159-7ae3cf0af307"
      },
      "source": [
        "fb"
      ],
      "execution_count": null,
      "outputs": [
        {
          "output_type": "execute_result",
          "data": {
            "text/html": [
              "<div>\n",
              "<style scoped>\n",
              "    .dataframe tbody tr th:only-of-type {\n",
              "        vertical-align: middle;\n",
              "    }\n",
              "\n",
              "    .dataframe tbody tr th {\n",
              "        vertical-align: top;\n",
              "    }\n",
              "\n",
              "    .dataframe thead th {\n",
              "        text-align: right;\n",
              "    }\n",
              "</style>\n",
              "<table border=\"1\" class=\"dataframe\">\n",
              "  <thead>\n",
              "    <tr style=\"text-align: right;\">\n",
              "      <th></th>\n",
              "      <th>week_month_year</th>\n",
              "      <th>Deaths</th>\n",
              "    </tr>\n",
              "  </thead>\n",
              "  <tbody>\n",
              "    <tr>\n",
              "      <th>0</th>\n",
              "      <td>2016-06-20 00:00:00.000</td>\n",
              "      <td>0.014085</td>\n",
              "    </tr>\n",
              "    <tr>\n",
              "      <th>1</th>\n",
              "      <td>2016-07-11 00:00:00.000</td>\n",
              "      <td>0.018779</td>\n",
              "    </tr>\n",
              "    <tr>\n",
              "      <th>2</th>\n",
              "      <td>2016-08-01 00:00:00.000</td>\n",
              "      <td>0.014085</td>\n",
              "    </tr>\n",
              "    <tr>\n",
              "      <th>3</th>\n",
              "      <td>2016-08-08 00:00:00.000</td>\n",
              "      <td>0.004695</td>\n",
              "    </tr>\n",
              "    <tr>\n",
              "      <th>4</th>\n",
              "      <td>2016-08-15 00:00:00.000</td>\n",
              "      <td>0.037559</td>\n",
              "    </tr>\n",
              "    <tr>\n",
              "      <th>...</th>\n",
              "      <td>...</td>\n",
              "      <td>...</td>\n",
              "    </tr>\n",
              "    <tr>\n",
              "      <th>227</th>\n",
              "      <td>2021-05-24 00:00:00.000</td>\n",
              "      <td>0.014085</td>\n",
              "    </tr>\n",
              "    <tr>\n",
              "      <th>228</th>\n",
              "      <td>2021-05-31 00:00:00.000</td>\n",
              "      <td>0.051643</td>\n",
              "    </tr>\n",
              "    <tr>\n",
              "      <th>229</th>\n",
              "      <td>2021-06-07 00:00:00.000</td>\n",
              "      <td>0.037559</td>\n",
              "    </tr>\n",
              "    <tr>\n",
              "      <th>230</th>\n",
              "      <td>2021-06-14 00:00:00.000</td>\n",
              "      <td>0.075117</td>\n",
              "    </tr>\n",
              "    <tr>\n",
              "      <th>231</th>\n",
              "      <td>2021-06-21 00:00:00.000</td>\n",
              "      <td>0.023474</td>\n",
              "    </tr>\n",
              "  </tbody>\n",
              "</table>\n",
              "<p>232 rows × 2 columns</p>\n",
              "</div>"
            ],
            "text/plain": [
              "             week_month_year    Deaths\n",
              "0    2016-06-20 00:00:00.000  0.014085\n",
              "1    2016-07-11 00:00:00.000  0.018779\n",
              "2    2016-08-01 00:00:00.000  0.014085\n",
              "3    2016-08-08 00:00:00.000  0.004695\n",
              "4    2016-08-15 00:00:00.000  0.037559\n",
              "..                       ...       ...\n",
              "227  2021-05-24 00:00:00.000  0.014085\n",
              "228  2021-05-31 00:00:00.000  0.051643\n",
              "229  2021-06-07 00:00:00.000  0.037559\n",
              "230  2021-06-14 00:00:00.000  0.075117\n",
              "231  2021-06-21 00:00:00.000  0.023474\n",
              "\n",
              "[232 rows x 2 columns]"
            ]
          },
          "metadata": {
            "tags": []
          },
          "execution_count": 133
        }
      ]
    },
    {
      "cell_type": "code",
      "metadata": {
        "id": "FXqsBGJKjCNU"
      },
      "source": [
        "import fbprophet\n",
        "import pandas as pd\n",
        "from fbprophet import Prophet"
      ],
      "execution_count": null,
      "outputs": []
    },
    {
      "cell_type": "code",
      "metadata": {
        "id": "ugOmFpJ3s6AY"
      },
      "source": [
        "df_prophet =fb.rename(columns={'week_month_year' : 'ds', 'Deaths': 'y'})\n"
      ],
      "execution_count": null,
      "outputs": []
    },
    {
      "cell_type": "code",
      "metadata": {
        "colab": {
          "base_uri": "https://localhost:8080/",
          "height": 206
        },
        "id": "IX0fEE8Xiv_M",
        "outputId": "d660648d-9a12-46f8-c9fe-f02b90043695"
      },
      "source": [
        "\n",
        "df_prophet.head()"
      ],
      "execution_count": null,
      "outputs": [
        {
          "output_type": "execute_result",
          "data": {
            "text/html": [
              "<div>\n",
              "<style scoped>\n",
              "    .dataframe tbody tr th:only-of-type {\n",
              "        vertical-align: middle;\n",
              "    }\n",
              "\n",
              "    .dataframe tbody tr th {\n",
              "        vertical-align: top;\n",
              "    }\n",
              "\n",
              "    .dataframe thead th {\n",
              "        text-align: right;\n",
              "    }\n",
              "</style>\n",
              "<table border=\"1\" class=\"dataframe\">\n",
              "  <thead>\n",
              "    <tr style=\"text-align: right;\">\n",
              "      <th></th>\n",
              "      <th>ds</th>\n",
              "      <th>y</th>\n",
              "    </tr>\n",
              "  </thead>\n",
              "  <tbody>\n",
              "    <tr>\n",
              "      <th>0</th>\n",
              "      <td>2016-06-20 00:00:00.000</td>\n",
              "      <td>0.014085</td>\n",
              "    </tr>\n",
              "    <tr>\n",
              "      <th>1</th>\n",
              "      <td>2016-07-11 00:00:00.000</td>\n",
              "      <td>0.018779</td>\n",
              "    </tr>\n",
              "    <tr>\n",
              "      <th>2</th>\n",
              "      <td>2016-08-01 00:00:00.000</td>\n",
              "      <td>0.014085</td>\n",
              "    </tr>\n",
              "    <tr>\n",
              "      <th>3</th>\n",
              "      <td>2016-08-08 00:00:00.000</td>\n",
              "      <td>0.004695</td>\n",
              "    </tr>\n",
              "    <tr>\n",
              "      <th>4</th>\n",
              "      <td>2016-08-15 00:00:00.000</td>\n",
              "      <td>0.037559</td>\n",
              "    </tr>\n",
              "  </tbody>\n",
              "</table>\n",
              "</div>"
            ],
            "text/plain": [
              "                        ds         y\n",
              "0  2016-06-20 00:00:00.000  0.014085\n",
              "1  2016-07-11 00:00:00.000  0.018779\n",
              "2  2016-08-01 00:00:00.000  0.014085\n",
              "3  2016-08-08 00:00:00.000  0.004695\n",
              "4  2016-08-15 00:00:00.000  0.037559"
            ]
          },
          "metadata": {
            "tags": []
          },
          "execution_count": 136
        }
      ]
    },
    {
      "cell_type": "code",
      "metadata": {
        "id": "oxrG2n5Zi8uU"
      },
      "source": [
        "#initialize the model\n",
        "m = Prophet()"
      ],
      "execution_count": null,
      "outputs": []
    },
    {
      "cell_type": "code",
      "metadata": {
        "colab": {
          "base_uri": "https://localhost:8080/"
        },
        "id": "uwe86ekki2gO",
        "outputId": "f8d4ce30-b420-4219-8c2a-40291b608a33"
      },
      "source": [
        "model = m.fit(df_prophet)"
      ],
      "execution_count": null,
      "outputs": [
        {
          "output_type": "stream",
          "text": [
            "INFO:fbprophet:Disabling weekly seasonality. Run prophet with weekly_seasonality=True to override this.\n",
            "INFO:fbprophet:Disabling daily seasonality. Run prophet with daily_seasonality=True to override this.\n"
          ],
          "name": "stderr"
        }
      ]
    },
    {
      "cell_type": "markdown",
      "metadata": {
        "id": "e8tta9qiUo2E"
      },
      "source": [
        "Create Future data for your prediction purpose"
      ]
    },
    {
      "cell_type": "code",
      "metadata": {
        "colab": {
          "base_uri": "https://localhost:8080/"
        },
        "id": "Ki6DVlE9i5hz",
        "outputId": "677cc7e7-d20d-492b-bbac-83203ea43034"
      },
      "source": [
        "model.seasonalities"
      ],
      "execution_count": null,
      "outputs": [
        {
          "output_type": "execute_result",
          "data": {
            "text/plain": [
              "OrderedDict([('yearly',\n",
              "              {'condition_name': None,\n",
              "               'fourier_order': 10,\n",
              "               'mode': 'additive',\n",
              "               'period': 365.25,\n",
              "               'prior_scale': 10.0})])"
            ]
          },
          "metadata": {
            "tags": []
          },
          "execution_count": 139
        }
      ]
    },
    {
      "cell_type": "code",
      "metadata": {
        "id": "_tiFQesYj9pr"
      },
      "source": [
        "future_global = model.make_future_dataframe(periods=7,freq='D')"
      ],
      "execution_count": null,
      "outputs": []
    },
    {
      "cell_type": "code",
      "metadata": {
        "colab": {
          "base_uri": "https://localhost:8080/",
          "height": 424
        },
        "id": "N2159lV9kBGU",
        "outputId": "e600aa86-a9ef-4ec8-bd4c-253e9e6f7a1c"
      },
      "source": [
        "future_global"
      ],
      "execution_count": null,
      "outputs": [
        {
          "output_type": "execute_result",
          "data": {
            "text/html": [
              "<div>\n",
              "<style scoped>\n",
              "    .dataframe tbody tr th:only-of-type {\n",
              "        vertical-align: middle;\n",
              "    }\n",
              "\n",
              "    .dataframe tbody tr th {\n",
              "        vertical-align: top;\n",
              "    }\n",
              "\n",
              "    .dataframe thead th {\n",
              "        text-align: right;\n",
              "    }\n",
              "</style>\n",
              "<table border=\"1\" class=\"dataframe\">\n",
              "  <thead>\n",
              "    <tr style=\"text-align: right;\">\n",
              "      <th></th>\n",
              "      <th>ds</th>\n",
              "    </tr>\n",
              "  </thead>\n",
              "  <tbody>\n",
              "    <tr>\n",
              "      <th>0</th>\n",
              "      <td>2016-06-20</td>\n",
              "    </tr>\n",
              "    <tr>\n",
              "      <th>1</th>\n",
              "      <td>2016-07-11</td>\n",
              "    </tr>\n",
              "    <tr>\n",
              "      <th>2</th>\n",
              "      <td>2016-08-01</td>\n",
              "    </tr>\n",
              "    <tr>\n",
              "      <th>3</th>\n",
              "      <td>2016-08-08</td>\n",
              "    </tr>\n",
              "    <tr>\n",
              "      <th>4</th>\n",
              "      <td>2016-08-15</td>\n",
              "    </tr>\n",
              "    <tr>\n",
              "      <th>...</th>\n",
              "      <td>...</td>\n",
              "    </tr>\n",
              "    <tr>\n",
              "      <th>234</th>\n",
              "      <td>2021-06-24</td>\n",
              "    </tr>\n",
              "    <tr>\n",
              "      <th>235</th>\n",
              "      <td>2021-06-25</td>\n",
              "    </tr>\n",
              "    <tr>\n",
              "      <th>236</th>\n",
              "      <td>2021-06-26</td>\n",
              "    </tr>\n",
              "    <tr>\n",
              "      <th>237</th>\n",
              "      <td>2021-06-27</td>\n",
              "    </tr>\n",
              "    <tr>\n",
              "      <th>238</th>\n",
              "      <td>2021-06-28</td>\n",
              "    </tr>\n",
              "  </tbody>\n",
              "</table>\n",
              "<p>239 rows × 1 columns</p>\n",
              "</div>"
            ],
            "text/plain": [
              "            ds\n",
              "0   2016-06-20\n",
              "1   2016-07-11\n",
              "2   2016-08-01\n",
              "3   2016-08-08\n",
              "4   2016-08-15\n",
              "..         ...\n",
              "234 2021-06-24\n",
              "235 2021-06-25\n",
              "236 2021-06-26\n",
              "237 2021-06-27\n",
              "238 2021-06-28\n",
              "\n",
              "[239 rows x 1 columns]"
            ]
          },
          "metadata": {
            "tags": []
          },
          "execution_count": 141
        }
      ]
    },
    {
      "cell_type": "code",
      "metadata": {
        "colab": {
          "base_uri": "https://localhost:8080/"
        },
        "id": "jGRX51g8kDwR",
        "outputId": "e562e4b8-2d7a-4e3f-fc16-cd2bb1e7276b"
      },
      "source": [
        "df_prophet.shape"
      ],
      "execution_count": null,
      "outputs": [
        {
          "output_type": "execute_result",
          "data": {
            "text/plain": [
              "(232, 2)"
            ]
          },
          "metadata": {
            "tags": []
          },
          "execution_count": 142
        }
      ]
    },
    {
      "cell_type": "code",
      "metadata": {
        "colab": {
          "base_uri": "https://localhost:8080/"
        },
        "id": "HUX_pkdEkrfD",
        "outputId": "173a359d-32e1-43dc-d27e-f872b98e0d6f"
      },
      "source": [
        "future_global.shape"
      ],
      "execution_count": null,
      "outputs": [
        {
          "output_type": "execute_result",
          "data": {
            "text/plain": [
              "(239, 1)"
            ]
          },
          "metadata": {
            "tags": []
          },
          "execution_count": 143
        }
      ]
    },
    {
      "cell_type": "code",
      "metadata": {
        "colab": {
          "base_uri": "https://localhost:8080/"
        },
        "id": "zBu6qvSzktdn",
        "outputId": "5c31db85-2d7e-4dfd-ce1b-ea3f2e42d1b8"
      },
      "source": [
        "df_prophet['ds'].tail()"
      ],
      "execution_count": null,
      "outputs": [
        {
          "output_type": "execute_result",
          "data": {
            "text/plain": [
              "227    2021-05-24 00:00:00.000\n",
              "228    2021-05-31 00:00:00.000\n",
              "229    2021-06-07 00:00:00.000\n",
              "230    2021-06-14 00:00:00.000\n",
              "231    2021-06-21 00:00:00.000\n",
              "Name: ds, dtype: object"
            ]
          },
          "metadata": {
            "tags": []
          },
          "execution_count": 144
        }
      ]
    },
    {
      "cell_type": "markdown",
      "metadata": {
        "id": "KeVg8BYmUx-w"
      },
      "source": [
        "Doing Predictions on your Future data"
      ]
    },
    {
      "cell_type": "code",
      "metadata": {
        "colab": {
          "base_uri": "https://localhost:8080/",
          "height": 444
        },
        "id": "zy3PaWTZkxP4",
        "outputId": "c23d5e48-4f95-420d-da11-bab127b4c33d"
      },
      "source": [
        "prediction =  model.predict(future_global)\n",
        "prediction"
      ],
      "execution_count": null,
      "outputs": [
        {
          "output_type": "execute_result",
          "data": {
            "text/html": [
              "<div>\n",
              "<style scoped>\n",
              "    .dataframe tbody tr th:only-of-type {\n",
              "        vertical-align: middle;\n",
              "    }\n",
              "\n",
              "    .dataframe tbody tr th {\n",
              "        vertical-align: top;\n",
              "    }\n",
              "\n",
              "    .dataframe thead th {\n",
              "        text-align: right;\n",
              "    }\n",
              "</style>\n",
              "<table border=\"1\" class=\"dataframe\">\n",
              "  <thead>\n",
              "    <tr style=\"text-align: right;\">\n",
              "      <th></th>\n",
              "      <th>ds</th>\n",
              "      <th>trend</th>\n",
              "      <th>yhat_lower</th>\n",
              "      <th>yhat_upper</th>\n",
              "      <th>trend_lower</th>\n",
              "      <th>trend_upper</th>\n",
              "      <th>additive_terms</th>\n",
              "      <th>additive_terms_lower</th>\n",
              "      <th>additive_terms_upper</th>\n",
              "      <th>yearly</th>\n",
              "      <th>yearly_lower</th>\n",
              "      <th>yearly_upper</th>\n",
              "      <th>multiplicative_terms</th>\n",
              "      <th>multiplicative_terms_lower</th>\n",
              "      <th>multiplicative_terms_upper</th>\n",
              "      <th>yhat</th>\n",
              "    </tr>\n",
              "  </thead>\n",
              "  <tbody>\n",
              "    <tr>\n",
              "      <th>0</th>\n",
              "      <td>2016-06-20</td>\n",
              "      <td>0.050526</td>\n",
              "      <td>-0.041933</td>\n",
              "      <td>0.180228</td>\n",
              "      <td>0.050526</td>\n",
              "      <td>0.050526</td>\n",
              "      <td>0.019115</td>\n",
              "      <td>0.019115</td>\n",
              "      <td>0.019115</td>\n",
              "      <td>0.019115</td>\n",
              "      <td>0.019115</td>\n",
              "      <td>0.019115</td>\n",
              "      <td>0.0</td>\n",
              "      <td>0.0</td>\n",
              "      <td>0.0</td>\n",
              "      <td>0.069641</td>\n",
              "    </tr>\n",
              "    <tr>\n",
              "      <th>1</th>\n",
              "      <td>2016-07-11</td>\n",
              "      <td>0.051181</td>\n",
              "      <td>-0.054334</td>\n",
              "      <td>0.152175</td>\n",
              "      <td>0.051181</td>\n",
              "      <td>0.051181</td>\n",
              "      <td>-0.004243</td>\n",
              "      <td>-0.004243</td>\n",
              "      <td>-0.004243</td>\n",
              "      <td>-0.004243</td>\n",
              "      <td>-0.004243</td>\n",
              "      <td>-0.004243</td>\n",
              "      <td>0.0</td>\n",
              "      <td>0.0</td>\n",
              "      <td>0.0</td>\n",
              "      <td>0.046938</td>\n",
              "    </tr>\n",
              "    <tr>\n",
              "      <th>2</th>\n",
              "      <td>2016-08-01</td>\n",
              "      <td>0.051836</td>\n",
              "      <td>-0.072534</td>\n",
              "      <td>0.138741</td>\n",
              "      <td>0.051836</td>\n",
              "      <td>0.051836</td>\n",
              "      <td>-0.020513</td>\n",
              "      <td>-0.020513</td>\n",
              "      <td>-0.020513</td>\n",
              "      <td>-0.020513</td>\n",
              "      <td>-0.020513</td>\n",
              "      <td>-0.020513</td>\n",
              "      <td>0.0</td>\n",
              "      <td>0.0</td>\n",
              "      <td>0.0</td>\n",
              "      <td>0.031322</td>\n",
              "    </tr>\n",
              "    <tr>\n",
              "      <th>3</th>\n",
              "      <td>2016-08-08</td>\n",
              "      <td>0.052054</td>\n",
              "      <td>-0.053342</td>\n",
              "      <td>0.163392</td>\n",
              "      <td>0.052054</td>\n",
              "      <td>0.052054</td>\n",
              "      <td>-0.000967</td>\n",
              "      <td>-0.000967</td>\n",
              "      <td>-0.000967</td>\n",
              "      <td>-0.000967</td>\n",
              "      <td>-0.000967</td>\n",
              "      <td>-0.000967</td>\n",
              "      <td>0.0</td>\n",
              "      <td>0.0</td>\n",
              "      <td>0.0</td>\n",
              "      <td>0.051087</td>\n",
              "    </tr>\n",
              "    <tr>\n",
              "      <th>4</th>\n",
              "      <td>2016-08-15</td>\n",
              "      <td>0.052272</td>\n",
              "      <td>-0.044675</td>\n",
              "      <td>0.166832</td>\n",
              "      <td>0.052272</td>\n",
              "      <td>0.052272</td>\n",
              "      <td>0.014149</td>\n",
              "      <td>0.014149</td>\n",
              "      <td>0.014149</td>\n",
              "      <td>0.014149</td>\n",
              "      <td>0.014149</td>\n",
              "      <td>0.014149</td>\n",
              "      <td>0.0</td>\n",
              "      <td>0.0</td>\n",
              "      <td>0.0</td>\n",
              "      <td>0.066421</td>\n",
              "    </tr>\n",
              "    <tr>\n",
              "      <th>...</th>\n",
              "      <td>...</td>\n",
              "      <td>...</td>\n",
              "      <td>...</td>\n",
              "      <td>...</td>\n",
              "      <td>...</td>\n",
              "      <td>...</td>\n",
              "      <td>...</td>\n",
              "      <td>...</td>\n",
              "      <td>...</td>\n",
              "      <td>...</td>\n",
              "      <td>...</td>\n",
              "      <td>...</td>\n",
              "      <td>...</td>\n",
              "      <td>...</td>\n",
              "      <td>...</td>\n",
              "      <td>...</td>\n",
              "    </tr>\n",
              "    <tr>\n",
              "      <th>234</th>\n",
              "      <td>2021-06-24</td>\n",
              "      <td>0.066084</td>\n",
              "      <td>-0.026842</td>\n",
              "      <td>0.201966</td>\n",
              "      <td>0.066084</td>\n",
              "      <td>0.066084</td>\n",
              "      <td>0.015989</td>\n",
              "      <td>0.015989</td>\n",
              "      <td>0.015989</td>\n",
              "      <td>0.015989</td>\n",
              "      <td>0.015989</td>\n",
              "      <td>0.015989</td>\n",
              "      <td>0.0</td>\n",
              "      <td>0.0</td>\n",
              "      <td>0.0</td>\n",
              "      <td>0.082074</td>\n",
              "    </tr>\n",
              "    <tr>\n",
              "      <th>235</th>\n",
              "      <td>2021-06-25</td>\n",
              "      <td>0.066053</td>\n",
              "      <td>-0.026756</td>\n",
              "      <td>0.190769</td>\n",
              "      <td>0.066053</td>\n",
              "      <td>0.066053</td>\n",
              "      <td>0.015240</td>\n",
              "      <td>0.015240</td>\n",
              "      <td>0.015240</td>\n",
              "      <td>0.015240</td>\n",
              "      <td>0.015240</td>\n",
              "      <td>0.015240</td>\n",
              "      <td>0.0</td>\n",
              "      <td>0.0</td>\n",
              "      <td>0.0</td>\n",
              "      <td>0.081293</td>\n",
              "    </tr>\n",
              "    <tr>\n",
              "      <th>236</th>\n",
              "      <td>2021-06-26</td>\n",
              "      <td>0.066022</td>\n",
              "      <td>-0.026312</td>\n",
              "      <td>0.186108</td>\n",
              "      <td>0.066022</td>\n",
              "      <td>0.066022</td>\n",
              "      <td>0.014524</td>\n",
              "      <td>0.014524</td>\n",
              "      <td>0.014524</td>\n",
              "      <td>0.014524</td>\n",
              "      <td>0.014524</td>\n",
              "      <td>0.014524</td>\n",
              "      <td>0.0</td>\n",
              "      <td>0.0</td>\n",
              "      <td>0.0</td>\n",
              "      <td>0.080546</td>\n",
              "    </tr>\n",
              "    <tr>\n",
              "      <th>237</th>\n",
              "      <td>2021-06-27</td>\n",
              "      <td>0.065991</td>\n",
              "      <td>-0.025569</td>\n",
              "      <td>0.185970</td>\n",
              "      <td>0.065991</td>\n",
              "      <td>0.065991</td>\n",
              "      <td>0.013830</td>\n",
              "      <td>0.013830</td>\n",
              "      <td>0.013830</td>\n",
              "      <td>0.013830</td>\n",
              "      <td>0.013830</td>\n",
              "      <td>0.013830</td>\n",
              "      <td>0.0</td>\n",
              "      <td>0.0</td>\n",
              "      <td>0.0</td>\n",
              "      <td>0.079821</td>\n",
              "    </tr>\n",
              "    <tr>\n",
              "      <th>238</th>\n",
              "      <td>2021-06-28</td>\n",
              "      <td>0.065960</td>\n",
              "      <td>-0.026713</td>\n",
              "      <td>0.175779</td>\n",
              "      <td>0.065960</td>\n",
              "      <td>0.065960</td>\n",
              "      <td>0.013145</td>\n",
              "      <td>0.013145</td>\n",
              "      <td>0.013145</td>\n",
              "      <td>0.013145</td>\n",
              "      <td>0.013145</td>\n",
              "      <td>0.013145</td>\n",
              "      <td>0.0</td>\n",
              "      <td>0.0</td>\n",
              "      <td>0.0</td>\n",
              "      <td>0.079104</td>\n",
              "    </tr>\n",
              "  </tbody>\n",
              "</table>\n",
              "<p>239 rows × 16 columns</p>\n",
              "</div>"
            ],
            "text/plain": [
              "            ds     trend  ...  multiplicative_terms_upper      yhat\n",
              "0   2016-06-20  0.050526  ...                         0.0  0.069641\n",
              "1   2016-07-11  0.051181  ...                         0.0  0.046938\n",
              "2   2016-08-01  0.051836  ...                         0.0  0.031322\n",
              "3   2016-08-08  0.052054  ...                         0.0  0.051087\n",
              "4   2016-08-15  0.052272  ...                         0.0  0.066421\n",
              "..         ...       ...  ...                         ...       ...\n",
              "234 2021-06-24  0.066084  ...                         0.0  0.082074\n",
              "235 2021-06-25  0.066053  ...                         0.0  0.081293\n",
              "236 2021-06-26  0.066022  ...                         0.0  0.080546\n",
              "237 2021-06-27  0.065991  ...                         0.0  0.079821\n",
              "238 2021-06-28  0.065960  ...                         0.0  0.079104\n",
              "\n",
              "[239 rows x 16 columns]"
            ]
          },
          "metadata": {
            "tags": []
          },
          "execution_count": 145
        }
      ]
    },
    {
      "cell_type": "code",
      "metadata": {
        "colab": {
          "base_uri": "https://localhost:8080/",
          "height": 206
        },
        "id": "nNJeAvxuk0G-",
        "outputId": "0e79e52d-5d49-4bb0-fb3e-3cc3541a6dfb"
      },
      "source": [
        "prediction[['ds', 'yhat' , 'yhat_lower', 'yhat_upper']].tail()"
      ],
      "execution_count": null,
      "outputs": [
        {
          "output_type": "execute_result",
          "data": {
            "text/html": [
              "<div>\n",
              "<style scoped>\n",
              "    .dataframe tbody tr th:only-of-type {\n",
              "        vertical-align: middle;\n",
              "    }\n",
              "\n",
              "    .dataframe tbody tr th {\n",
              "        vertical-align: top;\n",
              "    }\n",
              "\n",
              "    .dataframe thead th {\n",
              "        text-align: right;\n",
              "    }\n",
              "</style>\n",
              "<table border=\"1\" class=\"dataframe\">\n",
              "  <thead>\n",
              "    <tr style=\"text-align: right;\">\n",
              "      <th></th>\n",
              "      <th>ds</th>\n",
              "      <th>yhat</th>\n",
              "      <th>yhat_lower</th>\n",
              "      <th>yhat_upper</th>\n",
              "    </tr>\n",
              "  </thead>\n",
              "  <tbody>\n",
              "    <tr>\n",
              "      <th>234</th>\n",
              "      <td>2021-06-24</td>\n",
              "      <td>0.082074</td>\n",
              "      <td>-0.026842</td>\n",
              "      <td>0.201966</td>\n",
              "    </tr>\n",
              "    <tr>\n",
              "      <th>235</th>\n",
              "      <td>2021-06-25</td>\n",
              "      <td>0.081293</td>\n",
              "      <td>-0.026756</td>\n",
              "      <td>0.190769</td>\n",
              "    </tr>\n",
              "    <tr>\n",
              "      <th>236</th>\n",
              "      <td>2021-06-26</td>\n",
              "      <td>0.080546</td>\n",
              "      <td>-0.026312</td>\n",
              "      <td>0.186108</td>\n",
              "    </tr>\n",
              "    <tr>\n",
              "      <th>237</th>\n",
              "      <td>2021-06-27</td>\n",
              "      <td>0.079821</td>\n",
              "      <td>-0.025569</td>\n",
              "      <td>0.185970</td>\n",
              "    </tr>\n",
              "    <tr>\n",
              "      <th>238</th>\n",
              "      <td>2021-06-28</td>\n",
              "      <td>0.079104</td>\n",
              "      <td>-0.026713</td>\n",
              "      <td>0.175779</td>\n",
              "    </tr>\n",
              "  </tbody>\n",
              "</table>\n",
              "</div>"
            ],
            "text/plain": [
              "            ds      yhat  yhat_lower  yhat_upper\n",
              "234 2021-06-24  0.082074   -0.026842    0.201966\n",
              "235 2021-06-25  0.081293   -0.026756    0.190769\n",
              "236 2021-06-26  0.080546   -0.026312    0.186108\n",
              "237 2021-06-27  0.079821   -0.025569    0.185970\n",
              "238 2021-06-28  0.079104   -0.026713    0.175779"
            ]
          },
          "metadata": {
            "tags": []
          },
          "execution_count": 146
        }
      ]
    },
    {
      "cell_type": "markdown",
      "metadata": {
        "id": "stoZU8d4U3ki"
      },
      "source": [
        "Visualise your predictions"
      ]
    },
    {
      "cell_type": "code",
      "metadata": {
        "colab": {
          "base_uri": "https://localhost:8080/",
          "height": 865
        },
        "id": "7FkStjjQk2c8",
        "outputId": "cc739856-5c39-440f-c6fb-c3db7766fdba"
      },
      "source": [
        "model.plot(prediction)"
      ],
      "execution_count": null,
      "outputs": [
        {
          "output_type": "execute_result",
          "data": {
            "image/png": "[encoded data removed]",
            "text/plain": [
              "<Figure size 720x432 with 1 Axes>"
            ]
          },
          "metadata": {
            "tags": []
          },
          "execution_count": 147
        },
        {
          "output_type": "display_data",
          "data": {
            "image/png": "[encoded data removed]",
            "text/plain": [
              "<Figure size 720x432 with 1 Axes>"
            ]
          },
          "metadata": {
            "tags": []
          }
        }
      ]
    },
    {
      "cell_type": "code",
      "metadata": {
        "colab": {
          "base_uri": "https://localhost:8080/",
          "height": 867
        },
        "id": "EVzuwAVWk4fG",
        "outputId": "1cf606f6-d0f0-424d-b0a1-1b535f67741a"
      },
      "source": [
        "model.plot_components(prediction)"
      ],
      "execution_count": null,
      "outputs": [
        {
          "output_type": "execute_result",
          "data": {
            "image/png": "[encoded data removed]",
            "text/plain": [
              "<Figure size 648x432 with 2 Axes>"
            ]
          },
          "metadata": {
            "tags": []
          },
          "execution_count": 148
        },
        {
          "output_type": "display_data",
          "data": {
            "image/png": "[encoded data removed]",
            "text/plain": [
              "<Figure size 648x432 with 2 Axes>"
            ]
          },
          "metadata": {
            "tags": []
          }
        }
      ]
    },
    {
      "cell_type": "code",
      "metadata": {
        "id": "GK0yU8UdlFGJ"
      },
      "source": [
        "from fbprophet.plot import add_changepoints_to_plot"
      ],
      "execution_count": null,
      "outputs": []
    },
    {
      "cell_type": "code",
      "metadata": {
        "colab": {
          "base_uri": "https://localhost:8080/",
          "height": 441
        },
        "id": "8HjCsM5KlLlV",
        "outputId": "3a2da069-6fa6-4280-9064-bd821e5e7191"
      },
      "source": [
        "fig = model.plot(prediction)\n",
        "a = add_changepoints_to_plot(fig.gca() , model, prediction)"
      ],
      "execution_count": null,
      "outputs": [
        {
          "output_type": "display_data",
          "data": {
            "image/png": "[encoded data removed]",
            "text/plain": [
              "<Figure size 720x432 with 1 Axes>"
            ]
          },
          "metadata": {
            "tags": []
          }
        }
      ]
    },
    {
      "cell_type": "markdown",
      "metadata": {
        "id": "pES3Pd4DVEcS"
      },
      "source": [
        "Cross Validating your time series data"
      ]
    },
    {
      "cell_type": "code",
      "metadata": {
        "id": "0XKiOvRflNH9"
      },
      "source": [
        "from fbprophet.diagnostics import cross_validation"
      ],
      "execution_count": null,
      "outputs": []
    },
    {
      "cell_type": "code",
      "metadata": {
        "colab": {
          "base_uri": "https://localhost:8080/",
          "height": 86,
          "referenced_widgets": [
            "8e62ca0fe0ad41499cd3a8e724b0c8c0",
            "a5081f7e90db4e5fae4776d4940fccb3",
            "c3bee97e4934423e82addb266b567cb7",
            "e736b37fdfa74f9daf7443d2a352d370",
            "fb2f6ad7198e45c68856205ca09a576c",
            "d532798af0ec4ae387f22f385e120193",
            "b6699bccbfba486187bc4d4b65aa76f4",
            "08680cf9d7964cf5901c159b04ca85ad"
          ]
        },
        "id": "tjuDarbEliKV",
        "outputId": "4e15ef3b-4592-44ce-8e0e-9615e9336477"
      },
      "source": [
        "#df_cv = cross_validation(model , horizon='30 days', period='15 days',initial='366 days' )\n",
        "df_cv = cross_validation(model , horizon='7 days')"
      ],
      "execution_count": null,
      "outputs": [
        {
          "output_type": "stream",
          "text": [
            "INFO:fbprophet:Making 368 forecasts with cutoffs between 2017-06-22 12:00:00 and 2021-06-14 00:00:00\n"
          ],
          "name": "stderr"
        },
        {
          "output_type": "display_data",
          "data": {
            "application/vnd.jupyter.widget-view+json": {
              "model_id": "8e62ca0fe0ad41499cd3a8e724b0c8c0",
              "version_minor": 0,
              "version_major": 2
            },
            "text/plain": [
              "HBox(children=(FloatProgress(value=0.0, max=368.0), HTML(value='')))"
            ]
          },
          "metadata": {
            "tags": []
          }
        },
        {
          "output_type": "stream",
          "text": [
            "\n"
          ],
          "name": "stdout"
        }
      ]
    },
    {
      "cell_type": "code",
      "metadata": {
        "colab": {
          "base_uri": "https://localhost:8080/",
          "height": 424
        },
        "id": "Nkmv2U4RllW-",
        "outputId": "fea4e3e7-41d3-462b-96a5-142c28564cef"
      },
      "source": [
        "df_cv"
      ],
      "execution_count": null,
      "outputs": [
        {
          "output_type": "execute_result",
          "data": {
            "text/html": [
              "<div>\n",
              "<style scoped>\n",
              "    .dataframe tbody tr th:only-of-type {\n",
              "        vertical-align: middle;\n",
              "    }\n",
              "\n",
              "    .dataframe tbody tr th {\n",
              "        vertical-align: top;\n",
              "    }\n",
              "\n",
              "    .dataframe thead th {\n",
              "        text-align: right;\n",
              "    }\n",
              "</style>\n",
              "<table border=\"1\" class=\"dataframe\">\n",
              "  <thead>\n",
              "    <tr style=\"text-align: right;\">\n",
              "      <th></th>\n",
              "      <th>ds</th>\n",
              "      <th>yhat</th>\n",
              "      <th>yhat_lower</th>\n",
              "      <th>yhat_upper</th>\n",
              "      <th>y</th>\n",
              "      <th>cutoff</th>\n",
              "    </tr>\n",
              "  </thead>\n",
              "  <tbody>\n",
              "    <tr>\n",
              "      <th>0</th>\n",
              "      <td>2017-06-26</td>\n",
              "      <td>0.113715</td>\n",
              "      <td>0.064939</td>\n",
              "      <td>0.159688</td>\n",
              "      <td>0.248826</td>\n",
              "      <td>2017-06-22 12:00:00</td>\n",
              "    </tr>\n",
              "    <tr>\n",
              "      <th>1</th>\n",
              "      <td>2017-07-03</td>\n",
              "      <td>0.227343</td>\n",
              "      <td>0.176284</td>\n",
              "      <td>0.278311</td>\n",
              "      <td>0.009390</td>\n",
              "      <td>2017-06-26 00:00:00</td>\n",
              "    </tr>\n",
              "    <tr>\n",
              "      <th>2</th>\n",
              "      <td>2017-07-03</td>\n",
              "      <td>0.227343</td>\n",
              "      <td>0.176510</td>\n",
              "      <td>0.279009</td>\n",
              "      <td>0.009390</td>\n",
              "      <td>2017-06-29 12:00:00</td>\n",
              "    </tr>\n",
              "    <tr>\n",
              "      <th>3</th>\n",
              "      <td>2017-07-10</td>\n",
              "      <td>0.045501</td>\n",
              "      <td>-0.010020</td>\n",
              "      <td>0.103290</td>\n",
              "      <td>0.009390</td>\n",
              "      <td>2017-07-03 00:00:00</td>\n",
              "    </tr>\n",
              "    <tr>\n",
              "      <th>4</th>\n",
              "      <td>2017-07-10</td>\n",
              "      <td>0.045501</td>\n",
              "      <td>-0.014922</td>\n",
              "      <td>0.103991</td>\n",
              "      <td>0.009390</td>\n",
              "      <td>2017-07-06 12:00:00</td>\n",
              "    </tr>\n",
              "    <tr>\n",
              "      <th>...</th>\n",
              "      <td>...</td>\n",
              "      <td>...</td>\n",
              "      <td>...</td>\n",
              "      <td>...</td>\n",
              "      <td>...</td>\n",
              "      <td>...</td>\n",
              "    </tr>\n",
              "    <tr>\n",
              "      <th>363</th>\n",
              "      <td>2021-06-07</td>\n",
              "      <td>0.102562</td>\n",
              "      <td>-0.016550</td>\n",
              "      <td>0.208024</td>\n",
              "      <td>0.037559</td>\n",
              "      <td>2021-05-31 00:00:00</td>\n",
              "    </tr>\n",
              "    <tr>\n",
              "      <th>364</th>\n",
              "      <td>2021-06-07</td>\n",
              "      <td>0.102562</td>\n",
              "      <td>-0.011627</td>\n",
              "      <td>0.208686</td>\n",
              "      <td>0.037559</td>\n",
              "      <td>2021-06-03 12:00:00</td>\n",
              "    </tr>\n",
              "    <tr>\n",
              "      <th>365</th>\n",
              "      <td>2021-06-14</td>\n",
              "      <td>0.102347</td>\n",
              "      <td>-0.004647</td>\n",
              "      <td>0.210842</td>\n",
              "      <td>0.075117</td>\n",
              "      <td>2021-06-07 00:00:00</td>\n",
              "    </tr>\n",
              "    <tr>\n",
              "      <th>366</th>\n",
              "      <td>2021-06-14</td>\n",
              "      <td>0.102347</td>\n",
              "      <td>0.000933</td>\n",
              "      <td>0.211075</td>\n",
              "      <td>0.075117</td>\n",
              "      <td>2021-06-10 12:00:00</td>\n",
              "    </tr>\n",
              "    <tr>\n",
              "      <th>367</th>\n",
              "      <td>2021-06-21</td>\n",
              "      <td>0.094452</td>\n",
              "      <td>-0.003024</td>\n",
              "      <td>0.208467</td>\n",
              "      <td>0.023474</td>\n",
              "      <td>2021-06-14 00:00:00</td>\n",
              "    </tr>\n",
              "  </tbody>\n",
              "</table>\n",
              "<p>368 rows × 6 columns</p>\n",
              "</div>"
            ],
            "text/plain": [
              "            ds      yhat  yhat_lower  yhat_upper         y              cutoff\n",
              "0   2017-06-26  0.113715    0.064939    0.159688  0.248826 2017-06-22 12:00:00\n",
              "1   2017-07-03  0.227343    0.176284    0.278311  0.009390 2017-06-26 00:00:00\n",
              "2   2017-07-03  0.227343    0.176510    0.279009  0.009390 2017-06-29 12:00:00\n",
              "3   2017-07-10  0.045501   -0.010020    0.103290  0.009390 2017-07-03 00:00:00\n",
              "4   2017-07-10  0.045501   -0.014922    0.103991  0.009390 2017-07-06 12:00:00\n",
              "..         ...       ...         ...         ...       ...                 ...\n",
              "363 2021-06-07  0.102562   -0.016550    0.208024  0.037559 2021-05-31 00:00:00\n",
              "364 2021-06-07  0.102562   -0.011627    0.208686  0.037559 2021-06-03 12:00:00\n",
              "365 2021-06-14  0.102347   -0.004647    0.210842  0.075117 2021-06-07 00:00:00\n",
              "366 2021-06-14  0.102347    0.000933    0.211075  0.075117 2021-06-10 12:00:00\n",
              "367 2021-06-21  0.094452   -0.003024    0.208467  0.023474 2021-06-14 00:00:00\n",
              "\n",
              "[368 rows x 6 columns]"
            ]
          },
          "metadata": {
            "tags": []
          },
          "execution_count": 216
        }
      ]
    },
    {
      "cell_type": "code",
      "metadata": {
        "id": "Km90k2jlkH3y"
      },
      "source": [
        "fb_actual = df_cv[['ds','y']]\n",
        "fb_predicted = df_cv[['ds','yhat']]"
      ],
      "execution_count": null,
      "outputs": []
    },
    {
      "cell_type": "code",
      "metadata": {
        "id": "Olici-P0llVk"
      },
      "source": [
        ""
      ],
      "execution_count": null,
      "outputs": []
    },
    {
      "cell_type": "code",
      "metadata": {
        "colab": {
          "base_uri": "https://localhost:8080/"
        },
        "id": "9fNFxiEnlAuo",
        "outputId": "91a37f89-0c58-4cb8-b35a-e243a6ce44f3"
      },
      "source": [
        "# denormalization all values\n",
        "denormalize(fb_actual['y'],min,max)\n",
        "denormalize(fb_predicted['yhat'],min,max)"
      ],
      "execution_count": null,
      "outputs": [
        {
          "output_type": "stream",
          "text": [
            "/usr/local/lib/python3.7/dist-packages/pandas/core/indexing.py:670: SettingWithCopyWarning:\n",
            "\n",
            "\n",
            "A value is trying to be set on a copy of a slice from a DataFrame\n",
            "\n",
            "See the caveats in the documentation: https://pandas.pydata.org/pandas-docs/stable/user_guide/indexing.html#returning-a-view-versus-a-copy\n",
            "\n",
            "/usr/local/lib/python3.7/dist-packages/ipykernel_launcher.py:4: SettingWithCopyWarning:\n",
            "\n",
            "\n",
            "A value is trying to be set on a copy of a slice from a DataFrame\n",
            "\n",
            "See the caveats in the documentation: https://pandas.pydata.org/pandas-docs/stable/user_guide/indexing.html#returning-a-view-versus-a-copy\n",
            "\n"
          ],
          "name": "stderr"
        },
        {
          "output_type": "execute_result",
          "data": {
            "text/plain": [
              "0      24.0\n",
              "1      48.0\n",
              "2      48.0\n",
              "3      10.0\n",
              "4      10.0\n",
              "       ... \n",
              "363    22.0\n",
              "364    22.0\n",
              "365    22.0\n",
              "366    22.0\n",
              "367    20.0\n",
              "Name: yhat, Length: 368, dtype: float64"
            ]
          },
          "metadata": {
            "tags": []
          },
          "execution_count": 226
        }
      ]
    },
    {
      "cell_type": "code",
      "metadata": {
        "id": "dqbhJi7Ulevd"
      },
      "source": [
        ""
      ],
      "execution_count": null,
      "outputs": []
    },
    {
      "cell_type": "markdown",
      "metadata": {
        "id": "YVhD7_y_VOkX"
      },
      "source": [
        " Obtain Performance metrics for my data"
      ]
    },
    {
      "cell_type": "code",
      "metadata": {
        "id": "V4QQD-gkmgED"
      },
      "source": [
        "from fbprophet.diagnostics import performance_metrics"
      ],
      "execution_count": null,
      "outputs": []
    },
    {
      "cell_type": "code",
      "metadata": {
        "colab": {
          "base_uri": "https://localhost:8080/",
          "height": 131
        },
        "id": "mpVa0RkMmjaG",
        "outputId": "7382d421-9229-42e2-c9f0-bd5564d52787"
      },
      "source": [
        "df_performance = performance_metrics(df_cv)\n",
        "df_performance.head()"
      ],
      "execution_count": null,
      "outputs": [
        {
          "output_type": "stream",
          "text": [
            "INFO:fbprophet:Skipping MAPE because y close to 0\n"
          ],
          "name": "stderr"
        },
        {
          "output_type": "execute_result",
          "data": {
            "text/html": [
              "<div>\n",
              "<style scoped>\n",
              "    .dataframe tbody tr th:only-of-type {\n",
              "        vertical-align: middle;\n",
              "    }\n",
              "\n",
              "    .dataframe tbody tr th {\n",
              "        vertical-align: top;\n",
              "    }\n",
              "\n",
              "    .dataframe thead th {\n",
              "        text-align: right;\n",
              "    }\n",
              "</style>\n",
              "<table border=\"1\" class=\"dataframe\">\n",
              "  <thead>\n",
              "    <tr style=\"text-align: right;\">\n",
              "      <th></th>\n",
              "      <th>horizon</th>\n",
              "      <th>mse</th>\n",
              "      <th>rmse</th>\n",
              "      <th>mae</th>\n",
              "      <th>mdape</th>\n",
              "      <th>coverage</th>\n",
              "    </tr>\n",
              "  </thead>\n",
              "  <tbody>\n",
              "    <tr>\n",
              "      <th>0</th>\n",
              "      <td>3 days 12:00:00</td>\n",
              "      <td>0.006252</td>\n",
              "      <td>0.079069</td>\n",
              "      <td>0.056455</td>\n",
              "      <td>0.677885</td>\n",
              "      <td>0.797753</td>\n",
              "    </tr>\n",
              "    <tr>\n",
              "      <th>1</th>\n",
              "      <td>7 days 00:00:00</td>\n",
              "      <td>0.010388</td>\n",
              "      <td>0.101922</td>\n",
              "      <td>0.060889</td>\n",
              "      <td>0.694010</td>\n",
              "      <td>0.805263</td>\n",
              "    </tr>\n",
              "  </tbody>\n",
              "</table>\n",
              "</div>"
            ],
            "text/plain": [
              "          horizon       mse      rmse       mae     mdape  coverage\n",
              "0 3 days 12:00:00  0.006252  0.079069  0.056455  0.677885  0.797753\n",
              "1 7 days 00:00:00  0.010388  0.101922  0.060889  0.694010  0.805263"
            ]
          },
          "metadata": {
            "tags": []
          },
          "execution_count": 220
        }
      ]
    },
    {
      "cell_type": "markdown",
      "metadata": {
        "id": "7haYgvCVv7Wg"
      },
      "source": [
        "# Evaluation"
      ]
    },
    {
      "cell_type": "code",
      "metadata": {
        "colab": {
          "base_uri": "https://localhost:8080/"
        },
        "id": "FuQSJhGdmEp9",
        "outputId": "b1548301-37d6-4e80-ba15-4a041ae73186"
      },
      "source": [
        "print(\"RMSE\")\n",
        "print(np.sqrt(mean_squared_error(fb_actual['y'], fb_predicted['yhat'])))\n",
        "print(\"MSE\")\n",
        "print(metrics.mean_squared_error(fb_actual['y'], fb_predicted['yhat']))\n",
        "print(\"R2\")\n",
        "print(metrics.r2_score(fb_actual['y'], fb_predicted['yhat']))\n",
        "print(\"MAPE\")\n",
        "print(mape(fb_actual['y'], fb_predicted['yhat']))\n",
        "print(\"MAE\")\n",
        "print(metrics.mean_absolute_error(fb_actual['y'], fb_predicted['yhat']))"
      ],
      "execution_count": null,
      "outputs": [
        {
          "output_type": "stream",
          "text": [
            "RMSE\n",
            "19.51532285377202\n",
            "MSE\n",
            "380.8478260869565\n",
            "R2\n",
            "-0.2960540262409552\n",
            "MAPE\n",
            "inf\n",
            "MAE\n",
            "12.505434782608695\n"
          ],
          "name": "stdout"
        }
      ]
    },
    {
      "cell_type": "markdown",
      "metadata": {
        "id": "6GzvgKD7vhOG"
      },
      "source": [
        "# Actual vs predicted graph"
      ]
    },
    {
      "cell_type": "code",
      "metadata": {
        "colab": {
          "base_uri": "https://localhost:8080/",
          "height": 376
        },
        "id": "10cDL4MdQ2Mh",
        "outputId": "4d77d8c8-57cf-4e97-94da-80351476b620"
      },
      "source": [
        "print(\"Actual value : {}\".format(fb_actual['y'].to_list()))\n",
        "print(\"predicted value: {}\".format(fb_predicted['yhat'].to_list()))\n",
        "import matplotlib.pyplot as plt\n",
        "fig , ax = plt.subplots(figsize=(50,10))\n",
        "ax.plot(df_cv['y'].to_list())\n",
        "ax.plot(df_cv['yhat'].to_list())\n",
        "ax.legend([ 'Actual','prediction'])"
      ],
      "execution_count": null,
      "outputs": [
        {
          "output_type": "stream",
          "text": [
            "Actual value : [53.0, 2.0, 2.0, 2.0, 2.0, 3.0, 3.0, 8.0, 4.0, 4.0, 3.0, 3.0, 13.0, 3.0, 3.0, 1.0, 1.0, 3.0, 3.0, 3.0, 3.0, 6.0, 6.0, 1.0, 1.0, 1.0, 1.0, 11.0, 6.0, 6.0, 1.0, 1.0, 8.0, 8.0, 7.0, 7.0, 2.0, 2.0, 18.0, 5.0, 5.0, 6.0, 1.0, 1.0, 4.0, 4.0, 8.0, 14.0, 14.0, 28.0, 28.0, 4.0, 4.0, 4.0, 4.0, 13.0, 13.0, 6.0, 6.0, 15.0, 15.0, 5.0, 5.0, 12.0, 12.0, 20.0, 20.0, 42.0, 42.0, 11.0, 11.0, 103.0, 103.0, 13.0, 13.0, 2.0, 2.0, 19.0, 19.0, 29.0, 29.0, 12.0, 12.0, 5.0, 5.0, 13.0, 13.0, 18.0, 18.0, 65.0, 65.0, 30.0, 30.0, 9.0, 9.0, 17.0, 17.0, 15.0, 15.0, 23.0, 23.0, 1.0, 1.0, 7.0, 7.0, 5.0, 5.0, 10.0, 10.0, 12.0, 12.0, 9.0, 9.0, 7.0, 7.0, 11.0, 11.0, 21.0, 21.0, 15.0, 15.0, 21.0, 21.0, 27.0, 27.0, 3.0, 3.0, 13.0, 13.0, 13.0, 13.0, 13.0, 13.0, 43.0, 43.0, 25.0, 25.0, 31.0, 31.0, 48.0, 48.0, 19.0, 19.0, 10.0, 10.0, 11.0, 11.0, 3.0, 3.0, 23.0, 23.0, 29.0, 29.0, 10.0, 10.0, 13.0, 13.0, 43.0, 43.0, 17.0, 17.0, 35.0, 35.0, 19.0, 19.0, 10.0, 10.0, 13.0, 13.0, 35.0, 35.0, 42.0, 42.0, 8.0, 8.0, 3.0, 3.0, 37.0, 37.0, 45.0, 45.0, 17.0, 17.0, 24.0, 24.0, 16.0, 16.0, 24.0, 24.0, 8.0, 8.0, 51.0, 51.0, 23.0, 23.0, 15.0, 15.0, 21.0, 21.0, 9.0, 9.0, 24.0, 24.0, 13.0, 13.0, 17.0, 17.0, 11.0, 11.0, 16.0, 16.0, 10.0, 10.0, 8.0, 8.0, 13.0, 13.0, 10.0, 10.0, 16.0, 16.0, 4.0, 4.0, 11.0, 11.0, 11.0, 11.0, 24.0, 24.0, 19.0, 19.0, 16.0, 16.0, 13.0, 13.0, 19.0, 19.0, 18.0, 18.0, 17.0, 17.0, 13.0, 13.0, 32.0, 32.0, 20.0, 20.0, 47.0, 47.0, 37.0, 37.0, 39.0, 39.0, 39.0, 39.0, 26.0, 26.0, 2.0, 1.0, 1.0, 14.0, 14.0, 213.0, 1.0, 1.0, 27.0, 27.0, 2.0, 2.0, 14.0, 14.0, 4.0, 4.0, 3.0, 3.0, 10.0, 10.0, 9.0, 9.0, 3.0, 9.0, 9.0, 7.0, 7.0, 21.0, 21.0, 14.0, 14.0, 8.0, 8.0, 8.0, 15.0, 15.0, 9.0, 9.0, 5.0, 5.0, 1.0, 1.0, 6.0, 6.0, 2.0, 4.0, 4.0, 8.0, 8.0, 1.0, 1.0, 15.0, 15.0, 0.0, 0.0, 9.0, 9.0, 38.0, 1.0, 1.0, 22.0, 22.0, 1.0, 1.0, 6.0, 6.0, 5.0, 5.0, 1.0, 1.0, 37.0, 37.0, 16.0, 16.0, 12.0, 12.0, 36.0, 36.0, 23.0, 23.0, 5.0, 5.0, 14.0, 14.0, 26.0, 26.0, 7.0, 7.0, 4.0, 4.0, 25.0, 25.0, 6.0, 6.0, 12.0, 12.0, 11.0, 11.0, 20.0, 20.0, 28.0, 28.0, 3.0, 3.0, 11.0, 11.0, 8.0, 8.0, 16.0, 16.0, 5.0]\n",
            "predicted value: [24.0, 48.0, 48.0, 10.0, 10.0, -1.0, -1.0, 7.0, 16.0, 16.0, 5.0, 5.0, 5.0, 48.0, 48.0, 26.0, 26.0, 10.0, 10.0, 3.0, 3.0, 2.0, 2.0, 4.0, 4.0, 3.0, 3.0, 3.0, 12.0, 12.0, 11.0, 11.0, 2.0, 2.0, 1.0, 1.0, 17.0, 17.0, 32.0, 56.0, 56.0, 26.0, -9.0, -9.0, -4.0, -4.0, 6.0, 14.0, 14.0, 15.0, 15.0, 16.0, 16.0, 5.0, 5.0, -3.0, -3.0, 2.0, 2.0, 8.0, 8.0, 15.0, 15.0, 7.0, 7.0, -1.0, -1.0, 0.0, 0.0, 15.0, 15.0, 14.0, 14.0, 32.0, 32.0, 15.0, 15.0, 1.0, 1.0, 3.0, 3.0, 12.0, 12.0, 11.0, 11.0, 4.0, 4.0, 3.0, 3.0, 9.0, 9.0, 30.0, 30.0, 33.0, 33.0, 25.0, 25.0, 19.0, 19.0, 15.0, 15.0, 12.0, 12.0, 7.0, 7.0, 5.0, 5.0, 7.0, 7.0, 13.0, 13.0, 18.0, 18.0, 13.0, 13.0, 8.0, 8.0, 8.0, 8.0, 13.0, 13.0, 17.0, 17.0, 17.0, 17.0, 13.0, 13.0, 5.0, 5.0, 10.0, 10.0, 21.0, 21.0, 30.0, 30.0, 39.0, 39.0, 30.0, 30.0, 18.0, 18.0, 13.0, 13.0, 9.0, 9.0, 11.0, 11.0, 18.0, 18.0, 22.0, 22.0, 28.0, 28.0, 26.0, 26.0, 17.0, 17.0, 13.0, 13.0, 17.0, 17.0, 16.0, 16.0, 17.0, 17.0, 14.0, 14.0, 13.0, 13.0, 18.0, 18.0, 31.0, 31.0, 39.0, 39.0, 33.0, 33.0, 26.0, 26.0, 25.0, 25.0, 22.0, 22.0, 16.0, 16.0, 13.0, 13.0, 13.0, 13.0, 17.0, 17.0, 19.0, 19.0, 28.0, 28.0, 29.0, 29.0, 28.0, 28.0, 28.0, 28.0, 24.0, 24.0, 21.0, 21.0, 15.0, 15.0, 11.0, 11.0, 10.0, 10.0, 14.0, 14.0, 15.0, 15.0, 15.0, 15.0, 14.0, 14.0, 13.0, 13.0, 17.0, 17.0, 18.0, 18.0, 19.0, 19.0, 19.0, 19.0, 17.0, 17.0, 14.0, 14.0, 14.0, 14.0, 19.0, 19.0, 30.0, 30.0, 37.0, 37.0, 37.0, 37.0, 28.0, 28.0, 19.0, 19.0, 12.0, 12.0, 16.0, 16.0, 22.0, 22.0, 29.0, 29.0, 30.0, 30.0, 26.0, 22.0, 22.0, 21.0, 21.0, 20.0, 26.0, 26.0, 16.0, 16.0, 23.0, 23.0, 30.0, 30.0, 36.0, 36.0, 34.0, 34.0, 30.0, 30.0, 28.0, 28.0, 25.0, 17.0, 17.0, 15.0, 15.0, 18.0, 18.0, 25.0, 25.0, 28.0, 28.0, 26.0, 25.0, 25.0, 26.0, 26.0, 22.0, 22.0, 16.0, 16.0, 11.0, 11.0, 10.0, 15.0, 15.0, 14.0, 14.0, 12.0, 12.0, 11.0, 11.0, 15.0, 15.0, 17.0, 17.0, 18.0, 18.0, 18.0, 14.0, 14.0, 15.0, 15.0, 16.0, 16.0, 21.0, 21.0, 28.0, 28.0, 31.0, 31.0, 31.0, 31.0, 21.0, 21.0, 14.0, 14.0, 17.0, 17.0, 25.0, 25.0, 29.0, 29.0, 25.0, 25.0, 18.0, 18.0, 13.0, 13.0, 18.0, 18.0, 30.0, 30.0, 36.0, 36.0, 30.0, 30.0, 18.0, 18.0, 11.0, 11.0, 13.0, 13.0, 17.0, 17.0, 22.0, 22.0, 22.0, 22.0, 20.0]\n"
          ],
          "name": "stdout"
        },
        {
          "output_type": "execute_result",
          "data": {
            "text/plain": [
              "<matplotlib.legend.Legend at 0x7f9008210e50>"
            ]
          },
          "metadata": {
            "tags": []
          },
          "execution_count": 235
        },
        {
          "output_type": "display_data",
          "data": {
            "image/png": "[encoded data removed]",
            "text/plain": [
              "<Figure size 3600x720 with 1 Axes>"
            ]
          },
          "metadata": {
            "tags": [],
            "needs_background": "light"
          }
        }
      ]
    },
    {
      "cell_type": "code",
      "metadata": {
        "id": "AFdqfh8wKqy0"
      },
      "source": [
        ""
      ],
      "execution_count": null,
      "outputs": []
    },
    {
      "cell_type": "code",
      "metadata": {
        "colab": {
          "base_uri": "https://localhost:8080/",
          "height": 388
        },
        "id": "6DpojWNjmmN5",
        "outputId": "37d29bd4-0f62-4415-c7dd-fefd2435d53d"
      },
      "source": [
        "from fbprophet.plot import plot_cross_validation_metric\n",
        "df_performance = plot_cross_validation_metric(df_cv,metric='rmse')"
      ],
      "execution_count": null,
      "outputs": [
        {
          "output_type": "display_data",
          "data": {
            "image/png": "[encoded data removed]",
            "text/plain": [
              "<Figure size 720x432 with 1 Axes>"
            ]
          },
          "metadata": {
            "tags": []
          }
        }
      ]
    },
    {
      "cell_type": "code",
      "metadata": {
        "colab": {
          "base_uri": "https://localhost:8080/",
          "height": 388
        },
        "id": "qsUYGWK8momP",
        "outputId": "70141f52-9fe1-432b-da91-bc39e36e8cd4"
      },
      "source": [
        "df_performance = plot_cross_validation_metric(df_cv,metric='mse')"
      ],
      "execution_count": null,
      "outputs": [
        {
          "output_type": "display_data",
          "data": {
            "image/png": "[encoded data removed]",
            "text/plain": [
              "<Figure size 720x432 with 1 Axes>"
            ]
          },
          "metadata": {
            "tags": []
          }
        }
      ]
    },
    {
      "cell_type": "code",
      "metadata": {
        "id": "wu3G5RU4RGro"
      },
      "source": [
        ""
      ],
      "execution_count": null,
      "outputs": []
    }
  ]
}