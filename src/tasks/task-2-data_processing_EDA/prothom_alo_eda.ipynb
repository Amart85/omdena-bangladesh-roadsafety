{
  "nbformat": 4,
  "nbformat_minor": 0,
  "metadata": {
    "colab": {
      "name": "prothom_alo_eda.ipynb",
      "provenance": []
    },
    "kernelspec": {
      "name": "python3",
      "display_name": "Python 3"
    },
    "language_info": {
      "name": "python"
    }
  },
  "cells": [
    {
      "cell_type": "markdown",
      "metadata": {
        "id": "DWfDRsf_9oV1"
      },
      "source": [
        "Submitted by: **Rukshar Alam**"
      ]
    },
    {
      "cell_type": "code",
      "metadata": {
        "colab": {
          "base_uri": "https://localhost:8080/"
        },
        "id": "f7JBqxoWrmhs",
        "outputId": "a8da211a-1bad-4073-9736-dd4e19f5a246"
      },
      "source": [
        "from google.colab import drive #mounting google drive where I keep my files\n",
        "drive.mount('/content/gdrive')"
      ],
      "execution_count": 1,
      "outputs": [
        {
          "output_type": "stream",
          "text": [
            "Mounted at /content/gdrive\n"
          ],
          "name": "stdout"
        }
      ]
    },
    {
      "cell_type": "code",
      "metadata": {
        "id": "55D-Kl_Gscj1"
      },
      "source": [
        "import pandas as pd #to import and process csv files\n",
        "import numpy as np \n",
        "import missingno as msno\n",
        "import matplotlib.pyplot as plt\n",
        "from collections import Counter\n"
      ],
      "execution_count": 40,
      "outputs": []
    },
    {
      "cell_type": "code",
      "metadata": {
        "id": "kmMhNOhVsE7k"
      },
      "source": [
        "data_directory = '/content/gdrive/My Drive/Omdena/prothom_alo_1jan2021-28june2021_v1.csv'\n",
        "prothom_alo_df = pd.read_csv(data_directory) #loading the data into pandas dataframe"
      ],
      "execution_count": null,
      "outputs": []
    },
    {
      "cell_type": "code",
      "metadata": {
        "colab": {
          "base_uri": "https://localhost:8080/",
          "height": 576
        },
        "id": "HBTUx9H6tCWM",
        "outputId": "aba798bc-0f1c-4498-9c76-9810a981ff9a"
      },
      "source": [
        "prothom_alo_df.head(5)"
      ],
      "execution_count": null,
      "outputs": [
        {
          "output_type": "execute_result",
          "data": {
            "text/html": [
              "<div>\n",
              "<style scoped>\n",
              "    .dataframe tbody tr th:only-of-type {\n",
              "        vertical-align: middle;\n",
              "    }\n",
              "\n",
              "    .dataframe tbody tr th {\n",
              "        vertical-align: top;\n",
              "    }\n",
              "\n",
              "    .dataframe thead th {\n",
              "        text-align: right;\n",
              "    }\n",
              "</style>\n",
              "<table border=\"1\" class=\"dataframe\">\n",
              "  <thead>\n",
              "    <tr style=\"text-align: right;\">\n",
              "      <th></th>\n",
              "      <th>newspaper_name</th>\n",
              "      <th>date_of_incident</th>\n",
              "      <th>time_of_incident</th>\n",
              "      <th>incident_type</th>\n",
              "      <th>location</th>\n",
              "      <th>death_count</th>\n",
              "      <th>injury_count</th>\n",
              "      <th>type_of_vehicle1</th>\n",
              "      <th>type_of_vehicle2</th>\n",
              "      <th>driver_age</th>\n",
              "      <th>description_text</th>\n",
              "      <th>published-time</th>\n",
              "      <th>link</th>\n",
              "      <th>full_text</th>\n",
              "    </tr>\n",
              "  </thead>\n",
              "  <tbody>\n",
              "    <tr>\n",
              "      <th>0</th>\n",
              "      <td>Prothom Alo</td>\n",
              "      <td>6/27/2021</td>\n",
              "      <td>12/30/1899 12:25:00</td>\n",
              "      <td>NaN</td>\n",
              "      <td>Benapole highway, Jessore</td>\n",
              "      <td>4.0</td>\n",
              "      <td>1.0</td>\n",
              "      <td>private car</td>\n",
              "      <td>truck</td>\n",
              "      <td>NaN</td>\n",
              "      <td>Four people killed in Jashore road accident</td>\n",
              "      <td>27 Jun 2021, 09:07</td>\n",
              "      <td>https://en.prothomalo.com/bangladesh/accident/...</td>\n",
              "      <td>Four people were killed and another injured on...</td>\n",
              "    </tr>\n",
              "    <tr>\n",
              "      <th>1</th>\n",
              "      <td>Prothom Alo</td>\n",
              "      <td>6/23/2021</td>\n",
              "      <td>8.00 PM</td>\n",
              "      <td>NaN</td>\n",
              "      <td>Mymensingh-Tangail highway</td>\n",
              "      <td>3.0</td>\n",
              "      <td>0.0</td>\n",
              "      <td>motocycle</td>\n",
              "      <td>truck</td>\n",
              "      <td>25.0</td>\n",
              "      <td>Three killed in Mymensingh road accident</td>\n",
              "      <td>23 Jun 2021, 01:29</td>\n",
              "      <td>https://en.prothomalo.com/bangladesh/accident/...</td>\n",
              "      <td>Three people, including a motorcycle rider, we...</td>\n",
              "    </tr>\n",
              "    <tr>\n",
              "      <th>2</th>\n",
              "      <td>Prothom Alo</td>\n",
              "      <td>6/19/2021</td>\n",
              "      <td>NaN</td>\n",
              "      <td>NaN</td>\n",
              "      <td>old Dhaka-Narayanganj highway</td>\n",
              "      <td>2.0</td>\n",
              "      <td>NaN</td>\n",
              "      <td>battery-run auto-rickshaw</td>\n",
              "      <td>covered van</td>\n",
              "      <td>NaN</td>\n",
              "      <td>2 killed in Fatullah road accident</td>\n",
              "      <td>19 Jun 2021, 09:29</td>\n",
              "      <td>https://en.prothomalo.com/bangladesh/accident/...</td>\n",
              "      <td>Two passengers of a battery-run auto-rickshaw ...</td>\n",
              "    </tr>\n",
              "    <tr>\n",
              "      <th>3</th>\n",
              "      <td>Prothom Alo</td>\n",
              "      <td>6/18/2021</td>\n",
              "      <td>NaN</td>\n",
              "      <td>NaN</td>\n",
              "      <td>Chattogram and Rangamati</td>\n",
              "      <td>7.0</td>\n",
              "      <td>22.0</td>\n",
              "      <td>NaN</td>\n",
              "      <td>NaN</td>\n",
              "      <td>NaN</td>\n",
              "      <td>7 killed in three road accidents in Chattogram...</td>\n",
              "      <td>18 Jun 2021, 09:58</td>\n",
              "      <td>https://en.prothomalo.com/bangladesh/accident/...</td>\n",
              "      <td>At least seven people, including women and chi...</td>\n",
              "    </tr>\n",
              "    <tr>\n",
              "      <th>4</th>\n",
              "      <td>NaN</td>\n",
              "      <td>6/18/2021</td>\n",
              "      <td>NaN</td>\n",
              "      <td>head-on</td>\n",
              "      <td>Chattogram</td>\n",
              "      <td>3.0</td>\n",
              "      <td>NaN</td>\n",
              "      <td>Bus</td>\n",
              "      <td>Auto Rickshaw</td>\n",
              "      <td>NaN</td>\n",
              "      <td>NaN</td>\n",
              "      <td>NaN</td>\n",
              "      <td>NaN</td>\n",
              "      <td>NaN</td>\n",
              "    </tr>\n",
              "  </tbody>\n",
              "</table>\n",
              "</div>"
            ],
            "text/plain": [
              "  newspaper_name  ...                                          full_text\n",
              "0    Prothom Alo  ...  Four people were killed and another injured on...\n",
              "1    Prothom Alo  ...  Three people, including a motorcycle rider, we...\n",
              "2    Prothom Alo  ...  Two passengers of a battery-run auto-rickshaw ...\n",
              "3    Prothom Alo  ...  At least seven people, including women and chi...\n",
              "4            NaN  ...                                                NaN\n",
              "\n",
              "[5 rows x 14 columns]"
            ]
          },
          "metadata": {
            "tags": []
          },
          "execution_count": 4
        }
      ]
    },
    {
      "cell_type": "code",
      "metadata": {
        "colab": {
          "base_uri": "https://localhost:8080/"
        },
        "id": "i_N2fT9wtIEd",
        "outputId": "c4b1b981-79e2-40da-bea5-336b3fb5da28"
      },
      "source": [
        "prothom_alo_df.dtypes #checking out the columns and their types"
      ],
      "execution_count": null,
      "outputs": [
        {
          "output_type": "execute_result",
          "data": {
            "text/plain": [
              "newspaper_name       object\n",
              "date_of_incident     object\n",
              "time_of_incident     object\n",
              "incident_type        object\n",
              "location             object\n",
              "death_count         float64\n",
              "injury_count        float64\n",
              "type_of_vehicle1     object\n",
              "type_of_vehicle2     object\n",
              "driver_age          float64\n",
              "description_text     object\n",
              "published-time       object\n",
              "link                 object\n",
              "full_text            object\n",
              "dtype: object"
            ]
          },
          "metadata": {
            "tags": []
          },
          "execution_count": 12
        }
      ]
    },
    {
      "cell_type": "code",
      "metadata": {
        "colab": {
          "base_uri": "https://localhost:8080/"
        },
        "id": "55HlQZQXQgev",
        "outputId": "9fedc4d0-0d00-4360-840d-b41618d37cdf"
      },
      "source": [
        "#remove 'link' column because I find no use of it for now. Also, all news articles are from the same website (prothom alo), so we delete newspaper_name too\n",
        "prothom_alo_df_2 = prothom_alo_df.drop(['link', 'newspaper_name'], axis = 1)\n",
        "prothom_alo_df_2.dtypes"
      ],
      "execution_count": null,
      "outputs": [
        {
          "output_type": "execute_result",
          "data": {
            "text/plain": [
              "date_of_incident     object\n",
              "time_of_incident     object\n",
              "incident_type        object\n",
              "location             object\n",
              "death_count         float64\n",
              "injury_count        float64\n",
              "type_of_vehicle1     object\n",
              "type_of_vehicle2     object\n",
              "driver_age          float64\n",
              "description_text     object\n",
              "published-time       object\n",
              "full_text            object\n",
              "dtype: object"
            ]
          },
          "metadata": {
            "tags": []
          },
          "execution_count": 21
        }
      ]
    },
    {
      "cell_type": "markdown",
      "metadata": {
        "id": "mXxbePxnsDyh"
      },
      "source": [
        "**Tasks**\n",
        "\n",
        "\n",
        "1.   Missing Data Analysis\n",
        "2.   Plot death count\n",
        "3.   Plot type of vehicle\n",
        "4.   Plot injury count\n",
        "5.   plot location\n",
        "6.   Publish time analysis\n",
        "\n"
      ]
    },
    {
      "cell_type": "markdown",
      "metadata": {
        "id": "85vAy6r2Q2dr"
      },
      "source": [
        "## **Missing Data Analysis**\n",
        "Here we analyze the amount of data missing in each column"
      ]
    },
    {
      "cell_type": "code",
      "metadata": {
        "id": "mXCZdK4AsBy-",
        "colab": {
          "base_uri": "https://localhost:8080/",
          "height": 732
        },
        "outputId": "a69f901d-5843-4487-eaa5-7a4b3d1b1aa7"
      },
      "source": [
        "msno.matrix(prothom_alo_df, fontsize=15 , color=(0.694, 0.282, 0.282))\n"
      ],
      "execution_count": null,
      "outputs": [
        {
          "output_type": "execute_result",
          "data": {
            "text/plain": [
              "<matplotlib.axes._subplots.AxesSubplot at 0x7f1083619fd0>"
            ]
          },
          "metadata": {
            "tags": []
          },
          "execution_count": 20
        },
        {
          "output_type": "display_data",
          "data": {
            "image/png": "[encoded data removed]",
            "text/plain": [
              "<Figure size 1800x720 with 2 Axes>"
            ]
          },
          "metadata": {
            "tags": [],
            "needs_background": "light"
          }
        }
      ]
    },
    {
      "cell_type": "markdown",
      "metadata": {
        "id": "BHcWC8SGTdDe"
      },
      "source": [
        "We can clearly see there are too few data in the '*driver_age*' column. So, we remove it from further analysis"
      ]
    },
    {
      "cell_type": "code",
      "metadata": {
        "colab": {
          "base_uri": "https://localhost:8080/"
        },
        "id": "nxpoFEPPT-Jk",
        "outputId": "28fa816c-0995-4546-f4ef-3bdf45dd60b2"
      },
      "source": [
        "prothom_alo_df_3 = prothom_alo_df_2.drop(['driver_age'], axis=1)\n",
        "prothom_alo_df_3.dtypes"
      ],
      "execution_count": null,
      "outputs": [
        {
          "output_type": "execute_result",
          "data": {
            "text/plain": [
              "date_of_incident     object\n",
              "time_of_incident     object\n",
              "incident_type        object\n",
              "location             object\n",
              "death_count         float64\n",
              "injury_count        float64\n",
              "type_of_vehicle1     object\n",
              "type_of_vehicle2     object\n",
              "description_text     object\n",
              "published-time       object\n",
              "full_text            object\n",
              "dtype: object"
            ]
          },
          "metadata": {
            "tags": []
          },
          "execution_count": 22
        }
      ]
    },
    {
      "cell_type": "markdown",
      "metadata": {
        "id": "w72-mQwXUvYb"
      },
      "source": [
        "Let's delete rows where *publishing date* is missing because we're going to make publishing date the index. However, there is one row where the value of 'published-time' is '15 hours ago'. Since we can't format this string to pandas datetime, we delete the row containing this stray value. "
      ]
    },
    {
      "cell_type": "code",
      "metadata": {
        "id": "3hzRid-mU8Vg"
      },
      "source": [
        "prothom_alo_df_4 = prothom_alo_df_3.dropna(subset=['published-time'])\n",
        "prothom_alo_df_4 = prothom_alo_df_4[prothom_alo_df_4['published-time']!='15 hours ago']\n",
        "\n"
      ],
      "execution_count": null,
      "outputs": []
    },
    {
      "cell_type": "markdown",
      "metadata": {
        "id": "WZjyNhA4UrMx"
      },
      "source": [
        "**Change format of Published-time**\n",
        "We are changing the format of published-time to standard form [yyyy-mm-dd hh:mm:ss] and make the column new index for dataframe"
      ]
    },
    {
      "cell_type": "code",
      "metadata": {
        "colab": {
          "base_uri": "https://localhost:8080/",
          "height": 743
        },
        "id": "pjO1gpWwVyKW",
        "outputId": "c7d269ff-ef79-498c-f46d-8ca003472718"
      },
      "source": [
        "prothom_alo_df_4['published-time'] = pd.to_datetime(prothom_alo_df_4['published-time'])\n",
        "prothom_alo_df_4.head(10)"
      ],
      "execution_count": null,
      "outputs": [
        {
          "output_type": "execute_result",
          "data": {
            "text/html": [
              "<div>\n",
              "<style scoped>\n",
              "    .dataframe tbody tr th:only-of-type {\n",
              "        vertical-align: middle;\n",
              "    }\n",
              "\n",
              "    .dataframe tbody tr th {\n",
              "        vertical-align: top;\n",
              "    }\n",
              "\n",
              "    .dataframe thead th {\n",
              "        text-align: right;\n",
              "    }\n",
              "</style>\n",
              "<table border=\"1\" class=\"dataframe\">\n",
              "  <thead>\n",
              "    <tr style=\"text-align: right;\">\n",
              "      <th></th>\n",
              "      <th>date_of_incident</th>\n",
              "      <th>time_of_incident</th>\n",
              "      <th>incident_type</th>\n",
              "      <th>location</th>\n",
              "      <th>death_count</th>\n",
              "      <th>injury_count</th>\n",
              "      <th>type_of_vehicle1</th>\n",
              "      <th>type_of_vehicle2</th>\n",
              "      <th>description_text</th>\n",
              "      <th>published-time</th>\n",
              "      <th>full_text</th>\n",
              "    </tr>\n",
              "  </thead>\n",
              "  <tbody>\n",
              "    <tr>\n",
              "      <th>0</th>\n",
              "      <td>6/27/2021</td>\n",
              "      <td>12/30/1899 12:25:00</td>\n",
              "      <td>NaN</td>\n",
              "      <td>Benapole highway, Jessore</td>\n",
              "      <td>4.0</td>\n",
              "      <td>1.0</td>\n",
              "      <td>private car</td>\n",
              "      <td>truck</td>\n",
              "      <td>Four people killed in Jashore road accident</td>\n",
              "      <td>2021-06-27 09:07:00</td>\n",
              "      <td>Four people were killed and another injured on...</td>\n",
              "    </tr>\n",
              "    <tr>\n",
              "      <th>1</th>\n",
              "      <td>6/23/2021</td>\n",
              "      <td>8.00 PM</td>\n",
              "      <td>NaN</td>\n",
              "      <td>Mymensingh-Tangail highway</td>\n",
              "      <td>3.0</td>\n",
              "      <td>0.0</td>\n",
              "      <td>motocycle</td>\n",
              "      <td>truck</td>\n",
              "      <td>Three killed in Mymensingh road accident</td>\n",
              "      <td>2021-06-23 01:29:00</td>\n",
              "      <td>Three people, including a motorcycle rider, we...</td>\n",
              "    </tr>\n",
              "    <tr>\n",
              "      <th>2</th>\n",
              "      <td>6/19/2021</td>\n",
              "      <td>NaN</td>\n",
              "      <td>NaN</td>\n",
              "      <td>old Dhaka-Narayanganj highway</td>\n",
              "      <td>2.0</td>\n",
              "      <td>NaN</td>\n",
              "      <td>battery-run auto-rickshaw</td>\n",
              "      <td>covered van</td>\n",
              "      <td>2 killed in Fatullah road accident</td>\n",
              "      <td>2021-06-19 09:29:00</td>\n",
              "      <td>Two passengers of a battery-run auto-rickshaw ...</td>\n",
              "    </tr>\n",
              "    <tr>\n",
              "      <th>3</th>\n",
              "      <td>6/18/2021</td>\n",
              "      <td>NaN</td>\n",
              "      <td>NaN</td>\n",
              "      <td>Chattogram and Rangamati</td>\n",
              "      <td>7.0</td>\n",
              "      <td>22.0</td>\n",
              "      <td>NaN</td>\n",
              "      <td>NaN</td>\n",
              "      <td>7 killed in three road accidents in Chattogram...</td>\n",
              "      <td>2021-06-18 09:58:00</td>\n",
              "      <td>At least seven people, including women and chi...</td>\n",
              "    </tr>\n",
              "    <tr>\n",
              "      <th>7</th>\n",
              "      <td>6/11/2021</td>\n",
              "      <td>12/30/1899 16:00:00</td>\n",
              "      <td>NaN</td>\n",
              "      <td>Chattogram</td>\n",
              "      <td>1.0</td>\n",
              "      <td>0.0</td>\n",
              "      <td>microbus</td>\n",
              "      <td>NaN</td>\n",
              "      <td>ASI killed in Chattogram road accident</td>\n",
              "      <td>2021-06-11 01:41:00</td>\n",
              "      <td>An assistant sub-inspector (ASI) of police, Ka...</td>\n",
              "    </tr>\n",
              "    <tr>\n",
              "      <th>8</th>\n",
              "      <td>5/16/2021</td>\n",
              "      <td>12/30/1899 13:30:00</td>\n",
              "      <td>head-on</td>\n",
              "      <td>Dhaka-Sylhet highway</td>\n",
              "      <td>2.0</td>\n",
              "      <td>7.0</td>\n",
              "      <td>private car</td>\n",
              "      <td>bus</td>\n",
              "      <td>Mother-son killed in Sylhet road accident</td>\n",
              "      <td>2021-05-16 07:29:00</td>\n",
              "      <td>A woman and her two-year-old son died in a hea...</td>\n",
              "    </tr>\n",
              "    <tr>\n",
              "      <th>9</th>\n",
              "      <td>5/12/2021</td>\n",
              "      <td>NaN</td>\n",
              "      <td>rear-end</td>\n",
              "      <td>Dhaka-Mymensingh highway</td>\n",
              "      <td>2.0</td>\n",
              "      <td>6.0</td>\n",
              "      <td>microbus</td>\n",
              "      <td>Van</td>\n",
              "      <td>RAB member, another killed in Gazipur road acc...</td>\n",
              "      <td>2021-05-12 09:50:00</td>\n",
              "      <td>Two people, including a member of Rapid Action...</td>\n",
              "    </tr>\n",
              "    <tr>\n",
              "      <th>10</th>\n",
              "      <td>5/10/2021</td>\n",
              "      <td>12/30/1899 12:00:00</td>\n",
              "      <td>head-on</td>\n",
              "      <td>Banshkhali upazila, Chittagong</td>\n",
              "      <td>3.0</td>\n",
              "      <td>2.0</td>\n",
              "      <td>auto-rickshaw</td>\n",
              "      <td>truck</td>\n",
              "      <td>3 killed in Chattogram road accident</td>\n",
              "      <td>2021-05-10 07:05:00</td>\n",
              "      <td>At least three people, including two women, we...</td>\n",
              "    </tr>\n",
              "    <tr>\n",
              "      <th>11</th>\n",
              "      <td>5/3/2021</td>\n",
              "      <td>NaN</td>\n",
              "      <td>head-on</td>\n",
              "      <td>Noakhali</td>\n",
              "      <td>2.0</td>\n",
              "      <td>2.0</td>\n",
              "      <td>Pickup</td>\n",
              "      <td>Van</td>\n",
              "      <td>Road accident kills two workers in Noakhali</td>\n",
              "      <td>2021-05-04 06:09:00</td>\n",
              "      <td>Two workers were killed as a pickup hit a rick...</td>\n",
              "    </tr>\n",
              "    <tr>\n",
              "      <th>12</th>\n",
              "      <td>5/4/2021</td>\n",
              "      <td>12/30/1899 8:00:00</td>\n",
              "      <td>Lost control</td>\n",
              "      <td>Meherpur</td>\n",
              "      <td>2.0</td>\n",
              "      <td>5.0</td>\n",
              "      <td>Microbus</td>\n",
              "      <td>NaN</td>\n",
              "      <td>Couple killed in Meherpur road accident</td>\n",
              "      <td>2021-05-04 04:57:00</td>\n",
              "      <td>An elderly man and his wife were killed and fi...</td>\n",
              "    </tr>\n",
              "  </tbody>\n",
              "</table>\n",
              "</div>"
            ],
            "text/plain": [
              "   date_of_incident  ...                                          full_text\n",
              "0         6/27/2021  ...  Four people were killed and another injured on...\n",
              "1         6/23/2021  ...  Three people, including a motorcycle rider, we...\n",
              "2         6/19/2021  ...  Two passengers of a battery-run auto-rickshaw ...\n",
              "3         6/18/2021  ...  At least seven people, including women and chi...\n",
              "7         6/11/2021  ...  An assistant sub-inspector (ASI) of police, Ka...\n",
              "8         5/16/2021  ...  A woman and her two-year-old son died in a hea...\n",
              "9         5/12/2021  ...  Two people, including a member of Rapid Action...\n",
              "10        5/10/2021  ...  At least three people, including two women, we...\n",
              "11         5/3/2021  ...  Two workers were killed as a pickup hit a rick...\n",
              "12         5/4/2021  ...  An elderly man and his wife were killed and fi...\n",
              "\n",
              "[10 rows x 11 columns]"
            ]
          },
          "metadata": {
            "tags": []
          },
          "execution_count": 27
        }
      ]
    },
    {
      "cell_type": "markdown",
      "metadata": {
        "id": "LOcMhyAjYmoL"
      },
      "source": [
        "Let's save this modified dataframe as csv for future EDA usage."
      ]
    },
    {
      "cell_type": "code",
      "metadata": {
        "id": "msW2t66-YrMB"
      },
      "source": [
        "saving_directory = '/content/gdrive/My Drive/Omdena/prothom_alo_modified.csv'\n",
        "prothom_alo_df_4.to_csv(saving_directory, index=False)"
      ],
      "execution_count": null,
      "outputs": []
    },
    {
      "cell_type": "code",
      "metadata": {
        "colab": {
          "base_uri": "https://localhost:8080/",
          "height": 405
        },
        "id": "De_SFjL4-yyL",
        "outputId": "19c252d2-4455-4910-a148-f145b7527dca"
      },
      "source": [
        "prothom_alo_df = pd.read_csv('/content/gdrive/My Drive/Omdena/prothom_alo_modified.csv') #load modified prothom alo dataframe\n",
        "prothom_alo_df.head(5)"
      ],
      "execution_count": 3,
      "outputs": [
        {
          "output_type": "execute_result",
          "data": {
            "text/html": [
              "<div>\n",
              "<style scoped>\n",
              "    .dataframe tbody tr th:only-of-type {\n",
              "        vertical-align: middle;\n",
              "    }\n",
              "\n",
              "    .dataframe tbody tr th {\n",
              "        vertical-align: top;\n",
              "    }\n",
              "\n",
              "    .dataframe thead th {\n",
              "        text-align: right;\n",
              "    }\n",
              "</style>\n",
              "<table border=\"1\" class=\"dataframe\">\n",
              "  <thead>\n",
              "    <tr style=\"text-align: right;\">\n",
              "      <th></th>\n",
              "      <th>date_of_incident</th>\n",
              "      <th>time_of_incident</th>\n",
              "      <th>incident_type</th>\n",
              "      <th>location</th>\n",
              "      <th>death_count</th>\n",
              "      <th>injury_count</th>\n",
              "      <th>type_of_vehicle1</th>\n",
              "      <th>type_of_vehicle2</th>\n",
              "      <th>description_text</th>\n",
              "      <th>published-time</th>\n",
              "      <th>full_text</th>\n",
              "    </tr>\n",
              "  </thead>\n",
              "  <tbody>\n",
              "    <tr>\n",
              "      <th>0</th>\n",
              "      <td>6/27/2021</td>\n",
              "      <td>12/30/1899 12:25:00</td>\n",
              "      <td>NaN</td>\n",
              "      <td>Benapole highway, Jessore</td>\n",
              "      <td>4.0</td>\n",
              "      <td>1.0</td>\n",
              "      <td>private car</td>\n",
              "      <td>truck</td>\n",
              "      <td>Four people killed in Jashore road accident</td>\n",
              "      <td>2021-06-27 09:07:00</td>\n",
              "      <td>Four people were killed and another injured on...</td>\n",
              "    </tr>\n",
              "    <tr>\n",
              "      <th>1</th>\n",
              "      <td>6/23/2021</td>\n",
              "      <td>8.00 PM</td>\n",
              "      <td>NaN</td>\n",
              "      <td>Mymensingh-Tangail highway</td>\n",
              "      <td>3.0</td>\n",
              "      <td>0.0</td>\n",
              "      <td>motocycle</td>\n",
              "      <td>truck</td>\n",
              "      <td>Three killed in Mymensingh road accident</td>\n",
              "      <td>2021-06-23 01:29:00</td>\n",
              "      <td>Three people, including a motorcycle rider, we...</td>\n",
              "    </tr>\n",
              "    <tr>\n",
              "      <th>2</th>\n",
              "      <td>6/19/2021</td>\n",
              "      <td>NaN</td>\n",
              "      <td>NaN</td>\n",
              "      <td>old Dhaka-Narayanganj highway</td>\n",
              "      <td>2.0</td>\n",
              "      <td>NaN</td>\n",
              "      <td>battery-run auto-rickshaw</td>\n",
              "      <td>covered van</td>\n",
              "      <td>2 killed in Fatullah road accident</td>\n",
              "      <td>2021-06-19 09:29:00</td>\n",
              "      <td>Two passengers of a battery-run auto-rickshaw ...</td>\n",
              "    </tr>\n",
              "    <tr>\n",
              "      <th>3</th>\n",
              "      <td>6/18/2021</td>\n",
              "      <td>NaN</td>\n",
              "      <td>NaN</td>\n",
              "      <td>Chattogram and Rangamati</td>\n",
              "      <td>7.0</td>\n",
              "      <td>22.0</td>\n",
              "      <td>NaN</td>\n",
              "      <td>NaN</td>\n",
              "      <td>7 killed in three road accidents in Chattogram...</td>\n",
              "      <td>2021-06-18 09:58:00</td>\n",
              "      <td>At least seven people, including women and chi...</td>\n",
              "    </tr>\n",
              "    <tr>\n",
              "      <th>4</th>\n",
              "      <td>6/11/2021</td>\n",
              "      <td>12/30/1899 16:00:00</td>\n",
              "      <td>NaN</td>\n",
              "      <td>Chattogram</td>\n",
              "      <td>1.0</td>\n",
              "      <td>0.0</td>\n",
              "      <td>microbus</td>\n",
              "      <td>NaN</td>\n",
              "      <td>ASI killed in Chattogram road accident</td>\n",
              "      <td>2021-06-11 01:41:00</td>\n",
              "      <td>An assistant sub-inspector (ASI) of police, Ka...</td>\n",
              "    </tr>\n",
              "  </tbody>\n",
              "</table>\n",
              "</div>"
            ],
            "text/plain": [
              "  date_of_incident  ...                                          full_text\n",
              "0        6/27/2021  ...  Four people were killed and another injured on...\n",
              "1        6/23/2021  ...  Three people, including a motorcycle rider, we...\n",
              "2        6/19/2021  ...  Two passengers of a battery-run auto-rickshaw ...\n",
              "3        6/18/2021  ...  At least seven people, including women and chi...\n",
              "4        6/11/2021  ...  An assistant sub-inspector (ASI) of police, Ka...\n",
              "\n",
              "[5 rows x 11 columns]"
            ]
          },
          "metadata": {
            "tags": []
          },
          "execution_count": 3
        }
      ]
    },
    {
      "cell_type": "markdown",
      "metadata": {
        "id": "FI9ar_Bl_PWN"
      },
      "source": [
        "# **Death Count**"
      ]
    },
    {
      "cell_type": "code",
      "metadata": {
        "id": "IwzMF4fl_BPY"
      },
      "source": [
        "death_toll_df = prothom_alo_df['death_count'] #extract the column with death count"
      ],
      "execution_count": null,
      "outputs": []
    },
    {
      "cell_type": "code",
      "metadata": {
        "colab": {
          "base_uri": "https://localhost:8080/"
        },
        "id": "fs-2EX5_Awj7",
        "outputId": "97619df9-11f2-4688-e80c-747d41f2748c"
      },
      "source": [
        "death_toll_stats = death_toll_df.value_counts() #counting the frequency of number of people died\n",
        "death_toll_stats_df = death_toll_stats.to_frame() #creating a frequency of death dataframe with both raw numbers and percentages\n",
        "death_toll_stats_df.columns = ['raw death toll']\n",
        "#creating a column for percentage death\n",
        "total_death = death_toll_stats.sum()\n",
        "print('total death ', total_death)\n",
        "death_toll_stats_df['percentage death'] = death_toll_stats_df[['raw death toll']].apply(lambda x: (x/total_death)*100)"
      ],
      "execution_count": null,
      "outputs": [
        {
          "output_type": "stream",
          "text": [
            "total death  121\n"
          ],
          "name": "stdout"
        }
      ]
    },
    {
      "cell_type": "code",
      "metadata": {
        "colab": {
          "base_uri": "https://localhost:8080/",
          "height": 418
        },
        "id": "kKKyWKU_E5DA",
        "outputId": "1f901ef4-1db0-4ec7-ddfa-2057a618edb3"
      },
      "source": [
        "death_toll_stats_df"
      ],
      "execution_count": null,
      "outputs": [
        {
          "output_type": "execute_result",
          "data": {
            "text/html": [
              "<div>\n",
              "<style scoped>\n",
              "    .dataframe tbody tr th:only-of-type {\n",
              "        vertical-align: middle;\n",
              "    }\n",
              "\n",
              "    .dataframe tbody tr th {\n",
              "        vertical-align: top;\n",
              "    }\n",
              "\n",
              "    .dataframe thead th {\n",
              "        text-align: right;\n",
              "    }\n",
              "</style>\n",
              "<table border=\"1\" class=\"dataframe\">\n",
              "  <thead>\n",
              "    <tr style=\"text-align: right;\">\n",
              "      <th></th>\n",
              "      <th>raw death toll</th>\n",
              "      <th>percentage death</th>\n",
              "    </tr>\n",
              "  </thead>\n",
              "  <tbody>\n",
              "    <tr>\n",
              "      <th>2.0</th>\n",
              "      <td>42</td>\n",
              "      <td>34.710744</td>\n",
              "    </tr>\n",
              "    <tr>\n",
              "      <th>1.0</th>\n",
              "      <td>30</td>\n",
              "      <td>24.793388</td>\n",
              "    </tr>\n",
              "    <tr>\n",
              "      <th>3.0</th>\n",
              "      <td>25</td>\n",
              "      <td>20.661157</td>\n",
              "    </tr>\n",
              "    <tr>\n",
              "      <th>4.0</th>\n",
              "      <td>10</td>\n",
              "      <td>8.264463</td>\n",
              "    </tr>\n",
              "    <tr>\n",
              "      <th>6.0</th>\n",
              "      <td>3</td>\n",
              "      <td>2.479339</td>\n",
              "    </tr>\n",
              "    <tr>\n",
              "      <th>7.0</th>\n",
              "      <td>3</td>\n",
              "      <td>2.479339</td>\n",
              "    </tr>\n",
              "    <tr>\n",
              "      <th>5.0</th>\n",
              "      <td>2</td>\n",
              "      <td>1.652893</td>\n",
              "    </tr>\n",
              "    <tr>\n",
              "      <th>0.0</th>\n",
              "      <td>2</td>\n",
              "      <td>1.652893</td>\n",
              "    </tr>\n",
              "    <tr>\n",
              "      <th>22.0</th>\n",
              "      <td>1</td>\n",
              "      <td>0.826446</td>\n",
              "    </tr>\n",
              "    <tr>\n",
              "      <th>11.0</th>\n",
              "      <td>1</td>\n",
              "      <td>0.826446</td>\n",
              "    </tr>\n",
              "    <tr>\n",
              "      <th>9.0</th>\n",
              "      <td>1</td>\n",
              "      <td>0.826446</td>\n",
              "    </tr>\n",
              "    <tr>\n",
              "      <th>17.0</th>\n",
              "      <td>1</td>\n",
              "      <td>0.826446</td>\n",
              "    </tr>\n",
              "  </tbody>\n",
              "</table>\n",
              "</div>"
            ],
            "text/plain": [
              "      raw death toll  percentage death\n",
              "2.0               42         34.710744\n",
              "1.0               30         24.793388\n",
              "3.0               25         20.661157\n",
              "4.0               10          8.264463\n",
              "6.0                3          2.479339\n",
              "7.0                3          2.479339\n",
              "5.0                2          1.652893\n",
              "0.0                2          1.652893\n",
              "22.0               1          0.826446\n",
              "11.0               1          0.826446\n",
              "9.0                1          0.826446\n",
              "17.0               1          0.826446"
            ]
          },
          "metadata": {
            "tags": []
          },
          "execution_count": 6
        }
      ]
    },
    {
      "cell_type": "code",
      "metadata": {
        "colab": {
          "base_uri": "https://localhost:8080/",
          "height": 423
        },
        "id": "g731CWrECKSH",
        "outputId": "398afe5c-328e-4ea5-9f79-70609af50338"
      },
      "source": [
        "\n",
        "fig, ax = plt.subplots(1,2,figsize=(15,6))\n",
        "#ax.bar(death_toll_stats.index, death_toll_stats.values())\n",
        "death_toll_stats_df['raw death toll'].plot.bar(ax=ax[0])\n",
        "ax[0].set_xlabel('Number of people died', fontsize=15)\n",
        "ax[0].set_ylabel('Frequency of Occurrence', fontsize=15)\n",
        "ax[0].set_title('Prothom alo reported deaths due to road accidents', fontsize = 15)\n",
        "ax[0].grid()\n",
        "\n",
        "death_toll_stats_df['percentage death'].plot.bar(ax=ax[1])\n",
        "ax[1].set_xlabel('Number of people died', fontsize=15)\n",
        "ax[1].set_ylabel('Frequency of Occurrence(%)', fontsize=15)\n",
        "ax[1].set_title('Prothom alo reported deaths due to road accidents in percentage', fontsize = 15)\n",
        "ax[1].grid()\n",
        "plt.show()"
      ],
      "execution_count": null,
      "outputs": [
        {
          "output_type": "display_data",
          "data": {
            "image/png": "[encoded data removed]",
            "text/plain": [
              "<Figure size 1080x432 with 2 Axes>"
            ]
          },
          "metadata": {
            "tags": [],
            "needs_background": "light"
          }
        }
      ]
    },
    {
      "cell_type": "markdown",
      "metadata": {
        "id": "5TIlqPk0ENr1"
      },
      "source": [
        "Analyzing the above graphs and associated dataframe, we see in most reported cases 2 persons died(about 35%), followed by 1 person(about 25%) and 3 persons(around 20%). There are fewer cases( less than 10%) reported with 4 fatalities. There are far fewer cases with fatalities crossing 4. "
      ]
    },
    {
      "cell_type": "markdown",
      "metadata": {
        "id": "vQW2E1gePyJA"
      },
      "source": [
        ""
      ]
    },
    {
      "cell_type": "code",
      "metadata": {
        "colab": {
          "base_uri": "https://localhost:8080/"
        },
        "id": "NKW2PMaoPedq",
        "outputId": "7e286d0f-0970-4001-ddd5-41e5468a6cbc"
      },
      "source": [
        "death_and_time_df = prothom_alo_df[['death_count', 'published-time']] #take 2 columns : death toll and the corresponding publishing time of the accident time\n",
        "death_and_time_df['published-time'] = pd.to_datetime(death_and_time_df['published-time'], dayfirst=False) #convert the date column into datetime format"
      ],
      "execution_count": null,
      "outputs": [
        {
          "output_type": "stream",
          "text": [
            "/usr/local/lib/python3.7/dist-packages/ipykernel_launcher.py:2: SettingWithCopyWarning: \n",
            "A value is trying to be set on a copy of a slice from a DataFrame.\n",
            "Try using .loc[row_indexer,col_indexer] = value instead\n",
            "\n",
            "See the caveats in the documentation: https://pandas.pydata.org/pandas-docs/stable/user_guide/indexing.html#returning-a-view-versus-a-copy\n",
            "  \n"
          ],
          "name": "stderr"
        }
      ]
    },
    {
      "cell_type": "code",
      "metadata": {
        "colab": {
          "base_uri": "https://localhost:8080/"
        },
        "id": "zp_ghQapPt-e",
        "outputId": "98915438-5557-4121-d97d-e3b70287cfc9"
      },
      "source": [
        "death_and_time_df.dtypes"
      ],
      "execution_count": null,
      "outputs": [
        {
          "output_type": "execute_result",
          "data": {
            "text/plain": [
              "death_count              float64\n",
              "published-time    datetime64[ns]\n",
              "dtype: object"
            ]
          },
          "metadata": {
            "tags": []
          },
          "execution_count": 12
        }
      ]
    },
    {
      "cell_type": "code",
      "metadata": {
        "colab": {
          "base_uri": "https://localhost:8080/",
          "height": 203
        },
        "id": "D4AxCGLn-IPm",
        "outputId": "825a8f02-22f9-4ad4-f3f7-44dd6d79dde8"
      },
      "source": [
        "death_and_time_df.head(5)"
      ],
      "execution_count": null,
      "outputs": [
        {
          "output_type": "execute_result",
          "data": {
            "text/html": [
              "<div>\n",
              "<style scoped>\n",
              "    .dataframe tbody tr th:only-of-type {\n",
              "        vertical-align: middle;\n",
              "    }\n",
              "\n",
              "    .dataframe tbody tr th {\n",
              "        vertical-align: top;\n",
              "    }\n",
              "\n",
              "    .dataframe thead th {\n",
              "        text-align: right;\n",
              "    }\n",
              "</style>\n",
              "<table border=\"1\" class=\"dataframe\">\n",
              "  <thead>\n",
              "    <tr style=\"text-align: right;\">\n",
              "      <th></th>\n",
              "      <th>death_count</th>\n",
              "      <th>published-time</th>\n",
              "    </tr>\n",
              "  </thead>\n",
              "  <tbody>\n",
              "    <tr>\n",
              "      <th>0</th>\n",
              "      <td>4.0</td>\n",
              "      <td>2021-06-27 09:07:00</td>\n",
              "    </tr>\n",
              "    <tr>\n",
              "      <th>1</th>\n",
              "      <td>3.0</td>\n",
              "      <td>2021-06-23 01:29:00</td>\n",
              "    </tr>\n",
              "    <tr>\n",
              "      <th>2</th>\n",
              "      <td>2.0</td>\n",
              "      <td>2021-06-19 09:29:00</td>\n",
              "    </tr>\n",
              "    <tr>\n",
              "      <th>3</th>\n",
              "      <td>7.0</td>\n",
              "      <td>2021-06-18 09:58:00</td>\n",
              "    </tr>\n",
              "    <tr>\n",
              "      <th>4</th>\n",
              "      <td>1.0</td>\n",
              "      <td>2021-06-11 01:41:00</td>\n",
              "    </tr>\n",
              "  </tbody>\n",
              "</table>\n",
              "</div>"
            ],
            "text/plain": [
              "   death_count      published-time\n",
              "0          4.0 2021-06-27 09:07:00\n",
              "1          3.0 2021-06-23 01:29:00\n",
              "2          2.0 2021-06-19 09:29:00\n",
              "3          7.0 2021-06-18 09:58:00\n",
              "4          1.0 2021-06-11 01:41:00"
            ]
          },
          "metadata": {
            "tags": []
          },
          "execution_count": 13
        }
      ]
    },
    {
      "cell_type": "code",
      "metadata": {
        "colab": {
          "base_uri": "https://localhost:8080/",
          "height": 172
        },
        "id": "yZrnUp-w-UNq",
        "outputId": "b1657828-11bc-4ce1-bbf3-7dcc77a9d42a"
      },
      "source": [
        "death_and_time_df.set_index('published-time', inplace=True) #set datetime as index\n",
        "death_and_time_df.head(3)"
      ],
      "execution_count": null,
      "outputs": [
        {
          "output_type": "execute_result",
          "data": {
            "text/html": [
              "<div>\n",
              "<style scoped>\n",
              "    .dataframe tbody tr th:only-of-type {\n",
              "        vertical-align: middle;\n",
              "    }\n",
              "\n",
              "    .dataframe tbody tr th {\n",
              "        vertical-align: top;\n",
              "    }\n",
              "\n",
              "    .dataframe thead th {\n",
              "        text-align: right;\n",
              "    }\n",
              "</style>\n",
              "<table border=\"1\" class=\"dataframe\">\n",
              "  <thead>\n",
              "    <tr style=\"text-align: right;\">\n",
              "      <th></th>\n",
              "      <th>death_count</th>\n",
              "    </tr>\n",
              "    <tr>\n",
              "      <th>published-time</th>\n",
              "      <th></th>\n",
              "    </tr>\n",
              "  </thead>\n",
              "  <tbody>\n",
              "    <tr>\n",
              "      <th>2021-06-27 09:07:00</th>\n",
              "      <td>4.0</td>\n",
              "    </tr>\n",
              "    <tr>\n",
              "      <th>2021-06-23 01:29:00</th>\n",
              "      <td>3.0</td>\n",
              "    </tr>\n",
              "    <tr>\n",
              "      <th>2021-06-19 09:29:00</th>\n",
              "      <td>2.0</td>\n",
              "    </tr>\n",
              "  </tbody>\n",
              "</table>\n",
              "</div>"
            ],
            "text/plain": [
              "                     death_count\n",
              "published-time                  \n",
              "2021-06-27 09:07:00          4.0\n",
              "2021-06-23 01:29:00          3.0\n",
              "2021-06-19 09:29:00          2.0"
            ]
          },
          "metadata": {
            "tags": []
          },
          "execution_count": 15
        }
      ]
    },
    {
      "cell_type": "code",
      "metadata": {
        "colab": {
          "base_uri": "https://localhost:8080/",
          "height": 318
        },
        "id": "hpQboaNy-r8o",
        "outputId": "02f90105-1368-4310-dde1-224022afe2ad"
      },
      "source": [
        "#sort the dataframe on published-time index\n",
        "death_and_time_df.sort_index(inplace=True)\n",
        "death_and_time_df.head(5)"
      ],
      "execution_count": null,
      "outputs": [
        {
          "output_type": "stream",
          "text": [
            "/usr/local/lib/python3.7/dist-packages/ipykernel_launcher.py:2: SettingWithCopyWarning: \n",
            "A value is trying to be set on a copy of a slice from a DataFrame\n",
            "\n",
            "See the caveats in the documentation: https://pandas.pydata.org/pandas-docs/stable/user_guide/indexing.html#returning-a-view-versus-a-copy\n",
            "  \n"
          ],
          "name": "stderr"
        },
        {
          "output_type": "execute_result",
          "data": {
            "text/html": [
              "<div>\n",
              "<style scoped>\n",
              "    .dataframe tbody tr th:only-of-type {\n",
              "        vertical-align: middle;\n",
              "    }\n",
              "\n",
              "    .dataframe tbody tr th {\n",
              "        vertical-align: top;\n",
              "    }\n",
              "\n",
              "    .dataframe thead th {\n",
              "        text-align: right;\n",
              "    }\n",
              "</style>\n",
              "<table border=\"1\" class=\"dataframe\">\n",
              "  <thead>\n",
              "    <tr style=\"text-align: right;\">\n",
              "      <th></th>\n",
              "      <th>death_count</th>\n",
              "    </tr>\n",
              "    <tr>\n",
              "      <th>published-time</th>\n",
              "      <th></th>\n",
              "    </tr>\n",
              "  </thead>\n",
              "  <tbody>\n",
              "    <tr>\n",
              "      <th>2021-01-01 05:06:00</th>\n",
              "      <td>4.0</td>\n",
              "    </tr>\n",
              "    <tr>\n",
              "      <th>2021-01-03 02:04:00</th>\n",
              "      <td>7.0</td>\n",
              "    </tr>\n",
              "    <tr>\n",
              "      <th>2021-01-10 00:57:00</th>\n",
              "      <td>2.0</td>\n",
              "    </tr>\n",
              "    <tr>\n",
              "      <th>2021-01-11 21:03:00</th>\n",
              "      <td>3.0</td>\n",
              "    </tr>\n",
              "    <tr>\n",
              "      <th>2021-01-13 06:42:00</th>\n",
              "      <td>6.0</td>\n",
              "    </tr>\n",
              "  </tbody>\n",
              "</table>\n",
              "</div>"
            ],
            "text/plain": [
              "                     death_count\n",
              "published-time                  \n",
              "2021-01-01 05:06:00          4.0\n",
              "2021-01-03 02:04:00          7.0\n",
              "2021-01-10 00:57:00          2.0\n",
              "2021-01-11 21:03:00          3.0\n",
              "2021-01-13 06:42:00          6.0"
            ]
          },
          "metadata": {
            "tags": []
          },
          "execution_count": 16
        }
      ]
    },
    {
      "cell_type": "code",
      "metadata": {
        "id": "9Pboj-qXBTsa"
      },
      "source": [
        "rolling_mean = death_and_time_df['death_count'].rolling(window=5, min_periods=1).mean() #calculate rolling mean of daeth count to create smoother plot \n",
        "rolling_mean_df = rolling_mean.to_frame()\n",
        "rolling_mean_df.columns = ['Rolling Mean Death Count']\n",
        "#concatenate the rolling mean dataframe to the previous dataframe\n",
        "death_and_time_df_2 = pd.concat([death_and_time_df, rolling_mean_df], axis = 1)"
      ],
      "execution_count": null,
      "outputs": []
    },
    {
      "cell_type": "code",
      "metadata": {
        "colab": {
          "base_uri": "https://localhost:8080/",
          "height": 496
        },
        "id": "W9tI-rTX-_yM",
        "outputId": "e04454b7-c7e5-40fa-9152-5b4af041f54e"
      },
      "source": [
        "#plot published-time vs. death count diagram\n",
        "fig, ax = plt.subplots(figsize=(20,8))\n",
        "death_and_time_df_2.plot(ax=ax, color=['green', 'red'])\n",
        "ax.set_xlabel('Published Time', fontsize = 15)\n",
        "ax.set_ylabel('Death Count', fontsize = 15)\n",
        "ax.set_title('Published-time of articles in Prothom Alo vs Death Count', fontsize=15)\n",
        "ax.grid()\n",
        "plt.show()"
      ],
      "execution_count": null,
      "outputs": [
        {
          "output_type": "display_data",
          "data": {
            "image/png": "[encoded data removed]",
            "text/plain": [
              "<Figure size 1440x576 with 1 Axes>"
            ]
          },
          "metadata": {
            "tags": [],
            "needs_background": "light"
          }
        }
      ]
    },
    {
      "cell_type": "markdown",
      "metadata": {
        "id": "1uvqliwDHpQ4"
      },
      "source": [
        "# **Injury Count**"
      ]
    },
    {
      "cell_type": "code",
      "metadata": {
        "id": "xD8k7UVfHxMc"
      },
      "source": [
        "injury_toll_df = prothom_alo_df['injury_count'] #extract the column with injury count"
      ],
      "execution_count": null,
      "outputs": []
    },
    {
      "cell_type": "code",
      "metadata": {
        "colab": {
          "base_uri": "https://localhost:8080/"
        },
        "id": "x2ZGYcAHIGHr",
        "outputId": "129653e6-674c-44e6-8189-cdef929dcb93"
      },
      "source": [
        "injury_toll_stats = injury_toll_df.value_counts() #counting the frequency of number of people injured\n",
        "injury_toll_stats_df = injury_toll_stats.to_frame() #creating a frequency of death dataframe with both raw numbers and percentages\n",
        "injury_toll_stats_df.columns = ['raw injury toll']\n",
        "#creating a column for percentage death\n",
        "total_injury = injury_toll_stats.sum()\n",
        "print('total injury ', total_injury)\n",
        "injury_toll_stats_df['percentage injury'] = injury_toll_stats_df[['raw injury toll']].apply(lambda x: (x/total_injury)*100)"
      ],
      "execution_count": null,
      "outputs": [
        {
          "output_type": "stream",
          "text": [
            "total injury  55\n"
          ],
          "name": "stdout"
        }
      ]
    },
    {
      "cell_type": "code",
      "metadata": {
        "colab": {
          "base_uri": "https://localhost:8080/",
          "height": 480
        },
        "id": "DJ2sjgreJ8AW",
        "outputId": "bb304d9a-6818-4f69-bceb-e2c09b062847"
      },
      "source": [
        "injury_toll_stats_df"
      ],
      "execution_count": null,
      "outputs": [
        {
          "output_type": "execute_result",
          "data": {
            "text/html": [
              "<div>\n",
              "<style scoped>\n",
              "    .dataframe tbody tr th:only-of-type {\n",
              "        vertical-align: middle;\n",
              "    }\n",
              "\n",
              "    .dataframe tbody tr th {\n",
              "        vertical-align: top;\n",
              "    }\n",
              "\n",
              "    .dataframe thead th {\n",
              "        text-align: right;\n",
              "    }\n",
              "</style>\n",
              "<table border=\"1\" class=\"dataframe\">\n",
              "  <thead>\n",
              "    <tr style=\"text-align: right;\">\n",
              "      <th></th>\n",
              "      <th>raw injury toll</th>\n",
              "      <th>percentage injury</th>\n",
              "    </tr>\n",
              "  </thead>\n",
              "  <tbody>\n",
              "    <tr>\n",
              "      <th>1.0</th>\n",
              "      <td>12</td>\n",
              "      <td>21.818182</td>\n",
              "    </tr>\n",
              "    <tr>\n",
              "      <th>0.0</th>\n",
              "      <td>9</td>\n",
              "      <td>16.363636</td>\n",
              "    </tr>\n",
              "    <tr>\n",
              "      <th>3.0</th>\n",
              "      <td>7</td>\n",
              "      <td>12.727273</td>\n",
              "    </tr>\n",
              "    <tr>\n",
              "      <th>2.0</th>\n",
              "      <td>7</td>\n",
              "      <td>12.727273</td>\n",
              "    </tr>\n",
              "    <tr>\n",
              "      <th>5.0</th>\n",
              "      <td>5</td>\n",
              "      <td>9.090909</td>\n",
              "    </tr>\n",
              "    <tr>\n",
              "      <th>6.0</th>\n",
              "      <td>3</td>\n",
              "      <td>5.454545</td>\n",
              "    </tr>\n",
              "    <tr>\n",
              "      <th>7.0</th>\n",
              "      <td>3</td>\n",
              "      <td>5.454545</td>\n",
              "    </tr>\n",
              "    <tr>\n",
              "      <th>10.0</th>\n",
              "      <td>2</td>\n",
              "      <td>3.636364</td>\n",
              "    </tr>\n",
              "    <tr>\n",
              "      <th>4.0</th>\n",
              "      <td>2</td>\n",
              "      <td>3.636364</td>\n",
              "    </tr>\n",
              "    <tr>\n",
              "      <th>14.0</th>\n",
              "      <td>1</td>\n",
              "      <td>1.818182</td>\n",
              "    </tr>\n",
              "    <tr>\n",
              "      <th>26.0</th>\n",
              "      <td>1</td>\n",
              "      <td>1.818182</td>\n",
              "    </tr>\n",
              "    <tr>\n",
              "      <th>21.0</th>\n",
              "      <td>1</td>\n",
              "      <td>1.818182</td>\n",
              "    </tr>\n",
              "    <tr>\n",
              "      <th>30.0</th>\n",
              "      <td>1</td>\n",
              "      <td>1.818182</td>\n",
              "    </tr>\n",
              "    <tr>\n",
              "      <th>22.0</th>\n",
              "      <td>1</td>\n",
              "      <td>1.818182</td>\n",
              "    </tr>\n",
              "  </tbody>\n",
              "</table>\n",
              "</div>"
            ],
            "text/plain": [
              "      raw injury toll  percentage injury\n",
              "1.0                12          21.818182\n",
              "0.0                 9          16.363636\n",
              "3.0                 7          12.727273\n",
              "2.0                 7          12.727273\n",
              "5.0                 5           9.090909\n",
              "6.0                 3           5.454545\n",
              "7.0                 3           5.454545\n",
              "10.0                2           3.636364\n",
              "4.0                 2           3.636364\n",
              "14.0                1           1.818182\n",
              "26.0                1           1.818182\n",
              "21.0                1           1.818182\n",
              "30.0                1           1.818182\n",
              "22.0                1           1.818182"
            ]
          },
          "metadata": {
            "tags": []
          },
          "execution_count": 40
        }
      ]
    },
    {
      "cell_type": "code",
      "metadata": {
        "colab": {
          "base_uri": "https://localhost:8080/",
          "height": 423
        },
        "id": "Q-r24r3HKI_s",
        "outputId": "caa4204b-9e90-4d1a-b98c-b81554156691"
      },
      "source": [
        "\n",
        "fig, ax = plt.subplots(1,2,figsize=(15,6))\n",
        "\n",
        "injury_toll_stats_df['raw injury toll'].plot.bar(ax=ax[0], color='green')\n",
        "ax[0].set_xlabel('Number of people injury', fontsize=15)\n",
        "ax[0].set_ylabel('Frequency of Occurrence', fontsize=15)\n",
        "ax[0].set_title('Prothom alo reported injuries due to road accidents', fontsize = 15)\n",
        "ax[0].grid()\n",
        "\n",
        "injury_toll_stats_df['percentage injury'].plot.bar(ax=ax[1])\n",
        "ax[1].set_xlabel('Number of people injured', fontsize=15)\n",
        "ax[1].set_ylabel('Frequency of Occurrence(%)', fontsize=15)\n",
        "ax[1].set_title('Prothom alo reported injuries due to road accidents in percentage', fontsize = 15)\n",
        "ax[1].grid()\n",
        "plt.show()"
      ],
      "execution_count": null,
      "outputs": [
        {
          "output_type": "display_data",
          "data": {
            "image/png": "[encoded data removed]",
            "text/plain": [
              "<Figure size 1080x432 with 2 Axes>"
            ]
          },
          "metadata": {
            "tags": [],
            "needs_background": "light"
          }
        }
      ]
    },
    {
      "cell_type": "markdown",
      "metadata": {
        "id": "MrMNknn2MnNh"
      },
      "source": [
        "As can be observed from the above plots that, in above 20% cases only one person was injured, in >15% cases no injuries were reported. 2 or 3 person injuries were above 10% each. Injuries above 3 persons are far less reported. "
      ]
    },
    {
      "cell_type": "code",
      "metadata": {
        "colab": {
          "base_uri": "https://localhost:8080/",
          "height": 418
        },
        "id": "NZlWgmSiWpGi",
        "outputId": "fccdae00-7a4c-4f0e-e531-a0071d321c83"
      },
      "source": [
        "injury_and_time_df = prothom_alo_df[['injury_count', 'published-time']] #take 2 columns : injury toll and the corresponding publishing time of the accident time\n",
        "injury_and_time_df['published-time'] = pd.to_datetime(injury_and_time_df['published-time'], dayfirst=False) #convert the date column into datetime format\n",
        "injury_and_time_df.set_index('published-time', inplace=True) #set datetime as index\n",
        "#sort the dataframe on published-time index\n",
        "injury_and_time_df.sort_index(inplace=True)\n",
        "\n",
        "injury_and_time_df.head(5)"
      ],
      "execution_count": null,
      "outputs": [
        {
          "output_type": "stream",
          "text": [
            "/usr/local/lib/python3.7/dist-packages/ipykernel_launcher.py:2: SettingWithCopyWarning: \n",
            "A value is trying to be set on a copy of a slice from a DataFrame.\n",
            "Try using .loc[row_indexer,col_indexer] = value instead\n",
            "\n",
            "See the caveats in the documentation: https://pandas.pydata.org/pandas-docs/stable/user_guide/indexing.html#returning-a-view-versus-a-copy\n",
            "  \n",
            "/usr/local/lib/python3.7/dist-packages/ipykernel_launcher.py:5: SettingWithCopyWarning: \n",
            "A value is trying to be set on a copy of a slice from a DataFrame\n",
            "\n",
            "See the caveats in the documentation: https://pandas.pydata.org/pandas-docs/stable/user_guide/indexing.html#returning-a-view-versus-a-copy\n",
            "  \"\"\"\n"
          ],
          "name": "stderr"
        },
        {
          "output_type": "execute_result",
          "data": {
            "text/html": [
              "<div>\n",
              "<style scoped>\n",
              "    .dataframe tbody tr th:only-of-type {\n",
              "        vertical-align: middle;\n",
              "    }\n",
              "\n",
              "    .dataframe tbody tr th {\n",
              "        vertical-align: top;\n",
              "    }\n",
              "\n",
              "    .dataframe thead th {\n",
              "        text-align: right;\n",
              "    }\n",
              "</style>\n",
              "<table border=\"1\" class=\"dataframe\">\n",
              "  <thead>\n",
              "    <tr style=\"text-align: right;\">\n",
              "      <th></th>\n",
              "      <th>injury_count</th>\n",
              "    </tr>\n",
              "    <tr>\n",
              "      <th>published-time</th>\n",
              "      <th></th>\n",
              "    </tr>\n",
              "  </thead>\n",
              "  <tbody>\n",
              "    <tr>\n",
              "      <th>2021-01-01 05:06:00</th>\n",
              "      <td>1.0</td>\n",
              "    </tr>\n",
              "    <tr>\n",
              "      <th>2021-01-03 02:04:00</th>\n",
              "      <td>NaN</td>\n",
              "    </tr>\n",
              "    <tr>\n",
              "      <th>2021-01-10 00:57:00</th>\n",
              "      <td>NaN</td>\n",
              "    </tr>\n",
              "    <tr>\n",
              "      <th>2021-01-11 21:03:00</th>\n",
              "      <td>NaN</td>\n",
              "    </tr>\n",
              "    <tr>\n",
              "      <th>2021-01-13 06:42:00</th>\n",
              "      <td>NaN</td>\n",
              "    </tr>\n",
              "  </tbody>\n",
              "</table>\n",
              "</div>"
            ],
            "text/plain": [
              "                     injury_count\n",
              "published-time                   \n",
              "2021-01-01 05:06:00           1.0\n",
              "2021-01-03 02:04:00           NaN\n",
              "2021-01-10 00:57:00           NaN\n",
              "2021-01-11 21:03:00           NaN\n",
              "2021-01-13 06:42:00           NaN"
            ]
          },
          "metadata": {
            "tags": []
          },
          "execution_count": 47
        }
      ]
    },
    {
      "cell_type": "code",
      "metadata": {
        "id": "7-ZUNUdTXRyh"
      },
      "source": [
        "rolling_mean_injury = injury_and_time_df['injury_count'].rolling(window=5, min_periods=1).mean() #calculate rolling mean of daeth count to create smoother plot \n",
        "injury_rolling_mean_df = rolling_mean_injury.to_frame()\n",
        "injury_rolling_mean_df.columns = ['Rolling Mean Injury Count']\n",
        "#concatenate the rolling mean dataframe to the previous dataframe\n",
        "injury_and_time_df_2 = pd.concat([injury_and_time_df, injury_rolling_mean_df], axis = 1)"
      ],
      "execution_count": null,
      "outputs": []
    },
    {
      "cell_type": "code",
      "metadata": {
        "colab": {
          "base_uri": "https://localhost:8080/",
          "height": 496
        },
        "id": "kCdYB3PqYCxU",
        "outputId": "8c06442f-455a-45cc-8d76-7e7a778fc8d9"
      },
      "source": [
        "#plot published-time vs. death count diagram\n",
        "fig, ax = plt.subplots(figsize=(20,8))\n",
        "injury_and_time_df_2.plot(ax=ax, color=['green', 'red'])\n",
        "ax.set_xlabel('Published Time', fontsize = 15)\n",
        "ax.set_ylabel('Injury Count', fontsize = 15)\n",
        "ax.set_title('Published-time of articles in Prothom Alo vs Injury Count', fontsize=15)\n",
        "ax.grid()\n",
        "plt.show()"
      ],
      "execution_count": null,
      "outputs": [
        {
          "output_type": "display_data",
          "data": {
            "image/png": "[encoded data removed]",
            "text/plain": [
              "<Figure size 1440x576 with 1 Axes>"
            ]
          },
          "metadata": {
            "tags": [],
            "needs_background": "light"
          }
        }
      ]
    },
    {
      "cell_type": "code",
      "metadata": {
        "colab": {
          "base_uri": "https://localhost:8080/"
        },
        "id": "P5WwQSToYnnY",
        "outputId": "2e449f4b-15e0-4a93-c1a4-9faba1d003aa"
      },
      "source": [
        "#counting nan values in injury count column to check how much data is missing\n",
        "percentage_missing_injury_data =( (len(injury_and_time_df_2) - injury_and_time_df_2['injury_count'].count())/len(injury_and_time_df_2))*100\n",
        "print(percentage_missing_injury_data, '%')"
      ],
      "execution_count": null,
      "outputs": [
        {
          "output_type": "stream",
          "text": [
            "55.28455284552846 %\n"
          ],
          "name": "stdout"
        }
      ]
    },
    {
      "cell_type": "markdown",
      "metadata": {
        "id": "QjmcD8EUYVI8"
      },
      "source": [
        "A lot of the injury related data is missing(55%) and so we can't construct a clear picture of the injury trend from 2021-01 to 2021-07. "
      ]
    },
    {
      "cell_type": "markdown",
      "metadata": {
        "id": "R7UpFgnYPQH0"
      },
      "source": [
        "# **Type of Vehicles**"
      ]
    },
    {
      "cell_type": "code",
      "metadata": {
        "id": "Z905vk1vPPaP"
      },
      "source": [
        "vehicle_columns = prothom_alo_df[['type_of_vehicle1', 'type_of_vehicle2']] #extracting columns of vehicle names\n",
        "#creating a single column with vehicles' names\n",
        "vehicle_columns_all = pd.concat([vehicle_columns['type_of_vehicle1'], vehicle_columns['type_of_vehicle2']], axis = 0, ignore_index=True)\n",
        "vehicle_columns_all = vehicle_columns_all.to_frame()\n",
        "vehicle_columns_all.columns = ['Vehicle Name']\n",
        "vehicle_columns_all.dropna(inplace=True) #drop nan values\n",
        "#make all name lowercase\n",
        "vehicle_columns_all['Vehicle Name'] =vehicle_columns_all['Vehicle Name'].str.lower() "
      ],
      "execution_count": 14,
      "outputs": []
    },
    {
      "cell_type": "code",
      "metadata": {
        "colab": {
          "base_uri": "https://localhost:8080/"
        },
        "id": "Cn0U_0OfQ8F4",
        "outputId": "d09115dd-2117-48d0-f067-9feadf1ca82b"
      },
      "source": [
        "#check out unique vehicles involved in accidents\n",
        "unique_vehicles = vehicle_columns_all['Vehicle Name'].unique()\n",
        "print(unique_vehicles)\n",
        "print('There are ', len(unique_vehicles), ' types of vehicles involved in various accidents')"
      ],
      "execution_count": 18,
      "outputs": [
        {
          "output_type": "stream",
          "text": [
            "['private car' 'motocycle' 'battery-run auto-rickshaw' 'microbus'\n",
            " 'auto-rickshaw' 'pickup' 'truck' 'bus' 'car' 'tractor' 'van' 'pickup van'\n",
            " 'motorcycle' 'pickup van,truck' 'baily bridge collapsed' 'trackter'\n",
            " 'covered van' 'bicycle' 'auto rickshaw' 'police-van' 'pushcart'\n",
            " 'pedestrian' '3-wheeler' 'electric rickshaw' 'mini truck' 'human hauler'\n",
            " 'human hauler, bus' 'human hauler,truck' 'pedestrain'\n",
            " 'human hauler, mini bus' 'jeep' 'bycycle,auto rickshaw']\n",
            "There are  32  types of vehicles involved in various accidents\n"
          ],
          "name": "stdout"
        }
      ]
    },
    {
      "cell_type": "markdown",
      "metadata": {
        "id": "QJGHbQFBZ60T"
      },
      "source": [
        "# **Data Cleaning**"
      ]
    },
    {
      "cell_type": "markdown",
      "metadata": {
        "id": "zEyC1ubeVdN2"
      },
      "source": [
        "We can see that in some entries 2 types of vehicles are put together and separated by comma such as 'human hauler, bus'. In such a case, we have to separate the 2 vehicles and put them in different rows."
      ]
    },
    {
      "cell_type": "code",
      "metadata": {
        "colab": {
          "base_uri": "https://localhost:8080/"
        },
        "id": "XDNO1n01Vty7",
        "outputId": "21847061-5e4b-4892-9d57-925d28a11cd1"
      },
      "source": [
        "old_vehicle_array = vehicle_columns_all.to_numpy() ##creating vehicle names array from dataframe\n",
        "print(old_vehicle_array.shape) #(220, 1)\n",
        "new_vehicle_array = [] #newly processed vehicle names as mentioned previously\n",
        "for vehicle in old_vehicle_array:\n",
        "  #print(vehicle[0])\n",
        "  if ',' in vehicle[0]:\n",
        "    #print(vehicle[0])\n",
        "    vehicle1, vehicle2 = vehicle[0].split(',')\n",
        "    vehicle2 = vehicle2.lstrip() #trim leading whitespace\n",
        "    #print(vehicle1, vehicle2)\n",
        "    new_vehicle_array.append(vehicle1); new_vehicle_array.append(vehicle2)\n",
        "  else:\n",
        "    new_vehicle_array.append(vehicle[0])"
      ],
      "execution_count": 25,
      "outputs": [
        {
          "output_type": "stream",
          "text": [
            "(220, 1)\n"
          ],
          "name": "stdout"
        }
      ]
    },
    {
      "cell_type": "code",
      "metadata": {
        "colab": {
          "base_uri": "https://localhost:8080/"
        },
        "id": "Lr_gDx1UWFWM",
        "outputId": "727b5225-6f9f-4df1-df47-e8c71e5ce09c"
      },
      "source": [
        "#again showing the unique vehicles present in the data\n",
        "vehicle_set = set(new_vehicle_array)\n",
        "print(len(vehicle_set))\n",
        "for v in vehicle_set:\n",
        "  print(v)"
      ],
      "execution_count": 28,
      "outputs": [
        {
          "output_type": "stream",
          "text": [
            "29\n",
            "police-van\n",
            "bycycle\n",
            "auto-rickshaw\n",
            "microbus\n",
            "car\n",
            "pedestrain\n",
            "bus\n",
            "auto rickshaw\n",
            "electric rickshaw\n",
            "battery-run auto-rickshaw\n",
            "private car\n",
            "motorcycle\n",
            "pedestrian\n",
            "mini truck\n",
            "van\n",
            "bicycle\n",
            "pickup van\n",
            "truck\n",
            "baily bridge collapsed\n",
            "pickup\n",
            "tractor\n",
            "pushcart\n",
            "covered van\n",
            "jeep\n",
            "3-wheeler\n",
            "motocycle\n",
            "human hauler\n",
            "mini bus\n",
            "trackter\n"
          ],
          "name": "stdout"
        }
      ]
    },
    {
      "cell_type": "markdown",
      "metadata": {
        "id": "Gxm4V8LsTkGR"
      },
      "source": [
        "several types of vehicle names mentioned above can be grouped together because they refer to same or similar things. I'm mentioning the groups below and the vehicle names will be changed to group name:\n",
        "\n",
        "\n",
        "*   private car, car, jeep -> car\n",
        "*   motocycle, motorcycle -> motorcycle\n",
        "*   battery-run auto-rickshaw, auto-rickshaw, auto rickshaw -> auto-rickshaw\n",
        "*   police-van, van, pickup van, covered van -> van\n",
        "*   microbus, bus, mini bus -> bus\n",
        "*   pedestrain, pedestrian -> pedestrian\n",
        "*   mini truck, truck -> truck\n",
        "*   bicycle, bycycle -> bicycle\n",
        "*   tractor, trackter -> tractor\n",
        "\n"
      ]
    },
    {
      "cell_type": "code",
      "metadata": {
        "id": "Q_uC1v-9aC43"
      },
      "source": [
        "#creating a dictionary convert vehicle names to group name\n",
        "vehicle_grp = {'private car': 'car','car': 'car','jeep': 'car', \n",
        "               'motocycle' : 'motorcycle', 'motorcycle':'motorcycle',\n",
        "               'battery-run auto-rickshaw': 'auto-rickshaw', 'auto-rickshaw':'auto-rickshaw', 'auto rickshaw':'auto-rickshaw',\n",
        "               'police-van':'van', 'van':'van', 'pickup van':'van', 'covered van':'van',\n",
        "               'microbus':'bus', 'bus':'bus', 'mini bus':'bus', \n",
        "               'pedestrain':'pedestrian', 'pedestrian': 'pedestrian', \n",
        "               'mini truck':'truck', 'truck':'truck', \n",
        "               'bicycle':'bicycle', 'bycycle':'bicycle',\n",
        "               'tractor':'tractor', 'trackter':'tractor'}\n",
        "\n",
        "#creating new vehicle array to replace previous names with group name\n",
        "new_vehicle_array_2 = []\n",
        "for v in new_vehicle_array:\n",
        "  if v in vehicle_grp.keys():\n",
        "    new_vehicle_name = vehicle_grp[v]\n",
        "  else:\n",
        "    new_vehicle_name = v\n",
        "  new_vehicle_array_2.append(new_vehicle_name)  "
      ],
      "execution_count": 37,
      "outputs": []
    },
    {
      "cell_type": "code",
      "metadata": {
        "colab": {
          "base_uri": "https://localhost:8080/"
        },
        "id": "YA4c3QTgaz3g",
        "outputId": "c25ff459-c06a-4cb5-c986-2b14582a829a"
      },
      "source": [
        "#again showing the unique vehicles present in the data\n",
        "vehicle_set = set(new_vehicle_array_2)\n",
        "print(len(vehicle_set))\n",
        "for v in vehicle_set:\n",
        "  print(v)"
      ],
      "execution_count": 39,
      "outputs": [
        {
          "output_type": "stream",
          "text": [
            "15\n",
            "truck\n",
            "baily bridge collapsed\n",
            "auto-rickshaw\n",
            "pickup\n",
            "motorcycle\n",
            "pedestrian\n",
            "3-wheeler\n",
            "human hauler\n",
            "tractor\n",
            "car\n",
            "pushcart\n",
            "van\n",
            "bus\n",
            "bicycle\n",
            "electric rickshaw\n"
          ],
          "name": "stdout"
        }
      ]
    },
    {
      "cell_type": "markdown",
      "metadata": {
        "id": "eG8G1iMxdZdv"
      },
      "source": [
        "Now there are 15 unique types of vehicles to deal with"
      ]
    },
    {
      "cell_type": "markdown",
      "metadata": {
        "id": "QLR3KBT9f4vc"
      },
      "source": [
        "# **Vehicle Count Visualization**"
      ]
    },
    {
      "cell_type": "code",
      "metadata": {
        "id": "ONxoZ9prdRbT"
      },
      "source": [
        "vehicle_count_dict = Counter(new_vehicle_array_2) #counts different types of vehicles\n",
        "vehicle_count_df = pd.DataFrame.from_dict(vehicle_count_dict, orient='index') #convert dictionary to dataframe\n",
        "vehicle_count_df.columns = ['Count']\n",
        "total_vehicles = vehicle_count_df.sum()\n",
        "vehicle_count_df['percentage count'] = vehicle_count_df['Count'].apply(lambda x: (x/total_vehicles)*100)"
      ],
      "execution_count": 50,
      "outputs": []
    },
    {
      "cell_type": "code",
      "metadata": {
        "colab": {
          "base_uri": "https://localhost:8080/",
          "height": 511
        },
        "id": "HTLWMcz3ejT8",
        "outputId": "fc962144-75d6-47c1-cbee-533f1dcff891"
      },
      "source": [
        "vehicle_count_df"
      ],
      "execution_count": 51,
      "outputs": [
        {
          "output_type": "execute_result",
          "data": {
            "text/html": [
              "<div>\n",
              "<style scoped>\n",
              "    .dataframe tbody tr th:only-of-type {\n",
              "        vertical-align: middle;\n",
              "    }\n",
              "\n",
              "    .dataframe tbody tr th {\n",
              "        vertical-align: top;\n",
              "    }\n",
              "\n",
              "    .dataframe thead th {\n",
              "        text-align: right;\n",
              "    }\n",
              "</style>\n",
              "<table border=\"1\" class=\"dataframe\">\n",
              "  <thead>\n",
              "    <tr style=\"text-align: right;\">\n",
              "      <th></th>\n",
              "      <th>Count</th>\n",
              "      <th>percentage count</th>\n",
              "    </tr>\n",
              "  </thead>\n",
              "  <tbody>\n",
              "    <tr>\n",
              "      <th>car</th>\n",
              "      <td>7</td>\n",
              "      <td>3.097345</td>\n",
              "    </tr>\n",
              "    <tr>\n",
              "      <th>motorcycle</th>\n",
              "      <td>30</td>\n",
              "      <td>13.274336</td>\n",
              "    </tr>\n",
              "    <tr>\n",
              "      <th>auto-rickshaw</th>\n",
              "      <td>24</td>\n",
              "      <td>10.619469</td>\n",
              "    </tr>\n",
              "    <tr>\n",
              "      <th>bus</th>\n",
              "      <td>54</td>\n",
              "      <td>23.893805</td>\n",
              "    </tr>\n",
              "    <tr>\n",
              "      <th>pickup</th>\n",
              "      <td>2</td>\n",
              "      <td>0.884956</td>\n",
              "    </tr>\n",
              "    <tr>\n",
              "      <th>truck</th>\n",
              "      <td>57</td>\n",
              "      <td>25.221239</td>\n",
              "    </tr>\n",
              "    <tr>\n",
              "      <th>tractor</th>\n",
              "      <td>3</td>\n",
              "      <td>1.327434</td>\n",
              "    </tr>\n",
              "    <tr>\n",
              "      <th>van</th>\n",
              "      <td>22</td>\n",
              "      <td>9.734513</td>\n",
              "    </tr>\n",
              "    <tr>\n",
              "      <th>baily bridge collapsed</th>\n",
              "      <td>1</td>\n",
              "      <td>0.442478</td>\n",
              "    </tr>\n",
              "    <tr>\n",
              "      <th>bicycle</th>\n",
              "      <td>2</td>\n",
              "      <td>0.884956</td>\n",
              "    </tr>\n",
              "    <tr>\n",
              "      <th>pushcart</th>\n",
              "      <td>1</td>\n",
              "      <td>0.442478</td>\n",
              "    </tr>\n",
              "    <tr>\n",
              "      <th>pedestrian</th>\n",
              "      <td>12</td>\n",
              "      <td>5.309735</td>\n",
              "    </tr>\n",
              "    <tr>\n",
              "      <th>3-wheeler</th>\n",
              "      <td>3</td>\n",
              "      <td>1.327434</td>\n",
              "    </tr>\n",
              "    <tr>\n",
              "      <th>electric rickshaw</th>\n",
              "      <td>1</td>\n",
              "      <td>0.442478</td>\n",
              "    </tr>\n",
              "    <tr>\n",
              "      <th>human hauler</th>\n",
              "      <td>7</td>\n",
              "      <td>3.097345</td>\n",
              "    </tr>\n",
              "  </tbody>\n",
              "</table>\n",
              "</div>"
            ],
            "text/plain": [
              "                        Count  percentage count\n",
              "car                         7          3.097345\n",
              "motorcycle                 30         13.274336\n",
              "auto-rickshaw              24         10.619469\n",
              "bus                        54         23.893805\n",
              "pickup                      2          0.884956\n",
              "truck                      57         25.221239\n",
              "tractor                     3          1.327434\n",
              "van                        22          9.734513\n",
              "baily bridge collapsed      1          0.442478\n",
              "bicycle                     2          0.884956\n",
              "pushcart                    1          0.442478\n",
              "pedestrian                 12          5.309735\n",
              "3-wheeler                   3          1.327434\n",
              "electric rickshaw           1          0.442478\n",
              "human hauler                7          3.097345"
            ]
          },
          "metadata": {
            "tags": []
          },
          "execution_count": 51
        }
      ]
    },
    {
      "cell_type": "code",
      "metadata": {
        "colab": {
          "base_uri": "https://localhost:8080/",
          "height": 511
        },
        "id": "vvBwC5W-f2Nd",
        "outputId": "3476b5de-f4fe-455e-9cbb-9ebd3af6f71c"
      },
      "source": [
        "\n",
        "fig, ax = plt.subplots(1,2,figsize=(15,6))\n",
        "\n",
        "vehicle_count_df['Count'].plot.bar(ax=ax[0], color='purple')\n",
        "ax[0].set_xlabel('Vehicle Type', fontsize=15)\n",
        "ax[0].set_ylabel('Frequency of Occurrence', fontsize=15)\n",
        "ax[0].set_title('Vehicle type statistics in road accidents', fontsize = 15)\n",
        "ax[0].grid()\n",
        "\n",
        "vehicle_count_df['percentage count'].plot.bar(ax=ax[1], color='navy')\n",
        "ax[1].set_xlabel('Vehicle Type', fontsize=15)\n",
        "ax[1].set_ylabel('Frequency of Occurrence(%)', fontsize=15)\n",
        "ax[1].set_title('Vehicle type statistics in road accidents', fontsize = 15)\n",
        "ax[1].grid()\n",
        "plt.show()\n",
        "\n",
        "##more color names in https://matplotlib.org/stable/gallery/color/named_colors.html"
      ],
      "execution_count": 57,
      "outputs": [
        {
          "output_type": "display_data",
          "data": {
            "image/png": "[encoded data removed]",
            "text/plain": [
              "<Figure size 1080x432 with 2 Axes>"
            ]
          },
          "metadata": {
            "tags": [],
            "needs_background": "light"
          }
        }
      ]
    },
    {
      "cell_type": "code",
      "metadata": {
        "colab": {
          "base_uri": "https://localhost:8080/",
          "height": 846
        },
        "id": "WSG75b5bhJTi",
        "outputId": "7de686ef-72e7-4c97-c043-6a94a03d6870"
      },
      "source": [
        "fig, ax = plt.subplots(figsize = (15,15))\n",
        "patches, texts, autotexts = ax.pie(vehicle_count_df['percentage count'], labels = vehicle_count_df.index,autopct='%1.2f%%')\n",
        "for i in range(len(texts)):\n",
        "  texts[i].set_fontsize(15)\n",
        "plt.show()"
      ],
      "execution_count": 65,
      "outputs": [
        {
          "output_type": "display_data",
          "data": {
            "image/png": "[encoded data removed]",
            "text/plain": [
              "<Figure size 1080x1080 with 1 Axes>"
            ]
          },
          "metadata": {
            "tags": []
          }
        }
      ]
    },
    {
      "cell_type": "markdown",
      "metadata": {
        "id": "DRJdX2V4i8oZ"
      },
      "source": [
        "From the above visualizations, we observe a considerable percentage of vehicles involved in accidents are either truck(25.22%) or bus(23.89%) followed by motorcycle(13%), auto-rickshaw(about 11%), and van(about 10%). Other vehicles contribute far less to the reported accident statistics."
      ]
    },
    {
      "cell_type": "markdown",
      "metadata": {
        "id": "inaB0zTWorB4"
      },
      "source": [
        "# **Published-time Analysis**"
      ]
    },
    {
      "cell_type": "code",
      "metadata": {
        "colab": {
          "base_uri": "https://localhost:8080/",
          "height": 777
        },
        "id": "ziue51Uvov9e",
        "outputId": "e8fd6b57-ca2a-404e-b5b5-ed07b28345db"
      },
      "source": [
        "published_time_df = prothom_alo_df[['published-time']]\n",
        "published_time_df['published-time'] = pd.to_datetime( published_time_df['published-time'] , dayfirst=False)\n",
        "published_time_df['hour'] =  published_time_df['published-time'].dt.round('H').dt.hour #extracting the time of reporting and rounding it nearest hour\n",
        "published_time_hourly_frequency = published_time_df['hour'].value_counts() #determine the frequency of reported accident for each hour\n",
        "published_time_hourly_frequency = published_time_hourly_frequency.to_frame()\n",
        "published_time_hourly_frequency.columns = ['Reported Cases']\n",
        "total_cases = published_time_hourly_frequency.sum()\n",
        "print(total_cases)\n",
        "published_time_hourly_frequency['percentage cases'] = published_time_hourly_frequency['Reported Cases'].apply(lambda x: (x/total_cases)*100)\n",
        "published_time_hourly_frequency.sort_index(inplace=True)\n",
        "published_time_hourly_frequency"
      ],
      "execution_count": 86,
      "outputs": [
        {
          "output_type": "stream",
          "text": [
            "Reported Cases    123\n",
            "dtype: int64\n"
          ],
          "name": "stdout"
        },
        {
          "output_type": "stream",
          "text": [
            "/usr/local/lib/python3.7/dist-packages/ipykernel_launcher.py:2: SettingWithCopyWarning: \n",
            "A value is trying to be set on a copy of a slice from a DataFrame.\n",
            "Try using .loc[row_indexer,col_indexer] = value instead\n",
            "\n",
            "See the caveats in the documentation: https://pandas.pydata.org/pandas-docs/stable/user_guide/indexing.html#returning-a-view-versus-a-copy\n",
            "  \n",
            "/usr/local/lib/python3.7/dist-packages/ipykernel_launcher.py:3: SettingWithCopyWarning: \n",
            "A value is trying to be set on a copy of a slice from a DataFrame.\n",
            "Try using .loc[row_indexer,col_indexer] = value instead\n",
            "\n",
            "See the caveats in the documentation: https://pandas.pydata.org/pandas-docs/stable/user_guide/indexing.html#returning-a-view-versus-a-copy\n",
            "  This is separate from the ipykernel package so we can avoid doing imports until\n"
          ],
          "name": "stderr"
        },
        {
          "output_type": "execute_result",
          "data": {
            "text/html": [
              "<div>\n",
              "<style scoped>\n",
              "    .dataframe tbody tr th:only-of-type {\n",
              "        vertical-align: middle;\n",
              "    }\n",
              "\n",
              "    .dataframe tbody tr th {\n",
              "        vertical-align: top;\n",
              "    }\n",
              "\n",
              "    .dataframe thead th {\n",
              "        text-align: right;\n",
              "    }\n",
              "</style>\n",
              "<table border=\"1\" class=\"dataframe\">\n",
              "  <thead>\n",
              "    <tr style=\"text-align: right;\">\n",
              "      <th></th>\n",
              "      <th>Reported Cases</th>\n",
              "      <th>percentage cases</th>\n",
              "    </tr>\n",
              "  </thead>\n",
              "  <tbody>\n",
              "    <tr>\n",
              "      <th>0</th>\n",
              "      <td>10</td>\n",
              "      <td>8.130081</td>\n",
              "    </tr>\n",
              "    <tr>\n",
              "      <th>1</th>\n",
              "      <td>11</td>\n",
              "      <td>8.943089</td>\n",
              "    </tr>\n",
              "    <tr>\n",
              "      <th>2</th>\n",
              "      <td>10</td>\n",
              "      <td>8.130081</td>\n",
              "    </tr>\n",
              "    <tr>\n",
              "      <th>3</th>\n",
              "      <td>5</td>\n",
              "      <td>4.065041</td>\n",
              "    </tr>\n",
              "    <tr>\n",
              "      <th>4</th>\n",
              "      <td>2</td>\n",
              "      <td>1.626016</td>\n",
              "    </tr>\n",
              "    <tr>\n",
              "      <th>5</th>\n",
              "      <td>5</td>\n",
              "      <td>4.065041</td>\n",
              "    </tr>\n",
              "    <tr>\n",
              "      <th>6</th>\n",
              "      <td>4</td>\n",
              "      <td>3.252033</td>\n",
              "    </tr>\n",
              "    <tr>\n",
              "      <th>7</th>\n",
              "      <td>5</td>\n",
              "      <td>4.065041</td>\n",
              "    </tr>\n",
              "    <tr>\n",
              "      <th>8</th>\n",
              "      <td>7</td>\n",
              "      <td>5.691057</td>\n",
              "    </tr>\n",
              "    <tr>\n",
              "      <th>9</th>\n",
              "      <td>8</td>\n",
              "      <td>6.504065</td>\n",
              "    </tr>\n",
              "    <tr>\n",
              "      <th>10</th>\n",
              "      <td>4</td>\n",
              "      <td>3.252033</td>\n",
              "    </tr>\n",
              "    <tr>\n",
              "      <th>19</th>\n",
              "      <td>12</td>\n",
              "      <td>9.756098</td>\n",
              "    </tr>\n",
              "    <tr>\n",
              "      <th>20</th>\n",
              "      <td>10</td>\n",
              "      <td>8.130081</td>\n",
              "    </tr>\n",
              "    <tr>\n",
              "      <th>21</th>\n",
              "      <td>9</td>\n",
              "      <td>7.317073</td>\n",
              "    </tr>\n",
              "    <tr>\n",
              "      <th>22</th>\n",
              "      <td>11</td>\n",
              "      <td>8.943089</td>\n",
              "    </tr>\n",
              "    <tr>\n",
              "      <th>23</th>\n",
              "      <td>10</td>\n",
              "      <td>8.130081</td>\n",
              "    </tr>\n",
              "  </tbody>\n",
              "</table>\n",
              "</div>"
            ],
            "text/plain": [
              "    Reported Cases  percentage cases\n",
              "0               10          8.130081\n",
              "1               11          8.943089\n",
              "2               10          8.130081\n",
              "3                5          4.065041\n",
              "4                2          1.626016\n",
              "5                5          4.065041\n",
              "6                4          3.252033\n",
              "7                5          4.065041\n",
              "8                7          5.691057\n",
              "9                8          6.504065\n",
              "10               4          3.252033\n",
              "19              12          9.756098\n",
              "20              10          8.130081\n",
              "21               9          7.317073\n",
              "22              11          8.943089\n",
              "23              10          8.130081"
            ]
          },
          "metadata": {
            "tags": []
          },
          "execution_count": 86
        }
      ]
    },
    {
      "cell_type": "code",
      "metadata": {
        "colab": {
          "base_uri": "https://localhost:8080/",
          "height": 414
        },
        "id": "bOhxd1q6o2S2",
        "outputId": "0f581026-4177-48c4-c396-7085c44f6e8a"
      },
      "source": [
        "fig, ax = plt.subplots(1,2,figsize=(15,6))\n",
        "#ax.bar(death_toll_stats.index, death_toll_stats.values())\n",
        "published_time_hourly_frequency['Reported Cases'].plot.bar(ax=ax[0], color = 'darkolivegreen')\n",
        "ax[0].set_xlabel('Hour of day', fontsize=15)\n",
        "ax[0].set_ylabel('Frequency of Occurrence', fontsize=15)\n",
        "ax[0].set_title('Reported Road Accidents in every hour', fontsize = 15)\n",
        "ax[0].grid()\n",
        "\n",
        "published_time_hourly_frequency['percentage cases'].plot.bar(ax=ax[1], color = 'crimson')\n",
        "ax[1].set_xlabel('Hour of day', fontsize=15)\n",
        "ax[1].set_ylabel('Frequency of Occurrence(%)', fontsize=15)\n",
        "ax[1].set_title('Reported Road Accidents in every hour(%)', fontsize = 15)\n",
        "ax[1].grid()\n",
        "plt.show()"
      ],
      "execution_count": 89,
      "outputs": [
        {
          "output_type": "display_data",
          "data": {
            "image/png": "[encoded data removed]",
            "text/plain": [
              "<Figure size 1080x432 with 2 Axes>"
            ]
          },
          "metadata": {
            "tags": [],
            "needs_background": "light"
          }
        }
      ]
    },
    {
      "cell_type": "markdown",
      "metadata": {
        "id": "hrxYr-TRtLnt"
      },
      "source": [
        "From the above visualizations, it seems Prothom Alo reports most accident cases from 19:00 to 2:00 (late night to midnight). Since new media report accident fairly quickly, we can say most reported accidents occur after sunset or at night. "
      ]
    }
  ]
}