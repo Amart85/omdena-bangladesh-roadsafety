{
  "nbformat": 4,
  "nbformat_minor": 0,
  "metadata": {
    "colab": {
      "name": "Time-series_prediction.ipynb",
      "provenance": []
    },
    "kernelspec": {
      "name": "python3",
      "display_name": "Python 3"
    },
    "language_info": {
      "name": "python"
    }
  },
  "cells": [
    {
      "cell_type": "code",
      "metadata": {
        "id": "wqmGgVUfqtnC"
      },
      "source": [
        "import pandas as pd\n",
        "import numpy as np\n",
        "import plotly.express as px\n",
        "import seaborn as sns\n",
        "import matplotlib.pyplot as plt\n",
        "import datetime\n",
        "from sklearn.preprocessing import MinMaxScaler"
      ],
      "execution_count": 2,
      "outputs": []
    },
    {
      "cell_type": "code",
      "metadata": {
        "colab": {
          "base_uri": "https://localhost:8080/"
        },
        "id": "Hwg4HNPFrvbD",
        "outputId": "477484a0-3117-49dc-8640-98805a81458b"
      },
      "source": [
        "from google.colab import drive\n",
        "drive.mount('/content/drive')"
      ],
      "execution_count": 3,
      "outputs": [
        {
          "output_type": "stream",
          "text": [
            "Mounted at /content/drive\n"
          ],
          "name": "stdout"
        }
      ]
    },
    {
      "cell_type": "code",
      "metadata": {
        "id": "zBuyF8HbrovJ"
      },
      "source": [
        "df = pd.read_csv(\"/content/drive/MyDrive/Colab Notebooks/omdena-time-series-analysis/data/Dhaka Tribune Complete Data.csv\")"
      ],
      "execution_count": 4,
      "outputs": []
    },
    {
      "cell_type": "code",
      "metadata": {
        "colab": {
          "base_uri": "https://localhost:8080/",
          "height": 206
        },
        "id": "T3cdbCZosKLq",
        "outputId": "c3e70887-dc1e-4e13-b2ce-feaa21b9f4be"
      },
      "source": [
        "df.head()"
      ],
      "execution_count": 5,
      "outputs": [
        {
          "output_type": "execute_result",
          "data": {
            "text/html": [
              "<div>\n",
              "<style scoped>\n",
              "    .dataframe tbody tr th:only-of-type {\n",
              "        vertical-align: middle;\n",
              "    }\n",
              "\n",
              "    .dataframe tbody tr th {\n",
              "        vertical-align: top;\n",
              "    }\n",
              "\n",
              "    .dataframe thead th {\n",
              "        text-align: right;\n",
              "    }\n",
              "</style>\n",
              "<table border=\"1\" class=\"dataframe\">\n",
              "  <thead>\n",
              "    <tr style=\"text-align: right;\">\n",
              "      <th></th>\n",
              "      <th>Unnamed: 0</th>\n",
              "      <th>Newspaper Name</th>\n",
              "      <th>Accident date</th>\n",
              "      <th>Header</th>\n",
              "      <th>News title</th>\n",
              "      <th>Deaths</th>\n",
              "      <th>Injured</th>\n",
              "    </tr>\n",
              "  </thead>\n",
              "  <tbody>\n",
              "    <tr>\n",
              "      <th>0</th>\n",
              "      <td>0</td>\n",
              "      <td>Dhaka Tribune</td>\n",
              "      <td>Jun 26 2021</td>\n",
              "      <td>Two labourers killed in Dhaka road accident</td>\n",
              "      <td>2 killed in Dhaka road crash</td>\n",
              "      <td>2.0</td>\n",
              "      <td>2</td>\n",
              "    </tr>\n",
              "    <tr>\n",
              "      <th>1</th>\n",
              "      <td>1</td>\n",
              "      <td>Dhaka Tribune</td>\n",
              "      <td>Jun 23 2021</td>\n",
              "      <td>Three killed in Muktagacha road accident</td>\n",
              "      <td>Three killed in Muktagacha road...</td>\n",
              "      <td>3.0</td>\n",
              "      <td>0</td>\n",
              "    </tr>\n",
              "    <tr>\n",
              "      <th>2</th>\n",
              "      <td>2</td>\n",
              "      <td>Dhaka Tribune</td>\n",
              "      <td>Jun 19 2021</td>\n",
              "      <td>Truck-pickup van collision leaves 3 dead in Na...</td>\n",
              "      <td>Truck-pickup van collision leaves 3...</td>\n",
              "      <td>3.0</td>\n",
              "      <td>0</td>\n",
              "    </tr>\n",
              "    <tr>\n",
              "      <th>3</th>\n",
              "      <td>3</td>\n",
              "      <td>Dhaka Tribune</td>\n",
              "      <td>Jun 19 2021</td>\n",
              "      <td>Couple, infant grandson killed in Bogra bus-au...</td>\n",
              "      <td>Bogra road crash kills 3</td>\n",
              "      <td>3.0</td>\n",
              "      <td>0</td>\n",
              "    </tr>\n",
              "    <tr>\n",
              "      <th>4</th>\n",
              "      <td>4</td>\n",
              "      <td>Dhaka Tribune</td>\n",
              "      <td>Jun 19 2021</td>\n",
              "      <td>Policeman killed in Dhaka road accident</td>\n",
              "      <td>Cop killed in Dhaka road crash</td>\n",
              "      <td>1.0</td>\n",
              "      <td>0</td>\n",
              "    </tr>\n",
              "  </tbody>\n",
              "</table>\n",
              "</div>"
            ],
            "text/plain": [
              "   Unnamed: 0 Newspaper Name  ... Deaths Injured\n",
              "0           0  Dhaka Tribune  ...    2.0       2\n",
              "1           1  Dhaka Tribune  ...    3.0       0\n",
              "2           2  Dhaka Tribune  ...    3.0       0\n",
              "3           3  Dhaka Tribune  ...    3.0       0\n",
              "4           4  Dhaka Tribune  ...    1.0       0\n",
              "\n",
              "[5 rows x 7 columns]"
            ]
          },
          "metadata": {
            "tags": []
          },
          "execution_count": 5
        }
      ]
    },
    {
      "cell_type": "code",
      "metadata": {
        "colab": {
          "base_uri": "https://localhost:8080/"
        },
        "id": "aTZ7YMGH0lsu",
        "outputId": "61f593d0-ba86-4438-df79-15dc2a5f9c98"
      },
      "source": [
        "df.shape"
      ],
      "execution_count": 6,
      "outputs": [
        {
          "output_type": "execute_result",
          "data": {
            "text/plain": [
              "(776, 7)"
            ]
          },
          "metadata": {
            "tags": []
          },
          "execution_count": 6
        }
      ]
    },
    {
      "cell_type": "code",
      "metadata": {
        "colab": {
          "base_uri": "https://localhost:8080/"
        },
        "id": "QKI4UZ_jNJwS",
        "outputId": "b08a66c8-051d-4216-8ffe-52bd5ae6a9ae"
      },
      "source": [
        "df.fillna(0,inplace=True)\n",
        "df.isna().sum()"
      ],
      "execution_count": 7,
      "outputs": [
        {
          "output_type": "execute_result",
          "data": {
            "text/plain": [
              "Unnamed: 0        0\n",
              "Newspaper Name    0\n",
              "Accident date     0\n",
              "Header            0\n",
              "News title        0\n",
              "Deaths            0\n",
              "Injured           0\n",
              "dtype: int64"
            ]
          },
          "metadata": {
            "tags": []
          },
          "execution_count": 7
        }
      ]
    },
    {
      "cell_type": "code",
      "metadata": {
        "colab": {
          "base_uri": "https://localhost:8080/"
        },
        "id": "mU1KHueFLKb_",
        "outputId": "ecb17afd-5922-4f22-aedf-69d87c636a5b"
      },
      "source": [
        "print(df.dtypes)"
      ],
      "execution_count": 8,
      "outputs": [
        {
          "output_type": "stream",
          "text": [
            "Unnamed: 0          int64\n",
            "Newspaper Name     object\n",
            "Accident date      object\n",
            "Header             object\n",
            "News title         object\n",
            "Deaths            float64\n",
            "Injured             int64\n",
            "dtype: object\n"
          ],
          "name": "stdout"
        }
      ]
    },
    {
      "cell_type": "code",
      "metadata": {
        "id": "RdCLcuktsMKs"
      },
      "source": [
        "df['Accident date'] = pd.to_datetime(df['Accident date'])\n",
        "df['month_year'] = pd.to_datetime(df['Accident date']).dt.to_period('M')    # monthly basic  (fatched month and year in a row from individual date row.) \n",
        "df['week_month_year'] = pd.to_datetime(df['Accident date']).dt.to_period('w')  # weekly basic (fatched first date of week and last date of week in a row from individual date row.)"
      ],
      "execution_count": 9,
      "outputs": []
    },
    {
      "cell_type": "code",
      "metadata": {
        "colab": {
          "base_uri": "https://localhost:8080/",
          "height": 206
        },
        "id": "U9W-OcINUSRk",
        "outputId": "36b13953-6dc8-492a-bfa6-d73558c935aa"
      },
      "source": [
        "df.head()"
      ],
      "execution_count": 10,
      "outputs": [
        {
          "output_type": "execute_result",
          "data": {
            "text/html": [
              "<div>\n",
              "<style scoped>\n",
              "    .dataframe tbody tr th:only-of-type {\n",
              "        vertical-align: middle;\n",
              "    }\n",
              "\n",
              "    .dataframe tbody tr th {\n",
              "        vertical-align: top;\n",
              "    }\n",
              "\n",
              "    .dataframe thead th {\n",
              "        text-align: right;\n",
              "    }\n",
              "</style>\n",
              "<table border=\"1\" class=\"dataframe\">\n",
              "  <thead>\n",
              "    <tr style=\"text-align: right;\">\n",
              "      <th></th>\n",
              "      <th>Unnamed: 0</th>\n",
              "      <th>Newspaper Name</th>\n",
              "      <th>Accident date</th>\n",
              "      <th>Header</th>\n",
              "      <th>News title</th>\n",
              "      <th>Deaths</th>\n",
              "      <th>Injured</th>\n",
              "      <th>month_year</th>\n",
              "      <th>week_month_year</th>\n",
              "    </tr>\n",
              "  </thead>\n",
              "  <tbody>\n",
              "    <tr>\n",
              "      <th>0</th>\n",
              "      <td>0</td>\n",
              "      <td>Dhaka Tribune</td>\n",
              "      <td>2021-06-26</td>\n",
              "      <td>Two labourers killed in Dhaka road accident</td>\n",
              "      <td>2 killed in Dhaka road crash</td>\n",
              "      <td>2.0</td>\n",
              "      <td>2</td>\n",
              "      <td>2021-06</td>\n",
              "      <td>2021-06-21/2021-06-27</td>\n",
              "    </tr>\n",
              "    <tr>\n",
              "      <th>1</th>\n",
              "      <td>1</td>\n",
              "      <td>Dhaka Tribune</td>\n",
              "      <td>2021-06-23</td>\n",
              "      <td>Three killed in Muktagacha road accident</td>\n",
              "      <td>Three killed in Muktagacha road...</td>\n",
              "      <td>3.0</td>\n",
              "      <td>0</td>\n",
              "      <td>2021-06</td>\n",
              "      <td>2021-06-21/2021-06-27</td>\n",
              "    </tr>\n",
              "    <tr>\n",
              "      <th>2</th>\n",
              "      <td>2</td>\n",
              "      <td>Dhaka Tribune</td>\n",
              "      <td>2021-06-19</td>\n",
              "      <td>Truck-pickup van collision leaves 3 dead in Na...</td>\n",
              "      <td>Truck-pickup van collision leaves 3...</td>\n",
              "      <td>3.0</td>\n",
              "      <td>0</td>\n",
              "      <td>2021-06</td>\n",
              "      <td>2021-06-14/2021-06-20</td>\n",
              "    </tr>\n",
              "    <tr>\n",
              "      <th>3</th>\n",
              "      <td>3</td>\n",
              "      <td>Dhaka Tribune</td>\n",
              "      <td>2021-06-19</td>\n",
              "      <td>Couple, infant grandson killed in Bogra bus-au...</td>\n",
              "      <td>Bogra road crash kills 3</td>\n",
              "      <td>3.0</td>\n",
              "      <td>0</td>\n",
              "      <td>2021-06</td>\n",
              "      <td>2021-06-14/2021-06-20</td>\n",
              "    </tr>\n",
              "    <tr>\n",
              "      <th>4</th>\n",
              "      <td>4</td>\n",
              "      <td>Dhaka Tribune</td>\n",
              "      <td>2021-06-19</td>\n",
              "      <td>Policeman killed in Dhaka road accident</td>\n",
              "      <td>Cop killed in Dhaka road crash</td>\n",
              "      <td>1.0</td>\n",
              "      <td>0</td>\n",
              "      <td>2021-06</td>\n",
              "      <td>2021-06-14/2021-06-20</td>\n",
              "    </tr>\n",
              "  </tbody>\n",
              "</table>\n",
              "</div>"
            ],
            "text/plain": [
              "   Unnamed: 0 Newspaper Name  ... month_year        week_month_year\n",
              "0           0  Dhaka Tribune  ...    2021-06  2021-06-21/2021-06-27\n",
              "1           1  Dhaka Tribune  ...    2021-06  2021-06-21/2021-06-27\n",
              "2           2  Dhaka Tribune  ...    2021-06  2021-06-14/2021-06-20\n",
              "3           3  Dhaka Tribune  ...    2021-06  2021-06-14/2021-06-20\n",
              "4           4  Dhaka Tribune  ...    2021-06  2021-06-14/2021-06-20\n",
              "\n",
              "[5 rows x 9 columns]"
            ]
          },
          "metadata": {
            "tags": []
          },
          "execution_count": 10
        }
      ]
    },
    {
      "cell_type": "code",
      "metadata": {
        "id": "XPtoDD_JsP8d"
      },
      "source": [
        "#temp =df.groupby(['month_year'],as_index = False)['Deaths'].sum() # monthly operation\n",
        "\n",
        "temp =df.groupby(['week_month_year'],as_index = False)['Deaths'].sum() #weekly operation"
      ],
      "execution_count": 11,
      "outputs": []
    },
    {
      "cell_type": "code",
      "metadata": {
        "colab": {
          "base_uri": "https://localhost:8080/"
        },
        "id": "I4U7Og7PWi1I",
        "outputId": "68b8115d-4751-416b-c60c-0cda978c4d64"
      },
      "source": [
        "temp.shape"
      ],
      "execution_count": 12,
      "outputs": [
        {
          "output_type": "execute_result",
          "data": {
            "text/plain": [
              "(232, 2)"
            ]
          },
          "metadata": {
            "tags": []
          },
          "execution_count": 12
        }
      ]
    },
    {
      "cell_type": "code",
      "metadata": {
        "colab": {
          "base_uri": "https://localhost:8080/",
          "height": 299
        },
        "id": "ma_YrvtrDgwK",
        "outputId": "5b6577b2-6be7-43c1-9065-8aa171b1fdcd"
      },
      "source": [
        "temp.plot(x='week_month_year')"
      ],
      "execution_count": 13,
      "outputs": [
        {
          "output_type": "execute_result",
          "data": {
            "text/plain": [
              "<matplotlib.axes._subplots.AxesSubplot at 0x7f2b3bd3c610>"
            ]
          },
          "metadata": {
            "tags": []
          },
          "execution_count": 13
        },
        {
          "output_type": "display_data",
          "data": {
            "image/png": "[encoded data removed]",
            "text/plain": [
              "<Figure size 432x288 with 1 Axes>"
            ]
          },
          "metadata": {
            "tags": [],
            "needs_background": "light"
          }
        }
      ]
    },
    {
      "cell_type": "code",
      "metadata": {
        "colab": {
          "base_uri": "https://localhost:8080/"
        },
        "id": "Pkkn7VZgU72l",
        "outputId": "ca398e37-136e-4da2-8e35-243332e22618"
      },
      "source": [
        "print(temp.shape)\n"
      ],
      "execution_count": 14,
      "outputs": [
        {
          "output_type": "stream",
          "text": [
            "(232, 2)\n"
          ],
          "name": "stdout"
        }
      ]
    },
    {
      "cell_type": "markdown",
      "metadata": {
        "id": "z_guHj9S1jU9"
      },
      "source": [
        "# perform Data Pre-Processing on data and make  it ready time series model"
      ]
    },
    {
      "cell_type": "code",
      "metadata": {
        "id": "2A4OM-F64Ec5"
      },
      "source": [
        "temp.set_index('week_month_year', inplace=True)"
      ],
      "execution_count": 15,
      "outputs": []
    },
    {
      "cell_type": "code",
      "metadata": {
        "colab": {
          "base_uri": "https://localhost:8080/"
        },
        "id": "nNS8bqG44GcS",
        "outputId": "2dba4482-087c-460d-ece7-80944bd62704"
      },
      "source": [
        "temp.dtypes"
      ],
      "execution_count": 16,
      "outputs": [
        {
          "output_type": "execute_result",
          "data": {
            "text/plain": [
              "Deaths    float64\n",
              "dtype: object"
            ]
          },
          "metadata": {
            "tags": []
          },
          "execution_count": 16
        }
      ]
    },
    {
      "cell_type": "code",
      "metadata": {
        "id": "NHlosuqvrMKj"
      },
      "source": [
        "data=temp.copy()"
      ],
      "execution_count": 17,
      "outputs": []
    },
    {
      "cell_type": "markdown",
      "metadata": {
        "id": "kLBT-trq7Div"
      },
      "source": [
        "Check whether Data is stationery or not, if not make it stationery"
      ]
    },
    {
      "cell_type": "code",
      "metadata": {
        "colab": {
          "base_uri": "https://localhost:8080/"
        },
        "id": "11rCm2cg7-b2",
        "outputId": "8911cb93-b067-4a4c-b9b5-5cd15407f10e"
      },
      "source": [
        "from statsmodels.tsa.stattools import adfuller"
      ],
      "execution_count": 18,
      "outputs": [
        {
          "output_type": "stream",
          "text": [
            "/usr/local/lib/python3.7/dist-packages/statsmodels/tools/_testing.py:19: FutureWarning:\n",
            "\n",
            "pandas.util.testing is deprecated. Use the functions in the public API at pandas.testing instead.\n",
            "\n"
          ],
          "name": "stderr"
        }
      ]
    },
    {
      "cell_type": "code",
      "metadata": {
        "colab": {
          "base_uri": "https://localhost:8080/"
        },
        "id": "7F_1VcwC8eif",
        "outputId": "32874258-8023-4969-c314-c8b34b88827e"
      },
      "source": [
        "adfuller(temp['Deaths'])"
      ],
      "execution_count": 19,
      "outputs": [
        {
          "output_type": "execute_result",
          "data": {
            "text/plain": [
              "(-14.15693995906928,\n",
              " 2.113561505295262e-26,\n",
              " 0,\n",
              " 231,\n",
              " {'1%': -3.4589796764641,\n",
              "  '10%': -2.573482381701992,\n",
              "  '5%': -2.8741347158661448},\n",
              " 1897.2549426371677)"
            ]
          },
          "metadata": {
            "tags": []
          },
          "execution_count": 19
        }
      ]
    },
    {
      "cell_type": "code",
      "metadata": {
        "id": "BUgz1Srv8wJ-"
      },
      "source": [
        "def adfuller_test(Temp):\n",
        "  result = adfuller(Temp)\n",
        "  labels = ['ADF Test stats' , 'p-value' , '#lags used', 'no of observations used']\n",
        "\n",
        "  for value , label in zip(result , labels):\n",
        "    print('{} : {}'.format(label , value))\n",
        "  if result[1] <= 0.05:\n",
        "    print(\"Strong evidence against the null hypo , henece we can reject the null hypo & data is stationary\")\n",
        "  else:\n",
        "    print(\"weak evidence against the null hypo , henece we have failed to reject the null hypo & data is not stationary\")"
      ],
      "execution_count": 20,
      "outputs": []
    },
    {
      "cell_type": "code",
      "metadata": {
        "colab": {
          "base_uri": "https://localhost:8080/"
        },
        "id": "cdc9KsYAahWN",
        "outputId": "d1745e80-6448-45d3-c551-567bcf642116"
      },
      "source": [
        "adfuller_test(temp['Deaths'])"
      ],
      "execution_count": 21,
      "outputs": [
        {
          "output_type": "stream",
          "text": [
            "ADF Test stats : -14.15693995906928\n",
            "p-value : 2.113561505295262e-26\n",
            "#lags used : 0\n",
            "no of observations used : 231\n",
            "Strong evidence against the null hypo , henece we can reject the null hypo & data is stationary\n"
          ],
          "name": "stdout"
        }
      ]
    },
    {
      "cell_type": "code",
      "metadata": {
        "id": "UVpuY2K1dmuQ"
      },
      "source": [
        "df = temp.copy()"
      ],
      "execution_count": 22,
      "outputs": []
    },
    {
      "cell_type": "code",
      "metadata": {
        "id": "-EXnrmFqdxSp"
      },
      "source": [
        "#df['first_death_diff'] = df['Deaths']-df['Deaths'].shift(7)"
      ],
      "execution_count": 23,
      "outputs": []
    },
    {
      "cell_type": "markdown",
      "metadata": {
        "id": "-V6NUbUrd3_5"
      },
      "source": [
        " Examine if there is a seasonality in a data or not"
      ]
    },
    {
      "cell_type": "code",
      "metadata": {
        "id": "uBMx-uOKamfV"
      },
      "source": [
        "temp['week'] = temp.index.week"
      ],
      "execution_count": 24,
      "outputs": []
    },
    {
      "cell_type": "code",
      "metadata": {
        "id": "4V_w1btReYC1"
      },
      "source": [
        "temp['year'] = temp.index.year"
      ],
      "execution_count": 25,
      "outputs": []
    },
    {
      "cell_type": "code",
      "metadata": {
        "colab": {
          "base_uri": "https://localhost:8080/",
          "height": 238
        },
        "id": "nExx4wJ7eeRN",
        "outputId": "40bd1b2f-e8de-4154-d61c-79bfad15240c"
      },
      "source": [
        "temp.head()"
      ],
      "execution_count": 26,
      "outputs": [
        {
          "output_type": "execute_result",
          "data": {
            "text/html": [
              "<div>\n",
              "<style scoped>\n",
              "    .dataframe tbody tr th:only-of-type {\n",
              "        vertical-align: middle;\n",
              "    }\n",
              "\n",
              "    .dataframe tbody tr th {\n",
              "        vertical-align: top;\n",
              "    }\n",
              "\n",
              "    .dataframe thead th {\n",
              "        text-align: right;\n",
              "    }\n",
              "</style>\n",
              "<table border=\"1\" class=\"dataframe\">\n",
              "  <thead>\n",
              "    <tr style=\"text-align: right;\">\n",
              "      <th></th>\n",
              "      <th>Deaths</th>\n",
              "      <th>week</th>\n",
              "      <th>year</th>\n",
              "    </tr>\n",
              "    <tr>\n",
              "      <th>week_month_year</th>\n",
              "      <th></th>\n",
              "      <th></th>\n",
              "      <th></th>\n",
              "    </tr>\n",
              "  </thead>\n",
              "  <tbody>\n",
              "    <tr>\n",
              "      <th>2016-06-20/2016-06-26</th>\n",
              "      <td>3.0</td>\n",
              "      <td>25</td>\n",
              "      <td>2016</td>\n",
              "    </tr>\n",
              "    <tr>\n",
              "      <th>2016-07-11/2016-07-17</th>\n",
              "      <td>4.0</td>\n",
              "      <td>28</td>\n",
              "      <td>2016</td>\n",
              "    </tr>\n",
              "    <tr>\n",
              "      <th>2016-08-01/2016-08-07</th>\n",
              "      <td>3.0</td>\n",
              "      <td>31</td>\n",
              "      <td>2016</td>\n",
              "    </tr>\n",
              "    <tr>\n",
              "      <th>2016-08-08/2016-08-14</th>\n",
              "      <td>1.0</td>\n",
              "      <td>32</td>\n",
              "      <td>2016</td>\n",
              "    </tr>\n",
              "    <tr>\n",
              "      <th>2016-08-15/2016-08-21</th>\n",
              "      <td>8.0</td>\n",
              "      <td>33</td>\n",
              "      <td>2016</td>\n",
              "    </tr>\n",
              "  </tbody>\n",
              "</table>\n",
              "</div>"
            ],
            "text/plain": [
              "                       Deaths  week  year\n",
              "week_month_year                          \n",
              "2016-06-20/2016-06-26     3.0    25  2016\n",
              "2016-07-11/2016-07-17     4.0    28  2016\n",
              "2016-08-01/2016-08-07     3.0    31  2016\n",
              "2016-08-08/2016-08-14     1.0    32  2016\n",
              "2016-08-15/2016-08-21     8.0    33  2016"
            ]
          },
          "metadata": {
            "tags": []
          },
          "execution_count": 26
        }
      ]
    },
    {
      "cell_type": "code",
      "metadata": {
        "id": "GB_018jdefwr"
      },
      "source": [
        "pivot = temp.pivot_table(values='Deaths', index='week',columns='year')"
      ],
      "execution_count": 27,
      "outputs": []
    },
    {
      "cell_type": "code",
      "metadata": {
        "colab": {
          "base_uri": "https://localhost:8080/",
          "height": 1000
        },
        "id": "5VE1xolQfMaj",
        "outputId": "1e4a731a-ad40-435e-aa45-9895798854ef"
      },
      "source": [
        "pivot"
      ],
      "execution_count": 28,
      "outputs": [
        {
          "output_type": "execute_result",
          "data": {
            "text/html": [
              "<div>\n",
              "<style scoped>\n",
              "    .dataframe tbody tr th:only-of-type {\n",
              "        vertical-align: middle;\n",
              "    }\n",
              "\n",
              "    .dataframe tbody tr th {\n",
              "        vertical-align: top;\n",
              "    }\n",
              "\n",
              "    .dataframe thead th {\n",
              "        text-align: right;\n",
              "    }\n",
              "</style>\n",
              "<table border=\"1\" class=\"dataframe\">\n",
              "  <thead>\n",
              "    <tr style=\"text-align: right;\">\n",
              "      <th>year</th>\n",
              "      <th>2016</th>\n",
              "      <th>2017</th>\n",
              "      <th>2018</th>\n",
              "      <th>2019</th>\n",
              "      <th>2020</th>\n",
              "      <th>2021</th>\n",
              "    </tr>\n",
              "    <tr>\n",
              "      <th>week</th>\n",
              "      <th></th>\n",
              "      <th></th>\n",
              "      <th></th>\n",
              "      <th></th>\n",
              "      <th></th>\n",
              "      <th></th>\n",
              "    </tr>\n",
              "  </thead>\n",
              "  <tbody>\n",
              "    <tr>\n",
              "      <th>1</th>\n",
              "      <td>NaN</td>\n",
              "      <td>1.0</td>\n",
              "      <td>7.0</td>\n",
              "      <td>13.0</td>\n",
              "      <td>16.0</td>\n",
              "      <td>1.0</td>\n",
              "    </tr>\n",
              "    <tr>\n",
              "      <th>2</th>\n",
              "      <td>NaN</td>\n",
              "      <td>NaN</td>\n",
              "      <td>2.0</td>\n",
              "      <td>13.0</td>\n",
              "      <td>13.0</td>\n",
              "      <td>6.0</td>\n",
              "    </tr>\n",
              "    <tr>\n",
              "      <th>3</th>\n",
              "      <td>NaN</td>\n",
              "      <td>NaN</td>\n",
              "      <td>18.0</td>\n",
              "      <td>13.0</td>\n",
              "      <td>19.0</td>\n",
              "      <td>5.0</td>\n",
              "    </tr>\n",
              "    <tr>\n",
              "      <th>4</th>\n",
              "      <td>NaN</td>\n",
              "      <td>NaN</td>\n",
              "      <td>NaN</td>\n",
              "      <td>43.0</td>\n",
              "      <td>18.0</td>\n",
              "      <td>1.0</td>\n",
              "    </tr>\n",
              "    <tr>\n",
              "      <th>5</th>\n",
              "      <td>NaN</td>\n",
              "      <td>76.0</td>\n",
              "      <td>5.0</td>\n",
              "      <td>25.0</td>\n",
              "      <td>17.0</td>\n",
              "      <td>37.0</td>\n",
              "    </tr>\n",
              "    <tr>\n",
              "      <th>6</th>\n",
              "      <td>NaN</td>\n",
              "      <td>21.0</td>\n",
              "      <td>6.0</td>\n",
              "      <td>31.0</td>\n",
              "      <td>13.0</td>\n",
              "      <td>16.0</td>\n",
              "    </tr>\n",
              "    <tr>\n",
              "      <th>7</th>\n",
              "      <td>NaN</td>\n",
              "      <td>10.0</td>\n",
              "      <td>NaN</td>\n",
              "      <td>48.0</td>\n",
              "      <td>32.0</td>\n",
              "      <td>12.0</td>\n",
              "    </tr>\n",
              "    <tr>\n",
              "      <th>8</th>\n",
              "      <td>NaN</td>\n",
              "      <td>4.0</td>\n",
              "      <td>1.0</td>\n",
              "      <td>19.0</td>\n",
              "      <td>20.0</td>\n",
              "      <td>36.0</td>\n",
              "    </tr>\n",
              "    <tr>\n",
              "      <th>9</th>\n",
              "      <td>NaN</td>\n",
              "      <td>6.0</td>\n",
              "      <td>4.0</td>\n",
              "      <td>10.0</td>\n",
              "      <td>47.0</td>\n",
              "      <td>23.0</td>\n",
              "    </tr>\n",
              "    <tr>\n",
              "      <th>10</th>\n",
              "      <td>NaN</td>\n",
              "      <td>2.0</td>\n",
              "      <td>8.0</td>\n",
              "      <td>11.0</td>\n",
              "      <td>37.0</td>\n",
              "      <td>5.0</td>\n",
              "    </tr>\n",
              "    <tr>\n",
              "      <th>11</th>\n",
              "      <td>NaN</td>\n",
              "      <td>9.0</td>\n",
              "      <td>NaN</td>\n",
              "      <td>3.0</td>\n",
              "      <td>39.0</td>\n",
              "      <td>14.0</td>\n",
              "    </tr>\n",
              "    <tr>\n",
              "      <th>12</th>\n",
              "      <td>NaN</td>\n",
              "      <td>42.0</td>\n",
              "      <td>NaN</td>\n",
              "      <td>23.0</td>\n",
              "      <td>39.0</td>\n",
              "      <td>26.0</td>\n",
              "    </tr>\n",
              "    <tr>\n",
              "      <th>13</th>\n",
              "      <td>NaN</td>\n",
              "      <td>19.0</td>\n",
              "      <td>14.0</td>\n",
              "      <td>29.0</td>\n",
              "      <td>26.0</td>\n",
              "      <td>7.0</td>\n",
              "    </tr>\n",
              "    <tr>\n",
              "      <th>14</th>\n",
              "      <td>NaN</td>\n",
              "      <td>3.0</td>\n",
              "      <td>28.0</td>\n",
              "      <td>10.0</td>\n",
              "      <td>2.0</td>\n",
              "      <td>4.0</td>\n",
              "    </tr>\n",
              "    <tr>\n",
              "      <th>15</th>\n",
              "      <td>NaN</td>\n",
              "      <td>27.0</td>\n",
              "      <td>4.0</td>\n",
              "      <td>13.0</td>\n",
              "      <td>NaN</td>\n",
              "      <td>25.0</td>\n",
              "    </tr>\n",
              "    <tr>\n",
              "      <th>16</th>\n",
              "      <td>NaN</td>\n",
              "      <td>14.0</td>\n",
              "      <td>4.0</td>\n",
              "      <td>43.0</td>\n",
              "      <td>1.0</td>\n",
              "      <td>6.0</td>\n",
              "    </tr>\n",
              "    <tr>\n",
              "      <th>17</th>\n",
              "      <td>NaN</td>\n",
              "      <td>5.0</td>\n",
              "      <td>13.0</td>\n",
              "      <td>17.0</td>\n",
              "      <td>14.0</td>\n",
              "      <td>12.0</td>\n",
              "    </tr>\n",
              "    <tr>\n",
              "      <th>18</th>\n",
              "      <td>NaN</td>\n",
              "      <td>2.0</td>\n",
              "      <td>6.0</td>\n",
              "      <td>35.0</td>\n",
              "      <td>213.0</td>\n",
              "      <td>11.0</td>\n",
              "    </tr>\n",
              "    <tr>\n",
              "      <th>19</th>\n",
              "      <td>NaN</td>\n",
              "      <td>13.0</td>\n",
              "      <td>15.0</td>\n",
              "      <td>19.0</td>\n",
              "      <td>NaN</td>\n",
              "      <td>20.0</td>\n",
              "    </tr>\n",
              "    <tr>\n",
              "      <th>20</th>\n",
              "      <td>NaN</td>\n",
              "      <td>NaN</td>\n",
              "      <td>5.0</td>\n",
              "      <td>10.0</td>\n",
              "      <td>1.0</td>\n",
              "      <td>28.0</td>\n",
              "    </tr>\n",
              "    <tr>\n",
              "      <th>21</th>\n",
              "      <td>NaN</td>\n",
              "      <td>12.0</td>\n",
              "      <td>12.0</td>\n",
              "      <td>13.0</td>\n",
              "      <td>27.0</td>\n",
              "      <td>3.0</td>\n",
              "    </tr>\n",
              "    <tr>\n",
              "      <th>22</th>\n",
              "      <td>NaN</td>\n",
              "      <td>7.0</td>\n",
              "      <td>20.0</td>\n",
              "      <td>35.0</td>\n",
              "      <td>2.0</td>\n",
              "      <td>11.0</td>\n",
              "    </tr>\n",
              "    <tr>\n",
              "      <th>23</th>\n",
              "      <td>NaN</td>\n",
              "      <td>NaN</td>\n",
              "      <td>42.0</td>\n",
              "      <td>42.0</td>\n",
              "      <td>14.0</td>\n",
              "      <td>8.0</td>\n",
              "    </tr>\n",
              "    <tr>\n",
              "      <th>24</th>\n",
              "      <td>NaN</td>\n",
              "      <td>2.0</td>\n",
              "      <td>11.0</td>\n",
              "      <td>8.0</td>\n",
              "      <td>4.0</td>\n",
              "      <td>16.0</td>\n",
              "    </tr>\n",
              "    <tr>\n",
              "      <th>25</th>\n",
              "      <td>3.0</td>\n",
              "      <td>14.0</td>\n",
              "      <td>103.0</td>\n",
              "      <td>3.0</td>\n",
              "      <td>3.0</td>\n",
              "      <td>5.0</td>\n",
              "    </tr>\n",
              "    <tr>\n",
              "      <th>26</th>\n",
              "      <td>NaN</td>\n",
              "      <td>53.0</td>\n",
              "      <td>13.0</td>\n",
              "      <td>37.0</td>\n",
              "      <td>10.0</td>\n",
              "      <td>NaN</td>\n",
              "    </tr>\n",
              "    <tr>\n",
              "      <th>27</th>\n",
              "      <td>NaN</td>\n",
              "      <td>2.0</td>\n",
              "      <td>2.0</td>\n",
              "      <td>45.0</td>\n",
              "      <td>9.0</td>\n",
              "      <td>NaN</td>\n",
              "    </tr>\n",
              "    <tr>\n",
              "      <th>28</th>\n",
              "      <td>4.0</td>\n",
              "      <td>2.0</td>\n",
              "      <td>19.0</td>\n",
              "      <td>17.0</td>\n",
              "      <td>3.0</td>\n",
              "      <td>NaN</td>\n",
              "    </tr>\n",
              "    <tr>\n",
              "      <th>29</th>\n",
              "      <td>NaN</td>\n",
              "      <td>3.0</td>\n",
              "      <td>29.0</td>\n",
              "      <td>24.0</td>\n",
              "      <td>NaN</td>\n",
              "      <td>NaN</td>\n",
              "    </tr>\n",
              "    <tr>\n",
              "      <th>30</th>\n",
              "      <td>NaN</td>\n",
              "      <td>8.0</td>\n",
              "      <td>12.0</td>\n",
              "      <td>16.0</td>\n",
              "      <td>9.0</td>\n",
              "      <td>NaN</td>\n",
              "    </tr>\n",
              "    <tr>\n",
              "      <th>31</th>\n",
              "      <td>3.0</td>\n",
              "      <td>NaN</td>\n",
              "      <td>5.0</td>\n",
              "      <td>24.0</td>\n",
              "      <td>7.0</td>\n",
              "      <td>NaN</td>\n",
              "    </tr>\n",
              "    <tr>\n",
              "      <th>32</th>\n",
              "      <td>1.0</td>\n",
              "      <td>4.0</td>\n",
              "      <td>13.0</td>\n",
              "      <td>8.0</td>\n",
              "      <td>21.0</td>\n",
              "      <td>NaN</td>\n",
              "    </tr>\n",
              "    <tr>\n",
              "      <th>33</th>\n",
              "      <td>8.0</td>\n",
              "      <td>3.0</td>\n",
              "      <td>18.0</td>\n",
              "      <td>51.0</td>\n",
              "      <td>14.0</td>\n",
              "      <td>NaN</td>\n",
              "    </tr>\n",
              "    <tr>\n",
              "      <th>34</th>\n",
              "      <td>2.0</td>\n",
              "      <td>13.0</td>\n",
              "      <td>65.0</td>\n",
              "      <td>23.0</td>\n",
              "      <td>8.0</td>\n",
              "      <td>NaN</td>\n",
              "    </tr>\n",
              "    <tr>\n",
              "      <th>35</th>\n",
              "      <td>1.0</td>\n",
              "      <td>NaN</td>\n",
              "      <td>30.0</td>\n",
              "      <td>15.0</td>\n",
              "      <td>8.0</td>\n",
              "      <td>NaN</td>\n",
              "    </tr>\n",
              "    <tr>\n",
              "      <th>36</th>\n",
              "      <td>36.0</td>\n",
              "      <td>NaN</td>\n",
              "      <td>9.0</td>\n",
              "      <td>21.0</td>\n",
              "      <td>NaN</td>\n",
              "      <td>NaN</td>\n",
              "    </tr>\n",
              "    <tr>\n",
              "      <th>37</th>\n",
              "      <td>60.0</td>\n",
              "      <td>3.0</td>\n",
              "      <td>17.0</td>\n",
              "      <td>9.0</td>\n",
              "      <td>15.0</td>\n",
              "      <td>NaN</td>\n",
              "    </tr>\n",
              "    <tr>\n",
              "      <th>38</th>\n",
              "      <td>14.0</td>\n",
              "      <td>1.0</td>\n",
              "      <td>15.0</td>\n",
              "      <td>24.0</td>\n",
              "      <td>9.0</td>\n",
              "      <td>NaN</td>\n",
              "    </tr>\n",
              "    <tr>\n",
              "      <th>39</th>\n",
              "      <td>14.0</td>\n",
              "      <td>3.0</td>\n",
              "      <td>23.0</td>\n",
              "      <td>13.0</td>\n",
              "      <td>5.0</td>\n",
              "      <td>NaN</td>\n",
              "    </tr>\n",
              "    <tr>\n",
              "      <th>40</th>\n",
              "      <td>12.0</td>\n",
              "      <td>3.0</td>\n",
              "      <td>1.0</td>\n",
              "      <td>17.0</td>\n",
              "      <td>1.0</td>\n",
              "      <td>NaN</td>\n",
              "    </tr>\n",
              "    <tr>\n",
              "      <th>41</th>\n",
              "      <td>NaN</td>\n",
              "      <td>6.0</td>\n",
              "      <td>7.0</td>\n",
              "      <td>11.0</td>\n",
              "      <td>6.0</td>\n",
              "      <td>NaN</td>\n",
              "    </tr>\n",
              "    <tr>\n",
              "      <th>42</th>\n",
              "      <td>5.0</td>\n",
              "      <td>1.0</td>\n",
              "      <td>5.0</td>\n",
              "      <td>16.0</td>\n",
              "      <td>2.0</td>\n",
              "      <td>NaN</td>\n",
              "    </tr>\n",
              "    <tr>\n",
              "      <th>43</th>\n",
              "      <td>3.0</td>\n",
              "      <td>1.0</td>\n",
              "      <td>10.0</td>\n",
              "      <td>10.0</td>\n",
              "      <td>NaN</td>\n",
              "      <td>NaN</td>\n",
              "    </tr>\n",
              "    <tr>\n",
              "      <th>44</th>\n",
              "      <td>12.0</td>\n",
              "      <td>11.0</td>\n",
              "      <td>12.0</td>\n",
              "      <td>8.0</td>\n",
              "      <td>4.0</td>\n",
              "      <td>NaN</td>\n",
              "    </tr>\n",
              "    <tr>\n",
              "      <th>45</th>\n",
              "      <td>NaN</td>\n",
              "      <td>NaN</td>\n",
              "      <td>9.0</td>\n",
              "      <td>13.0</td>\n",
              "      <td>8.0</td>\n",
              "      <td>NaN</td>\n",
              "    </tr>\n",
              "    <tr>\n",
              "      <th>46</th>\n",
              "      <td>5.0</td>\n",
              "      <td>NaN</td>\n",
              "      <td>7.0</td>\n",
              "      <td>10.0</td>\n",
              "      <td>1.0</td>\n",
              "      <td>NaN</td>\n",
              "    </tr>\n",
              "    <tr>\n",
              "      <th>47</th>\n",
              "      <td>NaN</td>\n",
              "      <td>NaN</td>\n",
              "      <td>11.0</td>\n",
              "      <td>16.0</td>\n",
              "      <td>15.0</td>\n",
              "      <td>NaN</td>\n",
              "    </tr>\n",
              "    <tr>\n",
              "      <th>48</th>\n",
              "      <td>3.0</td>\n",
              "      <td>NaN</td>\n",
              "      <td>21.0</td>\n",
              "      <td>4.0</td>\n",
              "      <td>0.0</td>\n",
              "      <td>NaN</td>\n",
              "    </tr>\n",
              "    <tr>\n",
              "      <th>49</th>\n",
              "      <td>6.0</td>\n",
              "      <td>NaN</td>\n",
              "      <td>15.0</td>\n",
              "      <td>11.0</td>\n",
              "      <td>9.0</td>\n",
              "      <td>NaN</td>\n",
              "    </tr>\n",
              "    <tr>\n",
              "      <th>50</th>\n",
              "      <td>19.0</td>\n",
              "      <td>6.0</td>\n",
              "      <td>21.0</td>\n",
              "      <td>11.0</td>\n",
              "      <td>38.0</td>\n",
              "      <td>NaN</td>\n",
              "    </tr>\n",
              "    <tr>\n",
              "      <th>51</th>\n",
              "      <td>13.0</td>\n",
              "      <td>1.0</td>\n",
              "      <td>27.0</td>\n",
              "      <td>24.0</td>\n",
              "      <td>NaN</td>\n",
              "      <td>NaN</td>\n",
              "    </tr>\n",
              "    <tr>\n",
              "      <th>52</th>\n",
              "      <td>NaN</td>\n",
              "      <td>9.0</td>\n",
              "      <td>3.0</td>\n",
              "      <td>19.0</td>\n",
              "      <td>1.0</td>\n",
              "      <td>NaN</td>\n",
              "    </tr>\n",
              "    <tr>\n",
              "      <th>53</th>\n",
              "      <td>NaN</td>\n",
              "      <td>NaN</td>\n",
              "      <td>NaN</td>\n",
              "      <td>NaN</td>\n",
              "      <td>NaN</td>\n",
              "      <td>22.0</td>\n",
              "    </tr>\n",
              "  </tbody>\n",
              "</table>\n",
              "</div>"
            ],
            "text/plain": [
              "year  2016  2017   2018  2019   2020  2021\n",
              "week                                      \n",
              "1      NaN   1.0    7.0  13.0   16.0   1.0\n",
              "2      NaN   NaN    2.0  13.0   13.0   6.0\n",
              "3      NaN   NaN   18.0  13.0   19.0   5.0\n",
              "4      NaN   NaN    NaN  43.0   18.0   1.0\n",
              "5      NaN  76.0    5.0  25.0   17.0  37.0\n",
              "6      NaN  21.0    6.0  31.0   13.0  16.0\n",
              "7      NaN  10.0    NaN  48.0   32.0  12.0\n",
              "8      NaN   4.0    1.0  19.0   20.0  36.0\n",
              "9      NaN   6.0    4.0  10.0   47.0  23.0\n",
              "10     NaN   2.0    8.0  11.0   37.0   5.0\n",
              "11     NaN   9.0    NaN   3.0   39.0  14.0\n",
              "12     NaN  42.0    NaN  23.0   39.0  26.0\n",
              "13     NaN  19.0   14.0  29.0   26.0   7.0\n",
              "14     NaN   3.0   28.0  10.0    2.0   4.0\n",
              "15     NaN  27.0    4.0  13.0    NaN  25.0\n",
              "16     NaN  14.0    4.0  43.0    1.0   6.0\n",
              "17     NaN   5.0   13.0  17.0   14.0  12.0\n",
              "18     NaN   2.0    6.0  35.0  213.0  11.0\n",
              "19     NaN  13.0   15.0  19.0    NaN  20.0\n",
              "20     NaN   NaN    5.0  10.0    1.0  28.0\n",
              "21     NaN  12.0   12.0  13.0   27.0   3.0\n",
              "22     NaN   7.0   20.0  35.0    2.0  11.0\n",
              "23     NaN   NaN   42.0  42.0   14.0   8.0\n",
              "24     NaN   2.0   11.0   8.0    4.0  16.0\n",
              "25     3.0  14.0  103.0   3.0    3.0   5.0\n",
              "26     NaN  53.0   13.0  37.0   10.0   NaN\n",
              "27     NaN   2.0    2.0  45.0    9.0   NaN\n",
              "28     4.0   2.0   19.0  17.0    3.0   NaN\n",
              "29     NaN   3.0   29.0  24.0    NaN   NaN\n",
              "30     NaN   8.0   12.0  16.0    9.0   NaN\n",
              "31     3.0   NaN    5.0  24.0    7.0   NaN\n",
              "32     1.0   4.0   13.0   8.0   21.0   NaN\n",
              "33     8.0   3.0   18.0  51.0   14.0   NaN\n",
              "34     2.0  13.0   65.0  23.0    8.0   NaN\n",
              "35     1.0   NaN   30.0  15.0    8.0   NaN\n",
              "36    36.0   NaN    9.0  21.0    NaN   NaN\n",
              "37    60.0   3.0   17.0   9.0   15.0   NaN\n",
              "38    14.0   1.0   15.0  24.0    9.0   NaN\n",
              "39    14.0   3.0   23.0  13.0    5.0   NaN\n",
              "40    12.0   3.0    1.0  17.0    1.0   NaN\n",
              "41     NaN   6.0    7.0  11.0    6.0   NaN\n",
              "42     5.0   1.0    5.0  16.0    2.0   NaN\n",
              "43     3.0   1.0   10.0  10.0    NaN   NaN\n",
              "44    12.0  11.0   12.0   8.0    4.0   NaN\n",
              "45     NaN   NaN    9.0  13.0    8.0   NaN\n",
              "46     5.0   NaN    7.0  10.0    1.0   NaN\n",
              "47     NaN   NaN   11.0  16.0   15.0   NaN\n",
              "48     3.0   NaN   21.0   4.0    0.0   NaN\n",
              "49     6.0   NaN   15.0  11.0    9.0   NaN\n",
              "50    19.0   6.0   21.0  11.0   38.0   NaN\n",
              "51    13.0   1.0   27.0  24.0    NaN   NaN\n",
              "52     NaN   9.0    3.0  19.0    1.0   NaN\n",
              "53     NaN   NaN    NaN   NaN    NaN  22.0"
            ]
          },
          "metadata": {
            "tags": []
          },
          "execution_count": 28
        }
      ]
    },
    {
      "cell_type": "code",
      "metadata": {
        "id": "PGPBMYxefNim",
        "colab": {
          "base_uri": "https://localhost:8080/",
          "height": 407
        },
        "outputId": "f9ad2cb1-6a6d-4fdc-ceb2-9830ae8a5ec4"
      },
      "source": [
        "pivot.plot(figsize= (20,6))\n",
        "plt.xlabel('Week')\n",
        "plt.ylabel('Deaths')"
      ],
      "execution_count": 29,
      "outputs": [
        {
          "output_type": "execute_result",
          "data": {
            "text/plain": [
              "Text(0, 0.5, 'Deaths')"
            ]
          },
          "metadata": {
            "tags": []
          },
          "execution_count": 29
        },
        {
          "output_type": "display_data",
          "data": {
            "image/png": "[encoded data removed]",
            "text/plain": [
              "<Figure size 1440x432 with 1 Axes>"
            ]
          },
          "metadata": {
            "tags": [],
            "needs_background": "light"
          }
        }
      ]
    },
    {
      "cell_type": "code",
      "metadata": {
        "colab": {
          "base_uri": "https://localhost:8080/",
          "height": 407
        },
        "id": "1cg8rvtEfT5n",
        "outputId": "67a8eeca-d70c-4b8c-a2fc-0f5388e0c67d"
      },
      "source": [
        "monthly_seasonality = pivot.mean(axis=1)\n",
        "monthly_seasonality.plot(figsize =(20,6))"
      ],
      "execution_count": 30,
      "outputs": [
        {
          "output_type": "execute_result",
          "data": {
            "text/plain": [
              "<matplotlib.axes._subplots.AxesSubplot at 0x7f2b314c1bd0>"
            ]
          },
          "metadata": {
            "tags": []
          },
          "execution_count": 30
        },
        {
          "output_type": "display_data",
          "data": {
            "image/png": "[encoded data removed]",
            "text/plain": [
              "<Figure size 1440x432 with 1 Axes>"
            ]
          },
          "metadata": {
            "tags": [],
            "needs_background": "light"
          }
        }
      ]
    },
    {
      "cell_type": "markdown",
      "metadata": {
        "id": "bK3GlIMvoOJC"
      },
      "source": [
        "Apply ARIMA on data"
      ]
    },
    {
      "cell_type": "code",
      "metadata": {
        "id": "V_bRLf04y1ro"
      },
      "source": [
        "scaled_data = data.copy()\n",
        "\n"
      ],
      "execution_count": 31,
      "outputs": []
    },
    {
      "cell_type": "code",
      "metadata": {
        "id": "tRj71jfD84Be"
      },
      "source": [
        "#min-max normalization\n",
        "def normalize(data,min, max):\n",
        "  for i in range(len(data)):\n",
        "    data.iloc[i] =((data.iloc[i] - min )/(( max - min )))\n",
        "  return data\n"
      ],
      "execution_count": 32,
      "outputs": []
    },
    {
      "cell_type": "code",
      "metadata": {
        "id": "aJ62ZHrz-Ldr"
      },
      "source": [
        "#MIN-MAX denormalization\n",
        "def denormalize(data,min,max):\n",
        "  for i in range(len(data)):\n",
        "    data.iloc[i] = data.iloc[i]*(max - min) + min\n",
        "  return data "
      ],
      "execution_count": 33,
      "outputs": []
    },
    {
      "cell_type": "code",
      "metadata": {
        "colab": {
          "base_uri": "https://localhost:8080/",
          "height": 455
        },
        "id": "QRAlHO5hywzV",
        "outputId": "f2e0e691-47d2-4daf-fd38-578d964d0ade"
      },
      "source": [
        "#scaled_data['Deaths'] = scaler.fit_transform(data)\n",
        "min = np.min(scaled_data['Deaths'])\n",
        "max = np.max(scaled_data['Deaths'])\n",
        "normalize(scaled_data ,min , max)\n"
      ],
      "execution_count": 34,
      "outputs": [
        {
          "output_type": "execute_result",
          "data": {
            "text/html": [
              "<div>\n",
              "<style scoped>\n",
              "    .dataframe tbody tr th:only-of-type {\n",
              "        vertical-align: middle;\n",
              "    }\n",
              "\n",
              "    .dataframe tbody tr th {\n",
              "        vertical-align: top;\n",
              "    }\n",
              "\n",
              "    .dataframe thead th {\n",
              "        text-align: right;\n",
              "    }\n",
              "</style>\n",
              "<table border=\"1\" class=\"dataframe\">\n",
              "  <thead>\n",
              "    <tr style=\"text-align: right;\">\n",
              "      <th></th>\n",
              "      <th>Deaths</th>\n",
              "    </tr>\n",
              "    <tr>\n",
              "      <th>week_month_year</th>\n",
              "      <th></th>\n",
              "    </tr>\n",
              "  </thead>\n",
              "  <tbody>\n",
              "    <tr>\n",
              "      <th>2016-06-20/2016-06-26</th>\n",
              "      <td>0.014085</td>\n",
              "    </tr>\n",
              "    <tr>\n",
              "      <th>2016-07-11/2016-07-17</th>\n",
              "      <td>0.018779</td>\n",
              "    </tr>\n",
              "    <tr>\n",
              "      <th>2016-08-01/2016-08-07</th>\n",
              "      <td>0.014085</td>\n",
              "    </tr>\n",
              "    <tr>\n",
              "      <th>2016-08-08/2016-08-14</th>\n",
              "      <td>0.004695</td>\n",
              "    </tr>\n",
              "    <tr>\n",
              "      <th>2016-08-15/2016-08-21</th>\n",
              "      <td>0.037559</td>\n",
              "    </tr>\n",
              "    <tr>\n",
              "      <th>...</th>\n",
              "      <td>...</td>\n",
              "    </tr>\n",
              "    <tr>\n",
              "      <th>2021-05-24/2021-05-30</th>\n",
              "      <td>0.014085</td>\n",
              "    </tr>\n",
              "    <tr>\n",
              "      <th>2021-05-31/2021-06-06</th>\n",
              "      <td>0.051643</td>\n",
              "    </tr>\n",
              "    <tr>\n",
              "      <th>2021-06-07/2021-06-13</th>\n",
              "      <td>0.037559</td>\n",
              "    </tr>\n",
              "    <tr>\n",
              "      <th>2021-06-14/2021-06-20</th>\n",
              "      <td>0.075117</td>\n",
              "    </tr>\n",
              "    <tr>\n",
              "      <th>2021-06-21/2021-06-27</th>\n",
              "      <td>0.023474</td>\n",
              "    </tr>\n",
              "  </tbody>\n",
              "</table>\n",
              "<p>232 rows × 1 columns</p>\n",
              "</div>"
            ],
            "text/plain": [
              "                         Deaths\n",
              "week_month_year                \n",
              "2016-06-20/2016-06-26  0.014085\n",
              "2016-07-11/2016-07-17  0.018779\n",
              "2016-08-01/2016-08-07  0.014085\n",
              "2016-08-08/2016-08-14  0.004695\n",
              "2016-08-15/2016-08-21  0.037559\n",
              "...                         ...\n",
              "2021-05-24/2021-05-30  0.014085\n",
              "2021-05-31/2021-06-06  0.051643\n",
              "2021-06-07/2021-06-13  0.037559\n",
              "2021-06-14/2021-06-20  0.075117\n",
              "2021-06-21/2021-06-27  0.023474\n",
              "\n",
              "[232 rows x 1 columns]"
            ]
          },
          "metadata": {
            "tags": []
          },
          "execution_count": 34
        }
      ]
    },
    {
      "cell_type": "code",
      "metadata": {
        "id": "rOyYsnHlIL2J"
      },
      "source": [
        "#denormalize(scaled_data,min,max)\n"
      ],
      "execution_count": 35,
      "outputs": []
    },
    {
      "cell_type": "code",
      "metadata": {
        "id": "mHdkefAdpCIn"
      },
      "source": [
        "from statsmodels.graphics.tsaplots import plot_acf , plot_pacf"
      ],
      "execution_count": 36,
      "outputs": []
    },
    {
      "cell_type": "code",
      "metadata": {
        "colab": {
          "base_uri": "https://localhost:8080/",
          "height": 545
        },
        "id": "hxOYWO1upMnC",
        "outputId": "2ed79106-224d-4d08-a8ef-811d063086ba"
      },
      "source": [
        "#plot_acf(data['Deaths'])\n",
        "plot_acf(scaled_data)\n",
        "#plot_acf(df['first_death_diff'])"
      ],
      "execution_count": 37,
      "outputs": [
        {
          "output_type": "execute_result",
          "data": {
            "image/png": "[encoded data removed]",
            "text/plain": [
              "<Figure size 432x288 with 1 Axes>"
            ]
          },
          "metadata": {
            "tags": []
          },
          "execution_count": 37
        },
        {
          "output_type": "display_data",
          "data": {
            "image/png": "[encoded data removed]",
            "text/plain": [
              "<Figure size 432x288 with 1 Axes>"
            ]
          },
          "metadata": {
            "tags": [],
            "needs_background": "light"
          }
        }
      ]
    },
    {
      "cell_type": "code",
      "metadata": {
        "colab": {
          "base_uri": "https://localhost:8080/",
          "height": 545
        },
        "id": "DyRJbCYfppNj",
        "outputId": "dbb40fe9-c7e2-4d67-e7a0-8c33af719e3a"
      },
      "source": [
        "#plot_pacf(data['Deaths'])\n",
        "\n",
        "plot_pacf(scaled_data)\n",
        "#plot_pacf(df['first_death_diff'])"
      ],
      "execution_count": 38,
      "outputs": [
        {
          "output_type": "execute_result",
          "data": {
            "image/png": "[encoded data removed]",
            "text/plain": [
              "<Figure size 432x288 with 1 Axes>"
            ]
          },
          "metadata": {
            "tags": []
          },
          "execution_count": 38
        },
        {
          "output_type": "display_data",
          "data": {
            "image/png": "[encoded data removed]",
            "text/plain": [
              "<Figure size 432x288 with 1 Axes>"
            ]
          },
          "metadata": {
            "tags": [],
            "needs_background": "light"
          }
        }
      ]
    },
    {
      "cell_type": "code",
      "metadata": {
        "colab": {
          "base_uri": "https://localhost:8080/"
        },
        "id": "kLxsPuf7qGee",
        "outputId": "9a37de0d-4a96-448c-9f75-0ca05cb611e5"
      },
      "source": [
        "scaled_data.shape\n",
        "#data.shape\n"
      ],
      "execution_count": 39,
      "outputs": [
        {
          "output_type": "execute_result",
          "data": {
            "text/plain": [
              "(232, 1)"
            ]
          },
          "metadata": {
            "tags": []
          },
          "execution_count": 39
        }
      ]
    },
    {
      "cell_type": "code",
      "metadata": {
        "id": "nu0BZ6cTqGpW"
      },
      "source": [
        "#training_data = data[:225]\n",
        "#test_data = data[225:]\n",
        "\n",
        "training_data = scaled_data[:225]\n",
        "test_data = scaled_data[225:]\n",
        "#training_data = df['first_death_diff'][:195]\n",
        "#test_data = df['first_death_diff'][195:]"
      ],
      "execution_count": 40,
      "outputs": []
    },
    {
      "cell_type": "code",
      "metadata": {
        "id": "al6cXyQBJgSH"
      },
      "source": [
        ""
      ],
      "execution_count": 40,
      "outputs": []
    },
    {
      "cell_type": "code",
      "metadata": {
        "id": "XZCvRu_Ege_n"
      },
      "source": [
        " from statsmodels.tsa.arima_model import ARIMA"
      ],
      "execution_count": 41,
      "outputs": []
    },
    {
      "cell_type": "code",
      "metadata": {
        "id": "h9_qopvXq8nK"
      },
      "source": [
        "import warnings\n",
        "import pandas as pd\n",
        "from statsmodels.tsa.arima_model import ARIMA\n",
        "from sklearn.metrics import mean_squared_error\n",
        "from math import sqrt\n",
        "from matplotlib import pyplot"
      ],
      "execution_count": 42,
      "outputs": []
    },
    {
      "cell_type": "code",
      "metadata": {
        "colab": {
          "base_uri": "https://localhost:8080/",
          "height": 301
        },
        "id": "27sJ56pWq_al",
        "outputId": "8a61f930-92fe-4083-8e90-01d7425d08cd"
      },
      "source": [
        "\n",
        "\n",
        "test_data\n",
        "\n"
      ],
      "execution_count": 43,
      "outputs": [
        {
          "output_type": "execute_result",
          "data": {
            "text/html": [
              "<div>\n",
              "<style scoped>\n",
              "    .dataframe tbody tr th:only-of-type {\n",
              "        vertical-align: middle;\n",
              "    }\n",
              "\n",
              "    .dataframe tbody tr th {\n",
              "        vertical-align: top;\n",
              "    }\n",
              "\n",
              "    .dataframe thead th {\n",
              "        text-align: right;\n",
              "    }\n",
              "</style>\n",
              "<table border=\"1\" class=\"dataframe\">\n",
              "  <thead>\n",
              "    <tr style=\"text-align: right;\">\n",
              "      <th></th>\n",
              "      <th>Deaths</th>\n",
              "    </tr>\n",
              "    <tr>\n",
              "      <th>week_month_year</th>\n",
              "      <th></th>\n",
              "    </tr>\n",
              "  </thead>\n",
              "  <tbody>\n",
              "    <tr>\n",
              "      <th>2021-05-10/2021-05-16</th>\n",
              "      <td>0.093897</td>\n",
              "    </tr>\n",
              "    <tr>\n",
              "      <th>2021-05-17/2021-05-23</th>\n",
              "      <td>0.131455</td>\n",
              "    </tr>\n",
              "    <tr>\n",
              "      <th>2021-05-24/2021-05-30</th>\n",
              "      <td>0.014085</td>\n",
              "    </tr>\n",
              "    <tr>\n",
              "      <th>2021-05-31/2021-06-06</th>\n",
              "      <td>0.051643</td>\n",
              "    </tr>\n",
              "    <tr>\n",
              "      <th>2021-06-07/2021-06-13</th>\n",
              "      <td>0.037559</td>\n",
              "    </tr>\n",
              "    <tr>\n",
              "      <th>2021-06-14/2021-06-20</th>\n",
              "      <td>0.075117</td>\n",
              "    </tr>\n",
              "    <tr>\n",
              "      <th>2021-06-21/2021-06-27</th>\n",
              "      <td>0.023474</td>\n",
              "    </tr>\n",
              "  </tbody>\n",
              "</table>\n",
              "</div>"
            ],
            "text/plain": [
              "                         Deaths\n",
              "week_month_year                \n",
              "2021-05-10/2021-05-16  0.093897\n",
              "2021-05-17/2021-05-23  0.131455\n",
              "2021-05-24/2021-05-30  0.014085\n",
              "2021-05-31/2021-06-06  0.051643\n",
              "2021-06-07/2021-06-13  0.037559\n",
              "2021-06-14/2021-06-20  0.075117\n",
              "2021-06-21/2021-06-27  0.023474"
            ]
          },
          "metadata": {
            "tags": []
          },
          "execution_count": 43
        }
      ]
    },
    {
      "cell_type": "code",
      "metadata": {
        "id": "Y0niJBewrCvY"
      },
      "source": [
        "def evaluate_models(dataset,test_data, p_values, d_values, q_values):\n",
        "\n",
        "  best_score = float(\"inf\")\n",
        "  best_cfg = None\n",
        "\n",
        "  for p in p_values:\n",
        "    for d in d_values:\n",
        "      for q in q_values:\n",
        "        order = (p, d, q)\n",
        "        try:\n",
        "          \n",
        "          arima = ARIMA(dataset,order=order)\n",
        "          model = arima.fit()\n",
        "          predictions = model.forecast(steps=len(test_data))[0]\n",
        "          test = test_data['Deaths'].to_list()\n",
        "          rmse =  np.sqrt(mean_squared_error(test, predictions))\n",
        "          if rmse < best_score:\n",
        "            best_score, best_cfg = rmse, order\n",
        "            print('ARIMA%s RMSE=%.3f' % (order, rmse))\n",
        "        except:\n",
        "          continue\n",
        "\n",
        "  print('Best ARIMA%s RMSE=%.3f' % (best_cfg, best_score))\n",
        "  return best_cfg"
      ],
      "execution_count": 44,
      "outputs": []
    },
    {
      "cell_type": "code",
      "metadata": {
        "colab": {
          "base_uri": "https://localhost:8080/"
        },
        "id": "NnxZoi60rHs5",
        "outputId": "253a76db-62ea-4b83-d7ea-2aaa13783a3d"
      },
      "source": [
        "p_values = range(0, 4)\n",
        "d_values = range(0, 1)\n",
        "q_values = range(0, 4)\n",
        "#warnings.filterwarnings(\"ignore\")\n",
        "\n",
        "order = evaluate_models(training_data,test_data, p_values, d_values, q_values)\n",
        "print(order)"
      ],
      "execution_count": 45,
      "outputs": [
        {
          "output_type": "stream",
          "text": [
            "ARIMA(0, 0, 0) RMSE=0.041\n",
            "ARIMA(1, 0, 1) RMSE=0.040\n"
          ],
          "name": "stdout"
        },
        {
          "output_type": "stream",
          "text": [
            "/usr/local/lib/python3.7/dist-packages/statsmodels/base/model.py:492: HessianInversionWarning:\n",
            "\n",
            "Inverting hessian failed, no bse or cov_params available\n",
            "\n",
            "/usr/local/lib/python3.7/dist-packages/statsmodels/base/model.py:512: ConvergenceWarning:\n",
            "\n",
            "Maximum Likelihood optimization failed to converge. Check mle_retvals\n",
            "\n"
          ],
          "name": "stderr"
        },
        {
          "output_type": "stream",
          "text": [
            "ARIMA(3, 0, 1) RMSE=0.040\n",
            "ARIMA(3, 0, 2) RMSE=0.036\n",
            "Best ARIMA(3, 0, 2) RMSE=0.036\n",
            "(3, 0, 2)\n"
          ],
          "name": "stdout"
        }
      ]
    },
    {
      "cell_type": "code",
      "metadata": {
        "id": "LCexrNMKgfCk"
      },
      "source": [
        "#arima = ARIMA(training_data,order=(4,1,4))\n",
        "arima = ARIMA(training_data,order=order)\n",
        "model = arima.fit()\n"
      ],
      "execution_count": 46,
      "outputs": []
    },
    {
      "cell_type": "markdown",
      "metadata": {
        "id": "51O3RO5cXDa2"
      },
      "source": [
        "Predict using ARIMA model"
      ]
    },
    {
      "cell_type": "code",
      "metadata": {
        "id": "zBcnMzMqW7wq"
      },
      "source": [
        "from sklearn import metrics"
      ],
      "execution_count": 47,
      "outputs": []
    },
    {
      "cell_type": "code",
      "metadata": {
        "id": "l5BquT4uszxs"
      },
      "source": [
        "predictions = model.forecast(steps=len(test_data))[0]"
      ],
      "execution_count": 48,
      "outputs": []
    },
    {
      "cell_type": "code",
      "metadata": {
        "id": "DELxslwLuhIy"
      },
      "source": [
        "\n",
        "\n",
        "def mape(y_true, y_pred):\n",
        "    return np.mean(np.abs((y_pred - y_true) / y_true)) * 100\n",
        "\n"
      ],
      "execution_count": 49,
      "outputs": []
    },
    {
      "cell_type": "code",
      "metadata": {
        "colab": {
          "base_uri": "https://localhost:8080/",
          "height": 580
        },
        "id": "jVRAATNIut-Q",
        "outputId": "0cb0ea83-ea73-4517-d689-93385b3d0da6"
      },
      "source": [
        "\n",
        "\n",
        "pred = pd.DataFrame(predictions)\n",
        "print(\"Predicted value\")\n",
        "denormalize(pred,min,max)\n",
        "denormalize(test_data,min,max)\n",
        "\n"
      ],
      "execution_count": 50,
      "outputs": [
        {
          "output_type": "stream",
          "text": [
            "Predicted value\n"
          ],
          "name": "stdout"
        },
        {
          "output_type": "stream",
          "text": [
            "/usr/local/lib/python3.7/dist-packages/pandas/core/indexing.py:670: SettingWithCopyWarning:\n",
            "\n",
            "\n",
            "A value is trying to be set on a copy of a slice from a DataFrame\n",
            "\n",
            "See the caveats in the documentation: https://pandas.pydata.org/pandas-docs/stable/user_guide/indexing.html#returning-a-view-versus-a-copy\n",
            "\n",
            "/usr/local/lib/python3.7/dist-packages/ipykernel_launcher.py:4: SettingWithCopyWarning:\n",
            "\n",
            "\n",
            "A value is trying to be set on a copy of a slice from a DataFrame\n",
            "\n",
            "See the caveats in the documentation: https://pandas.pydata.org/pandas-docs/stable/user_guide/indexing.html#returning-a-view-versus-a-copy\n",
            "\n"
          ],
          "name": "stderr"
        },
        {
          "output_type": "execute_result",
          "data": {
            "text/html": [
              "<div>\n",
              "<style scoped>\n",
              "    .dataframe tbody tr th:only-of-type {\n",
              "        vertical-align: middle;\n",
              "    }\n",
              "\n",
              "    .dataframe tbody tr th {\n",
              "        vertical-align: top;\n",
              "    }\n",
              "\n",
              "    .dataframe thead th {\n",
              "        text-align: right;\n",
              "    }\n",
              "</style>\n",
              "<table border=\"1\" class=\"dataframe\">\n",
              "  <thead>\n",
              "    <tr style=\"text-align: right;\">\n",
              "      <th></th>\n",
              "      <th>Deaths</th>\n",
              "    </tr>\n",
              "    <tr>\n",
              "      <th>week_month_year</th>\n",
              "      <th></th>\n",
              "    </tr>\n",
              "  </thead>\n",
              "  <tbody>\n",
              "    <tr>\n",
              "      <th>2021-05-10/2021-05-16</th>\n",
              "      <td>20.0</td>\n",
              "    </tr>\n",
              "    <tr>\n",
              "      <th>2021-05-17/2021-05-23</th>\n",
              "      <td>28.0</td>\n",
              "    </tr>\n",
              "    <tr>\n",
              "      <th>2021-05-24/2021-05-30</th>\n",
              "      <td>3.0</td>\n",
              "    </tr>\n",
              "    <tr>\n",
              "      <th>2021-05-31/2021-06-06</th>\n",
              "      <td>11.0</td>\n",
              "    </tr>\n",
              "    <tr>\n",
              "      <th>2021-06-07/2021-06-13</th>\n",
              "      <td>8.0</td>\n",
              "    </tr>\n",
              "    <tr>\n",
              "      <th>2021-06-14/2021-06-20</th>\n",
              "      <td>16.0</td>\n",
              "    </tr>\n",
              "    <tr>\n",
              "      <th>2021-06-21/2021-06-27</th>\n",
              "      <td>5.0</td>\n",
              "    </tr>\n",
              "  </tbody>\n",
              "</table>\n",
              "</div>"
            ],
            "text/plain": [
              "                       Deaths\n",
              "week_month_year              \n",
              "2021-05-10/2021-05-16    20.0\n",
              "2021-05-17/2021-05-23    28.0\n",
              "2021-05-24/2021-05-30     3.0\n",
              "2021-05-31/2021-06-06    11.0\n",
              "2021-06-07/2021-06-13     8.0\n",
              "2021-06-14/2021-06-20    16.0\n",
              "2021-06-21/2021-06-27     5.0"
            ]
          },
          "metadata": {
            "tags": []
          },
          "execution_count": 50
        }
      ]
    },
    {
      "cell_type": "code",
      "metadata": {
        "colab": {
          "base_uri": "https://localhost:8080/"
        },
        "id": "vUF1lHWVs57v",
        "outputId": "3c3a6acf-2cf3-4fc3-ceb2-b7ff184bd1f1"
      },
      "source": [
        "print(\"RMSE\")\n",
        "print(np.sqrt(mean_squared_error(test_data, predictions)))\n",
        "print(\"MSE\")\n",
        "print(metrics.mean_squared_error(test_data, predictions))\n",
        "print(\"R2\")\n",
        "print(metrics.r2_score(test_data, predictions))\n",
        "print(\"MAPE\")\n",
        "print(mape(test_data['Deaths'].to_list(), predictions))\n",
        "print(\"MAE\")\n",
        "print(metrics.mean_absolute_error(test_data, predictions))"
      ],
      "execution_count": 51,
      "outputs": [
        {
          "output_type": "stream",
          "text": [
            "RMSE\n",
            "7.730134533181342\n",
            "MSE\n",
            "59.754979901082734\n",
            "R2\n",
            "0.12125029557231293\n",
            "MAPE\n",
            "100.70043653855902\n",
            "MAE\n",
            "6.9586124132656\n"
          ],
          "name": "stdout"
        }
      ]
    },
    {
      "cell_type": "code",
      "metadata": {
        "id": "eQKFOY7f98Hx"
      },
      "source": [
        "\n",
        "xticks = [tick.strftime('%d-%b-%Y') for tick in test_data.index.tolist()]\n"
      ],
      "execution_count": 54,
      "outputs": []
    },
    {
      "cell_type": "code",
      "metadata": {
        "colab": {
          "base_uri": "https://localhost:8080/",
          "height": 409
        },
        "id": "oqXXgzQDs6_M",
        "outputId": "b2852de6-f598-473d-c3e2-2fa990a1e96b"
      },
      "source": [
        "# print(\"Actual value : {}\".format(test_data['Deaths'].to_list()))\n",
        "# print(\"predicted value: {}\".format(pred[0].to_list()))\n",
        "\n",
        "\n",
        "import matplotlib.pyplot as plt\n",
        "\n",
        "fig , ax = plt.subplots(figsize=(12,6))\n",
        "ax.plot(pred)\n",
        "ax.plot(test_data['Deaths'].to_list())\n",
        "plt.title(\"Comparison of Actual and Prediction (Test set) : ARIMA\",size=20)\n",
        "plt.ylabel(\"No of Deaths\")\n",
        "plt.xlabel(\"Weeks\")\n",
        "plt.xticks(np.arange(len(xticks)), xticks)\n",
        "plt.legend(['prediction', 'Actual'])\n",
        "plt.show()"
      ],
      "execution_count": 55,
      "outputs": [
        {
          "output_type": "display_data",
          "data": {
            "image/png": "[encoded data removed]",
            "text/plain": [
              "<Figure size 864x432 with 1 Axes>"
            ]
          },
          "metadata": {
            "tags": [],
            "needs_background": "light"
          }
        }
      ]
    },
    {
      "cell_type": "code",
      "metadata": {
        "id": "wiKzv_8nukQt"
      },
      "source": [
        ""
      ],
      "execution_count": null,
      "outputs": []
    }
  ]
}